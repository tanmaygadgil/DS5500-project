{
 "cells": [
  {
   "cell_type": "code",
   "execution_count": 2,
   "metadata": {},
   "outputs": [],
   "source": [
    "import io\n",
    "import numpy as np\n",
    "from sklearn.preprocessing import LabelEncoder\n",
    "import pandas as pd\n",
    "from sklearn.model_selection import train_test_split\n",
    "from sklearn.preprocessing import StandardScaler\n",
    "from sklearn.metrics import classification_report, accuracy_score, f1_score, precision_score, recall_score\n",
    "import matplotlib.pyplot as plt\n",
    "from sklearn.linear_model import LogisticRegression\n",
    "from sklearn.ensemble import RandomForestClassifier\n",
    "from sklearn.ensemble import VotingClassifier\n",
    "from sklearn.model_selection import cross_val_score\n",
    "import os\n",
    "import sys\n",
    "import json\n",
    "from tqdm import tqdm"
   ]
  },
  {
   "cell_type": "code",
   "execution_count": 3,
   "metadata": {},
   "outputs": [],
   "source": [
    "base_path = \"E:/DS5500_Project/\"\n",
    "\n",
    "data_path = os.path.abspath('E:/DS5500_Project/features_v2.csv')\n",
    "data = pd.read_csv(data_path)\n",
    "   \n",
    "# data.drop(columns=[\"Unnamed: 0\"], inplace=True)\n"
   ]
  },
  {
   "cell_type": "code",
   "execution_count": 4,
   "metadata": {},
   "outputs": [
    {
     "data": {
      "text/html": [
       "<div>\n",
       "<style scoped>\n",
       "    .dataframe tbody tr th:only-of-type {\n",
       "        vertical-align: middle;\n",
       "    }\n",
       "\n",
       "    .dataframe tbody tr th {\n",
       "        vertical-align: top;\n",
       "    }\n",
       "\n",
       "    .dataframe thead th {\n",
       "        text-align: right;\n",
       "    }\n",
       "</style>\n",
       "<table border=\"1\" class=\"dataframe\">\n",
       "  <thead>\n",
       "    <tr style=\"text-align: right;\">\n",
       "      <th></th>\n",
       "      <th>session</th>\n",
       "      <th>trial</th>\n",
       "      <th>filename</th>\n",
       "      <th>crest_factor_F1</th>\n",
       "      <th>dasd_F1</th>\n",
       "      <th>diffvar_F1</th>\n",
       "      <th>form_factor_F1</th>\n",
       "      <th>iemg_F1</th>\n",
       "      <th>kurtosis_F1</th>\n",
       "      <th>kurtosis_f_F1</th>\n",
       "      <th>...</th>\n",
       "      <th>rms_W9</th>\n",
       "      <th>skew_W9</th>\n",
       "      <th>skew_f_W9</th>\n",
       "      <th>ssi_W9</th>\n",
       "      <th>sum_f_W9</th>\n",
       "      <th>var_f_W9</th>\n",
       "      <th>wflen_W9</th>\n",
       "      <th>willison_W9</th>\n",
       "      <th>gesture</th>\n",
       "      <th>participant</th>\n",
       "    </tr>\n",
       "  </thead>\n",
       "  <tbody>\n",
       "    <tr>\n",
       "      <th>0</th>\n",
       "      <td>1</td>\n",
       "      <td>1</td>\n",
       "      <td>E:\\DS5500-project\\data\\gesture-recognition-and...</td>\n",
       "      <td>7.091099</td>\n",
       "      <td>0.021834</td>\n",
       "      <td>0.000606</td>\n",
       "      <td>-6502.754507</td>\n",
       "      <td>365.456658</td>\n",
       "      <td>2.574033</td>\n",
       "      <td>85.547962</td>\n",
       "      <td>...</td>\n",
       "      <td>0.022588</td>\n",
       "      <td>-0.148877</td>\n",
       "      <td>5.529415</td>\n",
       "      <td>5.224663</td>\n",
       "      <td>0.109574</td>\n",
       "      <td>2.901826e-10</td>\n",
       "      <td>69.944068</td>\n",
       "      <td>15.0</td>\n",
       "      <td>10</td>\n",
       "      <td>1</td>\n",
       "    </tr>\n",
       "    <tr>\n",
       "      <th>1</th>\n",
       "      <td>1</td>\n",
       "      <td>2</td>\n",
       "      <td>E:\\DS5500-project\\data\\gesture-recognition-and...</td>\n",
       "      <td>13.324514</td>\n",
       "      <td>0.023852</td>\n",
       "      <td>0.000689</td>\n",
       "      <td>1352.897349</td>\n",
       "      <td>379.664639</td>\n",
       "      <td>16.942218</td>\n",
       "      <td>329.114870</td>\n",
       "      <td>...</td>\n",
       "      <td>0.016172</td>\n",
       "      <td>-0.205427</td>\n",
       "      <td>9.332349</td>\n",
       "      <td>2.677940</td>\n",
       "      <td>0.077566</td>\n",
       "      <td>2.769772e-10</td>\n",
       "      <td>54.530919</td>\n",
       "      <td>23.0</td>\n",
       "      <td>10</td>\n",
       "      <td>1</td>\n",
       "    </tr>\n",
       "    <tr>\n",
       "      <th>2</th>\n",
       "      <td>1</td>\n",
       "      <td>3</td>\n",
       "      <td>E:\\DS5500-project\\data\\gesture-recognition-and...</td>\n",
       "      <td>8.047954</td>\n",
       "      <td>0.016213</td>\n",
       "      <td>0.000326</td>\n",
       "      <td>1295.052394</td>\n",
       "      <td>296.823135</td>\n",
       "      <td>3.795827</td>\n",
       "      <td>134.751765</td>\n",
       "      <td>...</td>\n",
       "      <td>0.017039</td>\n",
       "      <td>-0.204604</td>\n",
       "      <td>9.078430</td>\n",
       "      <td>2.973002</td>\n",
       "      <td>0.064458</td>\n",
       "      <td>1.426359e-10</td>\n",
       "      <td>57.815909</td>\n",
       "      <td>13.0</td>\n",
       "      <td>10</td>\n",
       "      <td>1</td>\n",
       "    </tr>\n",
       "    <tr>\n",
       "      <th>3</th>\n",
       "      <td>1</td>\n",
       "      <td>4</td>\n",
       "      <td>E:\\DS5500-project\\data\\gesture-recognition-and...</td>\n",
       "      <td>8.459555</td>\n",
       "      <td>0.026572</td>\n",
       "      <td>0.000864</td>\n",
       "      <td>14453.068135</td>\n",
       "      <td>479.688214</td>\n",
       "      <td>6.938354</td>\n",
       "      <td>98.832790</td>\n",
       "      <td>...</td>\n",
       "      <td>0.031982</td>\n",
       "      <td>-0.266818</td>\n",
       "      <td>5.067522</td>\n",
       "      <td>10.473811</td>\n",
       "      <td>0.131909</td>\n",
       "      <td>4.509337e-10</td>\n",
       "      <td>83.441138</td>\n",
       "      <td>0.0</td>\n",
       "      <td>10</td>\n",
       "      <td>1</td>\n",
       "    </tr>\n",
       "    <tr>\n",
       "      <th>4</th>\n",
       "      <td>1</td>\n",
       "      <td>5</td>\n",
       "      <td>E:\\DS5500-project\\data\\gesture-recognition-and...</td>\n",
       "      <td>8.329011</td>\n",
       "      <td>0.026896</td>\n",
       "      <td>0.000901</td>\n",
       "      <td>11827.310277</td>\n",
       "      <td>464.350257</td>\n",
       "      <td>2.379207</td>\n",
       "      <td>116.412205</td>\n",
       "      <td>...</td>\n",
       "      <td>0.031134</td>\n",
       "      <td>-0.092205</td>\n",
       "      <td>5.414199</td>\n",
       "      <td>9.925787</td>\n",
       "      <td>0.177516</td>\n",
       "      <td>9.577100e-10</td>\n",
       "      <td>94.393506</td>\n",
       "      <td>3.0</td>\n",
       "      <td>10</td>\n",
       "      <td>1</td>\n",
       "    </tr>\n",
       "    <tr>\n",
       "      <th>...</th>\n",
       "      <td>...</td>\n",
       "      <td>...</td>\n",
       "      <td>...</td>\n",
       "      <td>...</td>\n",
       "      <td>...</td>\n",
       "      <td>...</td>\n",
       "      <td>...</td>\n",
       "      <td>...</td>\n",
       "      <td>...</td>\n",
       "      <td>...</td>\n",
       "      <td>...</td>\n",
       "      <td>...</td>\n",
       "      <td>...</td>\n",
       "      <td>...</td>\n",
       "      <td>...</td>\n",
       "      <td>...</td>\n",
       "      <td>...</td>\n",
       "      <td>...</td>\n",
       "      <td>...</td>\n",
       "      <td>...</td>\n",
       "      <td>...</td>\n",
       "    </tr>\n",
       "    <tr>\n",
       "      <th>15346</th>\n",
       "      <td>3</td>\n",
       "      <td>3</td>\n",
       "      <td>E:\\DS5500-project\\data\\gesture-recognition-and...</td>\n",
       "      <td>7.771453</td>\n",
       "      <td>0.013208</td>\n",
       "      <td>0.000208</td>\n",
       "      <td>2599.892725</td>\n",
       "      <td>274.024844</td>\n",
       "      <td>2.176596</td>\n",
       "      <td>28.888640</td>\n",
       "      <td>...</td>\n",
       "      <td>0.020526</td>\n",
       "      <td>-0.293608</td>\n",
       "      <td>3.830298</td>\n",
       "      <td>4.314177</td>\n",
       "      <td>0.035283</td>\n",
       "      <td>1.966555e-11</td>\n",
       "      <td>40.970398</td>\n",
       "      <td>2.0</td>\n",
       "      <td>9</td>\n",
       "      <td>9</td>\n",
       "    </tr>\n",
       "    <tr>\n",
       "      <th>15347</th>\n",
       "      <td>3</td>\n",
       "      <td>4</td>\n",
       "      <td>E:\\DS5500-project\\data\\gesture-recognition-and...</td>\n",
       "      <td>9.172642</td>\n",
       "      <td>0.019135</td>\n",
       "      <td>0.000429</td>\n",
       "      <td>1255.242161</td>\n",
       "      <td>385.695263</td>\n",
       "      <td>4.615531</td>\n",
       "      <td>133.237150</td>\n",
       "      <td>...</td>\n",
       "      <td>0.025825</td>\n",
       "      <td>-0.389927</td>\n",
       "      <td>4.200155</td>\n",
       "      <td>6.829604</td>\n",
       "      <td>0.076162</td>\n",
       "      <td>1.003953e-10</td>\n",
       "      <td>52.342457</td>\n",
       "      <td>0.0</td>\n",
       "      <td>9</td>\n",
       "      <td>9</td>\n",
       "    </tr>\n",
       "    <tr>\n",
       "      <th>15348</th>\n",
       "      <td>3</td>\n",
       "      <td>5</td>\n",
       "      <td>E:\\DS5500-project\\data\\gesture-recognition-and...</td>\n",
       "      <td>5.923115</td>\n",
       "      <td>0.018533</td>\n",
       "      <td>0.000408</td>\n",
       "      <td>1713.228290</td>\n",
       "      <td>389.039490</td>\n",
       "      <td>1.912226</td>\n",
       "      <td>22.613382</td>\n",
       "      <td>...</td>\n",
       "      <td>0.027460</td>\n",
       "      <td>-0.321020</td>\n",
       "      <td>4.375813</td>\n",
       "      <td>7.721463</td>\n",
       "      <td>0.081006</td>\n",
       "      <td>1.125954e-10</td>\n",
       "      <td>59.843660</td>\n",
       "      <td>0.0</td>\n",
       "      <td>9</td>\n",
       "      <td>9</td>\n",
       "    </tr>\n",
       "    <tr>\n",
       "      <th>15349</th>\n",
       "      <td>3</td>\n",
       "      <td>6</td>\n",
       "      <td>E:\\DS5500-project\\data\\gesture-recognition-and...</td>\n",
       "      <td>6.466362</td>\n",
       "      <td>0.015749</td>\n",
       "      <td>0.000292</td>\n",
       "      <td>-992.810528</td>\n",
       "      <td>319.503197</td>\n",
       "      <td>2.189195</td>\n",
       "      <td>21.864578</td>\n",
       "      <td>...</td>\n",
       "      <td>0.013359</td>\n",
       "      <td>-0.493375</td>\n",
       "      <td>3.832319</td>\n",
       "      <td>1.827333</td>\n",
       "      <td>0.062739</td>\n",
       "      <td>6.332731e-11</td>\n",
       "      <td>35.905471</td>\n",
       "      <td>0.0</td>\n",
       "      <td>9</td>\n",
       "      <td>9</td>\n",
       "    </tr>\n",
       "    <tr>\n",
       "      <th>15350</th>\n",
       "      <td>3</td>\n",
       "      <td>7</td>\n",
       "      <td>E:\\DS5500-project\\data\\gesture-recognition-and...</td>\n",
       "      <td>6.331101</td>\n",
       "      <td>0.016365</td>\n",
       "      <td>0.000319</td>\n",
       "      <td>2571.088691</td>\n",
       "      <td>335.584187</td>\n",
       "      <td>1.845409</td>\n",
       "      <td>28.544842</td>\n",
       "      <td>...</td>\n",
       "      <td>0.015422</td>\n",
       "      <td>-0.457244</td>\n",
       "      <td>3.590272</td>\n",
       "      <td>2.435599</td>\n",
       "      <td>0.071311</td>\n",
       "      <td>7.882752e-11</td>\n",
       "      <td>40.497393</td>\n",
       "      <td>4.0</td>\n",
       "      <td>9</td>\n",
       "      <td>9</td>\n",
       "    </tr>\n",
       "  </tbody>\n",
       "</table>\n",
       "<p>15351 rows × 761 columns</p>\n",
       "</div>"
      ],
      "text/plain": [
       "       session  trial                                           filename  \\\n",
       "0            1      1  E:\\DS5500-project\\data\\gesture-recognition-and...   \n",
       "1            1      2  E:\\DS5500-project\\data\\gesture-recognition-and...   \n",
       "2            1      3  E:\\DS5500-project\\data\\gesture-recognition-and...   \n",
       "3            1      4  E:\\DS5500-project\\data\\gesture-recognition-and...   \n",
       "4            1      5  E:\\DS5500-project\\data\\gesture-recognition-and...   \n",
       "...        ...    ...                                                ...   \n",
       "15346        3      3  E:\\DS5500-project\\data\\gesture-recognition-and...   \n",
       "15347        3      4  E:\\DS5500-project\\data\\gesture-recognition-and...   \n",
       "15348        3      5  E:\\DS5500-project\\data\\gesture-recognition-and...   \n",
       "15349        3      6  E:\\DS5500-project\\data\\gesture-recognition-and...   \n",
       "15350        3      7  E:\\DS5500-project\\data\\gesture-recognition-and...   \n",
       "\n",
       "       crest_factor_F1   dasd_F1  diffvar_F1  form_factor_F1     iemg_F1  \\\n",
       "0             7.091099  0.021834    0.000606    -6502.754507  365.456658   \n",
       "1            13.324514  0.023852    0.000689     1352.897349  379.664639   \n",
       "2             8.047954  0.016213    0.000326     1295.052394  296.823135   \n",
       "3             8.459555  0.026572    0.000864    14453.068135  479.688214   \n",
       "4             8.329011  0.026896    0.000901    11827.310277  464.350257   \n",
       "...                ...       ...         ...             ...         ...   \n",
       "15346         7.771453  0.013208    0.000208     2599.892725  274.024844   \n",
       "15347         9.172642  0.019135    0.000429     1255.242161  385.695263   \n",
       "15348         5.923115  0.018533    0.000408     1713.228290  389.039490   \n",
       "15349         6.466362  0.015749    0.000292     -992.810528  319.503197   \n",
       "15350         6.331101  0.016365    0.000319     2571.088691  335.584187   \n",
       "\n",
       "       kurtosis_F1  kurtosis_f_F1  ...    rms_W9   skew_W9  skew_f_W9  \\\n",
       "0         2.574033      85.547962  ...  0.022588 -0.148877   5.529415   \n",
       "1        16.942218     329.114870  ...  0.016172 -0.205427   9.332349   \n",
       "2         3.795827     134.751765  ...  0.017039 -0.204604   9.078430   \n",
       "3         6.938354      98.832790  ...  0.031982 -0.266818   5.067522   \n",
       "4         2.379207     116.412205  ...  0.031134 -0.092205   5.414199   \n",
       "...            ...            ...  ...       ...       ...        ...   \n",
       "15346     2.176596      28.888640  ...  0.020526 -0.293608   3.830298   \n",
       "15347     4.615531     133.237150  ...  0.025825 -0.389927   4.200155   \n",
       "15348     1.912226      22.613382  ...  0.027460 -0.321020   4.375813   \n",
       "15349     2.189195      21.864578  ...  0.013359 -0.493375   3.832319   \n",
       "15350     1.845409      28.544842  ...  0.015422 -0.457244   3.590272   \n",
       "\n",
       "          ssi_W9  sum_f_W9      var_f_W9   wflen_W9  willison_W9  gesture  \\\n",
       "0       5.224663  0.109574  2.901826e-10  69.944068         15.0       10   \n",
       "1       2.677940  0.077566  2.769772e-10  54.530919         23.0       10   \n",
       "2       2.973002  0.064458  1.426359e-10  57.815909         13.0       10   \n",
       "3      10.473811  0.131909  4.509337e-10  83.441138          0.0       10   \n",
       "4       9.925787  0.177516  9.577100e-10  94.393506          3.0       10   \n",
       "...          ...       ...           ...        ...          ...      ...   \n",
       "15346   4.314177  0.035283  1.966555e-11  40.970398          2.0        9   \n",
       "15347   6.829604  0.076162  1.003953e-10  52.342457          0.0        9   \n",
       "15348   7.721463  0.081006  1.125954e-10  59.843660          0.0        9   \n",
       "15349   1.827333  0.062739  6.332731e-11  35.905471          0.0        9   \n",
       "15350   2.435599  0.071311  7.882752e-11  40.497393          4.0        9   \n",
       "\n",
       "       participant  \n",
       "0                1  \n",
       "1                1  \n",
       "2                1  \n",
       "3                1  \n",
       "4                1  \n",
       "...            ...  \n",
       "15346            9  \n",
       "15347            9  \n",
       "15348            9  \n",
       "15349            9  \n",
       "15350            9  \n",
       "\n",
       "[15351 rows x 761 columns]"
      ]
     },
     "execution_count": 4,
     "metadata": {},
     "output_type": "execute_result"
    }
   ],
   "source": [
    "data"
   ]
  },
  {
   "cell_type": "code",
   "execution_count": 5,
   "metadata": {},
   "outputs": [],
   "source": [
    "def participant_expt(data, base_path, model_name, model):\n",
    "    feature_cols = [c for c in data.columns if \"_\" in c]\n",
    "    participants = list(range(1, 44))\n",
    "\n",
    "    results = {}\n",
    "    WINDOW = 5\n",
    "\n",
    "    for i in tqdm(range(len(participants)-WINDOW + 1)):\n",
    "        train_parts = participants[:i] + participants[i+WINDOW+1:]\n",
    "        test_parts = participants[i:i+WINDOW]\n",
    "        \n",
    "        train_df = data[data['participant'].isin(train_parts)]\n",
    "        test_df = data[data['participant'].isin(test_parts)]\n",
    "        \n",
    "        x_train = train_df.loc[:, feature_cols].values\n",
    "        y_train = (train_df.loc[:, 'gesture'] - 1).values\n",
    "\n",
    "        x_test = test_df.loc[:, feature_cols].values\n",
    "        y_test = (test_df.loc[:, 'gesture'] - 1).values\n",
    "        scaler = StandardScaler()\n",
    "\n",
    "        scaler.fit(np.vstack([x_train, x_test]))\n",
    "\n",
    "        x_train = scaler.transform(x_train)\n",
    "        x_test = scaler.transform(x_test)\n",
    "\n",
    "        model.fit(x_train, y_train)\n",
    "\n",
    "        y_pred = model.predict(x_test)\n",
    "\n",
    "        accuracy = accuracy_score(y_test, y_pred)\n",
    "        precision_micro = precision_score(y_test, y_pred, average='micro')\n",
    "        precision_macro = precision_score(y_test, y_pred, average='macro')\n",
    "        recall_micro = recall_score(y_test, y_pred, average='micro')\n",
    "        recall_macro = recall_score(y_test, y_pred, average='macro')\n",
    "        f1_micro = f1_score(y_test, y_pred, average='micro')\n",
    "        f1_macro = f1_score(y_test, y_pred, average='macro')\n",
    "        \n",
    "        metrics_dict = {\n",
    "            'Accuracy': accuracy,\n",
    "            'Precision (Micro)': precision_micro,\n",
    "            'Precision (Macro)': precision_macro,\n",
    "            'Recall (Micro)': recall_micro,\n",
    "            'Recall (Macro)': recall_macro,\n",
    "            'F1 (Micro)': f1_micro,\n",
    "            'F1 (Macro)': f1_macro\n",
    "        }\n",
    "        \n",
    "        test_parts = [str(i) for i in test_parts]\n",
    "        \n",
    "        print(metrics_dict)\n",
    "\n",
    "        results[\" \".join(test_parts)] = metrics_dict\n",
    "        \n",
    "        \n",
    "    with open(base_path + \"/part_test_5\" + model_name + \".json\", \"w\") as file:\n",
    "        json.dump(results, file)"
   ]
  },
  {
   "cell_type": "code",
   "execution_count": 6,
   "metadata": {},
   "outputs": [],
   "source": [
    "lr_model = LogisticRegression(max_iter=5000, random_state=42)\n",
    "rf_model = RandomForestClassifier(n_estimators=100, random_state=42)\n",
    "ensemble_model = VotingClassifier(estimators=[('rf', rf_model), ('lr', lr_model)], voting='soft')"
   ]
  },
  {
   "cell_type": "code",
   "execution_count": 7,
   "metadata": {},
   "outputs": [
    {
     "name": "stderr",
     "output_type": "stream",
     "text": [
      "  3%|▎         | 1/39 [00:56<35:52, 56.65s/it]"
     ]
    },
    {
     "name": "stdout",
     "output_type": "stream",
     "text": [
      "{'Accuracy': 0.715406162464986, 'Precision (Micro)': 0.715406162464986, 'Precision (Macro)': 0.7303661298782087, 'Recall (Micro)': 0.715406162464986, 'Recall (Macro)': 0.7154061624649861, 'F1 (Micro)': 0.7154061624649859, 'F1 (Macro)': 0.7152913280651945}\n"
     ]
    },
    {
     "name": "stderr",
     "output_type": "stream",
     "text": [
      "  5%|▌         | 2/39 [01:55<35:41, 57.87s/it]"
     ]
    },
    {
     "name": "stdout",
     "output_type": "stream",
     "text": [
      "{'Accuracy': 0.6750700280112045, 'Precision (Micro)': 0.6750700280112045, 'Precision (Macro)': 0.7002988730425347, 'Recall (Micro)': 0.6750700280112045, 'Recall (Macro)': 0.6750700280112045, 'F1 (Micro)': 0.6750700280112045, 'F1 (Macro)': 0.6691855833735076}\n"
     ]
    },
    {
     "name": "stderr",
     "output_type": "stream",
     "text": [
      "  8%|▊         | 3/39 [02:47<33:12, 55.34s/it]"
     ]
    },
    {
     "name": "stdout",
     "output_type": "stream",
     "text": [
      "{'Accuracy': 0.684593837535014, 'Precision (Micro)': 0.684593837535014, 'Precision (Macro)': 0.7070112591741818, 'Recall (Micro)': 0.684593837535014, 'Recall (Macro)': 0.684593837535014, 'F1 (Micro)': 0.684593837535014, 'F1 (Macro)': 0.6768804763092262}\n"
     ]
    },
    {
     "name": "stderr",
     "output_type": "stream",
     "text": [
      " 10%|█         | 4/39 [03:55<35:02, 60.07s/it]"
     ]
    },
    {
     "name": "stdout",
     "output_type": "stream",
     "text": [
      "{'Accuracy': 0.7484593837535014, 'Precision (Micro)': 0.7484593837535014, 'Precision (Macro)': 0.7577696543123877, 'Recall (Micro)': 0.7484593837535014, 'Recall (Macro)': 0.7484593837535014, 'F1 (Micro)': 0.7484593837535015, 'F1 (Macro)': 0.7398607041891734}\n"
     ]
    },
    {
     "name": "stderr",
     "output_type": "stream",
     "text": [
      " 13%|█▎        | 5/39 [05:01<35:22, 62.41s/it]"
     ]
    },
    {
     "name": "stdout",
     "output_type": "stream",
     "text": [
      "{'Accuracy': 0.7434173669467787, 'Precision (Micro)': 0.7434173669467787, 'Precision (Macro)': 0.7554276510298374, 'Recall (Micro)': 0.7434173669467787, 'Recall (Macro)': 0.7434173669467787, 'F1 (Micro)': 0.7434173669467787, 'F1 (Macro)': 0.7360744345799105}\n"
     ]
    },
    {
     "name": "stderr",
     "output_type": "stream",
     "text": [
      " 15%|█▌        | 6/39 [06:11<35:45, 65.02s/it]"
     ]
    },
    {
     "name": "stdout",
     "output_type": "stream",
     "text": [
      "{'Accuracy': 0.7591036414565826, 'Precision (Micro)': 0.7591036414565826, 'Precision (Macro)': 0.7706670631313336, 'Recall (Micro)': 0.7591036414565826, 'Recall (Macro)': 0.7591036414565826, 'F1 (Micro)': 0.7591036414565826, 'F1 (Macro)': 0.7537173030525464}\n"
     ]
    },
    {
     "name": "stderr",
     "output_type": "stream",
     "text": [
      " 18%|█▊        | 7/39 [07:25<36:12, 67.88s/it]"
     ]
    },
    {
     "name": "stdout",
     "output_type": "stream",
     "text": [
      "{'Accuracy': 0.7803921568627451, 'Precision (Micro)': 0.7803921568627451, 'Precision (Macro)': 0.7966243433492437, 'Recall (Micro)': 0.7803921568627451, 'Recall (Macro)': 0.7803921568627451, 'F1 (Micro)': 0.7803921568627451, 'F1 (Macro)': 0.7747760423115866}\n"
     ]
    },
    {
     "name": "stderr",
     "output_type": "stream",
     "text": [
      " 21%|██        | 8/39 [08:56<38:57, 75.40s/it]"
     ]
    },
    {
     "name": "stdout",
     "output_type": "stream",
     "text": [
      "{'Accuracy': 0.7753501400560224, 'Precision (Micro)': 0.7753501400560224, 'Precision (Macro)': 0.7772780902844706, 'Recall (Micro)': 0.7753501400560224, 'Recall (Macro)': 0.7753501400560223, 'F1 (Micro)': 0.7753501400560224, 'F1 (Macro)': 0.7672083518288588}\n"
     ]
    },
    {
     "name": "stderr",
     "output_type": "stream",
     "text": [
      " 23%|██▎       | 9/39 [11:16<47:45, 95.53s/it]"
     ]
    },
    {
     "name": "stdout",
     "output_type": "stream",
     "text": [
      "{'Accuracy': 0.7434173669467787, 'Precision (Micro)': 0.7434173669467787, 'Precision (Macro)': 0.7400230036336372, 'Recall (Micro)': 0.7434173669467787, 'Recall (Macro)': 0.7434173669467787, 'F1 (Micro)': 0.7434173669467787, 'F1 (Macro)': 0.735716214543442}\n"
     ]
    },
    {
     "name": "stderr",
     "output_type": "stream",
     "text": [
      " 26%|██▌       | 10/39 [12:40<44:29, 92.05s/it]"
     ]
    },
    {
     "name": "stdout",
     "output_type": "stream",
     "text": [
      "{'Accuracy': 0.7579831932773109, 'Precision (Micro)': 0.7579831932773109, 'Precision (Macro)': 0.7651654057637375, 'Recall (Micro)': 0.7579831932773109, 'Recall (Macro)': 0.7579831932773109, 'F1 (Micro)': 0.7579831932773109, 'F1 (Macro)': 0.7564763723238946}\n"
     ]
    },
    {
     "name": "stderr",
     "output_type": "stream",
     "text": [
      " 28%|██▊       | 11/39 [14:58<49:28, 106.03s/it]"
     ]
    },
    {
     "name": "stdout",
     "output_type": "stream",
     "text": [
      "{'Accuracy': 0.7159663865546219, 'Precision (Micro)': 0.7159663865546219, 'Precision (Macro)': 0.7315124240503605, 'Recall (Micro)': 0.7159663865546219, 'Recall (Macro)': 0.7159663865546219, 'F1 (Micro)': 0.7159663865546217, 'F1 (Macro)': 0.717490242856054}\n"
     ]
    },
    {
     "name": "stderr",
     "output_type": "stream",
     "text": [
      " 31%|███       | 12/39 [16:36<46:38, 103.65s/it]"
     ]
    },
    {
     "name": "stdout",
     "output_type": "stream",
     "text": [
      "{'Accuracy': 0.719327731092437, 'Precision (Micro)': 0.719327731092437, 'Precision (Macro)': 0.7400111151809992, 'Recall (Micro)': 0.719327731092437, 'Recall (Macro)': 0.719327731092437, 'F1 (Micro)': 0.719327731092437, 'F1 (Macro)': 0.7204372444752545}\n"
     ]
    },
    {
     "name": "stderr",
     "output_type": "stream",
     "text": [
      " 33%|███▎      | 13/39 [17:56<41:47, 96.43s/it] "
     ]
    },
    {
     "name": "stdout",
     "output_type": "stream",
     "text": [
      "{'Accuracy': 0.7221288515406162, 'Precision (Micro)': 0.7221288515406162, 'Precision (Macro)': 0.7376366681344597, 'Recall (Micro)': 0.7221288515406162, 'Recall (Macro)': 0.7221288515406162, 'F1 (Micro)': 0.7221288515406162, 'F1 (Macro)': 0.7245127194673205}\n"
     ]
    },
    {
     "name": "stderr",
     "output_type": "stream",
     "text": [
      " 36%|███▌      | 14/39 [19:08<37:02, 88.89s/it]"
     ]
    },
    {
     "name": "stdout",
     "output_type": "stream",
     "text": [
      "{'Accuracy': 0.7546218487394958, 'Precision (Micro)': 0.7546218487394958, 'Precision (Macro)': 0.7647292709986446, 'Recall (Micro)': 0.7546218487394958, 'Recall (Macro)': 0.7546218487394958, 'F1 (Micro)': 0.7546218487394958, 'F1 (Macro)': 0.7545128223834365}\n"
     ]
    },
    {
     "name": "stderr",
     "output_type": "stream",
     "text": [
      " 38%|███▊      | 15/39 [20:19<33:24, 83.54s/it]"
     ]
    },
    {
     "name": "stdout",
     "output_type": "stream",
     "text": [
      "{'Accuracy': 0.7742296918767507, 'Precision (Micro)': 0.7742296918767507, 'Precision (Macro)': 0.7859031721270436, 'Recall (Micro)': 0.7742296918767507, 'Recall (Macro)': 0.7742296918767506, 'F1 (Micro)': 0.7742296918767507, 'F1 (Macro)': 0.7726353562129652}\n"
     ]
    },
    {
     "name": "stderr",
     "output_type": "stream",
     "text": [
      " 41%|████      | 16/39 [21:35<31:07, 81.18s/it]"
     ]
    },
    {
     "name": "stdout",
     "output_type": "stream",
     "text": [
      "{'Accuracy': 0.7647058823529411, 'Precision (Micro)': 0.7647058823529411, 'Precision (Macro)': 0.7750834468529809, 'Recall (Micro)': 0.7647058823529411, 'Recall (Macro)': 0.7647058823529411, 'F1 (Micro)': 0.7647058823529412, 'F1 (Macro)': 0.7627234623247899}\n"
     ]
    },
    {
     "name": "stderr",
     "output_type": "stream",
     "text": [
      " 44%|████▎     | 17/39 [22:38<27:51, 75.99s/it]"
     ]
    },
    {
     "name": "stdout",
     "output_type": "stream",
     "text": [
      "{'Accuracy': 0.7282913165266106, 'Precision (Micro)': 0.7282913165266106, 'Precision (Macro)': 0.7487392869355185, 'Recall (Micro)': 0.7282913165266106, 'Recall (Macro)': 0.7282913165266106, 'F1 (Micro)': 0.7282913165266107, 'F1 (Macro)': 0.7284770664608131}\n"
     ]
    },
    {
     "name": "stderr",
     "output_type": "stream",
     "text": [
      " 46%|████▌     | 18/39 [23:40<25:04, 71.66s/it]"
     ]
    },
    {
     "name": "stdout",
     "output_type": "stream",
     "text": [
      "{'Accuracy': 0.746218487394958, 'Precision (Micro)': 0.746218487394958, 'Precision (Macro)': 0.7656891471439675, 'Recall (Micro)': 0.746218487394958, 'Recall (Macro)': 0.746218487394958, 'F1 (Micro)': 0.746218487394958, 'F1 (Macro)': 0.7491690866821171}\n"
     ]
    },
    {
     "name": "stderr",
     "output_type": "stream",
     "text": [
      " 49%|████▊     | 19/39 [24:45<23:12, 69.63s/it]"
     ]
    },
    {
     "name": "stdout",
     "output_type": "stream",
     "text": [
      "{'Accuracy': 0.7523809523809524, 'Precision (Micro)': 0.7523809523809524, 'Precision (Macro)': 0.7670287959438404, 'Recall (Micro)': 0.7523809523809524, 'Recall (Macro)': 0.7523809523809524, 'F1 (Micro)': 0.7523809523809524, 'F1 (Macro)': 0.7547760082704239}\n"
     ]
    },
    {
     "name": "stderr",
     "output_type": "stream",
     "text": [
      " 51%|█████▏    | 20/39 [25:46<21:16, 67.18s/it]"
     ]
    },
    {
     "name": "stdout",
     "output_type": "stream",
     "text": [
      "{'Accuracy': 0.7226890756302521, 'Precision (Micro)': 0.7226890756302521, 'Precision (Macro)': 0.7371470142097154, 'Recall (Micro)': 0.7226890756302521, 'Recall (Macro)': 0.7226890756302521, 'F1 (Micro)': 0.7226890756302521, 'F1 (Macro)': 0.7262706223934243}\n"
     ]
    },
    {
     "name": "stderr",
     "output_type": "stream",
     "text": [
      " 54%|█████▍    | 21/39 [26:51<19:57, 66.54s/it]"
     ]
    },
    {
     "name": "stdout",
     "output_type": "stream",
     "text": [
      "{'Accuracy': 0.746218487394958, 'Precision (Micro)': 0.746218487394958, 'Precision (Macro)': 0.7569471526965711, 'Recall (Micro)': 0.746218487394958, 'Recall (Macro)': 0.746218487394958, 'F1 (Micro)': 0.746218487394958, 'F1 (Macro)': 0.7474473655822033}\n"
     ]
    },
    {
     "name": "stderr",
     "output_type": "stream",
     "text": [
      " 56%|█████▋    | 22/39 [28:03<19:18, 68.14s/it]"
     ]
    },
    {
     "name": "stdout",
     "output_type": "stream",
     "text": [
      "{'Accuracy': 0.7669467787114846, 'Precision (Micro)': 0.7669467787114846, 'Precision (Macro)': 0.7775059384715851, 'Recall (Micro)': 0.7669467787114846, 'Recall (Macro)': 0.7669467787114845, 'F1 (Micro)': 0.7669467787114846, 'F1 (Macro)': 0.7658712297552318}\n"
     ]
    },
    {
     "name": "stderr",
     "output_type": "stream",
     "text": [
      " 59%|█████▉    | 23/39 [29:48<21:06, 79.15s/it]"
     ]
    },
    {
     "name": "stdout",
     "output_type": "stream",
     "text": [
      "{'Accuracy': 0.7714285714285715, 'Precision (Micro)': 0.7714285714285715, 'Precision (Macro)': 0.7765604616007021, 'Recall (Micro)': 0.7714285714285715, 'Recall (Macro)': 0.7714285714285714, 'F1 (Micro)': 0.7714285714285715, 'F1 (Macro)': 0.7670847426802132}\n"
     ]
    },
    {
     "name": "stderr",
     "output_type": "stream",
     "text": [
      " 62%|██████▏   | 24/39 [31:23<20:55, 83.73s/it]"
     ]
    },
    {
     "name": "stdout",
     "output_type": "stream",
     "text": [
      "{'Accuracy': 0.7394957983193278, 'Precision (Micro)': 0.7394957983193278, 'Precision (Macro)': 0.7447550703808885, 'Recall (Micro)': 0.7394957983193278, 'Recall (Macro)': 0.7394957983193278, 'F1 (Micro)': 0.7394957983193278, 'F1 (Macro)': 0.7372028287004418}\n"
     ]
    },
    {
     "name": "stderr",
     "output_type": "stream",
     "text": [
      " 64%|██████▍   | 25/39 [32:33<18:34, 79.61s/it]"
     ]
    },
    {
     "name": "stdout",
     "output_type": "stream",
     "text": [
      "{'Accuracy': 0.7411764705882353, 'Precision (Micro)': 0.7411764705882353, 'Precision (Macro)': 0.7432546235704902, 'Recall (Micro)': 0.7411764705882353, 'Recall (Macro)': 0.7411764705882353, 'F1 (Micro)': 0.7411764705882353, 'F1 (Macro)': 0.7394576070962534}\n"
     ]
    },
    {
     "name": "stderr",
     "output_type": "stream",
     "text": [
      " 67%|██████▋   | 26/39 [34:22<19:12, 88.62s/it]"
     ]
    },
    {
     "name": "stdout",
     "output_type": "stream",
     "text": [
      "{'Accuracy': 0.7512605042016807, 'Precision (Micro)': 0.7512605042016807, 'Precision (Macro)': 0.7495570050641092, 'Recall (Micro)': 0.7512605042016807, 'Recall (Macro)': 0.7512605042016807, 'F1 (Micro)': 0.7512605042016807, 'F1 (Macro)': 0.7479202366932263}\n"
     ]
    },
    {
     "name": "stderr",
     "output_type": "stream",
     "text": [
      " 69%|██████▉   | 27/39 [36:11<18:55, 94.59s/it]"
     ]
    },
    {
     "name": "stdout",
     "output_type": "stream",
     "text": [
      "{'Accuracy': 0.7557422969187675, 'Precision (Micro)': 0.7557422969187675, 'Precision (Macro)': 0.7608507324859718, 'Recall (Micro)': 0.7557422969187675, 'Recall (Macro)': 0.7557422969187675, 'F1 (Micro)': 0.7557422969187676, 'F1 (Macro)': 0.7542101105815053}\n"
     ]
    },
    {
     "name": "stderr",
     "output_type": "stream",
     "text": [
      " 72%|███████▏  | 28/39 [37:40<17:03, 93.06s/it]"
     ]
    },
    {
     "name": "stdout",
     "output_type": "stream",
     "text": [
      "{'Accuracy': 0.7081232492997199, 'Precision (Micro)': 0.7081232492997199, 'Precision (Macro)': 0.7206194050350495, 'Recall (Micro)': 0.7081232492997199, 'Recall (Macro)': 0.7081232492997199, 'F1 (Micro)': 0.7081232492997199, 'F1 (Macro)': 0.7060448894166949}\n"
     ]
    },
    {
     "name": "stderr",
     "output_type": "stream",
     "text": [
      " 74%|███████▍  | 29/39 [40:00<17:51, 107.10s/it]"
     ]
    },
    {
     "name": "stdout",
     "output_type": "stream",
     "text": [
      "{'Accuracy': 0.7299719887955182, 'Precision (Micro)': 0.7299719887955182, 'Precision (Macro)': 0.7443895784022679, 'Recall (Micro)': 0.7299719887955182, 'Recall (Macro)': 0.7299719887955183, 'F1 (Micro)': 0.7299719887955182, 'F1 (Macro)': 0.7289254539502609}\n"
     ]
    },
    {
     "name": "stderr",
     "output_type": "stream",
     "text": [
      " 77%|███████▋  | 30/39 [41:52<16:17, 108.59s/it]"
     ]
    },
    {
     "name": "stdout",
     "output_type": "stream",
     "text": [
      "{'Accuracy': 0.7417366946778712, 'Precision (Micro)': 0.7417366946778712, 'Precision (Macro)': 0.746744118385046, 'Recall (Micro)': 0.7417366946778712, 'Recall (Macro)': 0.7417366946778712, 'F1 (Micro)': 0.7417366946778711, 'F1 (Macro)': 0.7401357493720825}\n"
     ]
    },
    {
     "name": "stderr",
     "output_type": "stream",
     "text": [
      " 79%|███████▉  | 31/39 [44:25<16:14, 121.77s/it]"
     ]
    },
    {
     "name": "stdout",
     "output_type": "stream",
     "text": [
      "{'Accuracy': 0.7372549019607844, 'Precision (Micro)': 0.7372549019607844, 'Precision (Macro)': 0.7458925657585743, 'Recall (Micro)': 0.7372549019607844, 'Recall (Macro)': 0.7372549019607844, 'F1 (Micro)': 0.7372549019607844, 'F1 (Macro)': 0.736630805485888}\n"
     ]
    },
    {
     "name": "stderr",
     "output_type": "stream",
     "text": [
      " 82%|████████▏ | 32/39 [46:16<13:51, 118.76s/it]"
     ]
    },
    {
     "name": "stdout",
     "output_type": "stream",
     "text": [
      "{'Accuracy': 0.7753501400560224, 'Precision (Micro)': 0.7753501400560224, 'Precision (Macro)': 0.7821420883713335, 'Recall (Micro)': 0.7753501400560224, 'Recall (Macro)': 0.7753501400560223, 'F1 (Micro)': 0.7753501400560224, 'F1 (Macro)': 0.7757980131438202}\n"
     ]
    },
    {
     "name": "stderr",
     "output_type": "stream",
     "text": [
      " 85%|████████▍ | 33/39 [47:21<10:14, 102.45s/it]"
     ]
    },
    {
     "name": "stdout",
     "output_type": "stream",
     "text": [
      "{'Accuracy': 0.8112044817927171, 'Precision (Micro)': 0.8112044817927171, 'Precision (Macro)': 0.8193220831393399, 'Recall (Micro)': 0.8112044817927171, 'Recall (Macro)': 0.8112044817927171, 'F1 (Micro)': 0.8112044817927172, 'F1 (Macro)': 0.8111296378799335}\n"
     ]
    },
    {
     "name": "stderr",
     "output_type": "stream",
     "text": [
      " 87%|████████▋ | 34/39 [48:38<07:54, 95.00s/it] "
     ]
    },
    {
     "name": "stdout",
     "output_type": "stream",
     "text": [
      "{'Accuracy': 0.8252100840336134, 'Precision (Micro)': 0.8252100840336134, 'Precision (Macro)': 0.8342045787024575, 'Recall (Micro)': 0.8252100840336134, 'Recall (Macro)': 0.8252100840336134, 'F1 (Micro)': 0.8252100840336134, 'F1 (Macro)': 0.8244653192175415}\n"
     ]
    },
    {
     "name": "stderr",
     "output_type": "stream",
     "text": [
      " 90%|████████▉ | 35/39 [49:37<05:36, 84.20s/it]"
     ]
    },
    {
     "name": "stdout",
     "output_type": "stream",
     "text": [
      "{'Accuracy': 0.826890756302521, 'Precision (Micro)': 0.826890756302521, 'Precision (Macro)': 0.8425008321868426, 'Recall (Micro)': 0.826890756302521, 'Recall (Macro)': 0.826890756302521, 'F1 (Micro)': 0.826890756302521, 'F1 (Macro)': 0.8269834081719781}\n"
     ]
    },
    {
     "name": "stderr",
     "output_type": "stream",
     "text": [
      " 92%|█████████▏| 36/39 [50:35<03:48, 76.25s/it]"
     ]
    },
    {
     "name": "stdout",
     "output_type": "stream",
     "text": [
      "{'Accuracy': 0.8156862745098039, 'Precision (Micro)': 0.8156862745098039, 'Precision (Macro)': 0.8273803538640058, 'Recall (Micro)': 0.8156862745098039, 'Recall (Macro)': 0.8156862745098039, 'F1 (Micro)': 0.8156862745098039, 'F1 (Macro)': 0.8158448461810262}\n"
     ]
    },
    {
     "name": "stderr",
     "output_type": "stream",
     "text": [
      " 95%|█████████▍| 37/39 [51:34<02:22, 71.14s/it]"
     ]
    },
    {
     "name": "stdout",
     "output_type": "stream",
     "text": [
      "{'Accuracy': 0.8061624649859944, 'Precision (Micro)': 0.8061624649859944, 'Precision (Macro)': 0.8171556249788209, 'Recall (Micro)': 0.8061624649859944, 'Recall (Macro)': 0.8061624649859944, 'F1 (Micro)': 0.8061624649859945, 'F1 (Macro)': 0.8069503250846543}\n"
     ]
    },
    {
     "name": "stderr",
     "output_type": "stream",
     "text": [
      " 97%|█████████▋| 38/39 [52:27<01:05, 65.64s/it]"
     ]
    },
    {
     "name": "stdout",
     "output_type": "stream",
     "text": [
      "{'Accuracy': 0.7955182072829131, 'Precision (Micro)': 0.7955182072829131, 'Precision (Macro)': 0.8092851926658716, 'Recall (Micro)': 0.7955182072829131, 'Recall (Macro)': 0.7955182072829131, 'F1 (Micro)': 0.7955182072829131, 'F1 (Macro)': 0.7964978488925701}\n"
     ]
    },
    {
     "name": "stderr",
     "output_type": "stream",
     "text": [
      "100%|██████████| 39/39 [53:25<00:00, 82.19s/it]"
     ]
    },
    {
     "name": "stdout",
     "output_type": "stream",
     "text": [
      "{'Accuracy': 0.7675070028011205, 'Precision (Micro)': 0.7675070028011205, 'Precision (Macro)': 0.7832824785227127, 'Recall (Micro)': 0.7675070028011205, 'Recall (Macro)': 0.7675070028011204, 'F1 (Micro)': 0.7675070028011205, 'F1 (Macro)': 0.7659908243601231}\n"
     ]
    },
    {
     "name": "stderr",
     "output_type": "stream",
     "text": [
      "\n"
     ]
    }
   ],
   "source": [
    "participant_expt(data, base_path, \"LR\", lr_model)"
   ]
  },
  {
   "cell_type": "code",
   "execution_count": 8,
   "metadata": {},
   "outputs": [
    {
     "name": "stderr",
     "output_type": "stream",
     "text": [
      "  3%|▎         | 1/39 [00:33<21:14, 33.53s/it]"
     ]
    },
    {
     "name": "stdout",
     "output_type": "stream",
     "text": [
      "{'Accuracy': 0.6050420168067226, 'Precision (Micro)': 0.6050420168067226, 'Precision (Macro)': 0.6262291431452462, 'Recall (Micro)': 0.6050420168067226, 'Recall (Macro)': 0.6050420168067228, 'F1 (Micro)': 0.6050420168067226, 'F1 (Macro)': 0.5985777852996812}\n"
     ]
    },
    {
     "name": "stderr",
     "output_type": "stream",
     "text": [
      "  5%|▌         | 2/39 [01:06<20:26, 33.15s/it]"
     ]
    },
    {
     "name": "stdout",
     "output_type": "stream",
     "text": [
      "{'Accuracy': 0.6072829131652661, 'Precision (Micro)': 0.6072829131652661, 'Precision (Macro)': 0.6225207953719502, 'Recall (Micro)': 0.6072829131652661, 'Recall (Macro)': 0.6072829131652661, 'F1 (Micro)': 0.6072829131652661, 'F1 (Macro)': 0.5945595454042386}\n"
     ]
    },
    {
     "name": "stderr",
     "output_type": "stream",
     "text": [
      "  8%|▊         | 3/39 [01:39<19:44, 32.91s/it]"
     ]
    },
    {
     "name": "stdout",
     "output_type": "stream",
     "text": [
      "{'Accuracy': 0.62296918767507, 'Precision (Micro)': 0.62296918767507, 'Precision (Macro)': 0.6526694045934907, 'Recall (Micro)': 0.62296918767507, 'Recall (Macro)': 0.62296918767507, 'F1 (Micro)': 0.62296918767507, 'F1 (Macro)': 0.6153011727319428}\n"
     ]
    },
    {
     "name": "stderr",
     "output_type": "stream",
     "text": [
      " 10%|█         | 4/39 [02:11<19:08, 32.81s/it]"
     ]
    },
    {
     "name": "stdout",
     "output_type": "stream",
     "text": [
      "{'Accuracy': 0.66890756302521, 'Precision (Micro)': 0.66890756302521, 'Precision (Macro)': 0.6730640235033393, 'Recall (Micro)': 0.66890756302521, 'Recall (Macro)': 0.6689075630252102, 'F1 (Micro)': 0.66890756302521, 'F1 (Macro)': 0.6580296887467938}\n"
     ]
    },
    {
     "name": "stderr",
     "output_type": "stream",
     "text": [
      " 13%|█▎        | 5/39 [02:44<18:39, 32.92s/it]"
     ]
    },
    {
     "name": "stdout",
     "output_type": "stream",
     "text": [
      "{'Accuracy': 0.6890756302521008, 'Precision (Micro)': 0.6890756302521008, 'Precision (Macro)': 0.7055783412513682, 'Recall (Micro)': 0.6890756302521008, 'Recall (Macro)': 0.689075630252101, 'F1 (Micro)': 0.6890756302521008, 'F1 (Macro)': 0.6838561439925094}\n"
     ]
    },
    {
     "name": "stderr",
     "output_type": "stream",
     "text": [
      " 15%|█▌        | 6/39 [03:17<18:00, 32.74s/it]"
     ]
    },
    {
     "name": "stdout",
     "output_type": "stream",
     "text": [
      "{'Accuracy': 0.6666666666666666, 'Precision (Micro)': 0.6666666666666666, 'Precision (Macro)': 0.6892813226024908, 'Recall (Micro)': 0.6666666666666666, 'Recall (Macro)': 0.6666666666666666, 'F1 (Micro)': 0.6666666666666666, 'F1 (Macro)': 0.6592580563964594}\n"
     ]
    },
    {
     "name": "stderr",
     "output_type": "stream",
     "text": [
      " 18%|█▊        | 7/39 [03:49<17:27, 32.75s/it]"
     ]
    },
    {
     "name": "stdout",
     "output_type": "stream",
     "text": [
      "{'Accuracy': 0.6599439775910364, 'Precision (Micro)': 0.6599439775910364, 'Precision (Macro)': 0.677215039444189, 'Recall (Micro)': 0.6599439775910364, 'Recall (Macro)': 0.6599439775910364, 'F1 (Micro)': 0.6599439775910364, 'F1 (Macro)': 0.6537436075846261}\n"
     ]
    },
    {
     "name": "stderr",
     "output_type": "stream",
     "text": [
      " 21%|██        | 8/39 [04:24<17:15, 33.40s/it]"
     ]
    },
    {
     "name": "stdout",
     "output_type": "stream",
     "text": [
      "{'Accuracy': 0.6257703081232493, 'Precision (Micro)': 0.6257703081232493, 'Precision (Macro)': 0.6414428894212956, 'Recall (Micro)': 0.6257703081232493, 'Recall (Macro)': 0.6257703081232493, 'F1 (Micro)': 0.6257703081232493, 'F1 (Macro)': 0.6203663550303533}\n"
     ]
    },
    {
     "name": "stderr",
     "output_type": "stream",
     "text": [
      " 23%|██▎       | 9/39 [04:58<16:47, 33.59s/it]"
     ]
    },
    {
     "name": "stdout",
     "output_type": "stream",
     "text": [
      "{'Accuracy': 0.6022408963585434, 'Precision (Micro)': 0.6022408963585434, 'Precision (Macro)': 0.6147023097853525, 'Recall (Micro)': 0.6022408963585434, 'Recall (Macro)': 0.6022408963585434, 'F1 (Micro)': 0.6022408963585434, 'F1 (Macro)': 0.5969459126880302}\n"
     ]
    },
    {
     "name": "stderr",
     "output_type": "stream",
     "text": [
      " 26%|██▌       | 10/39 [05:32<16:15, 33.65s/it]"
     ]
    },
    {
     "name": "stdout",
     "output_type": "stream",
     "text": [
      "{'Accuracy': 0.6212885154061625, 'Precision (Micro)': 0.6212885154061625, 'Precision (Macro)': 0.6330799717697414, 'Recall (Micro)': 0.6212885154061625, 'Recall (Macro)': 0.6212885154061625, 'F1 (Micro)': 0.6212885154061625, 'F1 (Macro)': 0.6187309968510729}\n"
     ]
    },
    {
     "name": "stderr",
     "output_type": "stream",
     "text": [
      " 28%|██▊       | 11/39 [06:06<15:48, 33.87s/it]"
     ]
    },
    {
     "name": "stdout",
     "output_type": "stream",
     "text": [
      "{'Accuracy': 0.596078431372549, 'Precision (Micro)': 0.596078431372549, 'Precision (Macro)': 0.6141995714188409, 'Recall (Micro)': 0.596078431372549, 'Recall (Macro)': 0.596078431372549, 'F1 (Micro)': 0.596078431372549, 'F1 (Macro)': 0.5960514329763481}\n"
     ]
    },
    {
     "name": "stderr",
     "output_type": "stream",
     "text": [
      " 31%|███       | 12/39 [06:41<15:17, 33.98s/it]"
     ]
    },
    {
     "name": "stdout",
     "output_type": "stream",
     "text": [
      "{'Accuracy': 0.6336134453781512, 'Precision (Micro)': 0.6336134453781512, 'Precision (Macro)': 0.6471441490164174, 'Recall (Micro)': 0.6336134453781512, 'Recall (Macro)': 0.6336134453781513, 'F1 (Micro)': 0.6336134453781512, 'F1 (Macro)': 0.6336366007425211}\n"
     ]
    },
    {
     "name": "stderr",
     "output_type": "stream",
     "text": [
      " 33%|███▎      | 13/39 [07:15<14:43, 33.98s/it]"
     ]
    },
    {
     "name": "stdout",
     "output_type": "stream",
     "text": [
      "{'Accuracy': 0.6224089635854342, 'Precision (Micro)': 0.6224089635854342, 'Precision (Macro)': 0.6338105809714527, 'Recall (Micro)': 0.6224089635854342, 'Recall (Macro)': 0.6224089635854343, 'F1 (Micro)': 0.6224089635854342, 'F1 (Macro)': 0.6215397103360497}\n"
     ]
    },
    {
     "name": "stderr",
     "output_type": "stream",
     "text": [
      " 36%|███▌      | 14/39 [07:48<14:06, 33.88s/it]"
     ]
    },
    {
     "name": "stdout",
     "output_type": "stream",
     "text": [
      "{'Accuracy': 0.6190476190476191, 'Precision (Micro)': 0.6190476190476191, 'Precision (Macro)': 0.6238482165480687, 'Recall (Micro)': 0.6190476190476191, 'Recall (Macro)': 0.6190476190476191, 'F1 (Micro)': 0.6190476190476191, 'F1 (Macro)': 0.6147966101419684}\n"
     ]
    },
    {
     "name": "stderr",
     "output_type": "stream",
     "text": [
      " 38%|███▊      | 15/39 [08:23<13:35, 34.00s/it]"
     ]
    },
    {
     "name": "stdout",
     "output_type": "stream",
     "text": [
      "{'Accuracy': 0.6341736694677871, 'Precision (Micro)': 0.6341736694677871, 'Precision (Macro)': 0.6449870530627023, 'Recall (Micro)': 0.6341736694677871, 'Recall (Macro)': 0.6341736694677871, 'F1 (Micro)': 0.6341736694677871, 'F1 (Macro)': 0.6317693833574201}\n"
     ]
    },
    {
     "name": "stderr",
     "output_type": "stream",
     "text": [
      " 41%|████      | 16/39 [08:57<13:05, 34.14s/it]"
     ]
    },
    {
     "name": "stdout",
     "output_type": "stream",
     "text": [
      "{'Accuracy': 0.6543417366946779, 'Precision (Micro)': 0.6543417366946779, 'Precision (Macro)': 0.6863454274892689, 'Recall (Micro)': 0.6543417366946779, 'Recall (Macro)': 0.6543417366946779, 'F1 (Micro)': 0.6543417366946779, 'F1 (Macro)': 0.6578595889197418}\n"
     ]
    },
    {
     "name": "stderr",
     "output_type": "stream",
     "text": [
      " 44%|████▎     | 17/39 [09:31<12:31, 34.16s/it]"
     ]
    },
    {
     "name": "stdout",
     "output_type": "stream",
     "text": [
      "{'Accuracy': 0.6128851540616247, 'Precision (Micro)': 0.6128851540616247, 'Precision (Macro)': 0.6524592282914992, 'Recall (Micro)': 0.6128851540616247, 'Recall (Macro)': 0.6128851540616247, 'F1 (Micro)': 0.6128851540616247, 'F1 (Macro)': 0.6159199128144716}\n"
     ]
    },
    {
     "name": "stderr",
     "output_type": "stream",
     "text": [
      " 46%|████▌     | 18/39 [10:05<11:54, 34.01s/it]"
     ]
    },
    {
     "name": "stdout",
     "output_type": "stream",
     "text": [
      "{'Accuracy': 0.661624649859944, 'Precision (Micro)': 0.661624649859944, 'Precision (Macro)': 0.7034772042873184, 'Recall (Micro)': 0.661624649859944, 'Recall (Macro)': 0.6616246498599441, 'F1 (Micro)': 0.661624649859944, 'F1 (Macro)': 0.6642515186498483}\n"
     ]
    },
    {
     "name": "stderr",
     "output_type": "stream",
     "text": [
      " 49%|████▊     | 19/39 [10:39<11:18, 33.94s/it]"
     ]
    },
    {
     "name": "stdout",
     "output_type": "stream",
     "text": [
      "{'Accuracy': 0.6991596638655462, 'Precision (Micro)': 0.6991596638655462, 'Precision (Macro)': 0.7319450892633224, 'Recall (Micro)': 0.6991596638655462, 'Recall (Macro)': 0.6991596638655463, 'F1 (Micro)': 0.6991596638655462, 'F1 (Macro)': 0.7003318111115204}\n"
     ]
    },
    {
     "name": "stderr",
     "output_type": "stream",
     "text": [
      " 51%|█████▏    | 20/39 [11:12<10:38, 33.63s/it]"
     ]
    },
    {
     "name": "stdout",
     "output_type": "stream",
     "text": [
      "{'Accuracy': 0.6470588235294118, 'Precision (Micro)': 0.6470588235294118, 'Precision (Macro)': 0.6767804040821188, 'Recall (Micro)': 0.6470588235294118, 'Recall (Macro)': 0.6470588235294118, 'F1 (Micro)': 0.6470588235294118, 'F1 (Macro)': 0.6483046784303227}\n"
     ]
    },
    {
     "name": "stderr",
     "output_type": "stream",
     "text": [
      " 54%|█████▍    | 21/39 [11:45<10:06, 33.69s/it]"
     ]
    },
    {
     "name": "stdout",
     "output_type": "stream",
     "text": [
      "{'Accuracy': 0.6599439775910364, 'Precision (Micro)': 0.6599439775910364, 'Precision (Macro)': 0.6816544709459893, 'Recall (Micro)': 0.6599439775910364, 'Recall (Macro)': 0.6599439775910364, 'F1 (Micro)': 0.6599439775910364, 'F1 (Macro)': 0.6636285629318973}\n"
     ]
    },
    {
     "name": "stderr",
     "output_type": "stream",
     "text": [
      " 56%|█████▋    | 22/39 [12:19<09:30, 33.57s/it]"
     ]
    },
    {
     "name": "stdout",
     "output_type": "stream",
     "text": [
      "{'Accuracy': 0.6789915966386555, 'Precision (Micro)': 0.6789915966386555, 'Precision (Macro)': 0.6916099996412042, 'Recall (Micro)': 0.6789915966386555, 'Recall (Macro)': 0.6789915966386555, 'F1 (Micro)': 0.6789915966386555, 'F1 (Macro)': 0.6798796954312585}\n"
     ]
    },
    {
     "name": "stderr",
     "output_type": "stream",
     "text": [
      " 59%|█████▉    | 23/39 [12:52<08:54, 33.39s/it]"
     ]
    },
    {
     "name": "stdout",
     "output_type": "stream",
     "text": [
      "{'Accuracy': 0.6627450980392157, 'Precision (Micro)': 0.6627450980392157, 'Precision (Macro)': 0.6911214520674038, 'Recall (Micro)': 0.6627450980392157, 'Recall (Macro)': 0.6627450980392157, 'F1 (Micro)': 0.6627450980392157, 'F1 (Macro)': 0.6677675243984253}\n"
     ]
    },
    {
     "name": "stderr",
     "output_type": "stream",
     "text": [
      " 62%|██████▏   | 24/39 [13:25<08:21, 33.40s/it]"
     ]
    },
    {
     "name": "stdout",
     "output_type": "stream",
     "text": [
      "{'Accuracy': 0.6184873949579832, 'Precision (Micro)': 0.6184873949579832, 'Precision (Macro)': 0.6307660180086135, 'Recall (Micro)': 0.6184873949579832, 'Recall (Macro)': 0.6184873949579832, 'F1 (Micro)': 0.6184873949579832, 'F1 (Macro)': 0.6191030117588224}\n"
     ]
    },
    {
     "name": "stderr",
     "output_type": "stream",
     "text": [
      " 64%|██████▍   | 25/39 [13:59<07:48, 33.49s/it]"
     ]
    },
    {
     "name": "stdout",
     "output_type": "stream",
     "text": [
      "{'Accuracy': 0.5708683473389355, 'Precision (Micro)': 0.5708683473389355, 'Precision (Macro)': 0.5806159170894718, 'Recall (Micro)': 0.5708683473389355, 'Recall (Macro)': 0.5708683473389355, 'F1 (Micro)': 0.5708683473389355, 'F1 (Macro)': 0.5693407192854645}\n"
     ]
    },
    {
     "name": "stderr",
     "output_type": "stream",
     "text": [
      " 67%|██████▋   | 26/39 [14:32<07:14, 33.45s/it]"
     ]
    },
    {
     "name": "stdout",
     "output_type": "stream",
     "text": [
      "{'Accuracy': 0.6128851540616247, 'Precision (Micro)': 0.6128851540616247, 'Precision (Macro)': 0.611854039376663, 'Recall (Micro)': 0.6128851540616247, 'Recall (Macro)': 0.6128851540616247, 'F1 (Micro)': 0.6128851540616247, 'F1 (Macro)': 0.6084771068688323}\n"
     ]
    },
    {
     "name": "stderr",
     "output_type": "stream",
     "text": [
      " 69%|██████▉   | 27/39 [15:06<06:44, 33.70s/it]"
     ]
    },
    {
     "name": "stdout",
     "output_type": "stream",
     "text": [
      "{'Accuracy': 0.6543417366946779, 'Precision (Micro)': 0.6543417366946779, 'Precision (Macro)': 0.6564222976240912, 'Recall (Micro)': 0.6543417366946779, 'Recall (Macro)': 0.6543417366946779, 'F1 (Micro)': 0.6543417366946779, 'F1 (Macro)': 0.6508929478670114}\n"
     ]
    },
    {
     "name": "stderr",
     "output_type": "stream",
     "text": [
      " 72%|███████▏  | 28/39 [15:40<06:10, 33.64s/it]"
     ]
    },
    {
     "name": "stdout",
     "output_type": "stream",
     "text": [
      "{'Accuracy': 0.6285714285714286, 'Precision (Micro)': 0.6285714285714286, 'Precision (Macro)': 0.6358257867879786, 'Recall (Micro)': 0.6285714285714286, 'Recall (Macro)': 0.6285714285714287, 'F1 (Micro)': 0.6285714285714286, 'F1 (Macro)': 0.6231114716537727}\n"
     ]
    },
    {
     "name": "stderr",
     "output_type": "stream",
     "text": [
      " 74%|███████▍  | 29/39 [16:14<05:38, 33.82s/it]"
     ]
    },
    {
     "name": "stdout",
     "output_type": "stream",
     "text": [
      "{'Accuracy': 0.6795518207282913, 'Precision (Micro)': 0.6795518207282913, 'Precision (Macro)': 0.698518841444832, 'Recall (Micro)': 0.6795518207282913, 'Recall (Macro)': 0.6795518207282915, 'F1 (Micro)': 0.6795518207282913, 'F1 (Macro)': 0.6751539932786655}\n"
     ]
    },
    {
     "name": "stderr",
     "output_type": "stream",
     "text": [
      " 77%|███████▋  | 30/39 [16:48<05:03, 33.69s/it]"
     ]
    },
    {
     "name": "stdout",
     "output_type": "stream",
     "text": [
      "{'Accuracy': 0.7053221288515407, 'Precision (Micro)': 0.7053221288515407, 'Precision (Macro)': 0.7266684424230339, 'Recall (Micro)': 0.7053221288515407, 'Recall (Macro)': 0.7053221288515407, 'F1 (Micro)': 0.7053221288515407, 'F1 (Macro)': 0.7027378708376526}\n"
     ]
    },
    {
     "name": "stderr",
     "output_type": "stream",
     "text": [
      " 79%|███████▉  | 31/39 [17:22<04:31, 33.88s/it]"
     ]
    },
    {
     "name": "stdout",
     "output_type": "stream",
     "text": [
      "{'Accuracy': 0.6817927170868348, 'Precision (Micro)': 0.6817927170868348, 'Precision (Macro)': 0.6983720768028452, 'Recall (Micro)': 0.6817927170868348, 'Recall (Macro)': 0.6817927170868348, 'F1 (Micro)': 0.6817927170868348, 'F1 (Macro)': 0.6849510050850409}\n"
     ]
    },
    {
     "name": "stderr",
     "output_type": "stream",
     "text": [
      " 82%|████████▏ | 32/39 [17:56<03:57, 33.90s/it]"
     ]
    },
    {
     "name": "stdout",
     "output_type": "stream",
     "text": [
      "{'Accuracy': 0.7120448179271709, 'Precision (Micro)': 0.7120448179271709, 'Precision (Macro)': 0.7319656419096703, 'Recall (Micro)': 0.7120448179271709, 'Recall (Macro)': 0.7120448179271709, 'F1 (Micro)': 0.7120448179271708, 'F1 (Macro)': 0.713222425524462}\n"
     ]
    },
    {
     "name": "stderr",
     "output_type": "stream",
     "text": [
      " 85%|████████▍ | 33/39 [18:30<03:24, 34.11s/it]"
     ]
    },
    {
     "name": "stdout",
     "output_type": "stream",
     "text": [
      "{'Accuracy': 0.7047619047619048, 'Precision (Micro)': 0.7047619047619048, 'Precision (Macro)': 0.7457974848414781, 'Recall (Micro)': 0.7047619047619048, 'Recall (Macro)': 0.7047619047619048, 'F1 (Micro)': 0.7047619047619048, 'F1 (Macro)': 0.7087488435445233}\n"
     ]
    },
    {
     "name": "stderr",
     "output_type": "stream",
     "text": [
      " 87%|████████▋ | 34/39 [19:04<02:49, 33.85s/it]"
     ]
    },
    {
     "name": "stdout",
     "output_type": "stream",
     "text": [
      "{'Accuracy': 0.6834733893557423, 'Precision (Micro)': 0.6834733893557423, 'Precision (Macro)': 0.7225793832251843, 'Recall (Micro)': 0.6834733893557423, 'Recall (Macro)': 0.6834733893557424, 'F1 (Micro)': 0.6834733893557423, 'F1 (Macro)': 0.6849863426936134}\n"
     ]
    },
    {
     "name": "stderr",
     "output_type": "stream",
     "text": [
      " 90%|████████▉ | 35/39 [19:39<02:17, 34.38s/it]"
     ]
    },
    {
     "name": "stdout",
     "output_type": "stream",
     "text": [
      "{'Accuracy': 0.7103641456582633, 'Precision (Micro)': 0.7103641456582633, 'Precision (Macro)': 0.7352948330107175, 'Recall (Micro)': 0.7103641456582633, 'Recall (Macro)': 0.7103641456582633, 'F1 (Micro)': 0.7103641456582633, 'F1 (Macro)': 0.7090469572174313}\n"
     ]
    },
    {
     "name": "stderr",
     "output_type": "stream",
     "text": [
      " 92%|█████████▏| 36/39 [20:21<01:50, 36.72s/it]"
     ]
    },
    {
     "name": "stdout",
     "output_type": "stream",
     "text": [
      "{'Accuracy': 0.7198879551820728, 'Precision (Micro)': 0.7198879551820728, 'Precision (Macro)': 0.7309798051986399, 'Recall (Micro)': 0.7198879551820728, 'Recall (Macro)': 0.7198879551820728, 'F1 (Micro)': 0.7198879551820728, 'F1 (Macro)': 0.7158400565897917}\n"
     ]
    },
    {
     "name": "stderr",
     "output_type": "stream",
     "text": [
      " 95%|█████████▍| 37/39 [21:04<01:16, 38.38s/it]"
     ]
    },
    {
     "name": "stdout",
     "output_type": "stream",
     "text": [
      "{'Accuracy': 0.6834733893557423, 'Precision (Micro)': 0.6834733893557423, 'Precision (Macro)': 0.6974901133315179, 'Recall (Micro)': 0.6834733893557423, 'Recall (Macro)': 0.6834733893557423, 'F1 (Micro)': 0.6834733893557423, 'F1 (Macro)': 0.6797109646234578}\n"
     ]
    },
    {
     "name": "stderr",
     "output_type": "stream",
     "text": [
      " 97%|█████████▋| 38/39 [21:46<00:39, 39.41s/it]"
     ]
    },
    {
     "name": "stdout",
     "output_type": "stream",
     "text": [
      "{'Accuracy': 0.6946778711484594, 'Precision (Micro)': 0.6946778711484594, 'Precision (Macro)': 0.7073623387940661, 'Recall (Micro)': 0.6946778711484594, 'Recall (Macro)': 0.6946778711484595, 'F1 (Micro)': 0.6946778711484594, 'F1 (Macro)': 0.6877695540620121}\n"
     ]
    },
    {
     "name": "stderr",
     "output_type": "stream",
     "text": [
      "100%|██████████| 39/39 [22:28<00:00, 34.59s/it]"
     ]
    },
    {
     "name": "stdout",
     "output_type": "stream",
     "text": [
      "{'Accuracy': 0.657703081232493, 'Precision (Micro)': 0.657703081232493, 'Precision (Macro)': 0.6705954658753309, 'Recall (Micro)': 0.657703081232493, 'Recall (Macro)': 0.657703081232493, 'F1 (Micro)': 0.657703081232493, 'F1 (Macro)': 0.6515325066510259}\n"
     ]
    },
    {
     "name": "stderr",
     "output_type": "stream",
     "text": [
      "\n"
     ]
    }
   ],
   "source": [
    "participant_expt(data, base_path, \"RF\", rf_model)"
   ]
  },
  {
   "cell_type": "code",
   "execution_count": 9,
   "metadata": {},
   "outputs": [
    {
     "name": "stderr",
     "output_type": "stream",
     "text": [
      "  3%|▎         | 1/39 [01:40<1:03:43, 100.63s/it]"
     ]
    },
    {
     "name": "stdout",
     "output_type": "stream",
     "text": [
      "{'Accuracy': 0.7126050420168067, 'Precision (Micro)': 0.7126050420168067, 'Precision (Macro)': 0.7287393297435816, 'Recall (Micro)': 0.7126050420168067, 'Recall (Macro)': 0.7126050420168069, 'F1 (Micro)': 0.7126050420168069, 'F1 (Macro)': 0.7122762786692516}\n"
     ]
    },
    {
     "name": "stderr",
     "output_type": "stream",
     "text": [
      "  5%|▌         | 2/39 [03:25<1:03:41, 103.29s/it]"
     ]
    },
    {
     "name": "stdout",
     "output_type": "stream",
     "text": [
      "{'Accuracy': 0.6801120448179272, 'Precision (Micro)': 0.6801120448179272, 'Precision (Macro)': 0.7072884134758957, 'Recall (Micro)': 0.6801120448179272, 'Recall (Macro)': 0.6801120448179272, 'F1 (Micro)': 0.6801120448179272, 'F1 (Macro)': 0.6743302595527577}\n"
     ]
    },
    {
     "name": "stderr",
     "output_type": "stream",
     "text": [
      "  8%|▊         | 3/39 [05:03<1:00:33, 100.92s/it]"
     ]
    },
    {
     "name": "stdout",
     "output_type": "stream",
     "text": [
      "{'Accuracy': 0.6941176470588235, 'Precision (Micro)': 0.6941176470588235, 'Precision (Macro)': 0.7178787573523046, 'Recall (Micro)': 0.6941176470588235, 'Recall (Macro)': 0.6941176470588236, 'F1 (Micro)': 0.6941176470588235, 'F1 (Macro)': 0.6868925727221691}\n"
     ]
    },
    {
     "name": "stderr",
     "output_type": "stream",
     "text": [
      " 10%|█         | 4/39 [06:52<1:00:39, 104.00s/it]"
     ]
    },
    {
     "name": "stdout",
     "output_type": "stream",
     "text": [
      "{'Accuracy': 0.7551820728291316, 'Precision (Micro)': 0.7551820728291316, 'Precision (Macro)': 0.7638726817877846, 'Recall (Micro)': 0.7551820728291316, 'Recall (Macro)': 0.7551820728291316, 'F1 (Micro)': 0.7551820728291316, 'F1 (Macro)': 0.7460956068434828}\n"
     ]
    },
    {
     "name": "stderr",
     "output_type": "stream",
     "text": [
      " 13%|█▎        | 5/39 [08:32<58:04, 102.47s/it]  "
     ]
    },
    {
     "name": "stdout",
     "output_type": "stream",
     "text": [
      "{'Accuracy': 0.750140056022409, 'Precision (Micro)': 0.750140056022409, 'Precision (Macro)': 0.7621305772622236, 'Recall (Micro)': 0.750140056022409, 'Recall (Macro)': 0.750140056022409, 'F1 (Micro)': 0.750140056022409, 'F1 (Macro)': 0.7423982876801826}\n"
     ]
    },
    {
     "name": "stderr",
     "output_type": "stream",
     "text": [
      " 15%|█▌        | 6/39 [10:14<56:15, 102.28s/it]"
     ]
    },
    {
     "name": "stdout",
     "output_type": "stream",
     "text": [
      "{'Accuracy': 0.769187675070028, 'Precision (Micro)': 0.769187675070028, 'Precision (Macro)': 0.7818428204101595, 'Recall (Micro)': 0.769187675070028, 'Recall (Macro)': 0.7691876750700279, 'F1 (Micro)': 0.769187675070028, 'F1 (Macro)': 0.7634787596401762}\n"
     ]
    },
    {
     "name": "stderr",
     "output_type": "stream",
     "text": [
      " 18%|█▊        | 7/39 [12:21<58:57, 110.54s/it]"
     ]
    },
    {
     "name": "stdout",
     "output_type": "stream",
     "text": [
      "{'Accuracy': 0.7865546218487395, 'Precision (Micro)': 0.7865546218487395, 'Precision (Macro)': 0.8025797863365911, 'Recall (Micro)': 0.7865546218487395, 'Recall (Macro)': 0.7865546218487395, 'F1 (Micro)': 0.7865546218487395, 'F1 (Macro)': 0.7809444125538321}\n"
     ]
    },
    {
     "name": "stderr",
     "output_type": "stream",
     "text": [
      " 21%|██        | 8/39 [14:13<57:13, 110.77s/it]"
     ]
    },
    {
     "name": "stdout",
     "output_type": "stream",
     "text": [
      "{'Accuracy': 0.7803921568627451, 'Precision (Micro)': 0.7803921568627451, 'Precision (Macro)': 0.7842168497144222, 'Recall (Micro)': 0.7803921568627451, 'Recall (Macro)': 0.780392156862745, 'F1 (Micro)': 0.7803921568627451, 'F1 (Macro)': 0.7735031520680858}\n"
     ]
    },
    {
     "name": "stderr",
     "output_type": "stream",
     "text": [
      " 23%|██▎       | 9/39 [15:58<54:34, 109.13s/it]"
     ]
    },
    {
     "name": "stdout",
     "output_type": "stream",
     "text": [
      "{'Accuracy': 0.7473389355742297, 'Precision (Micro)': 0.7473389355742297, 'Precision (Macro)': 0.7442367858138574, 'Recall (Micro)': 0.7473389355742297, 'Recall (Macro)': 0.7473389355742297, 'F1 (Micro)': 0.7473389355742296, 'F1 (Macro)': 0.7396294175259733}\n"
     ]
    },
    {
     "name": "stderr",
     "output_type": "stream",
     "text": [
      " 26%|██▌       | 10/39 [17:54<53:44, 111.18s/it]"
     ]
    },
    {
     "name": "stdout",
     "output_type": "stream",
     "text": [
      "{'Accuracy': 0.7669467787114846, 'Precision (Micro)': 0.7669467787114846, 'Precision (Macro)': 0.7749205158221377, 'Recall (Micro)': 0.7669467787114846, 'Recall (Macro)': 0.7669467787114845, 'F1 (Micro)': 0.7669467787114846, 'F1 (Macro)': 0.7655969615158608}\n"
     ]
    },
    {
     "name": "stderr",
     "output_type": "stream",
     "text": [
      " 28%|██▊       | 11/39 [19:41<51:17, 109.93s/it]"
     ]
    },
    {
     "name": "stdout",
     "output_type": "stream",
     "text": [
      "{'Accuracy': 0.7260504201680672, 'Precision (Micro)': 0.7260504201680672, 'Precision (Macro)': 0.7420776246551785, 'Recall (Micro)': 0.7260504201680672, 'Recall (Macro)': 0.7260504201680672, 'F1 (Micro)': 0.7260504201680672, 'F1 (Macro)': 0.728248616470502}\n"
     ]
    },
    {
     "name": "stderr",
     "output_type": "stream",
     "text": [
      " 31%|███       | 12/39 [21:27<48:53, 108.64s/it]"
     ]
    },
    {
     "name": "stdout",
     "output_type": "stream",
     "text": [
      "{'Accuracy': 0.730532212885154, 'Precision (Micro)': 0.730532212885154, 'Precision (Macro)': 0.7529247428869281, 'Recall (Micro)': 0.730532212885154, 'Recall (Macro)': 0.7305322128851541, 'F1 (Micro)': 0.730532212885154, 'F1 (Macro)': 0.7322163287436186}\n"
     ]
    },
    {
     "name": "stderr",
     "output_type": "stream",
     "text": [
      " 33%|███▎      | 13/39 [23:03<45:30, 105.03s/it]"
     ]
    },
    {
     "name": "stdout",
     "output_type": "stream",
     "text": [
      "{'Accuracy': 0.726610644257703, 'Precision (Micro)': 0.726610644257703, 'Precision (Macro)': 0.7447244977433186, 'Recall (Micro)': 0.726610644257703, 'Recall (Macro)': 0.726610644257703, 'F1 (Micro)': 0.726610644257703, 'F1 (Macro)': 0.7299697995240724}\n"
     ]
    },
    {
     "name": "stderr",
     "output_type": "stream",
     "text": [
      " 36%|███▌      | 14/39 [24:32<41:38, 99.92s/it] "
     ]
    },
    {
     "name": "stdout",
     "output_type": "stream",
     "text": [
      "{'Accuracy': 0.761344537815126, 'Precision (Micro)': 0.761344537815126, 'Precision (Macro)': 0.7723838380285578, 'Recall (Micro)': 0.761344537815126, 'Recall (Macro)': 0.761344537815126, 'F1 (Micro)': 0.761344537815126, 'F1 (Macro)': 0.7612862308203268}\n"
     ]
    },
    {
     "name": "stderr",
     "output_type": "stream",
     "text": [
      " 38%|███▊      | 15/39 [26:07<39:23, 98.48s/it]"
     ]
    },
    {
     "name": "stdout",
     "output_type": "stream",
     "text": [
      "{'Accuracy': 0.7787114845938375, 'Precision (Micro)': 0.7787114845938375, 'Precision (Macro)': 0.7914038869887994, 'Recall (Micro)': 0.7787114845938375, 'Recall (Macro)': 0.7787114845938375, 'F1 (Micro)': 0.7787114845938375, 'F1 (Macro)': 0.7774512918749521}\n"
     ]
    },
    {
     "name": "stderr",
     "output_type": "stream",
     "text": [
      " 41%|████      | 16/39 [27:45<37:46, 98.55s/it]"
     ]
    },
    {
     "name": "stdout",
     "output_type": "stream",
     "text": [
      "{'Accuracy': 0.7719887955182073, 'Precision (Micro)': 0.7719887955182073, 'Precision (Macro)': 0.7831022423910836, 'Recall (Micro)': 0.7719887955182073, 'Recall (Macro)': 0.7719887955182073, 'F1 (Micro)': 0.7719887955182073, 'F1 (Macro)': 0.7702287093318195}\n"
     ]
    },
    {
     "name": "stderr",
     "output_type": "stream",
     "text": [
      " 44%|████▎     | 17/39 [29:17<35:24, 96.57s/it]"
     ]
    },
    {
     "name": "stdout",
     "output_type": "stream",
     "text": [
      "{'Accuracy': 0.7327731092436974, 'Precision (Micro)': 0.7327731092436974, 'Precision (Macro)': 0.7533735708871144, 'Recall (Micro)': 0.7327731092436974, 'Recall (Macro)': 0.7327731092436974, 'F1 (Micro)': 0.7327731092436974, 'F1 (Macro)': 0.7326287502698331}\n"
     ]
    },
    {
     "name": "stderr",
     "output_type": "stream",
     "text": [
      " 46%|████▌     | 18/39 [30:48<33:09, 94.73s/it]"
     ]
    },
    {
     "name": "stdout",
     "output_type": "stream",
     "text": [
      "{'Accuracy': 0.7579831932773109, 'Precision (Micro)': 0.7579831932773109, 'Precision (Macro)': 0.7786439368814166, 'Recall (Micro)': 0.7579831932773109, 'Recall (Macro)': 0.7579831932773109, 'F1 (Micro)': 0.7579831932773109, 'F1 (Macro)': 0.76086771597247}\n"
     ]
    },
    {
     "name": "stderr",
     "output_type": "stream",
     "text": [
      " 49%|████▊     | 19/39 [32:18<31:05, 93.26s/it]"
     ]
    },
    {
     "name": "stdout",
     "output_type": "stream",
     "text": [
      "{'Accuracy': 0.7663865546218488, 'Precision (Micro)': 0.7663865546218488, 'Precision (Macro)': 0.7821168099810223, 'Recall (Micro)': 0.7663865546218488, 'Recall (Macro)': 0.7663865546218487, 'F1 (Micro)': 0.7663865546218488, 'F1 (Macro)': 0.7689916739827247}\n"
     ]
    },
    {
     "name": "stderr",
     "output_type": "stream",
     "text": [
      " 51%|█████▏    | 20/39 [33:44<28:52, 91.19s/it]"
     ]
    },
    {
     "name": "stdout",
     "output_type": "stream",
     "text": [
      "{'Accuracy': 0.7372549019607844, 'Precision (Micro)': 0.7372549019607844, 'Precision (Macro)': 0.7514684443946283, 'Recall (Micro)': 0.7372549019607844, 'Recall (Macro)': 0.7372549019607844, 'F1 (Micro)': 0.7372549019607844, 'F1 (Macro)': 0.7405118578506167}\n"
     ]
    },
    {
     "name": "stderr",
     "output_type": "stream",
     "text": [
      " 54%|█████▍    | 21/39 [35:22<28:00, 93.38s/it]"
     ]
    },
    {
     "name": "stdout",
     "output_type": "stream",
     "text": [
      "{'Accuracy': 0.7585434173669467, 'Precision (Micro)': 0.7585434173669467, 'Precision (Macro)': 0.7678663253997066, 'Recall (Micro)': 0.7585434173669467, 'Recall (Macro)': 0.7585434173669467, 'F1 (Micro)': 0.7585434173669466, 'F1 (Macro)': 0.759271321902324}\n"
     ]
    },
    {
     "name": "stderr",
     "output_type": "stream",
     "text": [
      " 56%|█████▋    | 22/39 [36:50<25:57, 91.61s/it]"
     ]
    },
    {
     "name": "stdout",
     "output_type": "stream",
     "text": [
      "{'Accuracy': 0.7803921568627451, 'Precision (Micro)': 0.7803921568627451, 'Precision (Macro)': 0.7899532868851022, 'Recall (Micro)': 0.7803921568627451, 'Recall (Macro)': 0.780392156862745, 'F1 (Micro)': 0.7803921568627451, 'F1 (Macro)': 0.7793466594586227}\n"
     ]
    },
    {
     "name": "stderr",
     "output_type": "stream",
     "text": [
      " 59%|█████▉    | 23/39 [38:23<24:30, 91.90s/it]"
     ]
    },
    {
     "name": "stdout",
     "output_type": "stream",
     "text": [
      "{'Accuracy': 0.7865546218487395, 'Precision (Micro)': 0.7865546218487395, 'Precision (Macro)': 0.791056025308018, 'Recall (Micro)': 0.7865546218487395, 'Recall (Macro)': 0.7865546218487395, 'F1 (Micro)': 0.7865546218487395, 'F1 (Macro)': 0.7829556536778548}\n"
     ]
    },
    {
     "name": "stderr",
     "output_type": "stream",
     "text": [
      " 62%|██████▏   | 24/39 [39:56<23:04, 92.30s/it]"
     ]
    },
    {
     "name": "stdout",
     "output_type": "stream",
     "text": [
      "{'Accuracy': 0.750140056022409, 'Precision (Micro)': 0.750140056022409, 'Precision (Macro)': 0.7571380451507516, 'Recall (Micro)': 0.750140056022409, 'Recall (Macro)': 0.750140056022409, 'F1 (Micro)': 0.750140056022409, 'F1 (Macro)': 0.748710689453317}\n"
     ]
    },
    {
     "name": "stderr",
     "output_type": "stream",
     "text": [
      " 64%|██████▍   | 25/39 [41:31<21:45, 93.25s/it]"
     ]
    },
    {
     "name": "stdout",
     "output_type": "stream",
     "text": [
      "{'Accuracy': 0.7439775910364146, 'Precision (Micro)': 0.7439775910364146, 'Precision (Macro)': 0.7463922287520157, 'Recall (Micro)': 0.7439775910364146, 'Recall (Macro)': 0.7439775910364146, 'F1 (Micro)': 0.7439775910364146, 'F1 (Macro)': 0.7427247947453309}\n"
     ]
    },
    {
     "name": "stderr",
     "output_type": "stream",
     "text": [
      " 67%|██████▋   | 26/39 [43:06<20:17, 93.62s/it]"
     ]
    },
    {
     "name": "stdout",
     "output_type": "stream",
     "text": [
      "{'Accuracy': 0.7557422969187675, 'Precision (Micro)': 0.7557422969187675, 'Precision (Macro)': 0.754429636502383, 'Recall (Micro)': 0.7557422969187675, 'Recall (Macro)': 0.7557422969187675, 'F1 (Micro)': 0.7557422969187676, 'F1 (Macro)': 0.7526892362849356}\n"
     ]
    },
    {
     "name": "stderr",
     "output_type": "stream",
     "text": [
      " 69%|██████▉   | 27/39 [44:36<18:30, 92.56s/it]"
     ]
    },
    {
     "name": "stdout",
     "output_type": "stream",
     "text": [
      "{'Accuracy': 0.7663865546218488, 'Precision (Micro)': 0.7663865546218488, 'Precision (Macro)': 0.7699286907092018, 'Recall (Micro)': 0.7663865546218488, 'Recall (Macro)': 0.7663865546218487, 'F1 (Micro)': 0.7663865546218488, 'F1 (Macro)': 0.7642758349044013}\n"
     ]
    },
    {
     "name": "stderr",
     "output_type": "stream",
     "text": [
      " 72%|███████▏  | 28/39 [46:18<17:28, 95.34s/it]"
     ]
    },
    {
     "name": "stdout",
     "output_type": "stream",
     "text": [
      "{'Accuracy': 0.7170868347338936, 'Precision (Micro)': 0.7170868347338936, 'Precision (Macro)': 0.7290131378979213, 'Recall (Micro)': 0.7170868347338936, 'Recall (Macro)': 0.7170868347338937, 'F1 (Micro)': 0.7170868347338936, 'F1 (Macro)': 0.7148710947274827}\n"
     ]
    },
    {
     "name": "stderr",
     "output_type": "stream",
     "text": [
      " 74%|███████▍  | 29/39 [47:53<15:53, 95.38s/it]"
     ]
    },
    {
     "name": "stdout",
     "output_type": "stream",
     "text": [
      "{'Accuracy': 0.7344537815126051, 'Precision (Micro)': 0.7344537815126051, 'Precision (Macro)': 0.74960665018135, 'Recall (Micro)': 0.7344537815126051, 'Recall (Macro)': 0.7344537815126051, 'F1 (Micro)': 0.7344537815126051, 'F1 (Macro)': 0.7333679032204541}\n"
     ]
    },
    {
     "name": "stderr",
     "output_type": "stream",
     "text": [
      " 77%|███████▋  | 30/39 [49:23<14:04, 93.81s/it]"
     ]
    },
    {
     "name": "stdout",
     "output_type": "stream",
     "text": [
      "{'Accuracy': 0.7507002801120448, 'Precision (Micro)': 0.7507002801120448, 'Precision (Macro)': 0.7565763400745493, 'Recall (Micro)': 0.7507002801120448, 'Recall (Macro)': 0.7507002801120448, 'F1 (Micro)': 0.7507002801120449, 'F1 (Macro)': 0.7491251107262477}\n"
     ]
    },
    {
     "name": "stderr",
     "output_type": "stream",
     "text": [
      " 79%|███████▉  | 31/39 [51:03<12:45, 95.64s/it]"
     ]
    },
    {
     "name": "stdout",
     "output_type": "stream",
     "text": [
      "{'Accuracy': 0.7495798319327731, 'Precision (Micro)': 0.7495798319327731, 'Precision (Macro)': 0.7571792361116404, 'Recall (Micro)': 0.7495798319327731, 'Recall (Macro)': 0.7495798319327731, 'F1 (Micro)': 0.7495798319327732, 'F1 (Macro)': 0.7491830221783063}\n"
     ]
    },
    {
     "name": "stderr",
     "output_type": "stream",
     "text": [
      " 82%|████████▏ | 32/39 [52:33<10:57, 93.94s/it]"
     ]
    },
    {
     "name": "stdout",
     "output_type": "stream",
     "text": [
      "{'Accuracy': 0.7848739495798319, 'Precision (Micro)': 0.7848739495798319, 'Precision (Macro)': 0.7922965776755587, 'Recall (Micro)': 0.7848739495798319, 'Recall (Macro)': 0.7848739495798319, 'F1 (Micro)': 0.7848739495798319, 'F1 (Macro)': 0.785071043381957}\n"
     ]
    },
    {
     "name": "stderr",
     "output_type": "stream",
     "text": [
      " 85%|████████▍ | 33/39 [54:01<09:13, 92.24s/it]"
     ]
    },
    {
     "name": "stdout",
     "output_type": "stream",
     "text": [
      "{'Accuracy': 0.8218487394957983, 'Precision (Micro)': 0.8218487394957983, 'Precision (Macro)': 0.8311704444596145, 'Recall (Micro)': 0.8218487394957983, 'Recall (Macro)': 0.8218487394957983, 'F1 (Micro)': 0.8218487394957983, 'F1 (Macro)': 0.8215730330997911}\n"
     ]
    },
    {
     "name": "stderr",
     "output_type": "stream",
     "text": [
      " 87%|████████▋ | 34/39 [55:36<07:44, 92.95s/it]"
     ]
    },
    {
     "name": "stdout",
     "output_type": "stream",
     "text": [
      "{'Accuracy': 0.826890756302521, 'Precision (Micro)': 0.826890756302521, 'Precision (Macro)': 0.8363692642428173, 'Recall (Micro)': 0.826890756302521, 'Recall (Macro)': 0.826890756302521, 'F1 (Micro)': 0.826890756302521, 'F1 (Macro)': 0.8257978578499068}\n"
     ]
    },
    {
     "name": "stderr",
     "output_type": "stream",
     "text": [
      " 90%|████████▉ | 35/39 [57:09<06:11, 92.94s/it]"
     ]
    },
    {
     "name": "stdout",
     "output_type": "stream",
     "text": [
      "{'Accuracy': 0.8330532212885154, 'Precision (Micro)': 0.8330532212885154, 'Precision (Macro)': 0.850185188341647, 'Recall (Micro)': 0.8330532212885154, 'Recall (Macro)': 0.8330532212885153, 'F1 (Micro)': 0.8330532212885154, 'F1 (Macro)': 0.8326464845667749}\n"
     ]
    },
    {
     "name": "stderr",
     "output_type": "stream",
     "text": [
      " 92%|█████████▏| 36/39 [58:43<04:39, 93.26s/it]"
     ]
    },
    {
     "name": "stdout",
     "output_type": "stream",
     "text": [
      "{'Accuracy': 0.8257703081232493, 'Precision (Micro)': 0.8257703081232493, 'Precision (Macro)': 0.8374983146747819, 'Recall (Micro)': 0.8257703081232493, 'Recall (Macro)': 0.8257703081232493, 'F1 (Micro)': 0.8257703081232491, 'F1 (Macro)': 0.8259313765265448}\n"
     ]
    },
    {
     "name": "stderr",
     "output_type": "stream",
     "text": [
      " 95%|█████████▍| 37/39 [1:00:20<03:08, 94.38s/it]"
     ]
    },
    {
     "name": "stdout",
     "output_type": "stream",
     "text": [
      "{'Accuracy': 0.8123249299719888, 'Precision (Micro)': 0.8123249299719888, 'Precision (Macro)': 0.8237505997402972, 'Recall (Micro)': 0.8123249299719888, 'Recall (Macro)': 0.8123249299719888, 'F1 (Micro)': 0.8123249299719888, 'F1 (Macro)': 0.8132461754315055}\n"
     ]
    },
    {
     "name": "stderr",
     "output_type": "stream",
     "text": [
      " 97%|█████████▋| 38/39 [1:01:56<01:34, 94.85s/it]"
     ]
    },
    {
     "name": "stdout",
     "output_type": "stream",
     "text": [
      "{'Accuracy': 0.8028011204481793, 'Precision (Micro)': 0.8028011204481793, 'Precision (Macro)': 0.816416922396521, 'Recall (Micro)': 0.8028011204481793, 'Recall (Macro)': 0.8028011204481792, 'F1 (Micro)': 0.8028011204481793, 'F1 (Macro)': 0.8038497438129985}\n"
     ]
    },
    {
     "name": "stderr",
     "output_type": "stream",
     "text": [
      "100%|██████████| 39/39 [1:03:31<00:00, 97.72s/it]"
     ]
    },
    {
     "name": "stdout",
     "output_type": "stream",
     "text": [
      "{'Accuracy': 0.7708683473389356, 'Precision (Micro)': 0.7708683473389356, 'Precision (Macro)': 0.7873084828806464, 'Recall (Micro)': 0.7708683473389356, 'Recall (Macro)': 0.7708683473389355, 'F1 (Micro)': 0.7708683473389356, 'F1 (Macro)': 0.7697853285425336}\n"
     ]
    },
    {
     "name": "stderr",
     "output_type": "stream",
     "text": [
      "\n"
     ]
    }
   ],
   "source": [
    "participant_expt(data, base_path, \"Ensemble\", ensemble_model)"
   ]
  }
 ],
 "metadata": {
  "kernelspec": {
   "display_name": "Python 3",
   "language": "python",
   "name": "python3"
  },
  "language_info": {
   "codemirror_mode": {
    "name": "ipython",
    "version": 3
   },
   "file_extension": ".py",
   "mimetype": "text/x-python",
   "name": "python",
   "nbconvert_exporter": "python",
   "pygments_lexer": "ipython3",
   "version": "3.10.2"
  }
 },
 "nbformat": 4,
 "nbformat_minor": 2
}
