{
 "cells": [
  {
   "cell_type": "code",
   "execution_count": 1,
   "metadata": {},
   "outputs": [],
   "source": [
    "import numpy as np\n",
    "import pandas as pd\n",
    "import os\n",
    "import re\n",
    "from sklearn.pipeline import make_pipeline\n",
    "from sklearn.preprocessing import StandardScaler\n",
    "from sklearn.svm import SVC\n",
    "from sklearn.model_selection import train_test_split\n",
    "from sklearn.metrics import classification_report\n",
    "from sklearn.cluster import DBSCAN\n",
    "from sklearn.decomposition import PCA\n",
    "from sklearn.cluster import KMeans\n"
   ]
  },
  {
   "cell_type": "code",
   "execution_count": 2,
   "metadata": {},
   "outputs": [],
   "source": [
    "#import wfdb\n",
    "def split_data(features_df):\n",
    "    cols = features_df.columns\n",
    "    #cols_remove = [['session','participant','index','target']]\n",
    "    cols_remove = ['session','participant','trial','gesture','filename']\n",
    "    target = ['gesture']\n",
    "    cols_keep = [x for x in cols if x not in cols_remove]\n",
    "    #print(cols_keep)\n",
    "    X = np.array(features_df[cols_keep])\n",
    "    Y = np.array(features_df[target]).ravel()\n",
    "    X_train,X_test,Y_train,Y_test = train_test_split(X, Y, test_size=0.33, random_state=42)\n",
    "    return [X_train,X_test,Y_train,Y_test]\n"
   ]
  },
  {
   "cell_type": "code",
   "execution_count": 4,
   "metadata": {},
   "outputs": [
    {
     "data": {
      "text/html": [
       "<div>\n",
       "<style scoped>\n",
       "    .dataframe tbody tr th:only-of-type {\n",
       "        vertical-align: middle;\n",
       "    }\n",
       "\n",
       "    .dataframe tbody tr th {\n",
       "        vertical-align: top;\n",
       "    }\n",
       "\n",
       "    .dataframe thead th {\n",
       "        text-align: right;\n",
       "    }\n",
       "</style>\n",
       "<table border=\"1\" class=\"dataframe\">\n",
       "  <thead>\n",
       "    <tr style=\"text-align: right;\">\n",
       "      <th></th>\n",
       "      <th>session</th>\n",
       "      <th>trial</th>\n",
       "      <th>crest_factor_F1</th>\n",
       "      <th>dasd_F1</th>\n",
       "      <th>diffvar_F1</th>\n",
       "      <th>form_factor_F1</th>\n",
       "      <th>iemg_F1</th>\n",
       "      <th>kurtosis_F1</th>\n",
       "      <th>kurtosis_f_F1</th>\n",
       "      <th>mav_F1</th>\n",
       "      <th>...</th>\n",
       "      <th>rms_W9</th>\n",
       "      <th>skew_W9</th>\n",
       "      <th>skew_f_W9</th>\n",
       "      <th>ssi_W9</th>\n",
       "      <th>sum_f_W9</th>\n",
       "      <th>var_f_W9</th>\n",
       "      <th>wflen_W9</th>\n",
       "      <th>willison_W9</th>\n",
       "      <th>gesture</th>\n",
       "      <th>participant</th>\n",
       "    </tr>\n",
       "  </thead>\n",
       "  <tbody>\n",
       "    <tr>\n",
       "      <th>count</th>\n",
       "      <td>15351.000000</td>\n",
       "      <td>15351.000000</td>\n",
       "      <td>15351.000000</td>\n",
       "      <td>15351.000000</td>\n",
       "      <td>15351.000000</td>\n",
       "      <td>1.535100e+04</td>\n",
       "      <td>15351.000000</td>\n",
       "      <td>15351.000000</td>\n",
       "      <td>15351.000000</td>\n",
       "      <td>15351.000000</td>\n",
       "      <td>...</td>\n",
       "      <td>15351.000000</td>\n",
       "      <td>15351.000000</td>\n",
       "      <td>15351.000000</td>\n",
       "      <td>15351.000000</td>\n",
       "      <td>15351.000000</td>\n",
       "      <td>1.535100e+04</td>\n",
       "      <td>15351.000000</td>\n",
       "      <td>15351.000000</td>\n",
       "      <td>15351.000000</td>\n",
       "      <td>15351.000000</td>\n",
       "    </tr>\n",
       "    <tr>\n",
       "      <th>mean</th>\n",
       "      <td>2.000000</td>\n",
       "      <td>4.000000</td>\n",
       "      <td>6.047087</td>\n",
       "      <td>0.019260</td>\n",
       "      <td>0.000694</td>\n",
       "      <td>1.834416e+14</td>\n",
       "      <td>378.941714</td>\n",
       "      <td>2.177910</td>\n",
       "      <td>74.926579</td>\n",
       "      <td>0.037006</td>\n",
       "      <td>...</td>\n",
       "      <td>0.033153</td>\n",
       "      <td>-0.320471</td>\n",
       "      <td>4.974771</td>\n",
       "      <td>17.958520</td>\n",
       "      <td>0.119607</td>\n",
       "      <td>1.427294e-09</td>\n",
       "      <td>86.791692</td>\n",
       "      <td>12.251710</td>\n",
       "      <td>9.000000</td>\n",
       "      <td>22.000000</td>\n",
       "    </tr>\n",
       "    <tr>\n",
       "      <th>std</th>\n",
       "      <td>0.816523</td>\n",
       "      <td>2.000065</td>\n",
       "      <td>1.710467</td>\n",
       "      <td>0.013658</td>\n",
       "      <td>0.001258</td>\n",
       "      <td>2.272825e+16</td>\n",
       "      <td>269.007735</td>\n",
       "      <td>8.331980</td>\n",
       "      <td>185.944373</td>\n",
       "      <td>0.026270</td>\n",
       "      <td>...</td>\n",
       "      <td>0.025587</td>\n",
       "      <td>0.526493</td>\n",
       "      <td>2.468868</td>\n",
       "      <td>53.344938</td>\n",
       "      <td>0.180624</td>\n",
       "      <td>1.110527e-08</td>\n",
       "      <td>60.281965</td>\n",
       "      <td>38.878098</td>\n",
       "      <td>4.899139</td>\n",
       "      <td>12.410078</td>\n",
       "    </tr>\n",
       "    <tr>\n",
       "      <th>min</th>\n",
       "      <td>1.000000</td>\n",
       "      <td>1.000000</td>\n",
       "      <td>3.362290</td>\n",
       "      <td>0.001450</td>\n",
       "      <td>0.000003</td>\n",
       "      <td>-8.242829e+06</td>\n",
       "      <td>24.291688</td>\n",
       "      <td>-0.064162</td>\n",
       "      <td>8.819885</td>\n",
       "      <td>0.002372</td>\n",
       "      <td>...</td>\n",
       "      <td>0.002167</td>\n",
       "      <td>-6.439284</td>\n",
       "      <td>1.203108</td>\n",
       "      <td>0.048079</td>\n",
       "      <td>0.000261</td>\n",
       "      <td>9.661786e-16</td>\n",
       "      <td>12.338405</td>\n",
       "      <td>0.000000</td>\n",
       "      <td>1.000000</td>\n",
       "      <td>1.000000</td>\n",
       "    </tr>\n",
       "    <tr>\n",
       "      <th>25%</th>\n",
       "      <td>1.000000</td>\n",
       "      <td>2.000000</td>\n",
       "      <td>5.032689</td>\n",
       "      <td>0.010531</td>\n",
       "      <td>0.000135</td>\n",
       "      <td>-1.930748e+03</td>\n",
       "      <td>217.208917</td>\n",
       "      <td>0.784624</td>\n",
       "      <td>27.823932</td>\n",
       "      <td>0.021212</td>\n",
       "      <td>...</td>\n",
       "      <td>0.015940</td>\n",
       "      <td>-0.484321</td>\n",
       "      <td>3.492647</td>\n",
       "      <td>2.601885</td>\n",
       "      <td>0.035006</td>\n",
       "      <td>2.239063e-11</td>\n",
       "      <td>46.187158</td>\n",
       "      <td>0.000000</td>\n",
       "      <td>5.000000</td>\n",
       "      <td>11.000000</td>\n",
       "    </tr>\n",
       "    <tr>\n",
       "      <th>50%</th>\n",
       "      <td>2.000000</td>\n",
       "      <td>4.000000</td>\n",
       "      <td>5.684269</td>\n",
       "      <td>0.015637</td>\n",
       "      <td>0.000299</td>\n",
       "      <td>-4.788446e+02</td>\n",
       "      <td>314.682796</td>\n",
       "      <td>1.293862</td>\n",
       "      <td>42.506134</td>\n",
       "      <td>0.030731</td>\n",
       "      <td>...</td>\n",
       "      <td>0.027160</td>\n",
       "      <td>-0.324770</td>\n",
       "      <td>4.360644</td>\n",
       "      <td>7.553905</td>\n",
       "      <td>0.069141</td>\n",
       "      <td>9.472647e-11</td>\n",
       "      <td>71.530419</td>\n",
       "      <td>3.000000</td>\n",
       "      <td>9.000000</td>\n",
       "      <td>22.000000</td>\n",
       "    </tr>\n",
       "    <tr>\n",
       "      <th>75%</th>\n",
       "      <td>3.000000</td>\n",
       "      <td>6.000000</td>\n",
       "      <td>6.596594</td>\n",
       "      <td>0.023628</td>\n",
       "      <td>0.000698</td>\n",
       "      <td>1.835671e+03</td>\n",
       "      <td>459.517967</td>\n",
       "      <td>2.232629</td>\n",
       "      <td>70.617643</td>\n",
       "      <td>0.044875</td>\n",
       "      <td>...</td>\n",
       "      <td>0.043588</td>\n",
       "      <td>-0.168981</td>\n",
       "      <td>5.650867</td>\n",
       "      <td>19.454926</td>\n",
       "      <td>0.129741</td>\n",
       "      <td>3.754907e-10</td>\n",
       "      <td>110.964348</td>\n",
       "      <td>12.000000</td>\n",
       "      <td>13.000000</td>\n",
       "      <td>33.000000</td>\n",
       "    </tr>\n",
       "    <tr>\n",
       "      <th>max</th>\n",
       "      <td>3.000000</td>\n",
       "      <td>7.000000</td>\n",
       "      <td>42.678651</td>\n",
       "      <td>0.136473</td>\n",
       "      <td>0.021250</td>\n",
       "      <td>2.816011e+18</td>\n",
       "      <td>3675.686287</td>\n",
       "      <td>580.944410</td>\n",
       "      <td>5768.991217</td>\n",
       "      <td>0.358954</td>\n",
       "      <td>...</td>\n",
       "      <td>0.712933</td>\n",
       "      <td>34.144931</td>\n",
       "      <td>45.090940</td>\n",
       "      <td>5204.725180</td>\n",
       "      <td>3.006518</td>\n",
       "      <td>9.475449e-07</td>\n",
       "      <td>636.512868</td>\n",
       "      <td>974.000000</td>\n",
       "      <td>17.000000</td>\n",
       "      <td>43.000000</td>\n",
       "    </tr>\n",
       "  </tbody>\n",
       "</table>\n",
       "<p>8 rows × 760 columns</p>\n",
       "</div>"
      ],
      "text/plain": [
       "            session         trial  crest_factor_F1       dasd_F1  \\\n",
       "count  15351.000000  15351.000000     15351.000000  15351.000000   \n",
       "mean       2.000000      4.000000         6.047087      0.019260   \n",
       "std        0.816523      2.000065         1.710467      0.013658   \n",
       "min        1.000000      1.000000         3.362290      0.001450   \n",
       "25%        1.000000      2.000000         5.032689      0.010531   \n",
       "50%        2.000000      4.000000         5.684269      0.015637   \n",
       "75%        3.000000      6.000000         6.596594      0.023628   \n",
       "max        3.000000      7.000000        42.678651      0.136473   \n",
       "\n",
       "         diffvar_F1  form_factor_F1       iemg_F1   kurtosis_F1  \\\n",
       "count  15351.000000    1.535100e+04  15351.000000  15351.000000   \n",
       "mean       0.000694    1.834416e+14    378.941714      2.177910   \n",
       "std        0.001258    2.272825e+16    269.007735      8.331980   \n",
       "min        0.000003   -8.242829e+06     24.291688     -0.064162   \n",
       "25%        0.000135   -1.930748e+03    217.208917      0.784624   \n",
       "50%        0.000299   -4.788446e+02    314.682796      1.293862   \n",
       "75%        0.000698    1.835671e+03    459.517967      2.232629   \n",
       "max        0.021250    2.816011e+18   3675.686287    580.944410   \n",
       "\n",
       "       kurtosis_f_F1        mav_F1  ...        rms_W9       skew_W9  \\\n",
       "count   15351.000000  15351.000000  ...  15351.000000  15351.000000   \n",
       "mean       74.926579      0.037006  ...      0.033153     -0.320471   \n",
       "std       185.944373      0.026270  ...      0.025587      0.526493   \n",
       "min         8.819885      0.002372  ...      0.002167     -6.439284   \n",
       "25%        27.823932      0.021212  ...      0.015940     -0.484321   \n",
       "50%        42.506134      0.030731  ...      0.027160     -0.324770   \n",
       "75%        70.617643      0.044875  ...      0.043588     -0.168981   \n",
       "max      5768.991217      0.358954  ...      0.712933     34.144931   \n",
       "\n",
       "          skew_f_W9        ssi_W9      sum_f_W9      var_f_W9      wflen_W9  \\\n",
       "count  15351.000000  15351.000000  15351.000000  1.535100e+04  15351.000000   \n",
       "mean       4.974771     17.958520      0.119607  1.427294e-09     86.791692   \n",
       "std        2.468868     53.344938      0.180624  1.110527e-08     60.281965   \n",
       "min        1.203108      0.048079      0.000261  9.661786e-16     12.338405   \n",
       "25%        3.492647      2.601885      0.035006  2.239063e-11     46.187158   \n",
       "50%        4.360644      7.553905      0.069141  9.472647e-11     71.530419   \n",
       "75%        5.650867     19.454926      0.129741  3.754907e-10    110.964348   \n",
       "max       45.090940   5204.725180      3.006518  9.475449e-07    636.512868   \n",
       "\n",
       "        willison_W9       gesture   participant  \n",
       "count  15351.000000  15351.000000  15351.000000  \n",
       "mean      12.251710      9.000000     22.000000  \n",
       "std       38.878098      4.899139     12.410078  \n",
       "min        0.000000      1.000000      1.000000  \n",
       "25%        0.000000      5.000000     11.000000  \n",
       "50%        3.000000      9.000000     22.000000  \n",
       "75%       12.000000     13.000000     33.000000  \n",
       "max      974.000000     17.000000     43.000000  \n",
       "\n",
       "[8 rows x 760 columns]"
      ]
     },
     "execution_count": 4,
     "metadata": {},
     "output_type": "execute_result"
    }
   ],
   "source": [
    "features_df = pd.read_csv('/Users/smoothoperator/Documents/GitHub/DS5500-project/models/svm/features_v2.csv')\n",
    "features_df.head()\n",
    "features_df.describe()\n",
    "### Total of 18 gestures to be predicted."
   ]
  },
  {
   "cell_type": "markdown",
   "metadata": {},
   "source": [
    "\n",
    "**Method 1:** SVC\n",
    "\n",
    "**Method 2:** Semi-Supervised Clustering using DBScan + RFC or KNN"
   ]
  },
  {
   "cell_type": "code",
   "execution_count": 5,
   "metadata": {},
   "outputs": [],
   "source": [
    "cols = features_df.columns\n",
    "#cols_remove = [['session','participant','index','target']]\n",
    "cols_remove = ['session','participant','trial','gesture','filename']\n",
    "target = ['gesture']\n",
    "cols_keep = [x for x in cols if x not in cols_remove]\n",
    "X = np.array(features_df[cols_keep])\n",
    "Y = np.array(features_df[target]).ravel()\n",
    "X_train,X_test,Y_train,Y_test = train_test_split(X, Y, test_size=0.33, random_state=42)\n"
   ]
  },
  {
   "cell_type": "markdown",
   "metadata": {},
   "source": [
    "### Method 1\n",
    "#### Kernel RBF"
   ]
  },
  {
   "cell_type": "code",
   "execution_count": 13,
   "metadata": {},
   "outputs": [
    {
     "name": "stdout",
     "output_type": "stream",
     "text": [
      "              precision    recall  f1-score   support\n",
      "\n",
      "           1       0.69      0.65      0.67       314\n",
      "           2       0.54      0.71      0.61       300\n",
      "           3       0.71      0.67      0.69       312\n",
      "           4       0.61      0.65      0.63       303\n",
      "           5       0.84      0.75      0.79       298\n",
      "           6       0.93      0.80      0.86       300\n",
      "           7       0.69      0.69      0.69       305\n",
      "           8       0.76      0.85      0.80       279\n",
      "           9       0.70      0.76      0.73       268\n",
      "          10       0.87      0.77      0.82       313\n",
      "          11       0.97      0.94      0.96       286\n",
      "          12       0.93      0.90      0.91       296\n",
      "          13       0.94      0.90      0.92       300\n",
      "          14       0.91      0.89      0.90       272\n",
      "          15       0.85      0.90      0.87       320\n",
      "          16       0.75      0.62      0.68       315\n",
      "          17       0.80      0.97      0.88       285\n",
      "\n",
      "    accuracy                           0.79      5066\n",
      "   macro avg       0.79      0.79      0.79      5066\n",
      "weighted avg       0.79      0.79      0.79      5066\n",
      "\n"
     ]
    }
   ],
   "source": [
    "\n",
    "clf = make_pipeline(StandardScaler(), SVC(gamma='auto'))\n",
    "clf.fit(X_train, Y_train)\n",
    "Y_labels_svc_1 = clf.predict(X_test)\n",
    "print(classification_report(Y_test, Y_labels_svc_1))"
   ]
  },
  {
   "cell_type": "markdown",
   "metadata": {},
   "source": [
    "\n",
    "#### Kernel Poly"
   ]
  },
  {
   "cell_type": "code",
   "execution_count": 7,
   "metadata": {},
   "outputs": [
    {
     "name": "stdout",
     "output_type": "stream",
     "text": [
      "              precision    recall  f1-score   support\n",
      "\n",
      "           1       0.64      0.34      0.45       314\n",
      "           2       0.10      0.96      0.19       300\n",
      "           3       0.74      0.06      0.12       312\n",
      "           4       0.37      0.24      0.29       303\n",
      "           5       0.73      0.25      0.37       298\n",
      "           6       0.65      0.18      0.29       300\n",
      "           7       0.69      0.08      0.15       305\n",
      "           8       0.46      0.39      0.42       279\n",
      "           9       0.64      0.37      0.47       268\n",
      "          10       0.80      0.18      0.29       313\n",
      "          11       0.95      0.82      0.88       286\n",
      "          12       0.87      0.63      0.73       296\n",
      "          13       0.94      0.47      0.62       300\n",
      "          14       0.91      0.43      0.58       272\n",
      "          15       0.87      0.26      0.40       320\n",
      "          16       0.81      0.23      0.35       315\n",
      "          17       0.94      0.96      0.95       285\n",
      "\n",
      "    accuracy                           0.40      5066\n",
      "   macro avg       0.71      0.40      0.44      5066\n",
      "weighted avg       0.71      0.40      0.44      5066\n",
      "\n"
     ]
    }
   ],
   "source": [
    "clf = make_pipeline(StandardScaler(), SVC(gamma='auto',kernel = 'poly'))\n",
    "clf.fit(X_train, Y_train)\n",
    "Y_labels_svc_2 = clf.predict(X_test)\n",
    "print(classification_report(Y_test, Y_labels_svc_2))"
   ]
  },
  {
   "cell_type": "markdown",
   "metadata": {},
   "source": [
    "#### Kernel Sigmoid"
   ]
  },
  {
   "cell_type": "code",
   "execution_count": 8,
   "metadata": {},
   "outputs": [
    {
     "name": "stdout",
     "output_type": "stream",
     "text": [
      "              precision    recall  f1-score   support\n",
      "\n",
      "           1       0.45      0.46      0.45       314\n",
      "           2       0.34      0.54      0.41       300\n",
      "           3       0.65      0.46      0.54       312\n",
      "           4       0.51      0.44      0.47       303\n",
      "           5       0.38      0.44      0.41       298\n",
      "           6       0.80      0.52      0.63       300\n",
      "           7       0.59      0.50      0.55       305\n",
      "           8       0.79      0.54      0.64       279\n",
      "           9       0.51      0.56      0.53       268\n",
      "          10       0.69      0.35      0.47       313\n",
      "          11       0.73      0.73      0.73       286\n",
      "          12       0.85      0.69      0.76       296\n",
      "          13       0.89      0.67      0.76       300\n",
      "          14       0.70      0.66      0.68       272\n",
      "          15       0.68      0.56      0.61       320\n",
      "          16       0.30      0.52      0.38       315\n",
      "          17       0.49      0.87      0.63       285\n",
      "\n",
      "    accuracy                           0.56      5066\n",
      "   macro avg       0.61      0.56      0.57      5066\n",
      "weighted avg       0.61      0.56      0.57      5066\n",
      "\n"
     ]
    }
   ],
   "source": [
    "clf = make_pipeline(StandardScaler(), SVC(gamma='auto',kernel = 'sigmoid'))\n",
    "clf.fit(X_train, Y_train)\n",
    "Y_labels_svc_3 = clf.predict(X_test)\n",
    "print(classification_report(Y_test, Y_labels_svc_3))"
   ]
  },
  {
   "cell_type": "markdown",
   "metadata": {},
   "source": [
    "### RBF Kernel gives the best accuracy and recall score of .79 each."
   ]
  },
  {
   "cell_type": "markdown",
   "metadata": {},
   "source": [
    "\n",
    "## Method 2"
   ]
  },
  {
   "cell_type": "markdown",
   "metadata": {},
   "source": [
    "Now we test the semi supervised approach by using a DBScan, to cluster similar groups \n"
   ]
  },
  {
   "cell_type": "code",
   "execution_count": 9,
   "metadata": {},
   "outputs": [
    {
     "data": {
      "text/plain": [
       "array([-1, -1, -1, ..., -1, -1, -1])"
      ]
     },
     "execution_count": 9,
     "metadata": {},
     "output_type": "execute_result"
    }
   ],
   "source": [
    "#Get Sample of data for clustering (2/3 for clustering)\n",
    "features_clustering = features_df.sample(frac=0.67)\n",
    "#features_clustering.gesture.value_counts()\n",
    "#we get roughly the same number of sampels from each gesture\n",
    "\n",
    "#Get train test splits\n",
    "[X_clustering, X_rf, Y_clustering, Y_rf] = split_data(features_clustering)\n",
    "\n",
    "#Perform DB Scan and get the most popular gesture as the Cluster Gesture\n",
    "scaler = StandardScaler()\n",
    "X_clustering_scaled = scaler.fit_transform(X_clustering)\n",
    "\n",
    "clustering = DBSCAN(eps=2, min_samples=5).fit(X_clustering_scaled)\n",
    "clustering.labels_"
   ]
  },
  {
   "cell_type": "markdown",
   "metadata": {},
   "source": [
    "### Method 2 with PCA"
   ]
  },
  {
   "cell_type": "code",
   "execution_count": 10,
   "metadata": {},
   "outputs": [
    {
     "name": "stdout",
     "output_type": "stream",
     "text": [
      "0.6888949884223973\n"
     ]
    }
   ],
   "source": [
    "pca = PCA(n_components=10)\n",
    "#Get Sample of data for clustering (2/3 for clustering)\n",
    "features_clustering = features_df.sample(frac=0.67)\n",
    "#features_clustering.gesture.value_counts()\n",
    "#we get roughly the same number of sampels from each gesture\n",
    "\n",
    "#Get train test splits\n",
    "[X_clustering, X_rf, Y_clustering, Y_rf] = split_data(features_clustering)\n",
    "\n",
    "#Perform DB Scan and get the most popular gesture as the Cluster Gesture\n",
    "scaler = StandardScaler()\n",
    "X_clustering_scaled= scaler.fit_transform(X_clustering)\n",
    "X_rf_scaled = scaler.transform(X_rf)\n",
    "\n",
    "X_clustering_reduced = pca.fit_transform(X_clustering_scaled)\n",
    "X_rf_reduced = pca.transform(X_rf_scaled)\n",
    "print(pca.explained_variance_ratio_.sum())"
   ]
  },
  {
   "cell_type": "code",
   "execution_count": 11,
   "metadata": {},
   "outputs": [
    {
     "name": "stdout",
     "output_type": "stream",
     "text": [
      "(6890, 756)\n",
      "(6890, 10)\n"
     ]
    }
   ],
   "source": [
    "print(X_clustering.shape)\n",
    "print(X_clustering_reduced.shape)"
   ]
  },
  {
   "cell_type": "code",
   "execution_count": 12,
   "metadata": {},
   "outputs": [
    {
     "data": {
      "text/plain": [
       "array([-1,  0,  1,  2,  3,  4,  5,  6,  7,  8,  9, 10, 11, 12, 13])"
      ]
     },
     "execution_count": 12,
     "metadata": {},
     "output_type": "execute_result"
    }
   ],
   "source": [
    "clustering = DBSCAN(eps=2,metric='euclidean', min_samples=5).fit(X_clustering_reduced)\n",
    "np.unique(clustering.labels_)"
   ]
  },
  {
   "cell_type": "markdown",
   "metadata": {},
   "source": [
    "## Results \n"
   ]
  }
 ],
 "metadata": {
  "kernelspec": {
   "display_name": "Python 3.9.7 ('base')",
   "language": "python",
   "name": "python3"
  },
  "language_info": {
   "codemirror_mode": {
    "name": "ipython",
    "version": 3
   },
   "file_extension": ".py",
   "mimetype": "text/x-python",
   "name": "python",
   "nbconvert_exporter": "python",
   "pygments_lexer": "ipython3",
   "version": "3.9.7"
  },
  "orig_nbformat": 4,
  "vscode": {
   "interpreter": {
    "hash": "2f5f835440b3618f38217b03bda95d48d78596b4b836ba8fe6588803ed8854ce"
   }
  }
 },
 "nbformat": 4,
 "nbformat_minor": 2
}
