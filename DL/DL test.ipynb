{
 "cells": [
  {
   "cell_type": "code",
   "execution_count": 111,
   "id": "f5298d49",
   "metadata": {},
   "outputs": [],
   "source": [
    "import torch\n",
    "\n",
    "import os\n",
    "import re\n",
    "import sys"
   ]
  },
  {
   "cell_type": "code",
   "execution_count": 112,
   "id": "cea85c69",
   "metadata": {},
   "outputs": [],
   "source": [
    "import time"
   ]
  },
  {
   "cell_type": "code",
   "execution_count": 113,
   "id": "378f98df",
   "metadata": {},
   "outputs": [],
   "source": [
    "import importlib"
   ]
  },
  {
   "cell_type": "code",
   "execution_count": 114,
   "id": "466ecc56",
   "metadata": {},
   "outputs": [],
   "source": [
    "from torch.utils.data import DataLoader"
   ]
  },
  {
   "cell_type": "code",
   "execution_count": 115,
   "id": "7a3ba0ea",
   "metadata": {},
   "outputs": [],
   "source": [
    "from feature_ops import *"
   ]
  },
  {
   "cell_type": "code",
   "execution_count": 116,
   "id": "4f44799b",
   "metadata": {},
   "outputs": [
    {
     "data": {
      "text/plain": [
       "<module 'data_utils' from 'E:\\\\DS5500-project\\\\DL\\\\data_utils.py'>"
      ]
     },
     "execution_count": 116,
     "metadata": {},
     "output_type": "execute_result"
    }
   ],
   "source": [
    "importlib.reload(data_utils)"
   ]
  },
  {
   "cell_type": "code",
   "execution_count": 117,
   "id": "a4dc90b2",
   "metadata": {},
   "outputs": [],
   "source": [
    "import data_utils\n",
    "from data_utils import FileDataset, Ops"
   ]
  },
  {
   "cell_type": "code",
   "execution_count": 5,
   "id": "c7d68f57",
   "metadata": {},
   "outputs": [],
   "source": [
    "session1 = os.path.abspath(\"../data/gesture-recognition-and-biometrics-electromyogram-grabmyo-1.0.2/Session1/\")\n",
    "session2 = os.path.abspath(\"../data/gesture-recognition-and-biometrics-electromyogram-grabmyo-1.0.2/Session2/\")\n",
    "session3 = os.path.abspath(\"../data/gesture-recognition-and-biometrics-electromyogram-grabmyo-1.0.2/Session3/\")"
   ]
  },
  {
   "cell_type": "code",
   "execution_count": 6,
   "id": "48621e02",
   "metadata": {},
   "outputs": [],
   "source": [
    "session_1_folder = [os.path.join(session1, f) for f in os.listdir(session1)]"
   ]
  },
  {
   "cell_type": "code",
   "execution_count": 7,
   "id": "0e081770",
   "metadata": {
    "scrolled": true
   },
   "outputs": [
    {
     "data": {
      "text/plain": [
       "['E:\\\\DS5500-project\\\\data\\\\gesture-recognition-and-biometrics-electromyogram-grabmyo-1.0.2\\\\Session1\\\\session1_participant1',\n",
       " 'E:\\\\DS5500-project\\\\data\\\\gesture-recognition-and-biometrics-electromyogram-grabmyo-1.0.2\\\\Session1\\\\session1_participant10',\n",
       " 'E:\\\\DS5500-project\\\\data\\\\gesture-recognition-and-biometrics-electromyogram-grabmyo-1.0.2\\\\Session1\\\\session1_participant11',\n",
       " 'E:\\\\DS5500-project\\\\data\\\\gesture-recognition-and-biometrics-electromyogram-grabmyo-1.0.2\\\\Session1\\\\session1_participant12',\n",
       " 'E:\\\\DS5500-project\\\\data\\\\gesture-recognition-and-biometrics-electromyogram-grabmyo-1.0.2\\\\Session1\\\\session1_participant13',\n",
       " 'E:\\\\DS5500-project\\\\data\\\\gesture-recognition-and-biometrics-electromyogram-grabmyo-1.0.2\\\\Session1\\\\session1_participant14',\n",
       " 'E:\\\\DS5500-project\\\\data\\\\gesture-recognition-and-biometrics-electromyogram-grabmyo-1.0.2\\\\Session1\\\\session1_participant15',\n",
       " 'E:\\\\DS5500-project\\\\data\\\\gesture-recognition-and-biometrics-electromyogram-grabmyo-1.0.2\\\\Session1\\\\session1_participant16',\n",
       " 'E:\\\\DS5500-project\\\\data\\\\gesture-recognition-and-biometrics-electromyogram-grabmyo-1.0.2\\\\Session1\\\\session1_participant17',\n",
       " 'E:\\\\DS5500-project\\\\data\\\\gesture-recognition-and-biometrics-electromyogram-grabmyo-1.0.2\\\\Session1\\\\session1_participant18',\n",
       " 'E:\\\\DS5500-project\\\\data\\\\gesture-recognition-and-biometrics-electromyogram-grabmyo-1.0.2\\\\Session1\\\\session1_participant19',\n",
       " 'E:\\\\DS5500-project\\\\data\\\\gesture-recognition-and-biometrics-electromyogram-grabmyo-1.0.2\\\\Session1\\\\session1_participant2',\n",
       " 'E:\\\\DS5500-project\\\\data\\\\gesture-recognition-and-biometrics-electromyogram-grabmyo-1.0.2\\\\Session1\\\\session1_participant20',\n",
       " 'E:\\\\DS5500-project\\\\data\\\\gesture-recognition-and-biometrics-electromyogram-grabmyo-1.0.2\\\\Session1\\\\session1_participant21',\n",
       " 'E:\\\\DS5500-project\\\\data\\\\gesture-recognition-and-biometrics-electromyogram-grabmyo-1.0.2\\\\Session1\\\\session1_participant22',\n",
       " 'E:\\\\DS5500-project\\\\data\\\\gesture-recognition-and-biometrics-electromyogram-grabmyo-1.0.2\\\\Session1\\\\session1_participant23',\n",
       " 'E:\\\\DS5500-project\\\\data\\\\gesture-recognition-and-biometrics-electromyogram-grabmyo-1.0.2\\\\Session1\\\\session1_participant24',\n",
       " 'E:\\\\DS5500-project\\\\data\\\\gesture-recognition-and-biometrics-electromyogram-grabmyo-1.0.2\\\\Session1\\\\session1_participant25',\n",
       " 'E:\\\\DS5500-project\\\\data\\\\gesture-recognition-and-biometrics-electromyogram-grabmyo-1.0.2\\\\Session1\\\\session1_participant26',\n",
       " 'E:\\\\DS5500-project\\\\data\\\\gesture-recognition-and-biometrics-electromyogram-grabmyo-1.0.2\\\\Session1\\\\session1_participant27',\n",
       " 'E:\\\\DS5500-project\\\\data\\\\gesture-recognition-and-biometrics-electromyogram-grabmyo-1.0.2\\\\Session1\\\\session1_participant28',\n",
       " 'E:\\\\DS5500-project\\\\data\\\\gesture-recognition-and-biometrics-electromyogram-grabmyo-1.0.2\\\\Session1\\\\session1_participant29',\n",
       " 'E:\\\\DS5500-project\\\\data\\\\gesture-recognition-and-biometrics-electromyogram-grabmyo-1.0.2\\\\Session1\\\\session1_participant3',\n",
       " 'E:\\\\DS5500-project\\\\data\\\\gesture-recognition-and-biometrics-electromyogram-grabmyo-1.0.2\\\\Session1\\\\session1_participant30',\n",
       " 'E:\\\\DS5500-project\\\\data\\\\gesture-recognition-and-biometrics-electromyogram-grabmyo-1.0.2\\\\Session1\\\\session1_participant31',\n",
       " 'E:\\\\DS5500-project\\\\data\\\\gesture-recognition-and-biometrics-electromyogram-grabmyo-1.0.2\\\\Session1\\\\session1_participant32',\n",
       " 'E:\\\\DS5500-project\\\\data\\\\gesture-recognition-and-biometrics-electromyogram-grabmyo-1.0.2\\\\Session1\\\\session1_participant33',\n",
       " 'E:\\\\DS5500-project\\\\data\\\\gesture-recognition-and-biometrics-electromyogram-grabmyo-1.0.2\\\\Session1\\\\session1_participant34',\n",
       " 'E:\\\\DS5500-project\\\\data\\\\gesture-recognition-and-biometrics-electromyogram-grabmyo-1.0.2\\\\Session1\\\\session1_participant35',\n",
       " 'E:\\\\DS5500-project\\\\data\\\\gesture-recognition-and-biometrics-electromyogram-grabmyo-1.0.2\\\\Session1\\\\session1_participant36',\n",
       " 'E:\\\\DS5500-project\\\\data\\\\gesture-recognition-and-biometrics-electromyogram-grabmyo-1.0.2\\\\Session1\\\\session1_participant37',\n",
       " 'E:\\\\DS5500-project\\\\data\\\\gesture-recognition-and-biometrics-electromyogram-grabmyo-1.0.2\\\\Session1\\\\session1_participant38',\n",
       " 'E:\\\\DS5500-project\\\\data\\\\gesture-recognition-and-biometrics-electromyogram-grabmyo-1.0.2\\\\Session1\\\\session1_participant39',\n",
       " 'E:\\\\DS5500-project\\\\data\\\\gesture-recognition-and-biometrics-electromyogram-grabmyo-1.0.2\\\\Session1\\\\session1_participant4',\n",
       " 'E:\\\\DS5500-project\\\\data\\\\gesture-recognition-and-biometrics-electromyogram-grabmyo-1.0.2\\\\Session1\\\\session1_participant40',\n",
       " 'E:\\\\DS5500-project\\\\data\\\\gesture-recognition-and-biometrics-electromyogram-grabmyo-1.0.2\\\\Session1\\\\session1_participant41',\n",
       " 'E:\\\\DS5500-project\\\\data\\\\gesture-recognition-and-biometrics-electromyogram-grabmyo-1.0.2\\\\Session1\\\\session1_participant42',\n",
       " 'E:\\\\DS5500-project\\\\data\\\\gesture-recognition-and-biometrics-electromyogram-grabmyo-1.0.2\\\\Session1\\\\session1_participant43',\n",
       " 'E:\\\\DS5500-project\\\\data\\\\gesture-recognition-and-biometrics-electromyogram-grabmyo-1.0.2\\\\Session1\\\\session1_participant5',\n",
       " 'E:\\\\DS5500-project\\\\data\\\\gesture-recognition-and-biometrics-electromyogram-grabmyo-1.0.2\\\\Session1\\\\session1_participant6',\n",
       " 'E:\\\\DS5500-project\\\\data\\\\gesture-recognition-and-biometrics-electromyogram-grabmyo-1.0.2\\\\Session1\\\\session1_participant7',\n",
       " 'E:\\\\DS5500-project\\\\data\\\\gesture-recognition-and-biometrics-electromyogram-grabmyo-1.0.2\\\\Session1\\\\session1_participant8',\n",
       " 'E:\\\\DS5500-project\\\\data\\\\gesture-recognition-and-biometrics-electromyogram-grabmyo-1.0.2\\\\Session1\\\\session1_participant9']"
      ]
     },
     "execution_count": 7,
     "metadata": {},
     "output_type": "execute_result"
    }
   ],
   "source": [
    "session_1_folder"
   ]
  },
  {
   "cell_type": "code",
   "execution_count": 37,
   "id": "520e72da",
   "metadata": {},
   "outputs": [],
   "source": [
    "participants = [str(i+1) for i in range(25)]"
   ]
  },
  {
   "cell_type": "code",
   "execution_count": 38,
   "id": "09a36325",
   "metadata": {
    "scrolled": true
   },
   "outputs": [
    {
     "data": {
      "text/plain": [
       "['1',\n",
       " '2',\n",
       " '3',\n",
       " '4',\n",
       " '5',\n",
       " '6',\n",
       " '7',\n",
       " '8',\n",
       " '9',\n",
       " '10',\n",
       " '11',\n",
       " '12',\n",
       " '13',\n",
       " '14',\n",
       " '15',\n",
       " '16',\n",
       " '17',\n",
       " '18',\n",
       " '19',\n",
       " '20',\n",
       " '21',\n",
       " '22',\n",
       " '23',\n",
       " '24',\n",
       " '25']"
      ]
     },
     "execution_count": 38,
     "metadata": {},
     "output_type": "execute_result"
    }
   ],
   "source": [
    "participants"
   ]
  },
  {
   "cell_type": "code",
   "execution_count": 39,
   "id": "ae40013e",
   "metadata": {},
   "outputs": [],
   "source": [
    "get_part_pat = \".+[a-z](\\d+)$\""
   ]
  },
  {
   "cell_type": "code",
   "execution_count": 40,
   "id": "aaa59105",
   "metadata": {},
   "outputs": [],
   "source": [
    "train_ds_folders = []"
   ]
  },
  {
   "cell_type": "code",
   "execution_count": 41,
   "id": "b785213d",
   "metadata": {},
   "outputs": [],
   "source": [
    "for f in session_1_folder:\n",
    "    m = re.match(get_part_pat, f)\n",
    "    if m.group(1) in participants:\n",
    "        train_ds_folders.append(f)"
   ]
  },
  {
   "cell_type": "code",
   "execution_count": 42,
   "id": "8f23815d",
   "metadata": {},
   "outputs": [
    {
     "data": {
      "text/plain": [
       "['E:\\\\DS5500-project\\\\data\\\\gesture-recognition-and-biometrics-electromyogram-grabmyo-1.0.2\\\\Session1\\\\session1_participant1',\n",
       " 'E:\\\\DS5500-project\\\\data\\\\gesture-recognition-and-biometrics-electromyogram-grabmyo-1.0.2\\\\Session1\\\\session1_participant10',\n",
       " 'E:\\\\DS5500-project\\\\data\\\\gesture-recognition-and-biometrics-electromyogram-grabmyo-1.0.2\\\\Session1\\\\session1_participant11',\n",
       " 'E:\\\\DS5500-project\\\\data\\\\gesture-recognition-and-biometrics-electromyogram-grabmyo-1.0.2\\\\Session1\\\\session1_participant12',\n",
       " 'E:\\\\DS5500-project\\\\data\\\\gesture-recognition-and-biometrics-electromyogram-grabmyo-1.0.2\\\\Session1\\\\session1_participant13',\n",
       " 'E:\\\\DS5500-project\\\\data\\\\gesture-recognition-and-biometrics-electromyogram-grabmyo-1.0.2\\\\Session1\\\\session1_participant14',\n",
       " 'E:\\\\DS5500-project\\\\data\\\\gesture-recognition-and-biometrics-electromyogram-grabmyo-1.0.2\\\\Session1\\\\session1_participant15',\n",
       " 'E:\\\\DS5500-project\\\\data\\\\gesture-recognition-and-biometrics-electromyogram-grabmyo-1.0.2\\\\Session1\\\\session1_participant16',\n",
       " 'E:\\\\DS5500-project\\\\data\\\\gesture-recognition-and-biometrics-electromyogram-grabmyo-1.0.2\\\\Session1\\\\session1_participant17',\n",
       " 'E:\\\\DS5500-project\\\\data\\\\gesture-recognition-and-biometrics-electromyogram-grabmyo-1.0.2\\\\Session1\\\\session1_participant18',\n",
       " 'E:\\\\DS5500-project\\\\data\\\\gesture-recognition-and-biometrics-electromyogram-grabmyo-1.0.2\\\\Session1\\\\session1_participant19',\n",
       " 'E:\\\\DS5500-project\\\\data\\\\gesture-recognition-and-biometrics-electromyogram-grabmyo-1.0.2\\\\Session1\\\\session1_participant2',\n",
       " 'E:\\\\DS5500-project\\\\data\\\\gesture-recognition-and-biometrics-electromyogram-grabmyo-1.0.2\\\\Session1\\\\session1_participant20',\n",
       " 'E:\\\\DS5500-project\\\\data\\\\gesture-recognition-and-biometrics-electromyogram-grabmyo-1.0.2\\\\Session1\\\\session1_participant21',\n",
       " 'E:\\\\DS5500-project\\\\data\\\\gesture-recognition-and-biometrics-electromyogram-grabmyo-1.0.2\\\\Session1\\\\session1_participant22',\n",
       " 'E:\\\\DS5500-project\\\\data\\\\gesture-recognition-and-biometrics-electromyogram-grabmyo-1.0.2\\\\Session1\\\\session1_participant23',\n",
       " 'E:\\\\DS5500-project\\\\data\\\\gesture-recognition-and-biometrics-electromyogram-grabmyo-1.0.2\\\\Session1\\\\session1_participant24',\n",
       " 'E:\\\\DS5500-project\\\\data\\\\gesture-recognition-and-biometrics-electromyogram-grabmyo-1.0.2\\\\Session1\\\\session1_participant25',\n",
       " 'E:\\\\DS5500-project\\\\data\\\\gesture-recognition-and-biometrics-electromyogram-grabmyo-1.0.2\\\\Session1\\\\session1_participant3',\n",
       " 'E:\\\\DS5500-project\\\\data\\\\gesture-recognition-and-biometrics-electromyogram-grabmyo-1.0.2\\\\Session1\\\\session1_participant4',\n",
       " 'E:\\\\DS5500-project\\\\data\\\\gesture-recognition-and-biometrics-electromyogram-grabmyo-1.0.2\\\\Session1\\\\session1_participant5',\n",
       " 'E:\\\\DS5500-project\\\\data\\\\gesture-recognition-and-biometrics-electromyogram-grabmyo-1.0.2\\\\Session1\\\\session1_participant6',\n",
       " 'E:\\\\DS5500-project\\\\data\\\\gesture-recognition-and-biometrics-electromyogram-grabmyo-1.0.2\\\\Session1\\\\session1_participant7',\n",
       " 'E:\\\\DS5500-project\\\\data\\\\gesture-recognition-and-biometrics-electromyogram-grabmyo-1.0.2\\\\Session1\\\\session1_participant8',\n",
       " 'E:\\\\DS5500-project\\\\data\\\\gesture-recognition-and-biometrics-electromyogram-grabmyo-1.0.2\\\\Session1\\\\session1_participant9']"
      ]
     },
     "execution_count": 42,
     "metadata": {},
     "output_type": "execute_result"
    }
   ],
   "source": [
    "train_ds_folders"
   ]
  },
  {
   "cell_type": "code",
   "execution_count": 43,
   "id": "86829457",
   "metadata": {},
   "outputs": [],
   "source": [
    "ops = Ops([\n",
    "    mean, std, \n",
    "    min_feature,\n",
    "    max_feature, peak,\n",
    "    mav, form_factor,\n",
    "    pulse_indicator, mean_f,\n",
    "    std_f, max_f, min_f\n",
    "])"
   ]
  },
  {
   "cell_type": "code",
   "execution_count": 118,
   "id": "95495f2c",
   "metadata": {},
   "outputs": [],
   "source": [
    "#This must be a folder\n",
    "train_ds = FileDataset(folder_list=train_ds_folders, transforms=ops)"
   ]
  },
  {
   "cell_type": "code",
   "execution_count": 119,
   "id": "562a05c5",
   "metadata": {},
   "outputs": [],
   "source": [
    "train_dl = DataLoader(train_ds, batch_size=32, shuffle=True) "
   ]
  },
  {
   "cell_type": "code",
   "execution_count": 48,
   "id": "e3797af5",
   "metadata": {
    "scrolled": true
   },
   "outputs": [
    {
     "name": "stdout",
     "output_type": "stream",
     "text": [
      "<class 'torch.Tensor'>\n",
      "<class 'torch.Tensor'>\n",
      "<class 'torch.Tensor'>\n",
      "<class 'torch.Tensor'>\n",
      "<class 'torch.Tensor'>\n",
      "<class 'torch.Tensor'>\n",
      "<class 'torch.Tensor'>\n",
      "<class 'torch.Tensor'>\n",
      "<class 'torch.Tensor'>\n",
      "<class 'torch.Tensor'>\n",
      "<class 'torch.Tensor'>\n",
      "<class 'torch.Tensor'>\n",
      "<class 'torch.Tensor'>\n",
      "<class 'torch.Tensor'>\n",
      "<class 'torch.Tensor'>\n",
      "<class 'torch.Tensor'>\n",
      "<class 'torch.Tensor'>\n",
      "<class 'torch.Tensor'>\n",
      "<class 'torch.Tensor'>\n",
      "<class 'torch.Tensor'>\n",
      "<class 'torch.Tensor'>\n",
      "<class 'torch.Tensor'>\n",
      "<class 'torch.Tensor'>\n",
      "<class 'torch.Tensor'>\n",
      "<class 'torch.Tensor'>\n",
      "<class 'torch.Tensor'>\n",
      "<class 'torch.Tensor'>\n",
      "<class 'torch.Tensor'>\n",
      "<class 'torch.Tensor'>\n",
      "<class 'torch.Tensor'>\n",
      "<class 'torch.Tensor'>\n",
      "<class 'torch.Tensor'>\n",
      "<class 'torch.Tensor'>\n",
      "<class 'torch.Tensor'>\n",
      "<class 'torch.Tensor'>\n",
      "<class 'torch.Tensor'>\n",
      "<class 'torch.Tensor'>\n",
      "<class 'torch.Tensor'>\n",
      "<class 'torch.Tensor'>\n",
      "<class 'torch.Tensor'>\n",
      "<class 'torch.Tensor'>\n",
      "<class 'torch.Tensor'>\n",
      "<class 'torch.Tensor'>\n",
      "<class 'torch.Tensor'>\n",
      "<class 'torch.Tensor'>\n",
      "<class 'torch.Tensor'>\n",
      "<class 'torch.Tensor'>\n",
      "<class 'torch.Tensor'>\n",
      "<class 'torch.Tensor'>\n",
      "<class 'torch.Tensor'>\n",
      "<class 'torch.Tensor'>\n",
      "<class 'torch.Tensor'>\n",
      "<class 'torch.Tensor'>\n",
      "<class 'torch.Tensor'>\n",
      "<class 'torch.Tensor'>\n",
      "<class 'torch.Tensor'>\n",
      "<class 'torch.Tensor'>\n",
      "<class 'torch.Tensor'>\n",
      "<class 'torch.Tensor'>\n",
      "<class 'torch.Tensor'>\n",
      "<class 'torch.Tensor'>\n",
      "<class 'torch.Tensor'>\n",
      "<class 'torch.Tensor'>\n",
      "<class 'torch.Tensor'>\n",
      "<class 'torch.Tensor'>\n",
      "<class 'torch.Tensor'>\n",
      "<class 'torch.Tensor'>\n",
      "<class 'torch.Tensor'>\n",
      "<class 'torch.Tensor'>\n",
      "<class 'torch.Tensor'>\n",
      "<class 'torch.Tensor'>\n",
      "<class 'torch.Tensor'>\n",
      "<class 'torch.Tensor'>\n",
      "<class 'torch.Tensor'>\n",
      "<class 'torch.Tensor'>\n",
      "<class 'torch.Tensor'>\n",
      "<class 'torch.Tensor'>\n",
      "<class 'torch.Tensor'>\n",
      "<class 'torch.Tensor'>\n",
      "<class 'torch.Tensor'>\n",
      "<class 'torch.Tensor'>\n",
      "<class 'torch.Tensor'>\n",
      "<class 'torch.Tensor'>\n",
      "<class 'torch.Tensor'>\n",
      "<class 'torch.Tensor'>\n",
      "<class 'torch.Tensor'>\n",
      "<class 'torch.Tensor'>\n",
      "<class 'torch.Tensor'>\n",
      "<class 'torch.Tensor'>\n",
      "<class 'torch.Tensor'>\n",
      "<class 'torch.Tensor'>\n",
      "<class 'torch.Tensor'>\n",
      "<class 'torch.Tensor'>\n",
      "173.26567554473877\n"
     ]
    }
   ],
   "source": [
    "start = time.time()\n",
    "c = 0\n",
    "for data, label in train_dl:\n",
    "#     print(data.shape)\n",
    "#     print(label.shape)\n",
    "    print(type(label))\n",
    "    c+=1\n",
    "    \n",
    "print(time.time() - start)"
   ]
  },
  {
   "cell_type": "markdown",
   "id": "5332d1c6",
   "metadata": {},
   "source": [
    "## Test Machine Learning Model"
   ]
  },
  {
   "cell_type": "code",
   "execution_count": 163,
   "id": "a92ac8e3",
   "metadata": {},
   "outputs": [
    {
     "data": {
      "text/plain": [
       "<module 'simple_nets' from 'E:\\\\DS5500-project\\\\DL\\\\simple_nets.py'>"
      ]
     },
     "execution_count": 163,
     "metadata": {},
     "output_type": "execute_result"
    }
   ],
   "source": [
    "importlib.reload(simple_nets)"
   ]
  },
  {
   "cell_type": "code",
   "execution_count": 164,
   "id": "e5539a81",
   "metadata": {},
   "outputs": [],
   "source": [
    "import simple_nets\n",
    "from simple_nets import SimpleFCNet"
   ]
  },
  {
   "cell_type": "code",
   "execution_count": 165,
   "id": "39ecf8dd",
   "metadata": {},
   "outputs": [],
   "source": [
    "from torchsummary import summary"
   ]
  },
  {
   "cell_type": "code",
   "execution_count": 166,
   "id": "6a8cf89b",
   "metadata": {},
   "outputs": [
    {
     "data": {
      "text/plain": [
       "tensor([ 6, 16, 10,  2,  9, 17,  3, 15,  3, 11,  5, 11,  7,  4,  3,  9,  5, 13,\n",
       "        14,  9,  1, 10,  6,  9, 15,  7,  7,  5, 10,  7, 15])"
      ]
     },
     "execution_count": 166,
     "metadata": {},
     "output_type": "execute_result"
    }
   ],
   "source": [
    "label"
   ]
  },
  {
   "cell_type": "code",
   "execution_count": 167,
   "id": "0dc0aaaa",
   "metadata": {},
   "outputs": [
    {
     "data": {
      "text/plain": [
       "336"
      ]
     },
     "execution_count": 167,
     "metadata": {},
     "output_type": "execute_result"
    }
   ],
   "source": [
    "data.shape[1]"
   ]
  },
  {
   "cell_type": "code",
   "execution_count": 171,
   "id": "578e33ae",
   "metadata": {},
   "outputs": [],
   "source": [
    "model = SimpleFCNet(data.shape[1], 18, apply_log_softmax=False)"
   ]
  },
  {
   "cell_type": "code",
   "execution_count": 172,
   "id": "60b64ee8",
   "metadata": {},
   "outputs": [
    {
     "name": "stdout",
     "output_type": "stream",
     "text": [
      "----------------------------------------------------------------\n",
      "        Layer (type)               Output Shape         Param #\n",
      "================================================================\n",
      "            Linear-1              [-1, 32, 128]          43,136\n",
      "            Linear-2              [-1, 32, 256]          33,024\n",
      "            Linear-3              [-1, 32, 128]          32,896\n",
      "            Linear-4               [-1, 32, 18]           2,322\n",
      "================================================================\n",
      "Total params: 111,378\n",
      "Trainable params: 111,378\n",
      "Non-trainable params: 0\n",
      "----------------------------------------------------------------\n",
      "Input size (MB): 0.04\n",
      "Forward/backward pass size (MB): 0.13\n",
      "Params size (MB): 0.42\n",
      "Estimated Total Size (MB): 0.60\n",
      "----------------------------------------------------------------\n"
     ]
    }
   ],
   "source": [
    "summary(model,(32, data.shape[1]))"
   ]
  },
  {
   "cell_type": "code",
   "execution_count": 173,
   "id": "1532eefe",
   "metadata": {},
   "outputs": [],
   "source": [
    "criterion = torch.nn.CrossEntropyLoss()"
   ]
  },
  {
   "cell_type": "code",
   "execution_count": 174,
   "id": "d6f5c81b",
   "metadata": {},
   "outputs": [],
   "source": [
    "optimizer = torch.optim.Adam(model.parameters(), lr = 0.01)"
   ]
  },
  {
   "cell_type": "code",
   "execution_count": 175,
   "id": "3d8c6840",
   "metadata": {},
   "outputs": [],
   "source": [
    "val_interval = 2\n",
    "num_epochs = 10"
   ]
  },
  {
   "cell_type": "code",
   "execution_count": 176,
   "id": "4992e56b",
   "metadata": {},
   "outputs": [],
   "source": [
    "train_losses = []\n",
    "val_losses = []\n",
    "accuracies = []"
   ]
  },
  {
   "cell_type": "code",
   "execution_count": 178,
   "id": "ceb1cebc",
   "metadata": {},
   "outputs": [],
   "source": [
    "t = torch.randint(0, 18, (32,))\n",
    "i = torch.rand((32, 18))"
   ]
  },
  {
   "cell_type": "code",
   "execution_count": 179,
   "id": "d2d169ee",
   "metadata": {},
   "outputs": [
    {
     "data": {
      "text/plain": [
       "tensor([14,  9, 14, 12,  0,  5,  4, 15, 10, 10,  8,  4, 16, 10,  8, 16,  5,  6,\n",
       "        10, 11, 13, 17,  6,  8, 11, 17,  1,  9, 12,  7,  3, 11])"
      ]
     },
     "execution_count": 179,
     "metadata": {},
     "output_type": "execute_result"
    }
   ],
   "source": [
    "t"
   ]
  },
  {
   "cell_type": "code",
   "execution_count": 181,
   "id": "0054d940",
   "metadata": {},
   "outputs": [
    {
     "data": {
      "text/plain": [
       "torch.Size([32, 18])"
      ]
     },
     "execution_count": 181,
     "metadata": {},
     "output_type": "execute_result"
    }
   ],
   "source": [
    "i.shape"
   ]
  },
  {
   "cell_type": "code",
   "execution_count": 185,
   "id": "ccb811a9",
   "metadata": {},
   "outputs": [],
   "source": [
    "l = criterion(i, batch_target)"
   ]
  },
  {
   "cell_type": "code",
   "execution_count": 188,
   "id": "6469ccf7",
   "metadata": {},
   "outputs": [
    {
     "data": {
      "text/plain": [
       "tensor([ 7, 15, 16, 11, 14, 12,  2,  1,  4, 10, 12,  2,  7, 13,  9,  1,  1,  8,\n",
       "         1, 12, 15,  2,  9, 13, 13, 10, 14,  6,  3, 15,  9,  3])"
      ]
     },
     "execution_count": 188,
     "metadata": {},
     "output_type": "execute_result"
    }
   ],
   "source": [
    "batch_target "
   ]
  },
  {
   "cell_type": "code",
   "execution_count": 189,
   "id": "21e1d427",
   "metadata": {},
   "outputs": [
    {
     "data": {
      "text/plain": [
       "tensor(2.9800)"
      ]
     },
     "execution_count": 189,
     "metadata": {},
     "output_type": "execute_result"
    }
   ],
   "source": [
    "l"
   ]
  },
  {
   "cell_type": "code",
   "execution_count": 190,
   "id": "9c25de69",
   "metadata": {},
   "outputs": [],
   "source": [
    "from tqdm import tqdm"
   ]
  },
  {
   "cell_type": "code",
   "execution_count": 191,
   "id": "ea53c034",
   "metadata": {},
   "outputs": [
    {
     "name": "stdout",
     "output_type": "stream",
     "text": [
      "------------Epoch 1-------------\n"
     ]
    },
    {
     "name": "stderr",
     "output_type": "stream",
     "text": [
      "100%|██████████████████████████████████████████████████████████████████████████████████| 93/93 [03:01<00:00,  1.95s/it]\n"
     ]
    },
    {
     "name": "stdout",
     "output_type": "stream",
     "text": [
      "Epoch [1/10] - Train Loss: 1512.0547\n",
      "------------Epoch 2-------------\n"
     ]
    },
    {
     "name": "stderr",
     "output_type": "stream",
     "text": [
      "100%|██████████████████████████████████████████████████████████████████████████████████| 93/93 [03:14<00:00,  2.09s/it]\n"
     ]
    },
    {
     "name": "stdout",
     "output_type": "stream",
     "text": [
      "Epoch [2/10] - Train Loss: 2.8951\n",
      "------------Epoch 3-------------\n"
     ]
    },
    {
     "name": "stderr",
     "output_type": "stream",
     "text": [
      "100%|██████████████████████████████████████████████████████████████████████████████████| 93/93 [03:10<00:00,  2.05s/it]\n"
     ]
    },
    {
     "name": "stdout",
     "output_type": "stream",
     "text": [
      "Epoch [3/10] - Train Loss: 2.8433\n",
      "------------Epoch 4-------------\n"
     ]
    },
    {
     "name": "stderr",
     "output_type": "stream",
     "text": [
      "100%|██████████████████████████████████████████████████████████████████████████████████| 93/93 [03:07<00:00,  2.02s/it]\n"
     ]
    },
    {
     "name": "stdout",
     "output_type": "stream",
     "text": [
      "Epoch [4/10] - Train Loss: 2.8402\n",
      "------------Epoch 5-------------\n"
     ]
    },
    {
     "name": "stderr",
     "output_type": "stream",
     "text": [
      "100%|██████████████████████████████████████████████████████████████████████████████████| 93/93 [03:08<00:00,  2.02s/it]\n"
     ]
    },
    {
     "name": "stdout",
     "output_type": "stream",
     "text": [
      "Epoch [5/10] - Train Loss: 2.8387\n",
      "------------Epoch 6-------------\n"
     ]
    },
    {
     "name": "stderr",
     "output_type": "stream",
     "text": [
      "100%|██████████████████████████████████████████████████████████████████████████████████| 93/93 [03:04<00:00,  1.98s/it]\n"
     ]
    },
    {
     "name": "stdout",
     "output_type": "stream",
     "text": [
      "Epoch [6/10] - Train Loss: 2.8374\n",
      "------------Epoch 7-------------\n"
     ]
    },
    {
     "name": "stderr",
     "output_type": "stream",
     "text": [
      "100%|██████████████████████████████████████████████████████████████████████████████████| 93/93 [02:50<00:00,  1.83s/it]\n"
     ]
    },
    {
     "name": "stdout",
     "output_type": "stream",
     "text": [
      "Epoch [7/10] - Train Loss: 2.8371\n",
      "------------Epoch 8-------------\n"
     ]
    },
    {
     "name": "stderr",
     "output_type": "stream",
     "text": [
      "100%|██████████████████████████████████████████████████████████████████████████████████| 93/93 [02:36<00:00,  1.68s/it]\n"
     ]
    },
    {
     "name": "stdout",
     "output_type": "stream",
     "text": [
      "Epoch [8/10] - Train Loss: 2.8364\n",
      "------------Epoch 9-------------\n"
     ]
    },
    {
     "name": "stderr",
     "output_type": "stream",
     "text": [
      "100%|██████████████████████████████████████████████████████████████████████████████████| 93/93 [03:05<00:00,  1.99s/it]\n"
     ]
    },
    {
     "name": "stdout",
     "output_type": "stream",
     "text": [
      "Epoch [9/10] - Train Loss: 2.8360\n",
      "------------Epoch 10-------------\n"
     ]
    },
    {
     "name": "stderr",
     "output_type": "stream",
     "text": [
      "100%|██████████████████████████████████████████████████████████████████████████████████| 93/93 [03:04<00:00,  1.98s/it]\n"
     ]
    },
    {
     "name": "stdout",
     "output_type": "stream",
     "text": [
      "Epoch [10/10] - Train Loss: 2.8359\n"
     ]
    }
   ],
   "source": [
    "for epoch in range(1, num_epochs + 1):\n",
    "    model.train()\n",
    "    total_train_loss = 0\n",
    "    print(f\"------------Epoch {epoch}-------------\")\n",
    "    for batch_data, batch_target in tqdm(train_dl):\n",
    "        optimizer.zero_grad()\n",
    "        batch_target = batch_target - 1\n",
    "        predictions = model(batch_data)\n",
    "        loss = criterion(predictions, batch_target)\n",
    "        loss.backward()\n",
    "        optimizer.step()\n",
    "        total_train_loss += loss.item()\n",
    "\n",
    "    average_train_loss = total_train_loss / len(train_dl)\n",
    "    train_losses.append(average_train_loss)\n",
    "\n",
    "    if epoch % val_interval == 0:\n",
    "        model.eval()\n",
    "        total_val_loss = 0\n",
    "        all_preds = torch.tensor([])\n",
    "        all_batch = torch.tensor([])\n",
    "        with torch.no_grad():\n",
    "            for batch_data, batch_target in train_dl:\n",
    "                batch_target = batch_target - 1\n",
    "                predictions = model(batch_data)\n",
    "                int_pred = torch.argmax(predictions, dim = 1)\n",
    "                all_preds = torch.hstack([all_preds, int_pred])\n",
    "                all_batch = torch.hstack([all_batch, batch_target])\n",
    "                loss = criterion(predictions, batch_target)\n",
    "                total_val_loss += loss.item()\n",
    "            accuracies.append(sum(all_batch==all_preds) / len(all_batch)) \n",
    "\n",
    "        average_val_loss = total_val_loss / len(train_dl)\n",
    "        val_losses.append(average_val_loss)\n",
    "\n",
    "    print(f'Epoch [{epoch}/{num_epochs}] - Train Loss: {average_train_loss:.4f}')"
   ]
  },
  {
   "cell_type": "code",
   "execution_count": 192,
   "id": "941258e5",
   "metadata": {},
   "outputs": [
    {
     "data": {
      "text/plain": [
       "[tensor(0.0595),\n",
       " tensor(0.0588),\n",
       " tensor(0.0585),\n",
       " tensor(0.0602),\n",
       " tensor(0.0588)]"
      ]
     },
     "execution_count": 192,
     "metadata": {},
     "output_type": "execute_result"
    }
   ],
   "source": [
    "accuracies"
   ]
  },
  {
   "cell_type": "code",
   "execution_count": 155,
   "id": "002bf58c",
   "metadata": {},
   "outputs": [
    {
     "data": {
      "text/plain": [
       "tensor([3., 3., 3.,  ..., 3., 3., 3.])"
      ]
     },
     "execution_count": 155,
     "metadata": {},
     "output_type": "execute_result"
    }
   ],
   "source": [
    "all_preds"
   ]
  },
  {
   "cell_type": "code",
   "execution_count": 69,
   "id": "00a0df93",
   "metadata": {},
   "outputs": [
    {
     "data": {
      "text/plain": [
       "tensor([ 6,  5, 16,  0,  2,  4, 10,  6,  2,  4, 11,  7, 14,  7, 15, 12, 15,  6,\n",
       "        14,  7, 16, 13,  3,  3, 10,  7,  7, 16,  1, 16, 13,  5])"
      ]
     },
     "execution_count": 69,
     "metadata": {},
     "output_type": "execute_result"
    }
   ],
   "source": [
    "batch_target"
   ]
  },
  {
   "cell_type": "code",
   "execution_count": 70,
   "id": "99f35f53",
   "metadata": {},
   "outputs": [
    {
     "data": {
      "text/plain": [
       "336"
      ]
     },
     "execution_count": 70,
     "metadata": {},
     "output_type": "execute_result"
    }
   ],
   "source": [
    "model.num_input"
   ]
  },
  {
   "cell_type": "code",
   "execution_count": 110,
   "id": "d00c541a",
   "metadata": {},
   "outputs": [
    {
     "data": {
      "text/plain": [
       "torch.int64"
      ]
     },
     "execution_count": 110,
     "metadata": {},
     "output_type": "execute_result"
    }
   ],
   "source": [
    "batch_target.dtype"
   ]
  },
  {
   "cell_type": "code",
   "execution_count": 109,
   "id": "31955f37",
   "metadata": {},
   "outputs": [
    {
     "data": {
      "text/plain": [
       "torch.float32"
      ]
     },
     "execution_count": 109,
     "metadata": {},
     "output_type": "execute_result"
    }
   ],
   "source": [
    "model.l1.weight.dtype"
   ]
  },
  {
   "cell_type": "code",
   "execution_count": 139,
   "id": "d7843089",
   "metadata": {},
   "outputs": [
    {
     "data": {
      "text/plain": [
       "tensor([ 2,  2,  2, 12,  2,  2,  3,  2,  2,  2,  3,  2,  2,  2,  2,  3,  3,  2,\n",
       "         2,  2,  2,  5,  2,  2,  2,  2,  2,  3,  2,  2,  2])"
      ]
     },
     "execution_count": 139,
     "metadata": {},
     "output_type": "execute_result"
    }
   ],
   "source": [
    "torch.argmax(predictions, dim = 1)"
   ]
  },
  {
   "cell_type": "code",
   "execution_count": null,
   "id": "22cb12e6",
   "metadata": {},
   "outputs": [],
   "source": []
  }
 ],
 "metadata": {
  "kernelspec": {
   "display_name": "Python 3 (ipykernel)",
   "language": "python",
   "name": "python3"
  },
  "language_info": {
   "codemirror_mode": {
    "name": "ipython",
    "version": 3
   },
   "file_extension": ".py",
   "mimetype": "text/x-python",
   "name": "python",
   "nbconvert_exporter": "python",
   "pygments_lexer": "ipython3",
   "version": "3.9.7"
  }
 },
 "nbformat": 4,
 "nbformat_minor": 5
}
