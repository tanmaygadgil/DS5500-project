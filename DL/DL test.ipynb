{
 "cells": [
  {
   "cell_type": "code",
   "execution_count": 111,
   "id": "63146e54",
   "metadata": {},
   "outputs": [],
   "source": [
    "import torch\n",
    "\n",
    "import os\n",
    "import re\n",
    "import sys"
   ]
  },
  {
   "cell_type": "code",
   "execution_count": 112,
   "id": "dddc20f5",
   "metadata": {},
   "outputs": [],
   "source": [
    "import time"
   ]
  },
  {
   "cell_type": "code",
   "execution_count": 113,
   "id": "941e0a43",
   "metadata": {},
   "outputs": [],
   "source": [
    "import importlib"
   ]
  },
  {
   "cell_type": "code",
   "execution_count": 114,
   "id": "735ca1d1",
   "metadata": {},
   "outputs": [],
   "source": [
    "from torch.utils.data import DataLoader"
   ]
  },
  {
   "cell_type": "code",
   "execution_count": 115,
   "id": "082a91ce",
   "metadata": {},
   "outputs": [],
   "source": [
    "from feature_ops import *"
   ]
  },
  {
   "cell_type": "code",
   "execution_count": 116,
   "id": "31f5d553",
   "metadata": {},
   "outputs": [
    {
     "data": {
      "text/plain": [
       "<module 'data_utils' from 'E:\\\\DS5500-project\\\\DL\\\\data_utils.py'>"
      ]
     },
     "execution_count": 116,
     "metadata": {},
     "output_type": "execute_result"
    }
   ],
   "source": [
    "importlib.reload(data_utils)"
   ]
  },
  {
   "cell_type": "code",
   "execution_count": 117,
   "id": "40746b49",
   "metadata": {},
   "outputs": [],
   "source": [
    "import data_utils\n",
    "from data_utils import FileDataset, Ops"
   ]
  },
  {
   "cell_type": "code",
   "execution_count": 5,
   "id": "39b76118",
   "metadata": {},
   "outputs": [],
   "source": [
    "session1 = os.path.abspath(\"../data/gesture-recognition-and-biometrics-electromyogram-grabmyo-1.0.2/Session1/\")\n",
    "session2 = os.path.abspath(\"../data/gesture-recognition-and-biometrics-electromyogram-grabmyo-1.0.2/Session2/\")\n",
    "session3 = os.path.abspath(\"../data/gesture-recognition-and-biometrics-electromyogram-grabmyo-1.0.2/Session3/\")"
   ]
  },
  {
   "cell_type": "code",
   "execution_count": 6,
   "id": "9e8017c0",
   "metadata": {},
   "outputs": [],
   "source": [
    "session_1_folder = [os.path.join(session1, f) for f in os.listdir(session1)]"
   ]
  },
  {
   "cell_type": "code",
   "execution_count": 7,
   "id": "64c38cf6",
   "metadata": {
    "scrolled": true
   },
   "outputs": [
    {
     "data": {
      "text/plain": [
       "['E:\\\\DS5500-project\\\\data\\\\gesture-recognition-and-biometrics-electromyogram-grabmyo-1.0.2\\\\Session1\\\\session1_participant1',\n",
       " 'E:\\\\DS5500-project\\\\data\\\\gesture-recognition-and-biometrics-electromyogram-grabmyo-1.0.2\\\\Session1\\\\session1_participant10',\n",
       " 'E:\\\\DS5500-project\\\\data\\\\gesture-recognition-and-biometrics-electromyogram-grabmyo-1.0.2\\\\Session1\\\\session1_participant11',\n",
       " 'E:\\\\DS5500-project\\\\data\\\\gesture-recognition-and-biometrics-electromyogram-grabmyo-1.0.2\\\\Session1\\\\session1_participant12',\n",
       " 'E:\\\\DS5500-project\\\\data\\\\gesture-recognition-and-biometrics-electromyogram-grabmyo-1.0.2\\\\Session1\\\\session1_participant13',\n",
       " 'E:\\\\DS5500-project\\\\data\\\\gesture-recognition-and-biometrics-electromyogram-grabmyo-1.0.2\\\\Session1\\\\session1_participant14',\n",
       " 'E:\\\\DS5500-project\\\\data\\\\gesture-recognition-and-biometrics-electromyogram-grabmyo-1.0.2\\\\Session1\\\\session1_participant15',\n",
       " 'E:\\\\DS5500-project\\\\data\\\\gesture-recognition-and-biometrics-electromyogram-grabmyo-1.0.2\\\\Session1\\\\session1_participant16',\n",
       " 'E:\\\\DS5500-project\\\\data\\\\gesture-recognition-and-biometrics-electromyogram-grabmyo-1.0.2\\\\Session1\\\\session1_participant17',\n",
       " 'E:\\\\DS5500-project\\\\data\\\\gesture-recognition-and-biometrics-electromyogram-grabmyo-1.0.2\\\\Session1\\\\session1_participant18',\n",
       " 'E:\\\\DS5500-project\\\\data\\\\gesture-recognition-and-biometrics-electromyogram-grabmyo-1.0.2\\\\Session1\\\\session1_participant19',\n",
       " 'E:\\\\DS5500-project\\\\data\\\\gesture-recognition-and-biometrics-electromyogram-grabmyo-1.0.2\\\\Session1\\\\session1_participant2',\n",
       " 'E:\\\\DS5500-project\\\\data\\\\gesture-recognition-and-biometrics-electromyogram-grabmyo-1.0.2\\\\Session1\\\\session1_participant20',\n",
       " 'E:\\\\DS5500-project\\\\data\\\\gesture-recognition-and-biometrics-electromyogram-grabmyo-1.0.2\\\\Session1\\\\session1_participant21',\n",
       " 'E:\\\\DS5500-project\\\\data\\\\gesture-recognition-and-biometrics-electromyogram-grabmyo-1.0.2\\\\Session1\\\\session1_participant22',\n",
       " 'E:\\\\DS5500-project\\\\data\\\\gesture-recognition-and-biometrics-electromyogram-grabmyo-1.0.2\\\\Session1\\\\session1_participant23',\n",
       " 'E:\\\\DS5500-project\\\\data\\\\gesture-recognition-and-biometrics-electromyogram-grabmyo-1.0.2\\\\Session1\\\\session1_participant24',\n",
       " 'E:\\\\DS5500-project\\\\data\\\\gesture-recognition-and-biometrics-electromyogram-grabmyo-1.0.2\\\\Session1\\\\session1_participant25',\n",
       " 'E:\\\\DS5500-project\\\\data\\\\gesture-recognition-and-biometrics-electromyogram-grabmyo-1.0.2\\\\Session1\\\\session1_participant26',\n",
       " 'E:\\\\DS5500-project\\\\data\\\\gesture-recognition-and-biometrics-electromyogram-grabmyo-1.0.2\\\\Session1\\\\session1_participant27',\n",
       " 'E:\\\\DS5500-project\\\\data\\\\gesture-recognition-and-biometrics-electromyogram-grabmyo-1.0.2\\\\Session1\\\\session1_participant28',\n",
       " 'E:\\\\DS5500-project\\\\data\\\\gesture-recognition-and-biometrics-electromyogram-grabmyo-1.0.2\\\\Session1\\\\session1_participant29',\n",
       " 'E:\\\\DS5500-project\\\\data\\\\gesture-recognition-and-biometrics-electromyogram-grabmyo-1.0.2\\\\Session1\\\\session1_participant3',\n",
       " 'E:\\\\DS5500-project\\\\data\\\\gesture-recognition-and-biometrics-electromyogram-grabmyo-1.0.2\\\\Session1\\\\session1_participant30',\n",
       " 'E:\\\\DS5500-project\\\\data\\\\gesture-recognition-and-biometrics-electromyogram-grabmyo-1.0.2\\\\Session1\\\\session1_participant31',\n",
       " 'E:\\\\DS5500-project\\\\data\\\\gesture-recognition-and-biometrics-electromyogram-grabmyo-1.0.2\\\\Session1\\\\session1_participant32',\n",
       " 'E:\\\\DS5500-project\\\\data\\\\gesture-recognition-and-biometrics-electromyogram-grabmyo-1.0.2\\\\Session1\\\\session1_participant33',\n",
       " 'E:\\\\DS5500-project\\\\data\\\\gesture-recognition-and-biometrics-electromyogram-grabmyo-1.0.2\\\\Session1\\\\session1_participant34',\n",
       " 'E:\\\\DS5500-project\\\\data\\\\gesture-recognition-and-biometrics-electromyogram-grabmyo-1.0.2\\\\Session1\\\\session1_participant35',\n",
       " 'E:\\\\DS5500-project\\\\data\\\\gesture-recognition-and-biometrics-electromyogram-grabmyo-1.0.2\\\\Session1\\\\session1_participant36',\n",
       " 'E:\\\\DS5500-project\\\\data\\\\gesture-recognition-and-biometrics-electromyogram-grabmyo-1.0.2\\\\Session1\\\\session1_participant37',\n",
       " 'E:\\\\DS5500-project\\\\data\\\\gesture-recognition-and-biometrics-electromyogram-grabmyo-1.0.2\\\\Session1\\\\session1_participant38',\n",
       " 'E:\\\\DS5500-project\\\\data\\\\gesture-recognition-and-biometrics-electromyogram-grabmyo-1.0.2\\\\Session1\\\\session1_participant39',\n",
       " 'E:\\\\DS5500-project\\\\data\\\\gesture-recognition-and-biometrics-electromyogram-grabmyo-1.0.2\\\\Session1\\\\session1_participant4',\n",
       " 'E:\\\\DS5500-project\\\\data\\\\gesture-recognition-and-biometrics-electromyogram-grabmyo-1.0.2\\\\Session1\\\\session1_participant40',\n",
       " 'E:\\\\DS5500-project\\\\data\\\\gesture-recognition-and-biometrics-electromyogram-grabmyo-1.0.2\\\\Session1\\\\session1_participant41',\n",
       " 'E:\\\\DS5500-project\\\\data\\\\gesture-recognition-and-biometrics-electromyogram-grabmyo-1.0.2\\\\Session1\\\\session1_participant42',\n",
       " 'E:\\\\DS5500-project\\\\data\\\\gesture-recognition-and-biometrics-electromyogram-grabmyo-1.0.2\\\\Session1\\\\session1_participant43',\n",
       " 'E:\\\\DS5500-project\\\\data\\\\gesture-recognition-and-biometrics-electromyogram-grabmyo-1.0.2\\\\Session1\\\\session1_participant5',\n",
       " 'E:\\\\DS5500-project\\\\data\\\\gesture-recognition-and-biometrics-electromyogram-grabmyo-1.0.2\\\\Session1\\\\session1_participant6',\n",
       " 'E:\\\\DS5500-project\\\\data\\\\gesture-recognition-and-biometrics-electromyogram-grabmyo-1.0.2\\\\Session1\\\\session1_participant7',\n",
       " 'E:\\\\DS5500-project\\\\data\\\\gesture-recognition-and-biometrics-electromyogram-grabmyo-1.0.2\\\\Session1\\\\session1_participant8',\n",
       " 'E:\\\\DS5500-project\\\\data\\\\gesture-recognition-and-biometrics-electromyogram-grabmyo-1.0.2\\\\Session1\\\\session1_participant9']"
      ]
     },
     "execution_count": 7,
     "metadata": {},
     "output_type": "execute_result"
    }
   ],
   "source": [
    "session_1_folder"
   ]
  },
  {
   "cell_type": "code",
   "execution_count": 37,
   "id": "701481c6",
   "metadata": {},
   "outputs": [],
   "source": [
    "participants = [str(i+1) for i in range(25)]"
   ]
  },
  {
   "cell_type": "code",
   "execution_count": 38,
   "id": "c1d7f090",
   "metadata": {
    "scrolled": true
   },
   "outputs": [
    {
     "data": {
      "text/plain": [
       "['1',\n",
       " '2',\n",
       " '3',\n",
       " '4',\n",
       " '5',\n",
       " '6',\n",
       " '7',\n",
       " '8',\n",
       " '9',\n",
       " '10',\n",
       " '11',\n",
       " '12',\n",
       " '13',\n",
       " '14',\n",
       " '15',\n",
       " '16',\n",
       " '17',\n",
       " '18',\n",
       " '19',\n",
       " '20',\n",
       " '21',\n",
       " '22',\n",
       " '23',\n",
       " '24',\n",
       " '25']"
      ]
     },
     "execution_count": 38,
     "metadata": {},
     "output_type": "execute_result"
    }
   ],
   "source": [
    "participants"
   ]
  },
  {
   "cell_type": "code",
   "execution_count": 39,
   "id": "179bef18",
   "metadata": {},
   "outputs": [],
   "source": [
    "get_part_pat = \".+[a-z](\\d+)$\""
   ]
  },
  {
   "cell_type": "code",
   "execution_count": 40,
   "id": "d53ff72c",
   "metadata": {},
   "outputs": [],
   "source": [
    "train_ds_folders = []"
   ]
  },
  {
   "cell_type": "code",
   "execution_count": 41,
   "id": "d6ecd076",
   "metadata": {},
   "outputs": [],
   "source": [
    "for f in session_1_folder:\n",
    "    m = re.match(get_part_pat, f)\n",
    "    if m.group(1) in participants:\n",
    "        train_ds_folders.append(f)"
   ]
  },
  {
   "cell_type": "code",
   "execution_count": 42,
   "id": "8f6cf597",
   "metadata": {},
   "outputs": [
    {
     "data": {
      "text/plain": [
       "['E:\\\\DS5500-project\\\\data\\\\gesture-recognition-and-biometrics-electromyogram-grabmyo-1.0.2\\\\Session1\\\\session1_participant1',\n",
       " 'E:\\\\DS5500-project\\\\data\\\\gesture-recognition-and-biometrics-electromyogram-grabmyo-1.0.2\\\\Session1\\\\session1_participant10',\n",
       " 'E:\\\\DS5500-project\\\\data\\\\gesture-recognition-and-biometrics-electromyogram-grabmyo-1.0.2\\\\Session1\\\\session1_participant11',\n",
       " 'E:\\\\DS5500-project\\\\data\\\\gesture-recognition-and-biometrics-electromyogram-grabmyo-1.0.2\\\\Session1\\\\session1_participant12',\n",
       " 'E:\\\\DS5500-project\\\\data\\\\gesture-recognition-and-biometrics-electromyogram-grabmyo-1.0.2\\\\Session1\\\\session1_participant13',\n",
       " 'E:\\\\DS5500-project\\\\data\\\\gesture-recognition-and-biometrics-electromyogram-grabmyo-1.0.2\\\\Session1\\\\session1_participant14',\n",
       " 'E:\\\\DS5500-project\\\\data\\\\gesture-recognition-and-biometrics-electromyogram-grabmyo-1.0.2\\\\Session1\\\\session1_participant15',\n",
       " 'E:\\\\DS5500-project\\\\data\\\\gesture-recognition-and-biometrics-electromyogram-grabmyo-1.0.2\\\\Session1\\\\session1_participant16',\n",
       " 'E:\\\\DS5500-project\\\\data\\\\gesture-recognition-and-biometrics-electromyogram-grabmyo-1.0.2\\\\Session1\\\\session1_participant17',\n",
       " 'E:\\\\DS5500-project\\\\data\\\\gesture-recognition-and-biometrics-electromyogram-grabmyo-1.0.2\\\\Session1\\\\session1_participant18',\n",
       " 'E:\\\\DS5500-project\\\\data\\\\gesture-recognition-and-biometrics-electromyogram-grabmyo-1.0.2\\\\Session1\\\\session1_participant19',\n",
       " 'E:\\\\DS5500-project\\\\data\\\\gesture-recognition-and-biometrics-electromyogram-grabmyo-1.0.2\\\\Session1\\\\session1_participant2',\n",
       " 'E:\\\\DS5500-project\\\\data\\\\gesture-recognition-and-biometrics-electromyogram-grabmyo-1.0.2\\\\Session1\\\\session1_participant20',\n",
       " 'E:\\\\DS5500-project\\\\data\\\\gesture-recognition-and-biometrics-electromyogram-grabmyo-1.0.2\\\\Session1\\\\session1_participant21',\n",
       " 'E:\\\\DS5500-project\\\\data\\\\gesture-recognition-and-biometrics-electromyogram-grabmyo-1.0.2\\\\Session1\\\\session1_participant22',\n",
       " 'E:\\\\DS5500-project\\\\data\\\\gesture-recognition-and-biometrics-electromyogram-grabmyo-1.0.2\\\\Session1\\\\session1_participant23',\n",
       " 'E:\\\\DS5500-project\\\\data\\\\gesture-recognition-and-biometrics-electromyogram-grabmyo-1.0.2\\\\Session1\\\\session1_participant24',\n",
       " 'E:\\\\DS5500-project\\\\data\\\\gesture-recognition-and-biometrics-electromyogram-grabmyo-1.0.2\\\\Session1\\\\session1_participant25',\n",
       " 'E:\\\\DS5500-project\\\\data\\\\gesture-recognition-and-biometrics-electromyogram-grabmyo-1.0.2\\\\Session1\\\\session1_participant3',\n",
       " 'E:\\\\DS5500-project\\\\data\\\\gesture-recognition-and-biometrics-electromyogram-grabmyo-1.0.2\\\\Session1\\\\session1_participant4',\n",
       " 'E:\\\\DS5500-project\\\\data\\\\gesture-recognition-and-biometrics-electromyogram-grabmyo-1.0.2\\\\Session1\\\\session1_participant5',\n",
       " 'E:\\\\DS5500-project\\\\data\\\\gesture-recognition-and-biometrics-electromyogram-grabmyo-1.0.2\\\\Session1\\\\session1_participant6',\n",
       " 'E:\\\\DS5500-project\\\\data\\\\gesture-recognition-and-biometrics-electromyogram-grabmyo-1.0.2\\\\Session1\\\\session1_participant7',\n",
       " 'E:\\\\DS5500-project\\\\data\\\\gesture-recognition-and-biometrics-electromyogram-grabmyo-1.0.2\\\\Session1\\\\session1_participant8',\n",
       " 'E:\\\\DS5500-project\\\\data\\\\gesture-recognition-and-biometrics-electromyogram-grabmyo-1.0.2\\\\Session1\\\\session1_participant9']"
      ]
     },
     "execution_count": 42,
     "metadata": {},
     "output_type": "execute_result"
    }
   ],
   "source": [
    "train_ds_folders"
   ]
  },
  {
   "cell_type": "code",
   "execution_count": 43,
   "id": "04d99680",
   "metadata": {},
   "outputs": [],
   "source": [
    "ops = Ops([\n",
    "    mean, std, \n",
    "    min_feature,\n",
    "    max_feature, peak,\n",
    "    mav, form_factor,\n",
    "    pulse_indicator, mean_f,\n",
    "    std_f, max_f, min_f\n",
    "])"
   ]
  },
  {
   "cell_type": "code",
   "execution_count": 118,
   "id": "f08bd499",
   "metadata": {},
   "outputs": [],
   "source": [
    "#This must be a folder\n",
    "train_ds = FileDataset(folder_list=train_ds_folders, transforms=ops)"
   ]
  },
  {
   "cell_type": "code",
   "execution_count": 119,
   "id": "03cd6cc2",
   "metadata": {},
   "outputs": [],
   "source": [
    "train_dl = DataLoader(train_ds, batch_size=32, shuffle=True) "
   ]
  },
  {
   "cell_type": "code",
   "execution_count": 48,
   "id": "c4b5e066",
   "metadata": {
    "scrolled": true
   },
   "outputs": [
    {
     "name": "stdout",
     "output_type": "stream",
     "text": [
      "<class 'torch.Tensor'>\n",
      "<class 'torch.Tensor'>\n",
      "<class 'torch.Tensor'>\n",
      "<class 'torch.Tensor'>\n",
      "<class 'torch.Tensor'>\n",
      "<class 'torch.Tensor'>\n",
      "<class 'torch.Tensor'>\n",
      "<class 'torch.Tensor'>\n",
      "<class 'torch.Tensor'>\n",
      "<class 'torch.Tensor'>\n",
      "<class 'torch.Tensor'>\n",
      "<class 'torch.Tensor'>\n",
      "<class 'torch.Tensor'>\n",
      "<class 'torch.Tensor'>\n",
      "<class 'torch.Tensor'>\n",
      "<class 'torch.Tensor'>\n",
      "<class 'torch.Tensor'>\n",
      "<class 'torch.Tensor'>\n",
      "<class 'torch.Tensor'>\n",
      "<class 'torch.Tensor'>\n",
      "<class 'torch.Tensor'>\n",
      "<class 'torch.Tensor'>\n",
      "<class 'torch.Tensor'>\n",
      "<class 'torch.Tensor'>\n",
      "<class 'torch.Tensor'>\n",
      "<class 'torch.Tensor'>\n",
      "<class 'torch.Tensor'>\n",
      "<class 'torch.Tensor'>\n",
      "<class 'torch.Tensor'>\n",
      "<class 'torch.Tensor'>\n",
      "<class 'torch.Tensor'>\n",
      "<class 'torch.Tensor'>\n",
      "<class 'torch.Tensor'>\n",
      "<class 'torch.Tensor'>\n",
      "<class 'torch.Tensor'>\n",
      "<class 'torch.Tensor'>\n",
      "<class 'torch.Tensor'>\n",
      "<class 'torch.Tensor'>\n",
      "<class 'torch.Tensor'>\n",
      "<class 'torch.Tensor'>\n",
      "<class 'torch.Tensor'>\n",
      "<class 'torch.Tensor'>\n",
      "<class 'torch.Tensor'>\n",
      "<class 'torch.Tensor'>\n",
      "<class 'torch.Tensor'>\n",
      "<class 'torch.Tensor'>\n",
      "<class 'torch.Tensor'>\n",
      "<class 'torch.Tensor'>\n",
      "<class 'torch.Tensor'>\n",
      "<class 'torch.Tensor'>\n",
      "<class 'torch.Tensor'>\n",
      "<class 'torch.Tensor'>\n",
      "<class 'torch.Tensor'>\n",
      "<class 'torch.Tensor'>\n",
      "<class 'torch.Tensor'>\n",
      "<class 'torch.Tensor'>\n",
      "<class 'torch.Tensor'>\n",
      "<class 'torch.Tensor'>\n",
      "<class 'torch.Tensor'>\n",
      "<class 'torch.Tensor'>\n",
      "<class 'torch.Tensor'>\n",
      "<class 'torch.Tensor'>\n",
      "<class 'torch.Tensor'>\n",
      "<class 'torch.Tensor'>\n",
      "<class 'torch.Tensor'>\n",
      "<class 'torch.Tensor'>\n",
      "<class 'torch.Tensor'>\n",
      "<class 'torch.Tensor'>\n",
      "<class 'torch.Tensor'>\n",
      "<class 'torch.Tensor'>\n",
      "<class 'torch.Tensor'>\n",
      "<class 'torch.Tensor'>\n",
      "<class 'torch.Tensor'>\n",
      "<class 'torch.Tensor'>\n",
      "<class 'torch.Tensor'>\n",
      "<class 'torch.Tensor'>\n",
      "<class 'torch.Tensor'>\n",
      "<class 'torch.Tensor'>\n",
      "<class 'torch.Tensor'>\n",
      "<class 'torch.Tensor'>\n",
      "<class 'torch.Tensor'>\n",
      "<class 'torch.Tensor'>\n",
      "<class 'torch.Tensor'>\n",
      "<class 'torch.Tensor'>\n",
      "<class 'torch.Tensor'>\n",
      "<class 'torch.Tensor'>\n",
      "<class 'torch.Tensor'>\n",
      "<class 'torch.Tensor'>\n",
      "<class 'torch.Tensor'>\n",
      "<class 'torch.Tensor'>\n",
      "<class 'torch.Tensor'>\n",
      "<class 'torch.Tensor'>\n",
      "<class 'torch.Tensor'>\n",
      "173.26567554473877\n"
     ]
    }
   ],
   "source": [
    "start = time.time()\n",
    "c = 0\n",
    "for data, label in train_dl:\n",
    "#     print(data.shape)\n",
    "#     print(label.shape)\n",
    "    print(type(label))\n",
    "    c+=1\n",
    "    \n",
    "print(time.time() - start)"
   ]
  },
  {
   "cell_type": "markdown",
   "id": "dd6ca307",
   "metadata": {},
   "source": [
    "## Test Machine Learning Model"
   ]
  },
  {
   "cell_type": "code",
   "execution_count": 163,
   "id": "37e0c163",
   "metadata": {},
   "outputs": [
    {
     "data": {
      "text/plain": [
       "<module 'simple_nets' from 'E:\\\\DS5500-project\\\\DL\\\\simple_nets.py'>"
      ]
     },
     "execution_count": 163,
     "metadata": {},
     "output_type": "execute_result"
    }
   ],
   "source": [
    "importlib.reload(simple_nets)"
   ]
  },
  {
   "cell_type": "code",
   "execution_count": 164,
   "id": "eb08b871",
   "metadata": {},
   "outputs": [],
   "source": [
    "import simple_nets\n",
    "from simple_nets import SimpleFCNet"
   ]
  },
  {
   "cell_type": "code",
   "execution_count": 165,
   "id": "715fdd91",
   "metadata": {},
   "outputs": [],
   "source": [
    "from torchsummary import summary"
   ]
  },
  {
   "cell_type": "code",
   "execution_count": 166,
   "id": "a6f9a301",
   "metadata": {},
   "outputs": [
    {
     "data": {
      "text/plain": [
       "tensor([ 6, 16, 10,  2,  9, 17,  3, 15,  3, 11,  5, 11,  7,  4,  3,  9,  5, 13,\n",
       "        14,  9,  1, 10,  6,  9, 15,  7,  7,  5, 10,  7, 15])"
      ]
     },
     "execution_count": 166,
     "metadata": {},
     "output_type": "execute_result"
    }
   ],
   "source": [
    "label"
   ]
  },
  {
   "cell_type": "code",
   "execution_count": 167,
   "id": "c5151685",
   "metadata": {},
   "outputs": [
    {
     "data": {
      "text/plain": [
       "336"
      ]
     },
     "execution_count": 167,
     "metadata": {},
     "output_type": "execute_result"
    }
   ],
   "source": [
    "data.shape[1]"
   ]
  },
  {
   "cell_type": "code",
   "execution_count": 171,
   "id": "34f54b28",
   "metadata": {},
   "outputs": [],
   "source": [
    "model = SimpleFCNet(data.shape[1], 18, apply_log_softmax=False)"
   ]
  },
  {
   "cell_type": "code",
   "execution_count": 172,
   "id": "ea3a6e90",
   "metadata": {},
   "outputs": [
    {
     "name": "stdout",
     "output_type": "stream",
     "text": [
      "----------------------------------------------------------------\n",
      "        Layer (type)               Output Shape         Param #\n",
      "================================================================\n",
      "            Linear-1              [-1, 32, 128]          43,136\n",
      "            Linear-2              [-1, 32, 256]          33,024\n",
      "            Linear-3              [-1, 32, 128]          32,896\n",
      "            Linear-4               [-1, 32, 18]           2,322\n",
      "================================================================\n",
      "Total params: 111,378\n",
      "Trainable params: 111,378\n",
      "Non-trainable params: 0\n",
      "----------------------------------------------------------------\n",
      "Input size (MB): 0.04\n",
      "Forward/backward pass size (MB): 0.13\n",
      "Params size (MB): 0.42\n",
      "Estimated Total Size (MB): 0.60\n",
      "----------------------------------------------------------------\n"
     ]
    }
   ],
   "source": [
    "summary(model,(32, data.shape[1]))"
   ]
  },
  {
   "cell_type": "code",
   "execution_count": 173,
   "id": "959f2098",
   "metadata": {},
   "outputs": [],
   "source": [
    "criterion = torch.nn.CrossEntropyLoss()"
   ]
  },
  {
   "cell_type": "code",
   "execution_count": 174,
   "id": "24481147",
   "metadata": {},
   "outputs": [],
   "source": [
    "optimizer = torch.optim.Adam(model.parameters(), lr = 0.01)"
   ]
  },
  {
   "cell_type": "code",
   "execution_count": 175,
   "id": "757dd5d2",
   "metadata": {},
   "outputs": [],
   "source": [
    "val_interval = 2\n",
    "num_epochs = 10"
   ]
  },
  {
   "cell_type": "code",
   "execution_count": 176,
   "id": "9cdd888a",
   "metadata": {},
   "outputs": [],
   "source": [
    "train_losses = []\n",
    "val_losses = []\n",
    "accuracies = []"
   ]
  },
  {
   "cell_type": "code",
   "execution_count": 178,
   "id": "52818da9",
   "metadata": {},
   "outputs": [],
   "source": [
    "t = torch.randint(0, 18, (32,))\n",
    "i = torch.rand((32, 18))"
   ]
  },
  {
   "cell_type": "code",
   "execution_count": 179,
   "id": "0f3f2457",
   "metadata": {},
   "outputs": [
    {
     "data": {
      "text/plain": [
       "tensor([14,  9, 14, 12,  0,  5,  4, 15, 10, 10,  8,  4, 16, 10,  8, 16,  5,  6,\n",
       "        10, 11, 13, 17,  6,  8, 11, 17,  1,  9, 12,  7,  3, 11])"
      ]
     },
     "execution_count": 179,
     "metadata": {},
     "output_type": "execute_result"
    }
   ],
   "source": [
    "t"
   ]
  },
  {
   "cell_type": "code",
   "execution_count": 180,
   "id": "c9aeca04",
   "metadata": {},
   "outputs": [
    {
     "data": {
      "text/plain": [
       "tensor([[0.5634, 0.4424, 0.3335, 0.6961, 0.4030, 0.6523, 0.6394, 0.0119, 0.0212,\n",
       "         0.2908, 0.7921, 0.0611, 0.8486, 0.1077, 0.2228, 0.3324, 0.8768, 0.6962],\n",
       "        [0.1364, 0.8546, 0.8697, 0.9110, 0.6730, 0.6388, 0.9962, 0.4409, 0.1529,\n",
       "         0.6657, 0.2910, 0.9462, 0.9894, 0.2245, 0.2063, 0.7163, 0.3391, 0.2776],\n",
       "        [0.5293, 0.6261, 0.4515, 0.4327, 0.5325, 0.2387, 0.4097, 0.4876, 0.7898,\n",
       "         0.2573, 0.6175, 0.6446, 0.3177, 0.8176, 0.0597, 0.7934, 0.5036, 0.8469],\n",
       "        [0.7137, 0.7098, 0.0588, 0.7573, 0.9744, 0.9018, 0.2214, 0.9274, 0.4825,\n",
       "         0.3150, 0.0689, 0.2944, 0.4144, 0.5914, 0.1007, 0.2358, 0.5028, 0.3071],\n",
       "        [0.9147, 0.4892, 0.4428, 0.9876, 0.6504, 0.3012, 0.6005, 0.7878, 0.1438,\n",
       "         0.2832, 0.9861, 0.7665, 0.8567, 0.4062, 0.1238, 0.1435, 0.0246, 0.5131],\n",
       "        [0.2190, 0.2208, 0.5149, 0.2668, 0.2947, 0.1651, 0.3186, 0.8440, 0.3879,\n",
       "         0.0280, 0.7469, 0.8727, 0.0375, 0.2041, 0.4447, 0.6701, 0.1127, 0.4831],\n",
       "        [0.1530, 0.8001, 0.6202, 0.8358, 0.4741, 0.8315, 0.6529, 0.1985, 0.9454,\n",
       "         0.4569, 0.0370, 0.9579, 0.3495, 0.9115, 0.3172, 0.3874, 0.7050, 0.7564],\n",
       "        [0.7295, 0.0547, 0.3154, 0.9512, 0.2978, 0.6518, 0.3190, 0.5525, 0.6813,\n",
       "         0.4682, 0.2566, 0.7457, 0.4843, 0.2342, 0.1831, 0.0327, 0.7905, 0.7280],\n",
       "        [0.6572, 0.6831, 0.1181, 0.5360, 0.8689, 0.4219, 0.1830, 0.0984, 0.2124,\n",
       "         0.1108, 0.2355, 0.3538, 0.7046, 0.8857, 0.7215, 0.0174, 0.1712, 0.0685],\n",
       "        [0.5816, 0.9985, 0.8553, 0.2518, 0.0386, 0.1505, 0.8025, 0.9712, 0.3911,\n",
       "         0.6591, 0.1158, 0.2190, 0.0604, 0.1624, 0.1259, 0.6087, 0.5379, 0.1235],\n",
       "        [0.7836, 0.8767, 0.5938, 0.7679, 0.6174, 0.2718, 0.3598, 0.2221, 0.5226,\n",
       "         0.0647, 0.4194, 0.4300, 0.1596, 0.1326, 0.0989, 0.3065, 0.7196, 0.5337],\n",
       "        [0.1130, 0.9055, 0.5255, 0.2331, 0.7005, 0.6160, 0.4716, 0.6992, 0.4187,\n",
       "         0.0098, 0.0481, 0.9083, 0.4594, 0.7452, 0.0618, 0.1618, 0.9404, 0.1146],\n",
       "        [0.8036, 0.2680, 0.4984, 0.7323, 0.8818, 0.0171, 0.8169, 0.9151, 0.2252,\n",
       "         0.2114, 0.0244, 0.7190, 0.1205, 0.3338, 0.4606, 0.6863, 0.8776, 0.8848],\n",
       "        [0.7721, 0.8029, 0.0326, 0.0776, 0.5895, 0.4530, 0.8988, 0.7482, 0.2135,\n",
       "         0.4831, 0.2145, 0.2093, 0.7852, 0.6543, 0.8384, 0.2343, 0.8774, 0.5161],\n",
       "        [0.2727, 0.1432, 0.4600, 0.4245, 0.6437, 0.6156, 0.9025, 0.7423, 0.0800,\n",
       "         0.6063, 0.9051, 0.3749, 0.5186, 0.5757, 0.7826, 0.3846, 0.9124, 0.0066],\n",
       "        [0.1913, 0.6015, 0.6800, 0.5494, 0.9723, 0.7353, 0.2051, 0.9896, 0.1490,\n",
       "         0.0491, 0.7878, 0.2327, 0.9736, 0.0948, 0.1135, 0.4662, 0.2078, 0.0025],\n",
       "        [0.0932, 0.8298, 0.7890, 0.6190, 0.8686, 0.6721, 0.0708, 0.1556, 0.2233,\n",
       "         0.7910, 0.3278, 0.5258, 0.9585, 0.6743, 0.5607, 0.7727, 0.9584, 0.8011],\n",
       "        [0.0344, 0.2615, 0.3984, 0.8253, 0.5849, 0.1440, 0.2560, 0.8988, 0.7699,\n",
       "         0.3084, 0.1889, 0.7119, 0.6605, 0.4490, 0.8675, 0.2615, 0.2099, 0.8225],\n",
       "        [0.2012, 0.2072, 0.7039, 0.2345, 0.2003, 0.7030, 0.7315, 0.3647, 0.7840,\n",
       "         0.9294, 0.2491, 0.1650, 0.9131, 0.3100, 0.4041, 0.5900, 0.1530, 0.4434],\n",
       "        [0.1177, 0.2120, 0.0112, 0.4115, 0.1121, 0.8480, 0.8170, 0.0767, 0.4582,\n",
       "         0.8082, 0.0980, 0.9682, 0.2125, 0.0200, 0.7610, 0.0942, 0.3292, 0.9503],\n",
       "        [0.0155, 0.5769, 0.3454, 0.7731, 0.4692, 0.2978, 0.8750, 0.7773, 0.2300,\n",
       "         0.4597, 0.7256, 0.3764, 0.6927, 0.7692, 0.0909, 0.0460, 0.0122, 0.9312],\n",
       "        [0.9765, 0.5898, 0.2779, 0.0279, 0.9349, 0.2939, 0.7415, 0.6278, 0.0330,\n",
       "         0.8879, 0.5227, 0.1036, 0.5652, 0.8337, 0.5624, 0.7453, 0.8590, 0.2314],\n",
       "        [0.2460, 0.0792, 0.0978, 0.6206, 0.4535, 0.1512, 0.3408, 0.7518, 0.4143,\n",
       "         0.2792, 0.0624, 0.6442, 0.4049, 0.3213, 0.5508, 0.9081, 0.2325, 0.8649],\n",
       "        [0.1142, 0.1964, 0.0667, 0.1521, 0.8721, 0.4213, 0.5775, 0.3850, 0.0862,\n",
       "         0.0474, 0.3867, 0.5607, 0.3646, 0.6794, 0.7125, 0.7331, 0.5732, 0.0493],\n",
       "        [0.8920, 0.7728, 0.1798, 0.0432, 0.4343, 0.6591, 0.4142, 0.0971, 0.8730,\n",
       "         0.2322, 0.0972, 0.2674, 0.7374, 0.1695, 0.7144, 0.7167, 0.9906, 0.6562],\n",
       "        [0.7039, 0.3693, 0.2550, 0.9955, 0.9333, 0.2833, 0.3288, 0.2665, 0.7018,\n",
       "         0.1338, 0.8063, 0.5275, 0.8555, 0.5943, 0.2197, 0.8310, 0.1746, 0.0903],\n",
       "        [0.7444, 0.9370, 0.8193, 0.9447, 0.7003, 0.3398, 0.8374, 0.7981, 0.0096,\n",
       "         0.9557, 0.4313, 0.4459, 0.5617, 0.9229, 0.2735, 0.2720, 0.0240, 0.4777],\n",
       "        [0.4432, 0.8480, 0.2731, 0.1435, 0.2752, 0.7502, 0.6109, 0.3672, 0.9355,\n",
       "         0.7727, 0.3013, 0.9787, 0.1134, 0.6921, 0.1389, 0.7063, 0.9652, 0.0606],\n",
       "        [0.4097, 0.4065, 0.7622, 0.5998, 0.3779, 0.7052, 0.3245, 0.5722, 0.8737,\n",
       "         0.2096, 0.0992, 0.9336, 0.2019, 0.1508, 0.4525, 0.8550, 0.4237, 0.8954],\n",
       "        [0.9257, 0.9966, 0.6161, 0.4261, 0.2330, 0.2337, 0.4112, 0.6006, 0.5245,\n",
       "         0.9351, 0.6430, 0.3691, 0.8936, 0.3380, 0.3049, 0.5020, 0.7889, 0.1260],\n",
       "        [0.7934, 0.8655, 0.0664, 0.8255, 0.8452, 0.1094, 0.4515, 0.1043, 0.8233,\n",
       "         0.0249, 0.3166, 0.5089, 0.3072, 0.6442, 0.4846, 0.4834, 0.7794, 0.2398],\n",
       "        [0.9694, 0.4461, 0.2446, 0.9798, 0.9382, 0.8605, 0.6014, 0.0306, 0.1708,\n",
       "         0.1289, 0.9625, 0.3332, 0.5231, 0.0665, 0.1667, 0.7720, 0.8228, 0.3055]])"
      ]
     },
     "execution_count": 180,
     "metadata": {},
     "output_type": "execute_result"
    }
   ],
   "source": [
    "i.shap"
   ]
  },
  {
   "cell_type": "code",
   "execution_count": 151,
   "id": "1775738e",
   "metadata": {},
   "outputs": [],
   "source": [
    "from tqdm import tqdm"
   ]
  },
  {
   "cell_type": "code",
   "execution_count": 153,
   "id": "0488ad32",
   "metadata": {},
   "outputs": [
    {
     "name": "stdout",
     "output_type": "stream",
     "text": [
      "------------Epoch 1-------------\n"
     ]
    },
    {
     "name": "stderr",
     "output_type": "stream",
     "text": [
      "100%|██████████████████████████████████████████████████████████████████████████████████| 93/93 [02:57<00:00,  1.91s/it]\n"
     ]
    },
    {
     "name": "stdout",
     "output_type": "stream",
     "text": [
      "Epoch [1/10] - Train Loss: 2075825633310.1458\n",
      "------------Epoch 2-------------\n"
     ]
    },
    {
     "name": "stderr",
     "output_type": "stream",
     "text": [
      "100%|██████████████████████████████████████████████████████████████████████████████████| 93/93 [03:13<00:00,  2.08s/it]\n"
     ]
    },
    {
     "name": "stdout",
     "output_type": "stream",
     "text": [
      "Epoch [2/10] - Train Loss: 6.2151\n",
      "------------Epoch 3-------------\n"
     ]
    },
    {
     "name": "stderr",
     "output_type": "stream",
     "text": [
      "  8%|██████▏                                                                            | 7/93 [00:16<03:20,  2.34s/it]\n"
     ]
    },
    {
     "ename": "KeyboardInterrupt",
     "evalue": "",
     "output_type": "error",
     "traceback": [
      "\u001b[1;31m---------------------------------------------------------------------------\u001b[0m",
      "\u001b[1;31mKeyboardInterrupt\u001b[0m                         Traceback (most recent call last)",
      "Input \u001b[1;32mIn [153]\u001b[0m, in \u001b[0;36m<cell line: 1>\u001b[1;34m()\u001b[0m\n\u001b[0;32m      3\u001b[0m total_train_loss \u001b[38;5;241m=\u001b[39m \u001b[38;5;241m0\u001b[39m\n\u001b[0;32m      4\u001b[0m \u001b[38;5;28mprint\u001b[39m(\u001b[38;5;124mf\u001b[39m\u001b[38;5;124m\"\u001b[39m\u001b[38;5;124m------------Epoch \u001b[39m\u001b[38;5;132;01m{\u001b[39;00mepoch\u001b[38;5;132;01m}\u001b[39;00m\u001b[38;5;124m-------------\u001b[39m\u001b[38;5;124m\"\u001b[39m)\n\u001b[1;32m----> 5\u001b[0m \u001b[38;5;28;01mfor\u001b[39;00m batch_data, batch_target \u001b[38;5;129;01min\u001b[39;00m tqdm(train_dl):\n\u001b[0;32m      6\u001b[0m     optimizer\u001b[38;5;241m.\u001b[39mzero_grad()\n\u001b[0;32m      7\u001b[0m     batch_target \u001b[38;5;241m=\u001b[39m batch_target \u001b[38;5;241m-\u001b[39m \u001b[38;5;241m1\u001b[39m\n",
      "File \u001b[1;32m~\\anaconda3\\lib\\site-packages\\tqdm\\std.py:1195\u001b[0m, in \u001b[0;36mtqdm.__iter__\u001b[1;34m(self)\u001b[0m\n\u001b[0;32m   1192\u001b[0m time \u001b[38;5;241m=\u001b[39m \u001b[38;5;28mself\u001b[39m\u001b[38;5;241m.\u001b[39m_time\n\u001b[0;32m   1194\u001b[0m \u001b[38;5;28;01mtry\u001b[39;00m:\n\u001b[1;32m-> 1195\u001b[0m     \u001b[38;5;28;01mfor\u001b[39;00m obj \u001b[38;5;129;01min\u001b[39;00m iterable:\n\u001b[0;32m   1196\u001b[0m         \u001b[38;5;28;01myield\u001b[39;00m obj\n\u001b[0;32m   1197\u001b[0m         \u001b[38;5;66;03m# Update and possibly print the progressbar.\u001b[39;00m\n\u001b[0;32m   1198\u001b[0m         \u001b[38;5;66;03m# Note: does not call self.update(1) for speed optimisation.\u001b[39;00m\n",
      "File \u001b[1;32m~\\anaconda3\\lib\\site-packages\\torch\\utils\\data\\dataloader.py:633\u001b[0m, in \u001b[0;36m_BaseDataLoaderIter.__next__\u001b[1;34m(self)\u001b[0m\n\u001b[0;32m    630\u001b[0m \u001b[38;5;28;01mif\u001b[39;00m \u001b[38;5;28mself\u001b[39m\u001b[38;5;241m.\u001b[39m_sampler_iter \u001b[38;5;129;01mis\u001b[39;00m \u001b[38;5;28;01mNone\u001b[39;00m:\n\u001b[0;32m    631\u001b[0m     \u001b[38;5;66;03m# TODO(https://github.com/pytorch/pytorch/issues/76750)\u001b[39;00m\n\u001b[0;32m    632\u001b[0m     \u001b[38;5;28mself\u001b[39m\u001b[38;5;241m.\u001b[39m_reset()  \u001b[38;5;66;03m# type: ignore[call-arg]\u001b[39;00m\n\u001b[1;32m--> 633\u001b[0m data \u001b[38;5;241m=\u001b[39m \u001b[38;5;28;43mself\u001b[39;49m\u001b[38;5;241;43m.\u001b[39;49m\u001b[43m_next_data\u001b[49m\u001b[43m(\u001b[49m\u001b[43m)\u001b[49m\n\u001b[0;32m    634\u001b[0m \u001b[38;5;28mself\u001b[39m\u001b[38;5;241m.\u001b[39m_num_yielded \u001b[38;5;241m+\u001b[39m\u001b[38;5;241m=\u001b[39m \u001b[38;5;241m1\u001b[39m\n\u001b[0;32m    635\u001b[0m \u001b[38;5;28;01mif\u001b[39;00m \u001b[38;5;28mself\u001b[39m\u001b[38;5;241m.\u001b[39m_dataset_kind \u001b[38;5;241m==\u001b[39m _DatasetKind\u001b[38;5;241m.\u001b[39mIterable \u001b[38;5;129;01mand\u001b[39;00m \\\n\u001b[0;32m    636\u001b[0m         \u001b[38;5;28mself\u001b[39m\u001b[38;5;241m.\u001b[39m_IterableDataset_len_called \u001b[38;5;129;01mis\u001b[39;00m \u001b[38;5;129;01mnot\u001b[39;00m \u001b[38;5;28;01mNone\u001b[39;00m \u001b[38;5;129;01mand\u001b[39;00m \\\n\u001b[0;32m    637\u001b[0m         \u001b[38;5;28mself\u001b[39m\u001b[38;5;241m.\u001b[39m_num_yielded \u001b[38;5;241m>\u001b[39m \u001b[38;5;28mself\u001b[39m\u001b[38;5;241m.\u001b[39m_IterableDataset_len_called:\n",
      "File \u001b[1;32m~\\anaconda3\\lib\\site-packages\\torch\\utils\\data\\dataloader.py:677\u001b[0m, in \u001b[0;36m_SingleProcessDataLoaderIter._next_data\u001b[1;34m(self)\u001b[0m\n\u001b[0;32m    675\u001b[0m \u001b[38;5;28;01mdef\u001b[39;00m \u001b[38;5;21m_next_data\u001b[39m(\u001b[38;5;28mself\u001b[39m):\n\u001b[0;32m    676\u001b[0m     index \u001b[38;5;241m=\u001b[39m \u001b[38;5;28mself\u001b[39m\u001b[38;5;241m.\u001b[39m_next_index()  \u001b[38;5;66;03m# may raise StopIteration\u001b[39;00m\n\u001b[1;32m--> 677\u001b[0m     data \u001b[38;5;241m=\u001b[39m \u001b[38;5;28;43mself\u001b[39;49m\u001b[38;5;241;43m.\u001b[39;49m\u001b[43m_dataset_fetcher\u001b[49m\u001b[38;5;241;43m.\u001b[39;49m\u001b[43mfetch\u001b[49m\u001b[43m(\u001b[49m\u001b[43mindex\u001b[49m\u001b[43m)\u001b[49m  \u001b[38;5;66;03m# may raise StopIteration\u001b[39;00m\n\u001b[0;32m    678\u001b[0m     \u001b[38;5;28;01mif\u001b[39;00m \u001b[38;5;28mself\u001b[39m\u001b[38;5;241m.\u001b[39m_pin_memory:\n\u001b[0;32m    679\u001b[0m         data \u001b[38;5;241m=\u001b[39m _utils\u001b[38;5;241m.\u001b[39mpin_memory\u001b[38;5;241m.\u001b[39mpin_memory(data, \u001b[38;5;28mself\u001b[39m\u001b[38;5;241m.\u001b[39m_pin_memory_device)\n",
      "File \u001b[1;32m~\\anaconda3\\lib\\site-packages\\torch\\utils\\data\\_utils\\fetch.py:51\u001b[0m, in \u001b[0;36m_MapDatasetFetcher.fetch\u001b[1;34m(self, possibly_batched_index)\u001b[0m\n\u001b[0;32m     49\u001b[0m         data \u001b[38;5;241m=\u001b[39m \u001b[38;5;28mself\u001b[39m\u001b[38;5;241m.\u001b[39mdataset\u001b[38;5;241m.\u001b[39m__getitems__(possibly_batched_index)\n\u001b[0;32m     50\u001b[0m     \u001b[38;5;28;01melse\u001b[39;00m:\n\u001b[1;32m---> 51\u001b[0m         data \u001b[38;5;241m=\u001b[39m [\u001b[38;5;28mself\u001b[39m\u001b[38;5;241m.\u001b[39mdataset[idx] \u001b[38;5;28;01mfor\u001b[39;00m idx \u001b[38;5;129;01min\u001b[39;00m possibly_batched_index]\n\u001b[0;32m     52\u001b[0m \u001b[38;5;28;01melse\u001b[39;00m:\n\u001b[0;32m     53\u001b[0m     data \u001b[38;5;241m=\u001b[39m \u001b[38;5;28mself\u001b[39m\u001b[38;5;241m.\u001b[39mdataset[possibly_batched_index]\n",
      "File \u001b[1;32m~\\anaconda3\\lib\\site-packages\\torch\\utils\\data\\_utils\\fetch.py:51\u001b[0m, in \u001b[0;36m<listcomp>\u001b[1;34m(.0)\u001b[0m\n\u001b[0;32m     49\u001b[0m         data \u001b[38;5;241m=\u001b[39m \u001b[38;5;28mself\u001b[39m\u001b[38;5;241m.\u001b[39mdataset\u001b[38;5;241m.\u001b[39m__getitems__(possibly_batched_index)\n\u001b[0;32m     50\u001b[0m     \u001b[38;5;28;01melse\u001b[39;00m:\n\u001b[1;32m---> 51\u001b[0m         data \u001b[38;5;241m=\u001b[39m [\u001b[38;5;28;43mself\u001b[39;49m\u001b[38;5;241;43m.\u001b[39;49m\u001b[43mdataset\u001b[49m\u001b[43m[\u001b[49m\u001b[43midx\u001b[49m\u001b[43m]\u001b[49m \u001b[38;5;28;01mfor\u001b[39;00m idx \u001b[38;5;129;01min\u001b[39;00m possibly_batched_index]\n\u001b[0;32m     52\u001b[0m \u001b[38;5;28;01melse\u001b[39;00m:\n\u001b[0;32m     53\u001b[0m     data \u001b[38;5;241m=\u001b[39m \u001b[38;5;28mself\u001b[39m\u001b[38;5;241m.\u001b[39mdataset[possibly_batched_index]\n",
      "File \u001b[1;32mE:\\DS5500-project\\DL\\data_utils.py:65\u001b[0m, in \u001b[0;36mFileDataset.__getitem__\u001b[1;34m(self, index)\u001b[0m\n\u001b[0;32m     62\u001b[0m \u001b[38;5;28;01mdef\u001b[39;00m \u001b[38;5;21m__getitem__\u001b[39m(\u001b[38;5;28mself\u001b[39m, index):\n\u001b[0;32m     64\u001b[0m     wave_data \u001b[38;5;241m=\u001b[39m load_file(\u001b[38;5;28mself\u001b[39m\u001b[38;5;241m.\u001b[39mfile_list[index])\n\u001b[1;32m---> 65\u001b[0m     features \u001b[38;5;241m=\u001b[39m \u001b[38;5;28;43mself\u001b[39;49m\u001b[38;5;241;43m.\u001b[39;49m\u001b[43mtransforms\u001b[49m\u001b[38;5;241;43m.\u001b[39;49m\u001b[43mtransform\u001b[49m\u001b[43m(\u001b[49m\u001b[43mwave_data\u001b[49m\u001b[43m)\u001b[49m\n\u001b[0;32m     66\u001b[0m     \u001b[38;5;28;01mreturn\u001b[39;00m torch\u001b[38;5;241m.\u001b[39mtensor(features, dtype\u001b[38;5;241m=\u001b[39mtorch\u001b[38;5;241m.\u001b[39mfloat32), \u001b[38;5;28mself\u001b[39m\u001b[38;5;241m.\u001b[39mlabels[index]\n",
      "File \u001b[1;32mE:\\DS5500-project\\DL\\data_utils.py:35\u001b[0m, in \u001b[0;36mOps.transform\u001b[1;34m(self, x)\u001b[0m\n\u001b[0;32m     33\u001b[0m features \u001b[38;5;241m=\u001b[39m np\u001b[38;5;241m.\u001b[39marray([])\n\u001b[0;32m     34\u001b[0m \u001b[38;5;28;01mfor\u001b[39;00m op \u001b[38;5;129;01min\u001b[39;00m \u001b[38;5;28mself\u001b[39m\u001b[38;5;241m.\u001b[39mop_list:\n\u001b[1;32m---> 35\u001b[0m     res \u001b[38;5;241m=\u001b[39m \u001b[43mop\u001b[49m\u001b[43m(\u001b[49m\u001b[43mx\u001b[49m\u001b[43m)\u001b[49m\n\u001b[0;32m     37\u001b[0m     features \u001b[38;5;241m=\u001b[39m np\u001b[38;5;241m.\u001b[39mhstack([features, res])\n\u001b[0;32m     39\u001b[0m \u001b[38;5;28;01mreturn\u001b[39;00m features\n",
      "File \u001b[1;32mE:\\DS5500-project\\DL\\feature_ops.py:52\u001b[0m, in \u001b[0;36mmin_f\u001b[1;34m(array)\u001b[0m\n\u001b[0;32m     50\u001b[0m \u001b[38;5;28;01mdef\u001b[39;00m \u001b[38;5;21mmin_f\u001b[39m(array:np\u001b[38;5;241m.\u001b[39mndarray):\n\u001b[0;32m     51\u001b[0m     freq_data \u001b[38;5;241m=\u001b[39m fft(array)\n\u001b[1;32m---> 52\u001b[0m     S_f \u001b[38;5;241m=\u001b[39m np\u001b[38;5;241m.\u001b[39mabs(\u001b[43mfreq_data\u001b[49m\u001b[38;5;241;43m*\u001b[39;49m\u001b[38;5;241;43m*\u001b[39;49m\u001b[38;5;241;43m2\u001b[39;49m)\u001b[38;5;241m/\u001b[39m\u001b[38;5;28mlen\u001b[39m(freq_data)\n\u001b[0;32m     53\u001b[0m     \u001b[38;5;28;01mreturn\u001b[39;00m np\u001b[38;5;241m.\u001b[39mmin(S_f, axis \u001b[38;5;241m=\u001b[39m \u001b[38;5;241m0\u001b[39m)\n",
      "\u001b[1;31mKeyboardInterrupt\u001b[0m: "
     ]
    }
   ],
   "source": [
    "for epoch in range(1, num_epochs + 1):\n",
    "    model.train()\n",
    "    total_train_loss = 0\n",
    "    print(f\"------------Epoch {epoch}-------------\")\n",
    "    for batch_data, batch_target in tqdm(train_dl):\n",
    "        optimizer.zero_grad()\n",
    "        batch_target = batch_target - 1\n",
    "        predictions = model(batch_data)\n",
    "        loss = criterion(predictions, batch_target)\n",
    "        loss.backward()\n",
    "        optimizer.step()\n",
    "        total_train_loss += loss.item()\n",
    "\n",
    "    average_train_loss = total_train_loss / len(train_dl)\n",
    "    train_losses.append(average_train_loss)\n",
    "\n",
    "    if epoch % val_interval == 0:\n",
    "        model.eval()\n",
    "        total_val_loss = 0\n",
    "        all_preds = torch.tensor([])\n",
    "        all_batch = torch.tensor([])\n",
    "        with torch.no_grad():\n",
    "            for batch_data, batch_target in train_dl:\n",
    "                batch_target = batch_target - 1\n",
    "                predictions = model(batch_data)\n",
    "                int_pred = torch.argmax(predictions, dim = 1)\n",
    "                all_preds = torch.hstack([all_preds, int_pred])\n",
    "                all_batch = torch.hstack([all_batch, batch_target])\n",
    "                loss = criterion(predictions, batch_target)\n",
    "                total_val_loss += loss.item()\n",
    "            accuracies.append(sum(all_batch==all_preds) / len(all_batch)) \n",
    "\n",
    "        average_val_loss = total_val_loss / len(train_dl)\n",
    "        val_losses.append(average_val_loss)\n",
    "\n",
    "    print(f'Epoch [{epoch}/{num_epochs}] - Train Loss: {average_train_loss:.4f}')"
   ]
  },
  {
   "cell_type": "code",
   "execution_count": 154,
   "id": "3380e7d9",
   "metadata": {},
   "outputs": [
    {
     "data": {
      "text/plain": [
       "[tensor(0.0602)]"
      ]
     },
     "execution_count": 154,
     "metadata": {},
     "output_type": "execute_result"
    }
   ],
   "source": [
    "accuracies"
   ]
  },
  {
   "cell_type": "code",
   "execution_count": 155,
   "id": "3b243d0a",
   "metadata": {},
   "outputs": [
    {
     "data": {
      "text/plain": [
       "tensor([3., 3., 3.,  ..., 3., 3., 3.])"
      ]
     },
     "execution_count": 155,
     "metadata": {},
     "output_type": "execute_result"
    }
   ],
   "source": [
    "all_preds"
   ]
  },
  {
   "cell_type": "code",
   "execution_count": 69,
   "id": "72309cfd",
   "metadata": {},
   "outputs": [
    {
     "data": {
      "text/plain": [
       "tensor([ 6,  5, 16,  0,  2,  4, 10,  6,  2,  4, 11,  7, 14,  7, 15, 12, 15,  6,\n",
       "        14,  7, 16, 13,  3,  3, 10,  7,  7, 16,  1, 16, 13,  5])"
      ]
     },
     "execution_count": 69,
     "metadata": {},
     "output_type": "execute_result"
    }
   ],
   "source": [
    "batch_target"
   ]
  },
  {
   "cell_type": "code",
   "execution_count": 70,
   "id": "668efe9c",
   "metadata": {},
   "outputs": [
    {
     "data": {
      "text/plain": [
       "336"
      ]
     },
     "execution_count": 70,
     "metadata": {},
     "output_type": "execute_result"
    }
   ],
   "source": [
    "model.num_input"
   ]
  },
  {
   "cell_type": "code",
   "execution_count": 110,
   "id": "adc67840",
   "metadata": {},
   "outputs": [
    {
     "data": {
      "text/plain": [
       "torch.int64"
      ]
     },
     "execution_count": 110,
     "metadata": {},
     "output_type": "execute_result"
    }
   ],
   "source": [
    "batch_target.dtype"
   ]
  },
  {
   "cell_type": "code",
   "execution_count": 109,
   "id": "af445040",
   "metadata": {},
   "outputs": [
    {
     "data": {
      "text/plain": [
       "torch.float32"
      ]
     },
     "execution_count": 109,
     "metadata": {},
     "output_type": "execute_result"
    }
   ],
   "source": [
    "model.l1.weight.dtype"
   ]
  },
  {
   "cell_type": "code",
   "execution_count": 139,
   "id": "c8c5f942",
   "metadata": {},
   "outputs": [
    {
     "data": {
      "text/plain": [
       "tensor([ 2,  2,  2, 12,  2,  2,  3,  2,  2,  2,  3,  2,  2,  2,  2,  3,  3,  2,\n",
       "         2,  2,  2,  5,  2,  2,  2,  2,  2,  3,  2,  2,  2])"
      ]
     },
     "execution_count": 139,
     "metadata": {},
     "output_type": "execute_result"
    }
   ],
   "source": [
    "torch.argmax(predictions, dim = 1)"
   ]
  },
  {
   "cell_type": "code",
   "execution_count": null,
   "id": "ea21acca",
   "metadata": {},
   "outputs": [],
   "source": []
  }
 ],
 "metadata": {
  "kernelspec": {
   "display_name": "Python 3 (ipykernel)",
   "language": "python",
   "name": "python3"
  },
  "language_info": {
   "codemirror_mode": {
    "name": "ipython",
    "version": 3
   },
   "file_extension": ".py",
   "mimetype": "text/x-python",
   "name": "python",
   "nbconvert_exporter": "python",
   "pygments_lexer": "ipython3",
   "version": "3.9.7"
  }
 },
 "nbformat": 4,
 "nbformat_minor": 5
}
