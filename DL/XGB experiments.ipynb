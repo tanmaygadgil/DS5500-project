{
 "cells": [
  {
   "cell_type": "code",
   "execution_count": 1,
   "id": "09520f5f",
   "metadata": {},
   "outputs": [
    {
     "name": "stdout",
     "output_type": "stream",
     "text": [
      "Collecting xgboost\n",
      "  Obtaining dependency information for xgboost from https://files.pythonhosted.org/packages/11/6f/419545a6a344cfd1358a80c36a06431881d607830483ef63d7c38905cd22/xgboost-2.0.1-py3-none-win_amd64.whl.metadata\n",
      "  Downloading xgboost-2.0.1-py3-none-win_amd64.whl.metadata (2.0 kB)\n",
      "Requirement already satisfied: numpy in c:\\users\\tanma\\anaconda3\\envs\\cs7150\\lib\\site-packages (from xgboost) (1.25.2)\n",
      "Requirement already satisfied: scipy in c:\\users\\tanma\\anaconda3\\envs\\cs7150\\lib\\site-packages (from xgboost) (1.11.1)\n",
      "Using cached xgboost-2.0.1-py3-none-win_amd64.whl (99.7 MB)\n",
      "Installing collected packages: xgboost\n",
      "Successfully installed xgboost-2.0.1\n"
     ]
    }
   ],
   "source": [
    "!pip install xgboost"
   ]
  },
  {
   "cell_type": "code",
   "execution_count": 2,
   "id": "962328fd",
   "metadata": {},
   "outputs": [],
   "source": [
    "import torch\n",
    "import numpy as np\n",
    "import pandas as pd\n",
    "import os\n",
    "import sys"
   ]
  },
  {
   "cell_type": "code",
   "execution_count": 25,
   "id": "f7ad0202",
   "metadata": {},
   "outputs": [],
   "source": [
    "import time"
   ]
  },
  {
   "cell_type": "code",
   "execution_count": 2,
   "id": "02feafb7",
   "metadata": {},
   "outputs": [],
   "source": [
    "from sklearn.metrics import classification_report, f1_score, precision_score, recall_score"
   ]
  },
  {
   "cell_type": "code",
   "execution_count": 38,
   "id": "778797ba",
   "metadata": {},
   "outputs": [],
   "source": [
    "import matplotlib.pyplot as plt "
   ]
  },
  {
   "cell_type": "code",
   "execution_count": 3,
   "id": "0dc541ba",
   "metadata": {},
   "outputs": [],
   "source": [
    "from torch.utils.data import TensorDataset, DataLoader"
   ]
  },
  {
   "cell_type": "code",
   "execution_count": 4,
   "id": "eb7f89a8",
   "metadata": {},
   "outputs": [],
   "source": [
    "import torch.nn as nn\n",
    "from torch import optim"
   ]
  },
  {
   "cell_type": "code",
   "execution_count": 5,
   "id": "33064c50",
   "metadata": {},
   "outputs": [],
   "source": [
    "from sklearn.model_selection import train_test_split"
   ]
  },
  {
   "cell_type": "code",
   "execution_count": 6,
   "id": "4b5b0c1c",
   "metadata": {},
   "outputs": [],
   "source": [
    "from sklearn.preprocessing import StandardScaler"
   ]
  },
  {
   "cell_type": "code",
   "execution_count": 9,
   "id": "42170951",
   "metadata": {},
   "outputs": [],
   "source": [
    "import xgboost as xgb"
   ]
  },
  {
   "cell_type": "code",
   "execution_count": 18,
   "id": "d903c231",
   "metadata": {},
   "outputs": [],
   "source": [
    "from xgboost import XGBClassifier"
   ]
  },
  {
   "cell_type": "markdown",
   "id": "a9f7380d",
   "metadata": {},
   "source": [
    "## Load in the data"
   ]
  },
  {
   "cell_type": "code",
   "execution_count": 10,
   "id": "5c0fefdf",
   "metadata": {},
   "outputs": [],
   "source": [
    "data = pd.read_csv('../data/gesture-recognition-and-biometrics-electromyogram-grabmyo-1.0.2/features_split.csv')"
   ]
  },
  {
   "cell_type": "code",
   "execution_count": 11,
   "id": "6eaf5bcf",
   "metadata": {},
   "outputs": [
    {
     "data": {
      "text/html": [
       "<div>\n",
       "<style scoped>\n",
       "    .dataframe tbody tr th:only-of-type {\n",
       "        vertical-align: middle;\n",
       "    }\n",
       "\n",
       "    .dataframe tbody tr th {\n",
       "        vertical-align: top;\n",
       "    }\n",
       "\n",
       "    .dataframe thead th {\n",
       "        text-align: right;\n",
       "    }\n",
       "</style>\n",
       "<table border=\"1\" class=\"dataframe\">\n",
       "  <thead>\n",
       "    <tr style=\"text-align: right;\">\n",
       "      <th></th>\n",
       "      <th>Unnamed: 0</th>\n",
       "      <th>session</th>\n",
       "      <th>participant</th>\n",
       "      <th>gesture</th>\n",
       "      <th>index</th>\n",
       "      <th>iemg</th>\n",
       "      <th>mav</th>\n",
       "      <th>ssi</th>\n",
       "      <th>myopulse</th>\n",
       "      <th>wflen</th>\n",
       "      <th>...</th>\n",
       "      <th>kurtosis_f_w3</th>\n",
       "      <th>kurtosis_f_w4</th>\n",
       "      <th>kurtosis_f_w5</th>\n",
       "      <th>kurtosis_f_w6</th>\n",
       "      <th>kurtosis_f_w7</th>\n",
       "      <th>kurtosis_f_w8</th>\n",
       "      <th>kurtosis_f_w9</th>\n",
       "      <th>kurtosis_f_w10</th>\n",
       "      <th>kurtosis_f_w11</th>\n",
       "      <th>kurtosis_f_w12</th>\n",
       "    </tr>\n",
       "  </thead>\n",
       "  <tbody>\n",
       "    <tr>\n",
       "      <th>0</th>\n",
       "      <td>0</td>\n",
       "      <td>1</td>\n",
       "      <td>1</td>\n",
       "      <td>10</td>\n",
       "      <td>0</td>\n",
       "      <td>11996.863087</td>\n",
       "      <td>0.041842</td>\n",
       "      <td>997.135823</td>\n",
       "      <td>6.224512</td>\n",
       "      <td>8143.485828</td>\n",
       "      <td>...</td>\n",
       "      <td>61.940683</td>\n",
       "      <td>116.130710</td>\n",
       "      <td>31.371157</td>\n",
       "      <td>107.176549</td>\n",
       "      <td>64.459302</td>\n",
       "      <td>241.232060</td>\n",
       "      <td>54.880235</td>\n",
       "      <td>56.951175</td>\n",
       "      <td>42.644289</td>\n",
       "      <td>118.918727</td>\n",
       "    </tr>\n",
       "    <tr>\n",
       "      <th>1</th>\n",
       "      <td>1</td>\n",
       "      <td>1</td>\n",
       "      <td>1</td>\n",
       "      <td>10</td>\n",
       "      <td>0</td>\n",
       "      <td>10550.150337</td>\n",
       "      <td>0.036796</td>\n",
       "      <td>1019.627142</td>\n",
       "      <td>6.443555</td>\n",
       "      <td>6646.721181</td>\n",
       "      <td>...</td>\n",
       "      <td>160.171639</td>\n",
       "      <td>87.566832</td>\n",
       "      <td>154.616093</td>\n",
       "      <td>280.595181</td>\n",
       "      <td>160.756112</td>\n",
       "      <td>98.589493</td>\n",
       "      <td>135.655396</td>\n",
       "      <td>194.396727</td>\n",
       "      <td>294.858908</td>\n",
       "      <td>537.374741</td>\n",
       "    </tr>\n",
       "    <tr>\n",
       "      <th>2</th>\n",
       "      <td>2</td>\n",
       "      <td>1</td>\n",
       "      <td>1</td>\n",
       "      <td>10</td>\n",
       "      <td>0</td>\n",
       "      <td>9230.366582</td>\n",
       "      <td>0.032193</td>\n",
       "      <td>630.013233</td>\n",
       "      <td>6.033789</td>\n",
       "      <td>6023.438546</td>\n",
       "      <td>...</td>\n",
       "      <td>195.666850</td>\n",
       "      <td>90.568034</td>\n",
       "      <td>94.299202</td>\n",
       "      <td>276.105575</td>\n",
       "      <td>101.698579</td>\n",
       "      <td>49.607516</td>\n",
       "      <td>150.348389</td>\n",
       "      <td>151.177847</td>\n",
       "      <td>156.860637</td>\n",
       "      <td>115.905382</td>\n",
       "    </tr>\n",
       "    <tr>\n",
       "      <th>3</th>\n",
       "      <td>3</td>\n",
       "      <td>1</td>\n",
       "      <td>1</td>\n",
       "      <td>10</td>\n",
       "      <td>0</td>\n",
       "      <td>15949.504704</td>\n",
       "      <td>0.055627</td>\n",
       "      <td>1995.234560</td>\n",
       "      <td>4.999609</td>\n",
       "      <td>9318.559036</td>\n",
       "      <td>...</td>\n",
       "      <td>33.886272</td>\n",
       "      <td>80.377706</td>\n",
       "      <td>46.373047</td>\n",
       "      <td>64.445165</td>\n",
       "      <td>31.711430</td>\n",
       "      <td>33.328942</td>\n",
       "      <td>50.491362</td>\n",
       "      <td>81.876212</td>\n",
       "      <td>69.070232</td>\n",
       "      <td>142.723324</td>\n",
       "    </tr>\n",
       "    <tr>\n",
       "      <th>4</th>\n",
       "      <td>4</td>\n",
       "      <td>1</td>\n",
       "      <td>1</td>\n",
       "      <td>10</td>\n",
       "      <td>0</td>\n",
       "      <td>15936.956936</td>\n",
       "      <td>0.055584</td>\n",
       "      <td>1830.412922</td>\n",
       "      <td>5.870117</td>\n",
       "      <td>10476.465579</td>\n",
       "      <td>...</td>\n",
       "      <td>48.630658</td>\n",
       "      <td>39.722917</td>\n",
       "      <td>25.079065</td>\n",
       "      <td>84.877336</td>\n",
       "      <td>29.229362</td>\n",
       "      <td>48.843301</td>\n",
       "      <td>44.917769</td>\n",
       "      <td>39.354396</td>\n",
       "      <td>78.705208</td>\n",
       "      <td>176.820713</td>\n",
       "    </tr>\n",
       "  </tbody>\n",
       "</table>\n",
       "<p>5 rows × 573 columns</p>\n",
       "</div>"
      ],
      "text/plain": [
       "   Unnamed: 0  session  participant  gesture  index          iemg       mav  \\\n",
       "0           0        1            1       10      0  11996.863087  0.041842   \n",
       "1           1        1            1       10      0  10550.150337  0.036796   \n",
       "2           2        1            1       10      0   9230.366582  0.032193   \n",
       "3           3        1            1       10      0  15949.504704  0.055627   \n",
       "4           4        1            1       10      0  15936.956936  0.055584   \n",
       "\n",
       "           ssi  myopulse         wflen  ...  kurtosis_f_w3  kurtosis_f_w4  \\\n",
       "0   997.135823  6.224512   8143.485828  ...      61.940683     116.130710   \n",
       "1  1019.627142  6.443555   6646.721181  ...     160.171639      87.566832   \n",
       "2   630.013233  6.033789   6023.438546  ...     195.666850      90.568034   \n",
       "3  1995.234560  4.999609   9318.559036  ...      33.886272      80.377706   \n",
       "4  1830.412922  5.870117  10476.465579  ...      48.630658      39.722917   \n",
       "\n",
       "   kurtosis_f_w5  kurtosis_f_w6  kurtosis_f_w7  kurtosis_f_w8  kurtosis_f_w9  \\\n",
       "0      31.371157     107.176549      64.459302     241.232060      54.880235   \n",
       "1     154.616093     280.595181     160.756112      98.589493     135.655396   \n",
       "2      94.299202     276.105575     101.698579      49.607516     150.348389   \n",
       "3      46.373047      64.445165      31.711430      33.328942      50.491362   \n",
       "4      25.079065      84.877336      29.229362      48.843301      44.917769   \n",
       "\n",
       "   kurtosis_f_w10  kurtosis_f_w11  kurtosis_f_w12  \n",
       "0       56.951175       42.644289      118.918727  \n",
       "1      194.396727      294.858908      537.374741  \n",
       "2      151.177847      156.860637      115.905382  \n",
       "3       81.876212       69.070232      142.723324  \n",
       "4       39.354396       78.705208      176.820713  \n",
       "\n",
       "[5 rows x 573 columns]"
      ]
     },
     "execution_count": 11,
     "metadata": {},
     "output_type": "execute_result"
    }
   ],
   "source": [
    "data.head()"
   ]
  },
  {
   "cell_type": "code",
   "execution_count": 12,
   "id": "b2e97bd7",
   "metadata": {},
   "outputs": [
    {
     "data": {
      "text/plain": [
       "Index(['Unnamed: 0', 'session', 'participant', 'gesture', 'index', 'iemg',\n",
       "       'mav', 'ssi', 'myopulse', 'wflen',\n",
       "       ...\n",
       "       'kurtosis_f_w3', 'kurtosis_f_w4', 'kurtosis_f_w5', 'kurtosis_f_w6',\n",
       "       'kurtosis_f_w7', 'kurtosis_f_w8', 'kurtosis_f_w9', 'kurtosis_f_w10',\n",
       "       'kurtosis_f_w11', 'kurtosis_f_w12'],\n",
       "      dtype='object', length=573)"
      ]
     },
     "execution_count": 12,
     "metadata": {},
     "output_type": "execute_result"
    }
   ],
   "source": [
    "data.columns"
   ]
  },
  {
   "cell_type": "code",
   "execution_count": 13,
   "id": "23ac7f97",
   "metadata": {},
   "outputs": [],
   "source": [
    "data.drop(columns=[\"Unnamed: 0\"], inplace=True)"
   ]
  },
  {
   "cell_type": "code",
   "execution_count": 42,
   "id": "02a95fec",
   "metadata": {},
   "outputs": [],
   "source": [
    "X = data.iloc[:, 4:].values\n",
    "Y = (data.iloc[:, 2]-1).values"
   ]
  },
  {
   "cell_type": "code",
   "execution_count": 43,
   "id": "ea2fc19b",
   "metadata": {},
   "outputs": [],
   "source": [
    "scaler = StandardScaler()\n",
    "X = scaler.fit_transform(X)"
   ]
  },
  {
   "cell_type": "code",
   "execution_count": 44,
   "id": "54579326",
   "metadata": {},
   "outputs": [],
   "source": [
    "x_train, x_test, y_train, y_test = train_test_split(X, Y, test_size=0.2, random_state=6483)"
   ]
  },
  {
   "cell_type": "code",
   "execution_count": null,
   "id": "d6afd3b6",
   "metadata": {},
   "outputs": [],
   "source": []
  },
  {
   "cell_type": "code",
   "execution_count": 45,
   "id": "ed099050",
   "metadata": {},
   "outputs": [],
   "source": [
    "feature_names = data.columns[4:]"
   ]
  },
  {
   "cell_type": "code",
   "execution_count": 46,
   "id": "0f145ec5",
   "metadata": {},
   "outputs": [
    {
     "data": {
      "text/plain": [
       "Index(['iemg', 'mav', 'ssi', 'myopulse', 'wflen', 'diffvar', 'dasd',\n",
       "       'willison', 'power_f1', 'power_f2',\n",
       "       ...\n",
       "       'kurtosis_f_w3', 'kurtosis_f_w4', 'kurtosis_f_w5', 'kurtosis_f_w6',\n",
       "       'kurtosis_f_w7', 'kurtosis_f_w8', 'kurtosis_f_w9', 'kurtosis_f_w10',\n",
       "       'kurtosis_f_w11', 'kurtosis_f_w12'],\n",
       "      dtype='object', length=568)"
      ]
     },
     "execution_count": 46,
     "metadata": {},
     "output_type": "execute_result"
    }
   ],
   "source": [
    "feature_names"
   ]
  },
  {
   "cell_type": "code",
   "execution_count": 47,
   "id": "95bf2f39",
   "metadata": {},
   "outputs": [],
   "source": [
    "cls = XGBClassifier(n_jobs = 6)"
   ]
  },
  {
   "cell_type": "code",
   "execution_count": 48,
   "id": "17122c45",
   "metadata": {
    "scrolled": true
   },
   "outputs": [
    {
     "name": "stderr",
     "output_type": "stream",
     "text": [
      "C:\\Users\\tanma\\anaconda3\\lib\\site-packages\\xgboost\\sklearn.py:885: UserWarning: `early_stopping_rounds` in `fit` method is deprecated for better compatibility with scikit-learn, use `early_stopping_rounds` in constructor or`set_params` instead.\n",
      "  warnings.warn(\n"
     ]
    },
    {
     "name": "stdout",
     "output_type": "stream",
     "text": [
      "[0]\tvalidation_0-mlogloss:1.87033\tvalidation_1-mlogloss:2.10105\n",
      "[1]\tvalidation_0-mlogloss:1.53539\tvalidation_1-mlogloss:1.86448\n",
      "[2]\tvalidation_0-mlogloss:1.29754\tvalidation_1-mlogloss:1.68959\n",
      "[3]\tvalidation_0-mlogloss:1.11625\tvalidation_1-mlogloss:1.55571\n",
      "[4]\tvalidation_0-mlogloss:0.96812\tvalidation_1-mlogloss:1.45245\n",
      "[5]\tvalidation_0-mlogloss:0.84725\tvalidation_1-mlogloss:1.36566\n",
      "[6]\tvalidation_0-mlogloss:0.74662\tvalidation_1-mlogloss:1.29138\n",
      "[7]\tvalidation_0-mlogloss:0.66389\tvalidation_1-mlogloss:1.22694\n",
      "[8]\tvalidation_0-mlogloss:0.59150\tvalidation_1-mlogloss:1.17293\n",
      "[9]\tvalidation_0-mlogloss:0.52909\tvalidation_1-mlogloss:1.12439\n",
      "[10]\tvalidation_0-mlogloss:0.47325\tvalidation_1-mlogloss:1.08221\n",
      "[11]\tvalidation_0-mlogloss:0.42715\tvalidation_1-mlogloss:1.04319\n",
      "[12]\tvalidation_0-mlogloss:0.38687\tvalidation_1-mlogloss:1.01224\n",
      "[13]\tvalidation_0-mlogloss:0.35097\tvalidation_1-mlogloss:0.98317\n",
      "[14]\tvalidation_0-mlogloss:0.31860\tvalidation_1-mlogloss:0.95739\n",
      "[15]\tvalidation_0-mlogloss:0.28909\tvalidation_1-mlogloss:0.93188\n",
      "[16]\tvalidation_0-mlogloss:0.26303\tvalidation_1-mlogloss:0.91017\n",
      "[17]\tvalidation_0-mlogloss:0.23970\tvalidation_1-mlogloss:0.89177\n",
      "[18]\tvalidation_0-mlogloss:0.21972\tvalidation_1-mlogloss:0.87360\n",
      "[19]\tvalidation_0-mlogloss:0.19927\tvalidation_1-mlogloss:0.85973\n",
      "[20]\tvalidation_0-mlogloss:0.18273\tvalidation_1-mlogloss:0.84425\n",
      "[21]\tvalidation_0-mlogloss:0.16726\tvalidation_1-mlogloss:0.83106\n",
      "[22]\tvalidation_0-mlogloss:0.15387\tvalidation_1-mlogloss:0.81747\n",
      "[23]\tvalidation_0-mlogloss:0.14123\tvalidation_1-mlogloss:0.80339\n",
      "[24]\tvalidation_0-mlogloss:0.13013\tvalidation_1-mlogloss:0.79191\n",
      "[25]\tvalidation_0-mlogloss:0.12054\tvalidation_1-mlogloss:0.78043\n",
      "[26]\tvalidation_0-mlogloss:0.11112\tvalidation_1-mlogloss:0.77158\n",
      "[27]\tvalidation_0-mlogloss:0.10317\tvalidation_1-mlogloss:0.76192\n",
      "[28]\tvalidation_0-mlogloss:0.09571\tvalidation_1-mlogloss:0.75410\n",
      "[29]\tvalidation_0-mlogloss:0.08876\tvalidation_1-mlogloss:0.74590\n",
      "[30]\tvalidation_0-mlogloss:0.08304\tvalidation_1-mlogloss:0.73794\n",
      "[31]\tvalidation_0-mlogloss:0.07720\tvalidation_1-mlogloss:0.72984\n",
      "[32]\tvalidation_0-mlogloss:0.07215\tvalidation_1-mlogloss:0.72345\n",
      "[33]\tvalidation_0-mlogloss:0.06703\tvalidation_1-mlogloss:0.71739\n",
      "[34]\tvalidation_0-mlogloss:0.06249\tvalidation_1-mlogloss:0.71004\n",
      "[35]\tvalidation_0-mlogloss:0.05830\tvalidation_1-mlogloss:0.70336\n",
      "[36]\tvalidation_0-mlogloss:0.05424\tvalidation_1-mlogloss:0.69986\n",
      "[37]\tvalidation_0-mlogloss:0.05104\tvalidation_1-mlogloss:0.69450\n",
      "[38]\tvalidation_0-mlogloss:0.04768\tvalidation_1-mlogloss:0.69042\n",
      "[39]\tvalidation_0-mlogloss:0.04472\tvalidation_1-mlogloss:0.68557\n",
      "[40]\tvalidation_0-mlogloss:0.04213\tvalidation_1-mlogloss:0.68126\n",
      "[41]\tvalidation_0-mlogloss:0.03988\tvalidation_1-mlogloss:0.67728\n",
      "[42]\tvalidation_0-mlogloss:0.03755\tvalidation_1-mlogloss:0.67196\n",
      "[43]\tvalidation_0-mlogloss:0.03554\tvalidation_1-mlogloss:0.66859\n",
      "[44]\tvalidation_0-mlogloss:0.03371\tvalidation_1-mlogloss:0.66440\n",
      "[45]\tvalidation_0-mlogloss:0.03179\tvalidation_1-mlogloss:0.66118\n",
      "[46]\tvalidation_0-mlogloss:0.03017\tvalidation_1-mlogloss:0.65677\n",
      "[47]\tvalidation_0-mlogloss:0.02855\tvalidation_1-mlogloss:0.65402\n",
      "[48]\tvalidation_0-mlogloss:0.02695\tvalidation_1-mlogloss:0.65001\n",
      "[49]\tvalidation_0-mlogloss:0.02561\tvalidation_1-mlogloss:0.64651\n",
      "[50]\tvalidation_0-mlogloss:0.02445\tvalidation_1-mlogloss:0.64411\n",
      "[51]\tvalidation_0-mlogloss:0.02330\tvalidation_1-mlogloss:0.64137\n",
      "[52]\tvalidation_0-mlogloss:0.02216\tvalidation_1-mlogloss:0.63708\n",
      "[53]\tvalidation_0-mlogloss:0.02113\tvalidation_1-mlogloss:0.63456\n",
      "[54]\tvalidation_0-mlogloss:0.02021\tvalidation_1-mlogloss:0.63172\n",
      "[55]\tvalidation_0-mlogloss:0.01940\tvalidation_1-mlogloss:0.62921\n",
      "[56]\tvalidation_0-mlogloss:0.01851\tvalidation_1-mlogloss:0.62613\n",
      "[57]\tvalidation_0-mlogloss:0.01774\tvalidation_1-mlogloss:0.62402\n",
      "[58]\tvalidation_0-mlogloss:0.01702\tvalidation_1-mlogloss:0.62221\n",
      "[59]\tvalidation_0-mlogloss:0.01633\tvalidation_1-mlogloss:0.62022\n",
      "[60]\tvalidation_0-mlogloss:0.01577\tvalidation_1-mlogloss:0.61796\n",
      "[61]\tvalidation_0-mlogloss:0.01508\tvalidation_1-mlogloss:0.61609\n",
      "[62]\tvalidation_0-mlogloss:0.01452\tvalidation_1-mlogloss:0.61515\n",
      "[63]\tvalidation_0-mlogloss:0.01404\tvalidation_1-mlogloss:0.61403\n",
      "[64]\tvalidation_0-mlogloss:0.01355\tvalidation_1-mlogloss:0.61297\n",
      "[65]\tvalidation_0-mlogloss:0.01309\tvalidation_1-mlogloss:0.61106\n",
      "[66]\tvalidation_0-mlogloss:0.01265\tvalidation_1-mlogloss:0.60962\n",
      "[67]\tvalidation_0-mlogloss:0.01221\tvalidation_1-mlogloss:0.60853\n",
      "[68]\tvalidation_0-mlogloss:0.01187\tvalidation_1-mlogloss:0.60726\n",
      "[69]\tvalidation_0-mlogloss:0.01151\tvalidation_1-mlogloss:0.60623\n",
      "[70]\tvalidation_0-mlogloss:0.01115\tvalidation_1-mlogloss:0.60427\n",
      "[71]\tvalidation_0-mlogloss:0.01084\tvalidation_1-mlogloss:0.60309\n",
      "[72]\tvalidation_0-mlogloss:0.01056\tvalidation_1-mlogloss:0.60221\n",
      "[73]\tvalidation_0-mlogloss:0.01025\tvalidation_1-mlogloss:0.60069\n",
      "[74]\tvalidation_0-mlogloss:0.00998\tvalidation_1-mlogloss:0.59973\n",
      "[75]\tvalidation_0-mlogloss:0.00970\tvalidation_1-mlogloss:0.59813\n",
      "[76]\tvalidation_0-mlogloss:0.00947\tvalidation_1-mlogloss:0.59704\n",
      "[77]\tvalidation_0-mlogloss:0.00923\tvalidation_1-mlogloss:0.59662\n",
      "[78]\tvalidation_0-mlogloss:0.00901\tvalidation_1-mlogloss:0.59572\n",
      "[79]\tvalidation_0-mlogloss:0.00878\tvalidation_1-mlogloss:0.59401\n",
      "[80]\tvalidation_0-mlogloss:0.00856\tvalidation_1-mlogloss:0.59306\n",
      "[81]\tvalidation_0-mlogloss:0.00836\tvalidation_1-mlogloss:0.59205\n",
      "[82]\tvalidation_0-mlogloss:0.00817\tvalidation_1-mlogloss:0.59129\n",
      "[83]\tvalidation_0-mlogloss:0.00798\tvalidation_1-mlogloss:0.59050\n",
      "[84]\tvalidation_0-mlogloss:0.00779\tvalidation_1-mlogloss:0.58906\n",
      "[85]\tvalidation_0-mlogloss:0.00762\tvalidation_1-mlogloss:0.58820\n",
      "[86]\tvalidation_0-mlogloss:0.00745\tvalidation_1-mlogloss:0.58778\n",
      "[87]\tvalidation_0-mlogloss:0.00730\tvalidation_1-mlogloss:0.58742\n",
      "[88]\tvalidation_0-mlogloss:0.00714\tvalidation_1-mlogloss:0.58633\n",
      "[89]\tvalidation_0-mlogloss:0.00699\tvalidation_1-mlogloss:0.58643\n",
      "[90]\tvalidation_0-mlogloss:0.00685\tvalidation_1-mlogloss:0.58525\n",
      "[91]\tvalidation_0-mlogloss:0.00671\tvalidation_1-mlogloss:0.58442\n",
      "[92]\tvalidation_0-mlogloss:0.00658\tvalidation_1-mlogloss:0.58353\n",
      "[93]\tvalidation_0-mlogloss:0.00646\tvalidation_1-mlogloss:0.58275\n",
      "[94]\tvalidation_0-mlogloss:0.00633\tvalidation_1-mlogloss:0.58238\n",
      "[95]\tvalidation_0-mlogloss:0.00621\tvalidation_1-mlogloss:0.58202\n",
      "[96]\tvalidation_0-mlogloss:0.00611\tvalidation_1-mlogloss:0.58148\n",
      "[97]\tvalidation_0-mlogloss:0.00600\tvalidation_1-mlogloss:0.58111\n",
      "[98]\tvalidation_0-mlogloss:0.00590\tvalidation_1-mlogloss:0.58004\n",
      "[99]\tvalidation_0-mlogloss:0.00579\tvalidation_1-mlogloss:0.57926\n",
      "Time taken: 163.49636554718018\n"
     ]
    }
   ],
   "source": [
    "start = time.time()\n",
    "cls.fit(x_train, y_train, eval_set=[(x_train, y_train), (x_test, y_test)], early_stopping_rounds=10, verbose=True)\n",
    "print(f\"Time taken: {time.time() - start}\")"
   ]
  },
  {
   "cell_type": "markdown",
   "id": "2f52a628",
   "metadata": {},
   "source": [
    "## Check Result"
   ]
  },
  {
   "cell_type": "code",
   "execution_count": 49,
   "id": "2d012072",
   "metadata": {},
   "outputs": [
    {
     "name": "stdout",
     "output_type": "stream",
     "text": [
      "              precision    recall  f1-score   support\n",
      "\n",
      "           0       0.67      0.62      0.65       176\n",
      "           1       0.70      0.78      0.74       188\n",
      "           2       0.80      0.79      0.79       182\n",
      "           3       0.77      0.68      0.72       195\n",
      "           4       0.78      0.81      0.79       177\n",
      "           5       0.86      0.81      0.83       171\n",
      "           6       0.69      0.77      0.73       180\n",
      "           7       0.88      0.83      0.85       186\n",
      "           8       0.77      0.73      0.75       192\n",
      "           9       0.83      0.80      0.82       209\n",
      "          10       0.89      0.95      0.92       170\n",
      "          11       0.92      0.89      0.91       179\n",
      "          12       0.87      0.88      0.87       185\n",
      "          13       0.90      0.89      0.89       173\n",
      "          14       0.80      0.90      0.85       155\n",
      "          15       0.72      0.71      0.71       174\n",
      "          16       0.97      0.99      0.98       179\n",
      "\n",
      "    accuracy                           0.81      3071\n",
      "   macro avg       0.81      0.81      0.81      3071\n",
      "weighted avg       0.81      0.81      0.81      3071\n",
      "\n"
     ]
    }
   ],
   "source": [
    "y_pred = cls.predict(x_test)\n",
    "\n",
    "report = classification_report(y_test, y_pred)\n",
    "print(report)"
   ]
  },
  {
   "cell_type": "code",
   "execution_count": 50,
   "id": "01e2a763",
   "metadata": {},
   "outputs": [
    {
     "data": {
      "text/plain": [
       "(568,)"
      ]
     },
     "execution_count": 50,
     "metadata": {},
     "output_type": "execute_result"
    }
   ],
   "source": [
    "cls.feature_importances_.shape"
   ]
  },
  {
   "cell_type": "code",
   "execution_count": 51,
   "id": "c4ef7a91",
   "metadata": {},
   "outputs": [],
   "source": [
    "fi_df = pd.DataFrame({\"name\": feature_names, \"values\": cls.feature_importances_})"
   ]
  },
  {
   "cell_type": "code",
   "execution_count": 52,
   "id": "8ff988b6",
   "metadata": {},
   "outputs": [
    {
     "data": {
      "text/html": [
       "<div>\n",
       "<style scoped>\n",
       "    .dataframe tbody tr th:only-of-type {\n",
       "        vertical-align: middle;\n",
       "    }\n",
       "\n",
       "    .dataframe tbody tr th {\n",
       "        vertical-align: top;\n",
       "    }\n",
       "\n",
       "    .dataframe thead th {\n",
       "        text-align: right;\n",
       "    }\n",
       "</style>\n",
       "<table border=\"1\" class=\"dataframe\">\n",
       "  <thead>\n",
       "    <tr style=\"text-align: right;\">\n",
       "      <th></th>\n",
       "      <th>name</th>\n",
       "      <th>values</th>\n",
       "    </tr>\n",
       "  </thead>\n",
       "  <tbody>\n",
       "    <tr>\n",
       "      <th>0</th>\n",
       "      <td>iemg</td>\n",
       "      <td>0.003313</td>\n",
       "    </tr>\n",
       "    <tr>\n",
       "      <th>1</th>\n",
       "      <td>mav</td>\n",
       "      <td>0.000000</td>\n",
       "    </tr>\n",
       "    <tr>\n",
       "      <th>2</th>\n",
       "      <td>ssi</td>\n",
       "      <td>0.002291</td>\n",
       "    </tr>\n",
       "    <tr>\n",
       "      <th>3</th>\n",
       "      <td>myopulse</td>\n",
       "      <td>0.004366</td>\n",
       "    </tr>\n",
       "    <tr>\n",
       "      <th>4</th>\n",
       "      <td>wflen</td>\n",
       "      <td>0.130241</td>\n",
       "    </tr>\n",
       "    <tr>\n",
       "      <th>...</th>\n",
       "      <td>...</td>\n",
       "      <td>...</td>\n",
       "    </tr>\n",
       "    <tr>\n",
       "      <th>563</th>\n",
       "      <td>kurtosis_f_w8</td>\n",
       "      <td>0.000000</td>\n",
       "    </tr>\n",
       "    <tr>\n",
       "      <th>564</th>\n",
       "      <td>kurtosis_f_w9</td>\n",
       "      <td>0.000000</td>\n",
       "    </tr>\n",
       "    <tr>\n",
       "      <th>565</th>\n",
       "      <td>kurtosis_f_w10</td>\n",
       "      <td>0.000000</td>\n",
       "    </tr>\n",
       "    <tr>\n",
       "      <th>566</th>\n",
       "      <td>kurtosis_f_w11</td>\n",
       "      <td>0.000000</td>\n",
       "    </tr>\n",
       "    <tr>\n",
       "      <th>567</th>\n",
       "      <td>kurtosis_f_w12</td>\n",
       "      <td>0.000000</td>\n",
       "    </tr>\n",
       "  </tbody>\n",
       "</table>\n",
       "<p>568 rows × 2 columns</p>\n",
       "</div>"
      ],
      "text/plain": [
       "               name    values\n",
       "0              iemg  0.003313\n",
       "1               mav  0.000000\n",
       "2               ssi  0.002291\n",
       "3          myopulse  0.004366\n",
       "4             wflen  0.130241\n",
       "..              ...       ...\n",
       "563   kurtosis_f_w8  0.000000\n",
       "564   kurtosis_f_w9  0.000000\n",
       "565  kurtosis_f_w10  0.000000\n",
       "566  kurtosis_f_w11  0.000000\n",
       "567  kurtosis_f_w12  0.000000\n",
       "\n",
       "[568 rows x 2 columns]"
      ]
     },
     "execution_count": 52,
     "metadata": {},
     "output_type": "execute_result"
    }
   ],
   "source": [
    "fi_df"
   ]
  },
  {
   "cell_type": "code",
   "execution_count": 53,
   "id": "2c92a97c",
   "metadata": {},
   "outputs": [
    {
     "data": {
      "text/html": [
       "<div>\n",
       "<style scoped>\n",
       "    .dataframe tbody tr th:only-of-type {\n",
       "        vertical-align: middle;\n",
       "    }\n",
       "\n",
       "    .dataframe tbody tr th {\n",
       "        vertical-align: top;\n",
       "    }\n",
       "\n",
       "    .dataframe thead th {\n",
       "        text-align: right;\n",
       "    }\n",
       "</style>\n",
       "<table border=\"1\" class=\"dataframe\">\n",
       "  <thead>\n",
       "    <tr style=\"text-align: right;\">\n",
       "      <th></th>\n",
       "      <th>name</th>\n",
       "      <th>values</th>\n",
       "    </tr>\n",
       "  </thead>\n",
       "  <tbody>\n",
       "    <tr>\n",
       "      <th>4</th>\n",
       "      <td>wflen</td>\n",
       "      <td>0.130241</td>\n",
       "    </tr>\n",
       "    <tr>\n",
       "      <th>334</th>\n",
       "      <td>rms_w3</td>\n",
       "      <td>0.022068</td>\n",
       "    </tr>\n",
       "    <tr>\n",
       "      <th>22</th>\n",
       "      <td>power_f15</td>\n",
       "      <td>0.021282</td>\n",
       "    </tr>\n",
       "    <tr>\n",
       "      <th>262</th>\n",
       "      <td>min_f3</td>\n",
       "      <td>0.015149</td>\n",
       "    </tr>\n",
       "    <tr>\n",
       "      <th>133</th>\n",
       "      <td>skew_f14</td>\n",
       "      <td>0.012188</td>\n",
       "    </tr>\n",
       "    <tr>\n",
       "      <th>138</th>\n",
       "      <td>skew_w3</td>\n",
       "      <td>0.009369</td>\n",
       "    </tr>\n",
       "    <tr>\n",
       "      <th>128</th>\n",
       "      <td>skew_f9</td>\n",
       "      <td>0.009346</td>\n",
       "    </tr>\n",
       "    <tr>\n",
       "      <th>341</th>\n",
       "      <td>rms_w10</td>\n",
       "      <td>0.008319</td>\n",
       "    </tr>\n",
       "    <tr>\n",
       "      <th>27</th>\n",
       "      <td>power_w4</td>\n",
       "      <td>0.008283</td>\n",
       "    </tr>\n",
       "    <tr>\n",
       "      <th>146</th>\n",
       "      <td>skew_w11</td>\n",
       "      <td>0.007870</td>\n",
       "    </tr>\n",
       "    <tr>\n",
       "      <th>14</th>\n",
       "      <td>power_f7</td>\n",
       "      <td>0.007865</td>\n",
       "    </tr>\n",
       "    <tr>\n",
       "      <th>66</th>\n",
       "      <td>p2p_f3</td>\n",
       "      <td>0.007343</td>\n",
       "    </tr>\n",
       "    <tr>\n",
       "      <th>73</th>\n",
       "      <td>p2p_f10</td>\n",
       "      <td>0.007315</td>\n",
       "    </tr>\n",
       "    <tr>\n",
       "      <th>302</th>\n",
       "      <td>max_f15</td>\n",
       "      <td>0.007296</td>\n",
       "    </tr>\n",
       "    <tr>\n",
       "      <th>297</th>\n",
       "      <td>max_f10</td>\n",
       "      <td>0.006999</td>\n",
       "    </tr>\n",
       "    <tr>\n",
       "      <th>347</th>\n",
       "      <td>std_f4</td>\n",
       "      <td>0.006844</td>\n",
       "    </tr>\n",
       "    <tr>\n",
       "      <th>284</th>\n",
       "      <td>min_w9</td>\n",
       "      <td>0.006678</td>\n",
       "    </tr>\n",
       "    <tr>\n",
       "      <th>314</th>\n",
       "      <td>max_w11</td>\n",
       "      <td>0.006665</td>\n",
       "    </tr>\n",
       "    <tr>\n",
       "      <th>135</th>\n",
       "      <td>skew_f16</td>\n",
       "      <td>0.006619</td>\n",
       "    </tr>\n",
       "    <tr>\n",
       "      <th>461</th>\n",
       "      <td>var_f_f6</td>\n",
       "      <td>0.006596</td>\n",
       "    </tr>\n",
       "    <tr>\n",
       "      <th>15</th>\n",
       "      <td>power_f8</td>\n",
       "      <td>0.006482</td>\n",
       "    </tr>\n",
       "    <tr>\n",
       "      <th>142</th>\n",
       "      <td>skew_w7</td>\n",
       "      <td>0.006459</td>\n",
       "    </tr>\n",
       "    <tr>\n",
       "      <th>147</th>\n",
       "      <td>skew_w12</td>\n",
       "      <td>0.006369</td>\n",
       "    </tr>\n",
       "    <tr>\n",
       "      <th>11</th>\n",
       "      <td>power_f4</td>\n",
       "      <td>0.005892</td>\n",
       "    </tr>\n",
       "    <tr>\n",
       "      <th>267</th>\n",
       "      <td>min_f8</td>\n",
       "      <td>0.005840</td>\n",
       "    </tr>\n",
       "    <tr>\n",
       "      <th>21</th>\n",
       "      <td>power_f14</td>\n",
       "      <td>0.005792</td>\n",
       "    </tr>\n",
       "    <tr>\n",
       "      <th>308</th>\n",
       "      <td>max_w5</td>\n",
       "      <td>0.005610</td>\n",
       "    </tr>\n",
       "    <tr>\n",
       "      <th>148</th>\n",
       "      <td>kurtosis_f1</td>\n",
       "      <td>0.005179</td>\n",
       "    </tr>\n",
       "    <tr>\n",
       "      <th>300</th>\n",
       "      <td>max_f13</td>\n",
       "      <td>0.005111</td>\n",
       "    </tr>\n",
       "    <tr>\n",
       "      <th>463</th>\n",
       "      <td>var_f_f8</td>\n",
       "      <td>0.005071</td>\n",
       "    </tr>\n",
       "  </tbody>\n",
       "</table>\n",
       "</div>"
      ],
      "text/plain": [
       "            name    values\n",
       "4          wflen  0.130241\n",
       "334       rms_w3  0.022068\n",
       "22     power_f15  0.021282\n",
       "262       min_f3  0.015149\n",
       "133     skew_f14  0.012188\n",
       "138      skew_w3  0.009369\n",
       "128      skew_f9  0.009346\n",
       "341      rms_w10  0.008319\n",
       "27      power_w4  0.008283\n",
       "146     skew_w11  0.007870\n",
       "14      power_f7  0.007865\n",
       "66        p2p_f3  0.007343\n",
       "73       p2p_f10  0.007315\n",
       "302      max_f15  0.007296\n",
       "297      max_f10  0.006999\n",
       "347       std_f4  0.006844\n",
       "284       min_w9  0.006678\n",
       "314      max_w11  0.006665\n",
       "135     skew_f16  0.006619\n",
       "461     var_f_f6  0.006596\n",
       "15      power_f8  0.006482\n",
       "142      skew_w7  0.006459\n",
       "147     skew_w12  0.006369\n",
       "11      power_f4  0.005892\n",
       "267       min_f8  0.005840\n",
       "21     power_f14  0.005792\n",
       "308       max_w5  0.005610\n",
       "148  kurtosis_f1  0.005179\n",
       "300      max_f13  0.005111\n",
       "463     var_f_f8  0.005071"
      ]
     },
     "execution_count": 53,
     "metadata": {},
     "output_type": "execute_result"
    }
   ],
   "source": [
    "fi_df.sort_values(by = \"values\", ascending=False).head(30)"
   ]
  },
  {
   "cell_type": "code",
   "execution_count": 54,
   "id": "41a25c18",
   "metadata": {},
   "outputs": [
    {
     "data": {
      "text/plain": [
       "<AxesSubplot:xlabel='name'>"
      ]
     },
     "execution_count": 54,
     "metadata": {},
     "output_type": "execute_result"
    },
    {
     "data": {
      "image/png": "[encoded data removed]",
      "text/plain": [
       "<Figure size 1440x1440 with 1 Axes>"
      ]
     },
     "metadata": {
      "needs_background": "light"
     },
     "output_type": "display_data"
    }
   ],
   "source": [
    "\n",
    "fi_df.sort_values(by = \"values\", ascending=False)[:30].plot.bar(x = \"name\", y = \"values\", figsize = (20,20))"
   ]
  },
  {
   "cell_type": "code",
   "execution_count": null,
   "id": "cd285fd7",
   "metadata": {},
   "outputs": [],
   "source": []
  }
 ],
 "metadata": {
  "kernelspec": {
   "display_name": "Python 3 (ipykernel)",
   "language": "python",
   "name": "python3"
  },
  "language_info": {
   "codemirror_mode": {
    "name": "ipython",
    "version": 3
   },
   "file_extension": ".py",
   "mimetype": "text/x-python",
   "name": "python",
   "nbconvert_exporter": "python",
   "pygments_lexer": "ipython3",
   "version": "3.10.13"
  },
  "widgets": {
   "application/vnd.jupyter.widget-state+json": {
    "state": {},
    "version_major": 2,
    "version_minor": 0
   }
  }
 },
 "nbformat": 4,
 "nbformat_minor": 5
}
