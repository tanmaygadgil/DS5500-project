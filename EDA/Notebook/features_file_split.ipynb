{
 "cells": [
  {
   "cell_type": "code",
   "execution_count": null,
   "metadata": {},
   "outputs": [],
   "source": [
    "import os\n",
    "import sys\n",
    "import numpy as np\n",
    "import re\n",
    "import pandas as pd\n",
    "from matplotlib import pyplot as plt"
   ]
  },
  {
   "cell_type": "code",
   "execution_count": null,
   "metadata": {},
   "outputs": [],
   "source": [
    "df = pd.read_csv('E:/features_bysession.csv')"
   ]
  },
  {
   "cell_type": "code",
   "execution_count": null,
   "metadata": {},
   "outputs": [],
   "source": [
    "df.columns\n",
    "df = df.drop(columns=['Unnamed: 0'])\n",
    "cols = ['session', 'participant', 'gesture', 'index', 'iemg', 'mav', 'ssi', 'myopulse', 'wflen',\n",
    "        'diffvar', 'dasd', 'willison', 'mean', 'min', 'max', 'rms', 'std', 'power',\n",
    "        'peak', 'p2p', 'crest_factor', 'skew', 'kurtosis', 'form_factor',\n",
    "        'pulse_indicator', 'max_f', 'sum_f', 'mean_f', 'var_f', 'peak_f',\n",
    "        'skew_f', 'kurtosis_f']\n",
    "df = df[cols]\n",
    "df"
   ]
  },
  {
   "cell_type": "code",
   "execution_count": null,
   "metadata": {},
   "outputs": [],
   "source": [
    "features = ['mean', 'min', 'max', 'rms', 'std', 'power', 'peak', 'p2p', 'crest_factor', 'skew', 'kurtosis', 'form_factor', 'pulse_indicator',\n",
    "            'max_f', 'sum_f', 'mean_f', 'var_f', 'peak_f', 'skew_f', 'kurtosis_f']"
   ]
  },
  {
   "cell_type": "code",
   "execution_count": null,
   "metadata": {},
   "outputs": [],
   "source": [
    "subscript = ['_f1', '_f2', '_f3', '_f4', '_f5', '_f6', '_f7', '_f8',\n",
    "             '_f9', '_f10', '_f11', '_f12', '_f13', '_f14', '_f15', '_f16',\n",
    "             '_w1', '_w2', '_w3', '_w4', '_w5', '_w6',\n",
    "             '_w7', '_w8','_w9', '_w10', '_w11', '_w12']"
   ]
  },
  {
   "cell_type": "code",
   "execution_count": null,
   "metadata": {},
   "outputs": [],
   "source": [
    "for feat in features:\n",
    "    feat_columns = []\n",
    "    for sub in subscript:\n",
    "        feat_columns.append(str(feat + sub))\n",
    "    df[feat] = df[feat].str[1:-1]\n",
    "    df[feat] = df[feat].str.split()\n",
    "    split = pd.DataFrame(df[feat].to_list(), columns = feat_columns)\n",
    "    df = pd.concat([df, split], axis = 1)\n",
    "    df = df.drop(feat, axis = 1)"
   ]
  },
  {
   "cell_type": "code",
   "execution_count": null,
   "metadata": {},
   "outputs": [],
   "source": [
    "for feat in features:\n",
    "    for sub in subscript:\n",
    "        df[str(feat + sub)] = pd.to_numeric(df[str(feat + sub)])"
   ]
  },
  {
   "cell_type": "code",
   "execution_count": null,
   "metadata": {},
   "outputs": [],
   "source": [
    "df.to_csv('E:/features_split.csv')"
   ]
  }
 ],
 "metadata": {
  "language_info": {
   "name": "python"
  }
 },
 "nbformat": 4,
 "nbformat_minor": 2
}
