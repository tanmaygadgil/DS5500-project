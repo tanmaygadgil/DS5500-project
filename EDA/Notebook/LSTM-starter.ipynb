{
 "cells": [
  {
   "cell_type": "code",
   "execution_count": 1,
   "id": "50bbf47a-1a2f-4c10-b3a4-c21d25fa3b9a",
   "metadata": {},
   "outputs": [],
   "source": [
    "import pandas as pd\n",
    "import numpy as np\n",
    "import os\n",
    "import sys\n",
    "import torch"
   ]
  },
  {
   "cell_type": "code",
   "execution_count": 2,
   "id": "ddfd1132-ab7f-4881-a691-4407cad63178",
   "metadata": {},
   "outputs": [],
   "source": [
    "import torch.nn as nn"
   ]
  },
  {
   "cell_type": "markdown",
   "id": "057e9317-446b-447b-abc9-0a81c583b81f",
   "metadata": {},
   "source": [
    "## Load in the tensor data"
   ]
  },
  {
   "cell_type": "code",
   "execution_count": null,
   "id": "d3e2078b-81b8-4352-bff9-cea84161d119",
   "metadata": {},
   "outputs": [],
   "source": []
  },
  {
   "cell_type": "code",
   "execution_count": null,
   "id": "cbce45d0-4cd7-4a26-ae6e-0a87873e7f57",
   "metadata": {},
   "outputs": [],
   "source": []
  },
  {
   "cell_type": "code",
   "execution_count": null,
   "id": "9661ed48-40e5-45bc-8f99-d6cfe9a2a7cd",
   "metadata": {},
   "outputs": [],
   "source": []
  },
  {
   "cell_type": "markdown",
   "id": "202a2a8e-68bb-4aa1-b41f-8761b257d8a0",
   "metadata": {},
   "source": [
    "## Scale the Tensor data"
   ]
  },
  {
   "cell_type": "code",
   "execution_count": null,
   "id": "47c231d3-f861-4bc3-8f50-4221e3cef0ca",
   "metadata": {},
   "outputs": [],
   "source": []
  },
  {
   "cell_type": "code",
   "execution_count": null,
   "id": "c45a9566-c06e-41a6-8ea8-625b6dec8f24",
   "metadata": {},
   "outputs": [],
   "source": []
  },
  {
   "cell_type": "code",
   "execution_count": null,
   "id": "7404f113-96f7-4700-beab-6a7c6667539c",
   "metadata": {},
   "outputs": [],
   "source": []
  },
  {
   "cell_type": "code",
   "execution_count": null,
   "id": "e98aba7f-162e-4bca-8dc8-0c69e449c460",
   "metadata": {},
   "outputs": [],
   "source": []
  },
  {
   "cell_type": "markdown",
   "id": "e96177da-a8d1-4c8b-b872-a920a355d4f0",
   "metadata": {},
   "source": [
    "## Build LSTM model"
   ]
  },
  {
   "cell_type": "code",
   "execution_count": null,
   "id": "1f7a2700-28de-4484-b105-f0e29965012c",
   "metadata": {},
   "outputs": [],
   "source": [
    "class SimpleLSTM(nn.Module):\n",
    "    def __init__(self, input_size, hidden_size, num_layers, num_output_classes):\n",
    "        super.__init__()\n",
    "        self.lstm = nn.LSTM(input_size = input_size, \n",
    "                            hidden_size = hidden_size, \n",
    "                            num_layers = num_layers, \n",
    "                            batch_first = True)\n",
    "        self.fc = nn.Linear(hidden_size, \n",
    "                            num_output_classes = num_output_classes)"
   ]
  }
 ],
 "metadata": {
  "kernelspec": {
   "display_name": "Python 3 (ipykernel)",
   "language": "python",
   "name": "python3"
  },
  "language_info": {
   "codemirror_mode": {
    "name": "ipython",
    "version": 3
   },
   "file_extension": ".py",
   "mimetype": "text/x-python",
   "name": "python",
   "nbconvert_exporter": "python",
   "pygments_lexer": "ipython3",
   "version": "3.10.13"
  },
  "widgets": {
   "application/vnd.jupyter.widget-state+json": {
    "state": {},
    "version_major": 2,
    "version_minor": 0
   }
  }
 },
 "nbformat": 4,
 "nbformat_minor": 5
}
