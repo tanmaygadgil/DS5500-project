{
 "cells": [
  {
   "cell_type": "code",
   "execution_count": 62,
   "id": "4c163d4a-ac69-4b4e-8b38-c20e9bf7ed5e",
   "metadata": {},
   "outputs": [],
   "source": [
    "import pandas as pd\n",
    "import numpy as np\n",
    "import os\n",
    "import sys\n",
    "import json"
   ]
  },
  {
   "cell_type": "code",
   "execution_count": 63,
   "id": "d1b772a3-8309-4f8d-8c94-bb85340f67c7",
   "metadata": {},
   "outputs": [],
   "source": [
    "from sklearn.preprocessing import StandardScaler"
   ]
  },
  {
   "cell_type": "code",
   "execution_count": 64,
   "id": "9359e9d5-a84d-4de5-8648-73e386c426b3",
   "metadata": {},
   "outputs": [],
   "source": [
    "import torch\n",
    "from scipy.ndimage import median_filter\n",
    "from sklearn.metrics import classification_report, f1_score, precision_score, recall_score, accuracy_score\n",
    "from torch.utils.data import TensorDataset, DataLoader\n",
    "import torch.nn as nn\n",
    "from torch import optim\n",
    "from sklearn.model_selection import train_test_split\n",
    "from sklearn.preprocessing import StandardScaler\n",
    "import shap\n",
    "from sklearn.cluster import DBSCAN, AgglomerativeClustering\n",
    "from sklearn.manifold import TSNE\n",
    "from sklearn.decomposition import PCA"
   ]
  },
  {
   "cell_type": "code",
   "execution_count": 65,
   "id": "9d748035-50a3-49d6-a605-069afaca53fe",
   "metadata": {},
   "outputs": [],
   "source": [
    "from pickle import load\n",
    "from tqdm import tqdm\n",
    "import seaborn as sns\n",
    "from scipy import stats\n",
    "import matplotlib.pyplot as plt\n"
   ]
  },
  {
   "cell_type": "code",
   "execution_count": 66,
   "id": "e83ea058-3c41-47d7-92ac-8ce6ef7663dd",
   "metadata": {},
   "outputs": [],
   "source": [
    "from sklearn.metrics import silhouette_score"
   ]
  },
  {
   "cell_type": "code",
   "execution_count": 67,
   "id": "63b4142f-c653-4cde-b7ac-95bc01de3295",
   "metadata": {},
   "outputs": [],
   "source": [
    "data = pd.read_csv('../data/gesture-recognition-and-biometrics-electromyogram-grabmyo-1.0.2/features_v2.csv')\n",
    "feature_cols = [c for c in data.columns if \"_\" in c]\n",
    "for col in feature_cols:\n",
    "    data[col] = data[col].clip(data[col].mean() - (3*data[col].std()), data[col].mean() + (3*data[col].std()))"
   ]
  },
  {
   "cell_type": "code",
   "execution_count": 68,
   "id": "cdcf520b-d347-4b32-9634-4f58342d9283",
   "metadata": {},
   "outputs": [],
   "source": [
    "class Encoder(nn.Module):\n",
    "    def __init__(self, input_dim, embed_dim):\n",
    "        super().__init__()\n",
    "        self.l1 = nn.Linear(input_dim, 128)\n",
    "        \n",
    "        self.l2 = nn.Linear(128, 128)\n",
    "        self.l3 = nn.Linear(128, 128)\n",
    "        self.l4 = nn.Linear(128, embed_dim)\n",
    "        self.dropout = nn.Dropout(p=0.3)\n",
    "        self.relu = nn.ReLU()\n",
    "    def forward(self, x):\n",
    "        x = self.relu(self.l1(x))\n",
    "        x = self.dropout(x)\n",
    "        x = self.relu(self.l2(x))\n",
    "        x = self.dropout(x)\n",
    "        x = self.relu(self.l3(x))\n",
    "        x = self.dropout(x)\n",
    "        x = self.l4(x)\n",
    "        return x\n",
    "\n",
    "\n",
    "class ClassificationHead(nn.Module):\n",
    "    def __init__(self,embed_dim, output_dim):\n",
    "        super().__init__()\n",
    "        self.l1 = nn.Linear(embed_dim, 64)\n",
    "        self.l2 = nn.Linear(64, output_dim)\n",
    "        self.relu = nn.ReLU()\n",
    "    def forward(self, x):\n",
    "        x = self.relu(self.l1(x))\n",
    "        x = self.l2(x)\n",
    "        return x\n",
    "\n",
    "class UserClassifier(nn.Module):\n",
    "    def __init__(self, input_dim, embed_dim, output_dim):\n",
    "        super().__init__()\n",
    "        self.encoder = Encoder(input_dim, embed_dim)\n",
    "        self.decoder = ClassificationHead(embed_dim, output_dim)\n",
    "        \n",
    "    def forward(self, x):\n",
    "        x = self.encoder(x)\n",
    "        x = self.decoder(x)\n",
    "        return x"
   ]
  },
  {
   "cell_type": "code",
   "execution_count": 69,
   "id": "2c565129-d978-4760-afb8-ca6d0b328251",
   "metadata": {},
   "outputs": [],
   "source": [
    "train_parts = list(range(1,39))\n",
    "test_parts = list(range(39,44))"
   ]
  },
  {
   "cell_type": "code",
   "execution_count": 70,
   "id": "b233e476-4d75-4b7d-9624-6eb44ab537d1",
   "metadata": {},
   "outputs": [],
   "source": [
    "train_df = data[data[\"participant\"].isin(train_parts)].reset_index()\n",
    "test_df = data[data[\"participant\"].isin(test_parts)].reset_index()"
   ]
  },
  {
   "cell_type": "code",
   "execution_count": 71,
   "id": "c10b1f48-3cea-4296-8c12-d04268533fbc",
   "metadata": {},
   "outputs": [],
   "source": [
    "scaler  = load(open('sub_scaler.pkl', 'rb'))"
   ]
  },
  {
   "cell_type": "code",
   "execution_count": 72,
   "id": "b68998e4-f395-4d21-9346-71b5c300250b",
   "metadata": {},
   "outputs": [],
   "source": [
    "x_train = train_df.loc[:, feature_cols].values\n",
    "y_train = (train_df.loc[:, 'participant']).values\n",
    "g_train = (train_df.loc[:, 'gesture']).values\n",
    "s_train = (train_df.loc[:, 'session']).values\n",
    "\n",
    "x_test = test_df.loc[:, feature_cols].values\n",
    "y_test = (test_df.loc[:, 'participant']).values\n",
    "g_test = (test_df.loc[:, 'gesture']).values\n",
    "s_test = (test_df.loc[:, 'session']).values"
   ]
  },
  {
   "cell_type": "code",
   "execution_count": 73,
   "id": "8dafd006-acc5-404d-9055-75eaf12f380e",
   "metadata": {},
   "outputs": [],
   "source": [
    "x_train = scaler.transform(x_train)\n",
    "x_test = scaler.transform(x_test)"
   ]
  },
  {
   "cell_type": "code",
   "execution_count": 74,
   "id": "2f3cffee-2f9b-4144-b1e7-ed83e096b1a3",
   "metadata": {},
   "outputs": [],
   "source": [
    "encoder = Encoder(x_train.shape[1], 16)"
   ]
  },
  {
   "cell_type": "code",
   "execution_count": 75,
   "id": "4ae96f4b-92f7-4dbc-9078-8826e9d102d6",
   "metadata": {},
   "outputs": [
    {
     "data": {
      "text/plain": [
       "<All keys matched successfully>"
      ]
     },
     "execution_count": 75,
     "metadata": {},
     "output_type": "execute_result"
    }
   ],
   "source": [
    "encoder.load_state_dict(torch.load('sub_encoder.pth'), strict=False)"
   ]
  },
  {
   "cell_type": "code",
   "execution_count": 76,
   "id": "a435a49c-a84a-439a-b464-9007a452ae65",
   "metadata": {},
   "outputs": [],
   "source": [
    "def embed(model, test_loader):\n",
    "    model.eval()  # Set the model to evaluation mode\n",
    "    y_pred = []\n",
    "\n",
    "    with torch.no_grad():\n",
    "        for batch_idx, (inputs, labels) in enumerate(test_loader):\n",
    "            outputs = model(inputs)\n",
    "            # _, predicted = torch.max(outputs, 1)\n",
    "            y_pred.extend(outputs)\n",
    "\n",
    "    return torch.stack(y_pred)"
   ]
  },
  {
   "cell_type": "code",
   "execution_count": 77,
   "id": "9674850d-2d1c-4bba-90de-7f9b4d366fdb",
   "metadata": {},
   "outputs": [],
   "source": [
    "## Reading centroids\n",
    "with open(\"centroids_v1.json\", \"r\") as file:\n",
    "    centroids = json.load(file)"
   ]
  },
  {
   "cell_type": "code",
   "execution_count": 79,
   "id": "3ee8a488-94d9-43b6-85dd-84187c75e267",
   "metadata": {},
   "outputs": [],
   "source": [
    "## Reading centroids\n",
    "with open(\"test_centroids_v1.json\", \"r\") as file:\n",
    "    test_centroids = json.load(file)"
   ]
  },
  {
   "cell_type": "code",
   "execution_count": 80,
   "id": "832b5288-587d-4047-9cd3-620df26e88b8",
   "metadata": {},
   "outputs": [],
   "source": [
    "train_dataset = TensorDataset(torch.tensor(x_train).type(torch.float32), torch.tensor(y_train).type(torch.LongTensor))\n",
    "test_dataset = TensorDataset(torch.tensor(x_test).type(torch.float32), torch.tensor(y_test).type(torch.LongTensor))"
   ]
  },
  {
   "cell_type": "code",
   "execution_count": 81,
   "id": "5c70d654-0b9e-43b8-8201-edcc48da6c72",
   "metadata": {},
   "outputs": [],
   "source": [
    "batch_size = 256\n",
    "train_loader = DataLoader(train_dataset, batch_size=batch_size, shuffle=False)\n",
    "test_loader = DataLoader(test_dataset, batch_size=batch_size, shuffle=False)"
   ]
  },
  {
   "cell_type": "code",
   "execution_count": 82,
   "id": "5c524fe6-1ab4-4854-a559-23828eeb5b59",
   "metadata": {},
   "outputs": [],
   "source": [
    "train_embeddings = embed(model=encoder, test_loader=train_loader)\n",
    "test_embeddings = embed(model=encoder, test_loader=test_loader)"
   ]
  },
  {
   "cell_type": "code",
   "execution_count": 83,
   "id": "96e2e5b7-2a12-4720-9101-5139157ae7d5",
   "metadata": {},
   "outputs": [
    {
     "data": {
      "text/plain": [
       "dict_keys(['1', '2', '3', '4', '5', '6', '7', '8', '9', '10', '11', '12', '13', '14', '15', '16', '17'])"
      ]
     },
     "execution_count": 83,
     "metadata": {},
     "output_type": "execute_result"
    }
   ],
   "source": [
    "centroids.keys()"
   ]
  },
  {
   "cell_type": "code",
   "execution_count": 84,
   "id": "bc822556-b819-43fa-94da-fa280883c78e",
   "metadata": {},
   "outputs": [],
   "source": [
    "gestures = range(1,18)"
   ]
  },
  {
   "cell_type": "code",
   "execution_count": 87,
   "id": "91299a96-d447-481a-bbbc-28f7b69de00e",
   "metadata": {},
   "outputs": [],
   "source": [
    "def predict_cluster(centroids, embedding, gesture, parts):\n",
    "    cents = centroids[str(gesture)]\n",
    "    min_dist = 1e10\n",
    "    min_part = None\n",
    "    for i in parts:\n",
    "        c = cents[str(i)]['centroid']\n",
    "        dist = np.linalg.norm(embedding - c)\n",
    "        if dist< min_dist:\n",
    "            min_dist = dist\n",
    "            min_part = i\n",
    "    return min_part\n",
    "    \n",
    "    "
   ]
  },
  {
   "cell_type": "code",
   "execution_count": 94,
   "id": "f73ce3a2-4f3c-4c87-898f-5c2302ae0700",
   "metadata": {},
   "outputs": [],
   "source": [
    "i = np.where(g_train==10)\n",
    "embeds = train_embeddings[i]\n",
    "labels = y_train[i]"
   ]
  },
  {
   "cell_type": "code",
   "execution_count": 95,
   "id": "3dd11962-642f-4bab-9bd5-67c29444b966",
   "metadata": {},
   "outputs": [
    {
     "data": {
      "text/plain": [
       "torch.Size([16])"
      ]
     },
     "execution_count": 95,
     "metadata": {},
     "output_type": "execute_result"
    }
   ],
   "source": [
    "(embeds[10,:]).shape"
   ]
  },
  {
   "cell_type": "code",
   "execution_count": 96,
   "id": "a76c3826-9210-4ec5-be5d-943490f9ce0c",
   "metadata": {},
   "outputs": [
    {
     "name": "stderr",
     "output_type": "stream",
     "text": [
      "100%|██████████████████████████████████████████████████████████████████████████████| 798/798 [00:00<00:00, 2247.91it/s]\n"
     ]
    }
   ],
   "source": [
    "preds = []\n",
    "for e in tqdm(range(len(embeds))):\n",
    "    embedding = np.array(embeds[e,:])\n",
    "    # print(embedding.shape)\n",
    "    pred = predict_cluster(centroids, np.array(embedding), 10, train_parts)\n",
    "    preds.append(pred)"
   ]
  },
  {
   "cell_type": "code",
   "execution_count": 97,
   "id": "9d24dc7f-7b05-4e71-82a9-b22f1d5e9a45",
   "metadata": {},
   "outputs": [
    {
     "data": {
      "text/plain": [
       "0.9223057644110275"
      ]
     },
     "execution_count": 97,
     "metadata": {},
     "output_type": "execute_result"
    }
   ],
   "source": [
    "accuracy_score(preds, labels)"
   ]
  },
  {
   "cell_type": "code",
   "execution_count": 98,
   "id": "fcef3939-b163-41d8-aa8b-add5c5707b07",
   "metadata": {
    "scrolled": true
   },
   "outputs": [
    {
     "name": "stderr",
     "output_type": "stream",
     "text": [
      "  0%|                                                                                           | 0/17 [00:00<?, ?it/s]\n",
      "  0%|                                                                                          | 0/798 [00:00<?, ?it/s]\u001b[A\n",
      " 19%|███████████████▏                                                              | 155/798 [00:00<00:00, 1534.67it/s]\u001b[A\n",
      " 39%|██████████████████████████████▏                                               | 309/798 [00:00<00:00, 1406.01it/s]\u001b[A\n",
      " 68%|████████████████████████████████████████████████████▉                         | 542/798 [00:00<00:00, 1806.47it/s]\u001b[A\n",
      "100%|██████████████████████████████████████████████████████████████████████████████| 798/798 [00:00<00:00, 1645.36it/s]\u001b[A\n",
      "  6%|████▉                                                                              | 1/17 [00:00<00:07,  2.03it/s]\n",
      "  0%|                                                                                          | 0/798 [00:00<?, ?it/s]\u001b[A\n",
      " 17%|█████████████                                                                 | 134/798 [00:00<00:00, 1326.73it/s]\u001b[A\n",
      " 34%|██████████████████████████▎                                                   | 269/798 [00:00<00:00, 1332.55it/s]\u001b[A\n",
      " 53%|█████████████████████████████████████████▋                                    | 426/798 [00:00<00:00, 1440.37it/s]\u001b[A\n",
      "100%|██████████████████████████████████████████████████████████████████████████████| 798/798 [00:00<00:00, 1602.40it/s]\u001b[A\n",
      " 12%|█████████▊                                                                         | 2/17 [00:00<00:07,  2.00it/s]\n",
      "  0%|                                                                                          | 0/798 [00:00<?, ?it/s]\u001b[A\n",
      " 15%|███████████▊                                                                  | 121/798 [00:00<00:00, 1209.98it/s]\u001b[A\n",
      " 31%|████████████████████████▏                                                     | 247/798 [00:00<00:00, 1232.17it/s]\u001b[A\n",
      " 60%|██████████████████████████████████████████████▌                               | 476/798 [00:00<00:00, 1713.43it/s]\u001b[A\n",
      "100%|██████████████████████████████████████████████████████████████████████████████| 798/798 [00:00<00:00, 1618.64it/s]\u001b[A\n",
      " 18%|██████████████▋                                                                    | 3/17 [00:01<00:07,  2.00it/s]\n",
      "  0%|                                                                                          | 0/798 [00:00<?, ?it/s]\u001b[A\n",
      "  7%|█████▊                                                                          | 58/798 [00:00<00:01, 471.54it/s]\u001b[A\n",
      " 17%|█████████████▌                                                                 | 137/798 [00:00<00:01, 639.24it/s]\u001b[A\n",
      " 43%|█████████████████████████████████▊                                            | 346/798 [00:00<00:00, 1267.36it/s]\u001b[A\n",
      " 61%|███████████████████████████████████████████████▏                              | 483/798 [00:00<00:00, 1306.58it/s]\u001b[A\n",
      "100%|██████████████████████████████████████████████████████████████████████████████| 798/798 [00:00<00:00, 1387.83it/s]\u001b[A\n",
      " 24%|███████████████████▌                                                               | 4/17 [00:02<00:06,  1.88it/s]\n",
      "  0%|                                                                                          | 0/798 [00:00<?, ?it/s]\u001b[A\n",
      " 19%|███████████████                                                               | 154/798 [00:00<00:00, 1524.74it/s]\u001b[A\n",
      " 39%|██████████████████████████████▎                                               | 310/798 [00:00<00:00, 1536.41it/s]\u001b[A\n",
      " 64%|█████████████████████████████████████████████████▋                            | 508/798 [00:00<00:00, 1730.02it/s]\u001b[A\n",
      "100%|██████████████████████████████████████████████████████████████████████████████| 798/798 [00:00<00:00, 1635.26it/s]\u001b[A\n",
      " 29%|████████████████████████▍                                                          | 5/17 [00:02<00:06,  1.92it/s]\n",
      "  0%|                                                                                          | 0/798 [00:00<?, ?it/s]\u001b[A\n",
      " 22%|█████████████████                                                             | 174/798 [00:00<00:00, 1722.81it/s]\u001b[A\n",
      " 43%|█████████████████████████████████▉                                            | 347/798 [00:00<00:00, 1521.94it/s]\u001b[A\n",
      "100%|██████████████████████████████████████████████████████████████████████████████| 798/798 [00:00<00:00, 1886.52it/s]\u001b[A\n",
      " 35%|█████████████████████████████▎                                                     | 6/17 [00:03<00:05,  2.04it/s]\n",
      "  0%|                                                                                          | 0/798 [00:00<?, ?it/s]\u001b[A\n",
      " 17%|█████████████▎                                                                | 136/798 [00:00<00:00, 1346.50it/s]\u001b[A\n",
      " 36%|███████████████████████████▊                                                  | 284/798 [00:00<00:00, 1416.47it/s]\u001b[A\n",
      " 61%|███████████████████████████████████████████████▍                              | 485/798 [00:00<00:00, 1686.00it/s]\u001b[A\n",
      "100%|██████████████████████████████████████████████████████████████████████████████| 798/798 [00:00<00:00, 1662.52it/s]\u001b[A\n",
      " 41%|██████████████████████████████████▏                                                | 7/17 [00:03<00:04,  2.05it/s]\n",
      "  0%|                                                                                          | 0/798 [00:00<?, ?it/s]\u001b[A\n",
      " 19%|██████████████▉                                                               | 153/798 [00:00<00:00, 1514.89it/s]\u001b[A\n",
      " 38%|█████████████████████████████▊                                                | 305/798 [00:00<00:00, 1425.99it/s]\u001b[A\n",
      " 63%|████████████████████████████████████████████████▉                             | 501/798 [00:00<00:00, 1653.79it/s]\u001b[A\n",
      "100%|██████████████████████████████████████████████████████████████████████████████| 798/798 [00:00<00:00, 1680.02it/s]\u001b[A\n",
      " 47%|███████████████████████████████████████                                            | 8/17 [00:03<00:04,  2.05it/s]\n",
      "  0%|                                                                                          | 0/798 [00:00<?, ?it/s]\u001b[A\n",
      " 21%|████████████████▏                                                             | 166/798 [00:00<00:00, 1643.59it/s]\u001b[A\n",
      " 41%|████████████████████████████████▎                                             | 331/798 [00:00<00:00, 1591.40it/s]\u001b[A\n",
      " 71%|███████████████████████████████████████████████████████▎                      | 566/798 [00:00<00:00, 1921.96it/s]\u001b[A\n",
      "100%|██████████████████████████████████████████████████████████████████████████████| 798/798 [00:00<00:00, 1746.18it/s]\u001b[A\n",
      " 53%|███████████████████████████████████████████▉                                       | 9/17 [00:04<00:03,  2.08it/s]\n",
      "  0%|                                                                                          | 0/798 [00:00<?, ?it/s]\u001b[A\n",
      " 20%|███████████████▉                                                              | 163/798 [00:00<00:00, 1613.89it/s]\u001b[A\n",
      " 41%|███████████████████████████████▊                                              | 325/798 [00:00<00:00, 1486.82it/s]\u001b[A\n",
      " 60%|██████████████████████████████████████████████▌                               | 476/798 [00:00<00:00, 1496.89it/s]\u001b[A\n",
      "100%|██████████████████████████████████████████████████████████████████████████████| 798/798 [00:00<00:00, 1716.13it/s]\u001b[A\n",
      " 59%|████████████████████████████████████████████████▏                                 | 10/17 [00:04<00:03,  2.09it/s]\n",
      "  0%|                                                                                          | 0/798 [00:00<?, ?it/s]\u001b[A\n",
      " 18%|██████████████▏                                                               | 145/798 [00:00<00:00, 1435.70it/s]\u001b[A\n",
      " 37%|████████████████████████████▉                                                 | 296/798 [00:00<00:00, 1479.23it/s]\u001b[A\n",
      " 62%|████████████████████████████████████████████████▍                             | 495/798 [00:00<00:00, 1711.92it/s]\u001b[A\n",
      "100%|██████████████████████████████████████████████████████████████████████████████| 798/798 [00:00<00:00, 1669.47it/s]\u001b[A\n",
      " 65%|█████████████████████████████████████████████████████                             | 11/17 [00:05<00:02,  2.08it/s]\n",
      "  0%|                                                                                          | 0/798 [00:00<?, ?it/s]\u001b[A\n",
      " 17%|█████████████▏                                                                | 135/798 [00:00<00:00, 1336.64it/s]\u001b[A\n",
      " 38%|█████████████████████████████▍                                                | 301/798 [00:00<00:00, 1517.16it/s]\u001b[A\n",
      " 60%|██████████████████████████████████████████████▍                               | 475/798 [00:00<00:00, 1611.06it/s]\u001b[A\n",
      "100%|██████████████████████████████████████████████████████████████████████████████| 798/798 [00:00<00:00, 1753.84it/s]\u001b[A\n",
      " 71%|█████████████████████████████████████████████████████████▉                        | 12/17 [00:05<00:02,  2.10it/s]\n",
      "  0%|                                                                                          | 0/798 [00:00<?, ?it/s]\u001b[A\n",
      " 20%|███████████████▊                                                              | 162/798 [00:00<00:00, 1603.96it/s]\u001b[A\n",
      " 42%|████████████████████████████████▉                                             | 337/798 [00:00<00:00, 1679.70it/s]\u001b[A\n",
      " 67%|███████████████████████████████████████████████████▉                          | 531/798 [00:00<00:00, 1797.90it/s]\u001b[A\n",
      "100%|██████████████████████████████████████████████████████████████████████████████| 798/798 [00:00<00:00, 1757.72it/s]\u001b[A\n",
      " 76%|██████████████████████████████████████████████████████████████▋                   | 13/17 [00:06<00:01,  2.12it/s]\n",
      "  0%|                                                                                          | 0/798 [00:00<?, ?it/s]\u001b[A\n",
      " 17%|█████████████▍                                                                | 137/798 [00:00<00:00, 1369.92it/s]\u001b[A\n",
      " 34%|██████████████████████████▊                                                   | 274/798 [00:00<00:00, 1330.90it/s]\u001b[A\n",
      " 61%|███████████████████████████████████████████████▏                              | 483/798 [00:00<00:00, 1672.06it/s]\u001b[A\n",
      "100%|██████████████████████████████████████████████████████████████████████████████| 798/798 [00:00<00:00, 1731.03it/s]\u001b[A\n",
      " 82%|███████████████████████████████████████████████████████████████████▌              | 14/17 [00:06<00:01,  2.12it/s]\n",
      "  0%|                                                                                          | 0/798 [00:00<?, ?it/s]\u001b[A\n",
      " 20%|███████████████▋                                                              | 160/798 [00:00<00:00, 1584.22it/s]\u001b[A\n",
      " 40%|███████████████████████████████▎                                              | 320/798 [00:00<00:00, 1593.43it/s]\u001b[A\n",
      " 66%|███████████████████████████████████████████████████▏                          | 524/798 [00:00<00:00, 1788.78it/s]\u001b[A\n",
      "100%|██████████████████████████████████████████████████████████████████████████████| 798/798 [00:00<00:00, 1922.91it/s]\u001b[A\n",
      " 88%|████████████████████████████████████████████████████████████████████████▎         | 15/17 [00:07<00:00,  2.19it/s]\n",
      "  0%|                                                                                          | 0/798 [00:00<?, ?it/s]\u001b[A\n",
      " 18%|██████████████▏                                                               | 145/798 [00:00<00:00, 1449.99it/s]\u001b[A\n",
      " 37%|████████████████████████████▊                                                 | 295/798 [00:00<00:00, 1470.78it/s]\u001b[A\n",
      " 67%|████████████████████████████████████████████████████▏                         | 534/798 [00:00<00:00, 1888.93it/s]\u001b[A\n",
      "100%|██████████████████████████████████████████████████████████████████████████████| 798/798 [00:00<00:00, 1813.65it/s]\u001b[A\n",
      " 94%|█████████████████████████████████████████████████████████████████████████████▏    | 16/17 [00:07<00:00,  2.20it/s]\n",
      "  0%|                                                                                          | 0/798 [00:00<?, ?it/s]\u001b[A\n",
      " 25%|███████████████████▋                                                          | 201/798 [00:00<00:00, 1990.14it/s]\u001b[A\n",
      " 50%|███████████████████████████████████████▏                                      | 401/798 [00:00<00:00, 1768.02it/s]\u001b[A\n",
      " 73%|█████████████████████████████████████████████████████████                     | 584/798 [00:00<00:00, 1794.40it/s]\u001b[A\n",
      "100%|██████████████████████████████████████████████████████████████████████████████| 798/798 [00:00<00:00, 1851.51it/s]\u001b[A\n",
      "100%|██████████████████████████████████████████████████████████████████████████████████| 17/17 [00:08<00:00,  2.10it/s]\n"
     ]
    }
   ],
   "source": [
    "g_accs = {}\n",
    "for g in tqdm(gestures):\n",
    "    i = np.where(g_train==g)\n",
    "    embeds = train_embeddings[i]\n",
    "    labels = y_train[i]\n",
    "    preds = []\n",
    "    for e in tqdm(range(len(embeds))):\n",
    "        embedding = np.array(embeds[e,:])\n",
    "        # print(embedding.shape)\n",
    "        pred = predict_cluster(centroids, np.array(embedding), g, train_parts)\n",
    "        preds.append(pred)\n",
    "    g_accs[g] = accuracy_score(preds, labels)"
   ]
  },
  {
   "cell_type": "code",
   "execution_count": 99,
   "id": "bb9508b8-d701-4c04-948e-c89262fa3acc",
   "metadata": {},
   "outputs": [
    {
     "name": "stderr",
     "output_type": "stream",
     "text": [
      "  0%|                                                                                           | 0/17 [00:00<?, ?it/s]\n",
      "100%|██████████████████████████████████████████████████████████████████████████████| 105/105 [00:00<00:00, 6562.29it/s]\u001b[A\n",
      "\n",
      "100%|██████████████████████████████████████████████████████████████████████████████| 105/105 [00:00<00:00, 4999.51it/s]\u001b[A\n",
      "\n",
      "100%|██████████████████████████████████████████████████████████████████████████████| 105/105 [00:00<00:00, 6563.46it/s]\u001b[A\n",
      "\n",
      "100%|██████████████████████████████████████████████████████████████████████████████| 105/105 [00:00<00:00, 8077.80it/s]\u001b[A\n",
      "\n",
      "100%|██████████████████████████████████████████████████████████████████████████████| 105/105 [00:00<00:00, 8749.07it/s]\u001b[A\n",
      " 29%|████████████████████████▍                                                          | 5/17 [00:00<00:00, 43.48it/s]\n",
      "100%|██████████████████████████████████████████████████████████████████████████████| 105/105 [00:00<00:00, 8755.33it/s]\u001b[A\n",
      "\n",
      "100%|██████████████████████████████████████████████████████████████████████████████| 105/105 [00:00<00:00, 8077.66it/s]\u001b[A\n",
      "\n",
      "100%|██████████████████████████████████████████████████████████████████████████████| 105/105 [00:00<00:00, 8073.21it/s]\u001b[A\n",
      "\n",
      "100%|██████████████████████████████████████████████████████████████████████████████| 105/105 [00:00<00:00, 8069.81it/s]\u001b[A\n",
      "\n",
      "100%|██████████████████████████████████████████████████████████████████████████████| 105/105 [00:00<00:00, 5836.31it/s]\u001b[A\n",
      " 59%|████████████████████████████████████████████████▏                                 | 10/17 [00:00<00:00, 45.33it/s]\n",
      "100%|██████████████████████████████████████████████████████████████████████████████| 105/105 [00:00<00:00, 5835.07it/s]\u001b[A\n",
      "\n",
      "100%|██████████████████████████████████████████████████████████████████████████████| 105/105 [00:00<00:00, 5247.44it/s]\u001b[A\n",
      "\n",
      "100%|██████████████████████████████████████████████████████████████████████████████| 105/105 [00:00<00:00, 8751.50it/s]\u001b[A\n",
      "\n",
      "100%|██████████████████████████████████████████████████████████████████████████████| 105/105 [00:00<00:00, 7501.57it/s]\u001b[A\n",
      "\n",
      "100%|██████████████████████████████████████████████████████████████████████████████| 105/105 [00:00<00:00, 8752.03it/s]\u001b[A\n",
      " 88%|████████████████████████████████████████████████████████████████████████▎         | 15/17 [00:00<00:00, 45.58it/s]\n",
      "100%|█████████████████████████████████████████████████████████████████████████████| 105/105 [00:00<00:00, 10497.01it/s]\u001b[A\n",
      "\n",
      "100%|██████████████████████████████████████████████████████████████████████████████| 105/105 [00:00<00:00, 8077.06it/s]\u001b[A\n",
      "100%|██████████████████████████████████████████████████████████████████████████████████| 17/17 [00:00<00:00, 46.58it/s]\n"
     ]
    }
   ],
   "source": [
    "g_accs_test = {}\n",
    "for g in tqdm(gestures):\n",
    "    i = np.where(g_test==g)\n",
    "    embeds = test_embeddings[i]\n",
    "    labels = y_test[i]\n",
    "    preds = []\n",
    "    for e in tqdm(range(len(embeds))):\n",
    "        embedding = np.array(embeds[e,:])\n",
    "        # print(embedding.shape)\n",
    "        pred = predict_cluster(test_centroids, np.array(embedding), g, test_parts)\n",
    "        preds.append(pred)\n",
    "    g_accs_test[g] = accuracy_score(preds, labels)"
   ]
  },
  {
   "cell_type": "code",
   "execution_count": 100,
   "id": "9f2abceb-1a13-47c6-99c9-8b47e2caab7a",
   "metadata": {},
   "outputs": [
    {
     "data": {
      "text/plain": [
       "{1: 0.899749373433584,\n",
       " 2: 0.9761904761904762,\n",
       " 3: 0.9611528822055138,\n",
       " 4: 0.9598997493734336,\n",
       " 5: 0.9598997493734336,\n",
       " 6: 0.9598997493734336,\n",
       " 7: 0.9649122807017544,\n",
       " 8: 0.9398496240601504,\n",
       " 9: 0.9573934837092731,\n",
       " 10: 0.9223057644110275,\n",
       " 11: 0.9385964912280702,\n",
       " 12: 0.9335839598997494,\n",
       " 13: 0.9486215538847118,\n",
       " 14: 0.9611528822055138,\n",
       " 15: 0.9548872180451128,\n",
       " 16: 0.9423558897243107,\n",
       " 17: 0.7268170426065163}"
      ]
     },
     "execution_count": 100,
     "metadata": {},
     "output_type": "execute_result"
    }
   ],
   "source": [
    "g_accs"
   ]
  },
  {
   "cell_type": "code",
   "execution_count": 101,
   "id": "c7a3fdb6-26b8-43a6-a457-c33ee732d504",
   "metadata": {},
   "outputs": [
    {
     "data": {
      "text/plain": [
       "{1: 0.8285714285714286,\n",
       " 2: 0.8952380952380953,\n",
       " 3: 0.8761904761904762,\n",
       " 4: 0.8380952380952381,\n",
       " 5: 0.8761904761904762,\n",
       " 6: 0.9238095238095239,\n",
       " 7: 0.7428571428571429,\n",
       " 8: 0.8380952380952381,\n",
       " 9: 0.8571428571428571,\n",
       " 10: 0.9047619047619048,\n",
       " 11: 0.8952380952380953,\n",
       " 12: 0.6952380952380952,\n",
       " 13: 0.8857142857142857,\n",
       " 14: 0.8095238095238095,\n",
       " 15: 0.8666666666666667,\n",
       " 16: 0.8285714285714286,\n",
       " 17: 0.580952380952381}"
      ]
     },
     "execution_count": 101,
     "metadata": {},
     "output_type": "execute_result"
    }
   ],
   "source": [
    "g_accs_test"
   ]
  },
  {
   "cell_type": "markdown",
   "id": "7e427098-c33b-4dc9-80f7-a8a2b7a6dc59",
   "metadata": {},
   "source": [
    "\n",
    "## Bucket based Authentication"
   ]
  },
  {
   "cell_type": "markdown",
   "id": "a23ca1b4-0c31-4a65-b5e4-96cddd5d7997",
   "metadata": {},
   "source": [
    "### Train"
   ]
  },
  {
   "cell_type": "code",
   "execution_count": 28,
   "id": "a17ce0c3-0cd2-4670-997a-28562c2828ee",
   "metadata": {},
   "outputs": [],
   "source": [
    "auth_set = set(np.random.choice(range(1, 38), size = 5, replace=False))"
   ]
  },
  {
   "cell_type": "code",
   "execution_count": 29,
   "id": "9bba935e-7760-4524-8822-a864802367fa",
   "metadata": {},
   "outputs": [
    {
     "data": {
      "text/plain": [
       "{8, 16, 28, 30, 36}"
      ]
     },
     "execution_count": 29,
     "metadata": {},
     "output_type": "execute_result"
    }
   ],
   "source": [
    "auth_set"
   ]
  },
  {
   "cell_type": "code",
   "execution_count": 103,
   "id": "ba3e54cf-6ccc-492a-9c36-dfe6cb63e0bd",
   "metadata": {},
   "outputs": [],
   "source": [
    "def auth(emb:np.ndarray, auth_set:set, centroids, gesture_val, parts)-> bool:\n",
    "    pred = predict_cluster(centroids, np.array(emb), gesture_val, parts)\n",
    "    # print(pred)\n",
    "    if pred in auth_set:\n",
    "        return 1\n",
    "    return 0\n",
    "    # pass"
   ]
  },
  {
   "cell_type": "code",
   "execution_count": 31,
   "id": "91eb67b4-9dcd-4f60-8fd0-6593714e6819",
   "metadata": {},
   "outputs": [],
   "source": [
    "g = 2"
   ]
  },
  {
   "cell_type": "code",
   "execution_count": 32,
   "id": "7d433226-8f0d-40e6-b514-26c4697fb595",
   "metadata": {},
   "outputs": [
    {
     "name": "stderr",
     "output_type": "stream",
     "text": [
      "100%|██████████████████████████████████████████████████████████████████████████████| 798/798 [00:00<00:00, 1546.27it/s]\n"
     ]
    }
   ],
   "source": [
    "auths = []\n",
    "i = np.where(g_train==g)\n",
    "embeds = train_embeddings[i]\n",
    "labels = y_train[i]\n",
    "for e in tqdm(range(len(embeds))):\n",
    "    embedding = np.array(embeds[e,:])\n",
    "    auth_code = auth(embedding, auth_set, centroids, g)\n",
    "    auths.append(auth_code)"
   ]
  },
  {
   "cell_type": "code",
   "execution_count": 33,
   "id": "c4d97247-4fee-4cb4-b095-e3da691ca610",
   "metadata": {},
   "outputs": [],
   "source": [
    "actual_auth = [1 if x in auth_set else 0 for x in labels]"
   ]
  },
  {
   "cell_type": "code",
   "execution_count": 34,
   "id": "b761d217-4191-4401-9b45-e2ed11911213",
   "metadata": {},
   "outputs": [],
   "source": [
    "def far(true, preds):\n",
    "    true = np.array(true)\n",
    "    preds = np.array(preds)\n",
    "    far = np.sum((true==0)&(preds==1))\n",
    "    return far / len(true)"
   ]
  },
  {
   "cell_type": "code",
   "execution_count": 35,
   "id": "361ad6a8-57f6-45c0-8a27-e3a28b3ef442",
   "metadata": {},
   "outputs": [],
   "source": [
    "def frr(true, preds):\n",
    "    true = np.array(true)\n",
    "    preds = np.array(preds)\n",
    "    far = np.sum((true==1)&(preds==0))\n",
    "    return far / len(true)"
   ]
  },
  {
   "cell_type": "code",
   "execution_count": 36,
   "id": "2eb55b15-6901-42e9-852a-afa6fb0bc0f6",
   "metadata": {},
   "outputs": [
    {
     "data": {
      "text/plain": [
       "0.0012531328320802004"
      ]
     },
     "execution_count": 36,
     "metadata": {},
     "output_type": "execute_result"
    }
   ],
   "source": [
    "far(actual_auth, auths)"
   ]
  },
  {
   "cell_type": "code",
   "execution_count": 37,
   "id": "9a42c4d8-22f6-44d6-b456-c843c54c8407",
   "metadata": {},
   "outputs": [
    {
     "data": {
      "text/plain": [
       "0.0012531328320802004"
      ]
     },
     "execution_count": 37,
     "metadata": {},
     "output_type": "execute_result"
    }
   ],
   "source": [
    "frr(actual_auth, auths)"
   ]
  },
  {
   "cell_type": "code",
   "execution_count": 38,
   "id": "c3249d7d-e74d-4edd-87eb-6217889f5e0d",
   "metadata": {},
   "outputs": [
    {
     "data": {
      "text/plain": [
       "0.9974937343358395"
      ]
     },
     "execution_count": 38,
     "metadata": {},
     "output_type": "execute_result"
    }
   ],
   "source": [
    "accuracy_score(actual_auth, auths)"
   ]
  },
  {
   "cell_type": "code",
   "execution_count": 39,
   "id": "0d87a2a0-d0a4-4368-8405-8ee1e394a032",
   "metadata": {},
   "outputs": [],
   "source": [
    "num_exp = 50"
   ]
  },
  {
   "cell_type": "code",
   "execution_count": null,
   "id": "732d521e-23ef-4606-9a6f-414fb589c971",
   "metadata": {},
   "outputs": [],
   "source": []
  },
  {
   "cell_type": "code",
   "execution_count": 51,
   "id": "41eff216-7590-4ee6-912b-334cb27cbe5a",
   "metadata": {},
   "outputs": [
    {
     "name": "stderr",
     "output_type": "stream",
     "text": [
      "100%|██████████████████████████████████████████████████████████████████████████████████| 50/50 [06:03<00:00,  7.27s/it]\n"
     ]
    }
   ],
   "source": [
    "aggregates_5_auth = {g:0 for g in gestures}\n",
    "for g in gestures:\n",
    "    aggregates_5_auth[g] = {}\n",
    "    aggregates_5_auth[g]['far'] = 0\n",
    "    aggregates_5_auth[g]['frr'] = 0\n",
    "    aggregates_5_auth[g]['accuracy'] = 0\n",
    "for exp in tqdm(range(num_exp)):\n",
    "    auth_set = set(np.random.choice(range(1, 38), size = 5, replace=False))\n",
    "    for g in gestures:\n",
    "        # aggregates_5_auth[g] = {}\n",
    "        auths = []\n",
    "        i = np.where(g_train==g)\n",
    "        embeds = train_embeddings[i]\n",
    "        labels = y_train[i]\n",
    "        # print(len(labels), g)\n",
    "        for e in range(len(embeds)):\n",
    "            embedding = np.array(embeds[e,:])\n",
    "            auth_code = auth(embedding, auth_set, centroids, g, train_parts)\n",
    "            auths.append(auth_code)\n",
    "        actual_auth = [1 if x in auth_set else 0 for x in labels]\n",
    "\n",
    "        aggregates_5_auth[g]['far'] += far(actual_auth, auths)\n",
    "        aggregates_5_auth[g]['frr'] += frr(actual_auth, auths)\n",
    "        aggregates_5_auth[g]['accuracy'] += accuracy_score(actual_auth, auths)\n",
    "\n",
    "for k in aggregates_5_auth:\n",
    "    aggregates_5_auth[k]['far'] /= num_exp\n",
    "    aggregates_5_auth[k]['frr'] /= num_exp\n",
    "    aggregates_5_auth[k]['accuracy'] /= num_exp"
   ]
  },
  {
   "cell_type": "code",
   "execution_count": 55,
   "id": "321aba4e-0b3d-4da3-92d6-b4864b45adad",
   "metadata": {},
   "outputs": [
    {
     "name": "stderr",
     "output_type": "stream",
     "text": [
      "100%|██████████████████████████████████████████████████████████████████████████████████| 50/50 [05:43<00:00,  6.87s/it]\n"
     ]
    }
   ],
   "source": [
    "aggregates_1_auth = {g:0 for g in gestures}\n",
    "for g in gestures:\n",
    "    aggregates_1_auth[g] = {}\n",
    "    aggregates_1_auth[g]['far'] = 0\n",
    "    aggregates_1_auth[g]['frr'] = 0\n",
    "    aggregates_1_auth[g]['accuracy'] = 0\n",
    "for exp in tqdm(range(num_exp)):\n",
    "    auth_set = set(np.random.choice(range(1, 38), size = 1, replace=False))\n",
    "    for g in gestures:\n",
    "        # aggregates_5_auth[g] = {}\n",
    "        auths = []\n",
    "        i = np.where(g_train==g)\n",
    "        embeds = train_embeddings[i]\n",
    "        labels = y_train[i]\n",
    "        # print(len(labels), g)\n",
    "        for e in range(len(embeds)):\n",
    "            embedding = np.array(embeds[e,:])\n",
    "            auth_code = auth(embedding, auth_set, centroids, g, train_parts)\n",
    "            auths.append(auth_code)\n",
    "        actual_auth = [1 if x in auth_set else 0 for x in labels]\n",
    "\n",
    "        aggregates_1_auth[g]['far'] += far(actual_auth, auths)\n",
    "        aggregates_1_auth[g]['frr'] += frr(actual_auth, auths)\n",
    "        aggregates_1_auth[g]['accuracy'] += accuracy_score(actual_auth, auths)\n",
    "\n",
    "for k in aggregates_5_auth:\n",
    "    aggregates_1_auth[k]['far'] /= num_exp\n",
    "    aggregates_1_auth[k]['frr'] /= num_exp\n",
    "    aggregates_1_auth[k]['accuracy'] /= num_exp"
   ]
  },
  {
   "cell_type": "code",
   "execution_count": 56,
   "id": "9505f335-1cd4-4d86-8e36-3205ca31bb8d",
   "metadata": {},
   "outputs": [
    {
     "name": "stderr",
     "output_type": "stream",
     "text": [
      "100%|██████████████████████████████████████████████████████████████████████████████████| 50/50 [05:39<00:00,  6.80s/it]\n"
     ]
    }
   ],
   "source": [
    "aggregates_10_auth = {g:0 for g in gestures}\n",
    "for g in gestures:\n",
    "    aggregates_10_auth[g] = {}\n",
    "    aggregates_10_auth[g]['far'] = 0\n",
    "    aggregates_10_auth[g]['frr'] = 0\n",
    "    aggregates_10_auth[g]['accuracy'] = 0\n",
    "for exp in tqdm(range(num_exp)):\n",
    "    auth_set = set(np.random.choice(range(1, 38), size = 10, replace=False))\n",
    "    for g in gestures:\n",
    "        # aggregates_5_auth[g] = {}\n",
    "        auths = []\n",
    "        i = np.where(g_train==g)\n",
    "        embeds = train_embeddings[i]\n",
    "        labels = y_train[i]\n",
    "        # print(len(labels), g)\n",
    "        for e in range(len(embeds)):\n",
    "            embedding = np.array(embeds[e,:])\n",
    "            auth_code = auth(embedding, auth_set, centroids, g, train_parts)\n",
    "            auths.append(auth_code)\n",
    "        actual_auth = [1 if x in auth_set else 0 for x in labels]\n",
    "\n",
    "        aggregates_10_auth[g]['far'] += far(actual_auth, auths)\n",
    "        aggregates_10_auth[g]['frr'] += frr(actual_auth, auths)\n",
    "        aggregates_10_auth[g]['accuracy'] += accuracy_score(actual_auth, auths)\n",
    "\n",
    "for k in aggregates_5_auth:\n",
    "    aggregates_10_auth[k]['far'] /= num_exp\n",
    "    aggregates_10_auth[k]['frr'] /= num_exp\n",
    "    aggregates_10_auth[k]['accuracy'] /= num_exp"
   ]
  },
  {
   "cell_type": "code",
   "execution_count": 57,
   "id": "ca2401fc-15ff-492f-9b0c-3abdf18ccdae",
   "metadata": {},
   "outputs": [
    {
     "name": "stderr",
     "output_type": "stream",
     "text": [
      "100%|██████████████████████████████████████████████████████████████████████████████████| 50/50 [05:40<00:00,  6.81s/it]\n"
     ]
    }
   ],
   "source": [
    "aggregates_20_auth = {g:0 for g in gestures}\n",
    "for g in gestures:\n",
    "    aggregates_20_auth[g] = {}\n",
    "    aggregates_20_auth[g]['far'] = 0\n",
    "    aggregates_20_auth[g]['frr'] = 0\n",
    "    aggregates_20_auth[g]['accuracy'] = 0\n",
    "for exp in tqdm(range(num_exp)):\n",
    "    auth_set = set(np.random.choice(range(1, 38), size = 20, replace=False))\n",
    "    for g in gestures:\n",
    "        # aggregates_5_auth[g] = {}\n",
    "        auths = []\n",
    "        i = np.where(g_train==g)\n",
    "        embeds = train_embeddings[i]\n",
    "        labels = y_train[i]\n",
    "        # print(len(labels), g)\n",
    "        for e in range(len(embeds)):\n",
    "            embedding = np.array(embeds[e,:])\n",
    "            auth_code = auth(embedding, auth_set, centroids, g)\n",
    "            auths.append(auth_code)\n",
    "        actual_auth = [1 if x in auth_set else 0 for x in labels]\n",
    "\n",
    "        aggregates_20_auth[g]['far'] += far(actual_auth, auths)\n",
    "        aggregates_20_auth[g]['frr'] += frr(actual_auth, auths)\n",
    "        aggregates_20_auth[g]['accuracy'] += accuracy_score(actual_auth, auths)\n",
    "\n",
    "for k in aggregates_20_auth:\n",
    "    aggregates_20_auth[k]['far'] /= num_exp\n",
    "    aggregates_20_auth[k]['frr'] /= num_exp\n",
    "    aggregates_20_auth[k]['accuracy'] /= num_exp"
   ]
  },
  {
   "cell_type": "code",
   "execution_count": 113,
   "id": "d997428b-d45f-4b32-8a45-e3babe112909",
   "metadata": {},
   "outputs": [
    {
     "data": {
      "text/html": [
       "<div>\n",
       "<style scoped>\n",
       "    .dataframe tbody tr th:only-of-type {\n",
       "        vertical-align: middle;\n",
       "    }\n",
       "\n",
       "    .dataframe tbody tr th {\n",
       "        vertical-align: top;\n",
       "    }\n",
       "\n",
       "    .dataframe thead th {\n",
       "        text-align: right;\n",
       "    }\n",
       "</style>\n",
       "<table border=\"1\" class=\"dataframe\">\n",
       "  <thead>\n",
       "    <tr style=\"text-align: right;\">\n",
       "      <th></th>\n",
       "      <th>far</th>\n",
       "      <th>frr</th>\n",
       "      <th>accuracy</th>\n",
       "    </tr>\n",
       "  </thead>\n",
       "  <tbody>\n",
       "    <tr>\n",
       "      <th>2</th>\n",
       "      <td>0.004812</td>\n",
       "      <td>0.006817</td>\n",
       "      <td>0.988371</td>\n",
       "    </tr>\n",
       "    <tr>\n",
       "      <th>7</th>\n",
       "      <td>0.009273</td>\n",
       "      <td>0.009123</td>\n",
       "      <td>0.981604</td>\n",
       "    </tr>\n",
       "    <tr>\n",
       "      <th>4</th>\n",
       "      <td>0.009724</td>\n",
       "      <td>0.010025</td>\n",
       "      <td>0.980251</td>\n",
       "    </tr>\n",
       "    <tr>\n",
       "      <th>3</th>\n",
       "      <td>0.009123</td>\n",
       "      <td>0.011454</td>\n",
       "      <td>0.979424</td>\n",
       "    </tr>\n",
       "    <tr>\n",
       "      <th>14</th>\n",
       "      <td>0.008446</td>\n",
       "      <td>0.012206</td>\n",
       "      <td>0.979348</td>\n",
       "    </tr>\n",
       "    <tr>\n",
       "      <th>5</th>\n",
       "      <td>0.010426</td>\n",
       "      <td>0.010301</td>\n",
       "      <td>0.979273</td>\n",
       "    </tr>\n",
       "    <tr>\n",
       "      <th>6</th>\n",
       "      <td>0.010602</td>\n",
       "      <td>0.011278</td>\n",
       "      <td>0.978120</td>\n",
       "    </tr>\n",
       "    <tr>\n",
       "      <th>9</th>\n",
       "      <td>0.009825</td>\n",
       "      <td>0.012506</td>\n",
       "      <td>0.977669</td>\n",
       "    </tr>\n",
       "    <tr>\n",
       "      <th>15</th>\n",
       "      <td>0.011328</td>\n",
       "      <td>0.011654</td>\n",
       "      <td>0.977018</td>\n",
       "    </tr>\n",
       "    <tr>\n",
       "      <th>13</th>\n",
       "      <td>0.012406</td>\n",
       "      <td>0.014261</td>\n",
       "      <td>0.973333</td>\n",
       "    </tr>\n",
       "    <tr>\n",
       "      <th>16</th>\n",
       "      <td>0.014461</td>\n",
       "      <td>0.014261</td>\n",
       "      <td>0.971278</td>\n",
       "    </tr>\n",
       "    <tr>\n",
       "      <th>8</th>\n",
       "      <td>0.013509</td>\n",
       "      <td>0.017619</td>\n",
       "      <td>0.968872</td>\n",
       "    </tr>\n",
       "    <tr>\n",
       "      <th>11</th>\n",
       "      <td>0.015564</td>\n",
       "      <td>0.016366</td>\n",
       "      <td>0.968070</td>\n",
       "    </tr>\n",
       "    <tr>\n",
       "      <th>12</th>\n",
       "      <td>0.018897</td>\n",
       "      <td>0.016140</td>\n",
       "      <td>0.964962</td>\n",
       "    </tr>\n",
       "    <tr>\n",
       "      <th>10</th>\n",
       "      <td>0.019925</td>\n",
       "      <td>0.020351</td>\n",
       "      <td>0.959724</td>\n",
       "    </tr>\n",
       "    <tr>\n",
       "      <th>1</th>\n",
       "      <td>0.025915</td>\n",
       "      <td>0.025714</td>\n",
       "      <td>0.948371</td>\n",
       "    </tr>\n",
       "    <tr>\n",
       "      <th>17</th>\n",
       "      <td>0.072005</td>\n",
       "      <td>0.068797</td>\n",
       "      <td>0.859198</td>\n",
       "    </tr>\n",
       "  </tbody>\n",
       "</table>\n",
       "</div>"
      ],
      "text/plain": [
       "         far       frr  accuracy\n",
       "2   0.004812  0.006817  0.988371\n",
       "7   0.009273  0.009123  0.981604\n",
       "4   0.009724  0.010025  0.980251\n",
       "3   0.009123  0.011454  0.979424\n",
       "14  0.008446  0.012206  0.979348\n",
       "5   0.010426  0.010301  0.979273\n",
       "6   0.010602  0.011278  0.978120\n",
       "9   0.009825  0.012506  0.977669\n",
       "15  0.011328  0.011654  0.977018\n",
       "13  0.012406  0.014261  0.973333\n",
       "16  0.014461  0.014261  0.971278\n",
       "8   0.013509  0.017619  0.968872\n",
       "11  0.015564  0.016366  0.968070\n",
       "12  0.018897  0.016140  0.964962\n",
       "10  0.019925  0.020351  0.959724\n",
       "1   0.025915  0.025714  0.948371\n",
       "17  0.072005  0.068797  0.859198"
      ]
     },
     "execution_count": 113,
     "metadata": {},
     "output_type": "execute_result"
    }
   ],
   "source": [
    "pd.DataFrame(aggregates_20_auth).T.sort_values(by = \"accuracy\", ascending=False)"
   ]
  },
  {
   "cell_type": "code",
   "execution_count": 112,
   "id": "9e0e9dd3-0b8d-4226-8edd-9a03af170009",
   "metadata": {},
   "outputs": [
    {
     "data": {
      "text/html": [
       "<div>\n",
       "<style scoped>\n",
       "    .dataframe tbody tr th:only-of-type {\n",
       "        vertical-align: middle;\n",
       "    }\n",
       "\n",
       "    .dataframe tbody tr th {\n",
       "        vertical-align: top;\n",
       "    }\n",
       "\n",
       "    .dataframe thead th {\n",
       "        text-align: right;\n",
       "    }\n",
       "</style>\n",
       "<table border=\"1\" class=\"dataframe\">\n",
       "  <thead>\n",
       "    <tr style=\"text-align: right;\">\n",
       "      <th></th>\n",
       "      <th>far</th>\n",
       "      <th>frr</th>\n",
       "      <th>accuracy</th>\n",
       "    </tr>\n",
       "  </thead>\n",
       "  <tbody>\n",
       "    <tr>\n",
       "      <th>2</th>\n",
       "      <td>0.004085</td>\n",
       "      <td>0.005063</td>\n",
       "      <td>0.990852</td>\n",
       "    </tr>\n",
       "    <tr>\n",
       "      <th>7</th>\n",
       "      <td>0.007193</td>\n",
       "      <td>0.006792</td>\n",
       "      <td>0.986015</td>\n",
       "    </tr>\n",
       "    <tr>\n",
       "      <th>14</th>\n",
       "      <td>0.006090</td>\n",
       "      <td>0.008571</td>\n",
       "      <td>0.985338</td>\n",
       "    </tr>\n",
       "    <tr>\n",
       "      <th>3</th>\n",
       "      <td>0.006817</td>\n",
       "      <td>0.008195</td>\n",
       "      <td>0.984987</td>\n",
       "    </tr>\n",
       "    <tr>\n",
       "      <th>5</th>\n",
       "      <td>0.008596</td>\n",
       "      <td>0.007494</td>\n",
       "      <td>0.983910</td>\n",
       "    </tr>\n",
       "    <tr>\n",
       "      <th>9</th>\n",
       "      <td>0.008296</td>\n",
       "      <td>0.008371</td>\n",
       "      <td>0.983333</td>\n",
       "    </tr>\n",
       "    <tr>\n",
       "      <th>6</th>\n",
       "      <td>0.009398</td>\n",
       "      <td>0.007368</td>\n",
       "      <td>0.983233</td>\n",
       "    </tr>\n",
       "    <tr>\n",
       "      <th>4</th>\n",
       "      <td>0.008922</td>\n",
       "      <td>0.008070</td>\n",
       "      <td>0.983008</td>\n",
       "    </tr>\n",
       "    <tr>\n",
       "      <th>15</th>\n",
       "      <td>0.009223</td>\n",
       "      <td>0.008070</td>\n",
       "      <td>0.982707</td>\n",
       "    </tr>\n",
       "    <tr>\n",
       "      <th>13</th>\n",
       "      <td>0.010351</td>\n",
       "      <td>0.010426</td>\n",
       "      <td>0.979223</td>\n",
       "    </tr>\n",
       "    <tr>\n",
       "      <th>8</th>\n",
       "      <td>0.009298</td>\n",
       "      <td>0.011805</td>\n",
       "      <td>0.978897</td>\n",
       "    </tr>\n",
       "    <tr>\n",
       "      <th>16</th>\n",
       "      <td>0.011228</td>\n",
       "      <td>0.011779</td>\n",
       "      <td>0.976992</td>\n",
       "    </tr>\n",
       "    <tr>\n",
       "      <th>11</th>\n",
       "      <td>0.012957</td>\n",
       "      <td>0.011404</td>\n",
       "      <td>0.975639</td>\n",
       "    </tr>\n",
       "    <tr>\n",
       "      <th>12</th>\n",
       "      <td>0.014912</td>\n",
       "      <td>0.012456</td>\n",
       "      <td>0.972632</td>\n",
       "    </tr>\n",
       "    <tr>\n",
       "      <th>10</th>\n",
       "      <td>0.016266</td>\n",
       "      <td>0.014160</td>\n",
       "      <td>0.969574</td>\n",
       "    </tr>\n",
       "    <tr>\n",
       "      <th>1</th>\n",
       "      <td>0.017594</td>\n",
       "      <td>0.021103</td>\n",
       "      <td>0.961303</td>\n",
       "    </tr>\n",
       "    <tr>\n",
       "      <th>17</th>\n",
       "      <td>0.054035</td>\n",
       "      <td>0.053283</td>\n",
       "      <td>0.892682</td>\n",
       "    </tr>\n",
       "  </tbody>\n",
       "</table>\n",
       "</div>"
      ],
      "text/plain": [
       "         far       frr  accuracy\n",
       "2   0.004085  0.005063  0.990852\n",
       "7   0.007193  0.006792  0.986015\n",
       "14  0.006090  0.008571  0.985338\n",
       "3   0.006817  0.008195  0.984987\n",
       "5   0.008596  0.007494  0.983910\n",
       "9   0.008296  0.008371  0.983333\n",
       "6   0.009398  0.007368  0.983233\n",
       "4   0.008922  0.008070  0.983008\n",
       "15  0.009223  0.008070  0.982707\n",
       "13  0.010351  0.010426  0.979223\n",
       "8   0.009298  0.011805  0.978897\n",
       "16  0.011228  0.011779  0.976992\n",
       "11  0.012957  0.011404  0.975639\n",
       "12  0.014912  0.012456  0.972632\n",
       "10  0.016266  0.014160  0.969574\n",
       "1   0.017594  0.021103  0.961303\n",
       "17  0.054035  0.053283  0.892682"
      ]
     },
     "execution_count": 112,
     "metadata": {},
     "output_type": "execute_result"
    }
   ],
   "source": [
    "pd.DataFrame(aggregates_10_auth).T.sort_values(by = \"accuracy\", ascending=False)"
   ]
  },
  {
   "cell_type": "code",
   "execution_count": 111,
   "id": "3019253f-a071-492c-ba65-9068bca0d2b1",
   "metadata": {
    "scrolled": true
   },
   "outputs": [
    {
     "data": {
      "text/html": [
       "<div>\n",
       "<style scoped>\n",
       "    .dataframe tbody tr th:only-of-type {\n",
       "        vertical-align: middle;\n",
       "    }\n",
       "\n",
       "    .dataframe tbody tr th {\n",
       "        vertical-align: top;\n",
       "    }\n",
       "\n",
       "    .dataframe thead th {\n",
       "        text-align: right;\n",
       "    }\n",
       "</style>\n",
       "<table border=\"1\" class=\"dataframe\">\n",
       "  <thead>\n",
       "    <tr style=\"text-align: right;\">\n",
       "      <th></th>\n",
       "      <th>far</th>\n",
       "      <th>frr</th>\n",
       "      <th>accuracy</th>\n",
       "    </tr>\n",
       "  </thead>\n",
       "  <tbody>\n",
       "    <tr>\n",
       "      <th>2</th>\n",
       "      <td>0.000702</td>\n",
       "      <td>0.000652</td>\n",
       "      <td>0.998647</td>\n",
       "    </tr>\n",
       "    <tr>\n",
       "      <th>4</th>\n",
       "      <td>0.000652</td>\n",
       "      <td>0.000877</td>\n",
       "      <td>0.998471</td>\n",
       "    </tr>\n",
       "    <tr>\n",
       "      <th>7</th>\n",
       "      <td>0.000877</td>\n",
       "      <td>0.000977</td>\n",
       "      <td>0.998145</td>\n",
       "    </tr>\n",
       "    <tr>\n",
       "      <th>3</th>\n",
       "      <td>0.001028</td>\n",
       "      <td>0.000902</td>\n",
       "      <td>0.998070</td>\n",
       "    </tr>\n",
       "    <tr>\n",
       "      <th>5</th>\n",
       "      <td>0.000877</td>\n",
       "      <td>0.001053</td>\n",
       "      <td>0.998070</td>\n",
       "    </tr>\n",
       "    <tr>\n",
       "      <th>14</th>\n",
       "      <td>0.000902</td>\n",
       "      <td>0.001128</td>\n",
       "      <td>0.997970</td>\n",
       "    </tr>\n",
       "    <tr>\n",
       "      <th>9</th>\n",
       "      <td>0.001378</td>\n",
       "      <td>0.000952</td>\n",
       "      <td>0.997669</td>\n",
       "    </tr>\n",
       "    <tr>\n",
       "      <th>6</th>\n",
       "      <td>0.000977</td>\n",
       "      <td>0.001504</td>\n",
       "      <td>0.997519</td>\n",
       "    </tr>\n",
       "    <tr>\n",
       "      <th>15</th>\n",
       "      <td>0.001278</td>\n",
       "      <td>0.001253</td>\n",
       "      <td>0.997469</td>\n",
       "    </tr>\n",
       "    <tr>\n",
       "      <th>11</th>\n",
       "      <td>0.001404</td>\n",
       "      <td>0.001454</td>\n",
       "      <td>0.997143</td>\n",
       "    </tr>\n",
       "    <tr>\n",
       "      <th>8</th>\n",
       "      <td>0.000927</td>\n",
       "      <td>0.001980</td>\n",
       "      <td>0.997093</td>\n",
       "    </tr>\n",
       "    <tr>\n",
       "      <th>13</th>\n",
       "      <td>0.001178</td>\n",
       "      <td>0.001779</td>\n",
       "      <td>0.997043</td>\n",
       "    </tr>\n",
       "    <tr>\n",
       "      <th>16</th>\n",
       "      <td>0.001454</td>\n",
       "      <td>0.001579</td>\n",
       "      <td>0.996967</td>\n",
       "    </tr>\n",
       "    <tr>\n",
       "      <th>12</th>\n",
       "      <td>0.002231</td>\n",
       "      <td>0.001955</td>\n",
       "      <td>0.995815</td>\n",
       "    </tr>\n",
       "    <tr>\n",
       "      <th>10</th>\n",
       "      <td>0.001805</td>\n",
       "      <td>0.002782</td>\n",
       "      <td>0.995414</td>\n",
       "    </tr>\n",
       "    <tr>\n",
       "      <th>1</th>\n",
       "      <td>0.002431</td>\n",
       "      <td>0.003183</td>\n",
       "      <td>0.994386</td>\n",
       "    </tr>\n",
       "    <tr>\n",
       "      <th>17</th>\n",
       "      <td>0.007168</td>\n",
       "      <td>0.007544</td>\n",
       "      <td>0.985288</td>\n",
       "    </tr>\n",
       "  </tbody>\n",
       "</table>\n",
       "</div>"
      ],
      "text/plain": [
       "         far       frr  accuracy\n",
       "2   0.000702  0.000652  0.998647\n",
       "4   0.000652  0.000877  0.998471\n",
       "7   0.000877  0.000977  0.998145\n",
       "3   0.001028  0.000902  0.998070\n",
       "5   0.000877  0.001053  0.998070\n",
       "14  0.000902  0.001128  0.997970\n",
       "9   0.001378  0.000952  0.997669\n",
       "6   0.000977  0.001504  0.997519\n",
       "15  0.001278  0.001253  0.997469\n",
       "11  0.001404  0.001454  0.997143\n",
       "8   0.000927  0.001980  0.997093\n",
       "13  0.001178  0.001779  0.997043\n",
       "16  0.001454  0.001579  0.996967\n",
       "12  0.002231  0.001955  0.995815\n",
       "10  0.001805  0.002782  0.995414\n",
       "1   0.002431  0.003183  0.994386\n",
       "17  0.007168  0.007544  0.985288"
      ]
     },
     "execution_count": 111,
     "metadata": {},
     "output_type": "execute_result"
    }
   ],
   "source": [
    "pd.DataFrame(aggregates_1_auth).T.sort_values(by = \"accuracy\", ascending=False)"
   ]
  },
  {
   "cell_type": "markdown",
   "id": "755ce64a-f567-4fa2-ab06-d184ab736338",
   "metadata": {},
   "source": [
    "### test"
   ]
  },
  {
   "cell_type": "code",
   "execution_count": null,
   "id": "fc38a78c-57b0-4f59-aa87-f0cc1bf2e1a0",
   "metadata": {},
   "outputs": [],
   "source": [
    "num_exp = 5"
   ]
  },
  {
   "cell_type": "code",
   "execution_count": 105,
   "id": "7fa52287-2d85-4095-a947-394227269801",
   "metadata": {},
   "outputs": [
    {
     "name": "stderr",
     "output_type": "stream",
     "text": [
      "100%|██████████████████████████████████████████████████████████████████████████████████| 50/50 [00:09<00:00,  5.20it/s]\n"
     ]
    }
   ],
   "source": [
    "aggregates_test = {g:0 for g in gestures}\n",
    "for g in gestures:\n",
    "    aggregates_test[g] = {}\n",
    "    aggregates_test[g]['far'] = 0\n",
    "    aggregates_test[g]['frr'] = 0\n",
    "    aggregates_test[g]['accuracy'] = 0\n",
    "for exp in tqdm(range(num_exp)):\n",
    "    auth_set = set(np.random.choice(range(39, 44), size = 2, replace=False))\n",
    "    for g in gestures:\n",
    "        # aggregates_5_auth[g] = {}\n",
    "        auths = []\n",
    "        i = np.where(g_test==g)\n",
    "        embeds = test_embeddings[i]\n",
    "        labels = y_test[i]\n",
    "        # print(len(labels), g)\n",
    "        for e in range(len(embeds)):\n",
    "            embedding = np.array(embeds[e,:])\n",
    "            auth_code = auth(embedding, auth_set, test_centroids, g, test_parts)\n",
    "            auths.append(auth_code)\n",
    "        actual_auth = [1 if x in auth_set else 0 for x in labels]\n",
    "\n",
    "        aggregates_test[g]['far'] += far(actual_auth, auths)\n",
    "        aggregates_test[g]['frr'] += frr(actual_auth, auths)\n",
    "        aggregates_test[g]['accuracy'] += accuracy_score(actual_auth, auths)\n",
    "\n",
    "for k in aggregates_test:\n",
    "    aggregates_test[k]['far'] /= num_exp\n",
    "    aggregates_test[k]['frr'] /= num_exp\n",
    "    aggregates_test[k]['accuracy'] /= num_exp"
   ]
  },
  {
   "cell_type": "code",
   "execution_count": 110,
   "id": "13b99fae-df6f-42ae-842f-10367c59e153",
   "metadata": {},
   "outputs": [
    {
     "data": {
      "text/html": [
       "<div>\n",
       "<style scoped>\n",
       "    .dataframe tbody tr th:only-of-type {\n",
       "        vertical-align: middle;\n",
       "    }\n",
       "\n",
       "    .dataframe tbody tr th {\n",
       "        vertical-align: top;\n",
       "    }\n",
       "\n",
       "    .dataframe thead th {\n",
       "        text-align: right;\n",
       "    }\n",
       "</style>\n",
       "<table border=\"1\" class=\"dataframe\">\n",
       "  <thead>\n",
       "    <tr style=\"text-align: right;\">\n",
       "      <th></th>\n",
       "      <th>far</th>\n",
       "      <th>frr</th>\n",
       "      <th>accuracy</th>\n",
       "    </tr>\n",
       "  </thead>\n",
       "  <tbody>\n",
       "    <tr>\n",
       "      <th>6</th>\n",
       "      <td>0.022476</td>\n",
       "      <td>0.019810</td>\n",
       "      <td>0.957714</td>\n",
       "    </tr>\n",
       "    <tr>\n",
       "      <th>11</th>\n",
       "      <td>0.023048</td>\n",
       "      <td>0.024952</td>\n",
       "      <td>0.952000</td>\n",
       "    </tr>\n",
       "    <tr>\n",
       "      <th>2</th>\n",
       "      <td>0.027810</td>\n",
       "      <td>0.026857</td>\n",
       "      <td>0.945333</td>\n",
       "    </tr>\n",
       "    <tr>\n",
       "      <th>10</th>\n",
       "      <td>0.030476</td>\n",
       "      <td>0.029333</td>\n",
       "      <td>0.940190</td>\n",
       "    </tr>\n",
       "    <tr>\n",
       "      <th>3</th>\n",
       "      <td>0.033905</td>\n",
       "      <td>0.030286</td>\n",
       "      <td>0.935810</td>\n",
       "    </tr>\n",
       "    <tr>\n",
       "      <th>13</th>\n",
       "      <td>0.037143</td>\n",
       "      <td>0.032000</td>\n",
       "      <td>0.930857</td>\n",
       "    </tr>\n",
       "    <tr>\n",
       "      <th>8</th>\n",
       "      <td>0.041524</td>\n",
       "      <td>0.039619</td>\n",
       "      <td>0.918857</td>\n",
       "    </tr>\n",
       "    <tr>\n",
       "      <th>5</th>\n",
       "      <td>0.042095</td>\n",
       "      <td>0.039048</td>\n",
       "      <td>0.918857</td>\n",
       "    </tr>\n",
       "    <tr>\n",
       "      <th>15</th>\n",
       "      <td>0.044190</td>\n",
       "      <td>0.036952</td>\n",
       "      <td>0.918857</td>\n",
       "    </tr>\n",
       "    <tr>\n",
       "      <th>4</th>\n",
       "      <td>0.043810</td>\n",
       "      <td>0.040762</td>\n",
       "      <td>0.915429</td>\n",
       "    </tr>\n",
       "    <tr>\n",
       "      <th>9</th>\n",
       "      <td>0.046286</td>\n",
       "      <td>0.041905</td>\n",
       "      <td>0.911810</td>\n",
       "    </tr>\n",
       "    <tr>\n",
       "      <th>16</th>\n",
       "      <td>0.051619</td>\n",
       "      <td>0.048762</td>\n",
       "      <td>0.899619</td>\n",
       "    </tr>\n",
       "    <tr>\n",
       "      <th>1</th>\n",
       "      <td>0.054667</td>\n",
       "      <td>0.049524</td>\n",
       "      <td>0.895810</td>\n",
       "    </tr>\n",
       "    <tr>\n",
       "      <th>14</th>\n",
       "      <td>0.054667</td>\n",
       "      <td>0.058095</td>\n",
       "      <td>0.887238</td>\n",
       "    </tr>\n",
       "    <tr>\n",
       "      <th>7</th>\n",
       "      <td>0.064000</td>\n",
       "      <td>0.061714</td>\n",
       "      <td>0.874286</td>\n",
       "    </tr>\n",
       "    <tr>\n",
       "      <th>12</th>\n",
       "      <td>0.080381</td>\n",
       "      <td>0.077524</td>\n",
       "      <td>0.842095</td>\n",
       "    </tr>\n",
       "    <tr>\n",
       "      <th>17</th>\n",
       "      <td>0.126857</td>\n",
       "      <td>0.119429</td>\n",
       "      <td>0.753714</td>\n",
       "    </tr>\n",
       "  </tbody>\n",
       "</table>\n",
       "</div>"
      ],
      "text/plain": [
       "         far       frr  accuracy\n",
       "6   0.022476  0.019810  0.957714\n",
       "11  0.023048  0.024952  0.952000\n",
       "2   0.027810  0.026857  0.945333\n",
       "10  0.030476  0.029333  0.940190\n",
       "3   0.033905  0.030286  0.935810\n",
       "13  0.037143  0.032000  0.930857\n",
       "8   0.041524  0.039619  0.918857\n",
       "5   0.042095  0.039048  0.918857\n",
       "15  0.044190  0.036952  0.918857\n",
       "4   0.043810  0.040762  0.915429\n",
       "9   0.046286  0.041905  0.911810\n",
       "16  0.051619  0.048762  0.899619\n",
       "1   0.054667  0.049524  0.895810\n",
       "14  0.054667  0.058095  0.887238\n",
       "7   0.064000  0.061714  0.874286\n",
       "12  0.080381  0.077524  0.842095\n",
       "17  0.126857  0.119429  0.753714"
      ]
     },
     "execution_count": 110,
     "metadata": {},
     "output_type": "execute_result"
    }
   ],
   "source": [
    "pd.DataFrame(aggregates_test).T.sort_values(by = \"accuracy\", ascending=False)\n"
   ]
  },
  {
   "cell_type": "code",
   "execution_count": 114,
   "id": "94fa3b08-029b-4f14-947b-76e0adcf3a63",
   "metadata": {},
   "outputs": [
    {
     "name": "stderr",
     "output_type": "stream",
     "text": [
      "100%|██████████████████████████████████████████████████████████████████████████████████| 10/10 [00:02<00:00,  4.95it/s]\n"
     ]
    }
   ],
   "source": [
    "num_exp = 10\n",
    "aggregates_test = {g:0 for g in gestures}\n",
    "for g in gestures:\n",
    "    aggregates_test[g] = {}\n",
    "    aggregates_test[g]['far'] = 0\n",
    "    aggregates_test[g]['frr'] = 0\n",
    "    aggregates_test[g]['accuracy'] = 0\n",
    "for exp in tqdm(range(num_exp)):\n",
    "    auth_set = set(np.random.choice(range(39, 44), size = 1, replace=False))\n",
    "    for g in gestures:\n",
    "        # aggregates_5_auth[g] = {}\n",
    "        auths = []\n",
    "        i = np.where(g_test==g)\n",
    "        embeds = test_embeddings[i]\n",
    "        labels = y_test[i]\n",
    "        # print(len(labels), g)\n",
    "        for e in range(len(embeds)):\n",
    "            embedding = np.array(embeds[e,:])\n",
    "            auth_code = auth(embedding, auth_set, test_centroids, g, test_parts)\n",
    "            auths.append(auth_code)\n",
    "        actual_auth = [1 if x in auth_set else 0 for x in labels]\n",
    "\n",
    "        aggregates_test[g]['far'] += far(actual_auth, auths)\n",
    "        aggregates_test[g]['frr'] += frr(actual_auth, auths)\n",
    "        aggregates_test[g]['accuracy'] += accuracy_score(actual_auth, auths)\n",
    "\n",
    "for k in aggregates_test:\n",
    "    aggregates_test[k]['far'] /= num_exp\n",
    "    aggregates_test[k]['frr'] /= num_exp\n",
    "    aggregates_test[k]['accuracy'] /= num_exp"
   ]
  },
  {
   "cell_type": "code",
   "execution_count": 115,
   "id": "00804af0-75ef-4054-8d0c-f2b3b25e25d0",
   "metadata": {},
   "outputs": [
    {
     "data": {
      "text/html": [
       "<div>\n",
       "<style scoped>\n",
       "    .dataframe tbody tr th:only-of-type {\n",
       "        vertical-align: middle;\n",
       "    }\n",
       "\n",
       "    .dataframe tbody tr th {\n",
       "        vertical-align: top;\n",
       "    }\n",
       "\n",
       "    .dataframe thead th {\n",
       "        text-align: right;\n",
       "    }\n",
       "</style>\n",
       "<table border=\"1\" class=\"dataframe\">\n",
       "  <thead>\n",
       "    <tr style=\"text-align: right;\">\n",
       "      <th></th>\n",
       "      <th>far</th>\n",
       "      <th>frr</th>\n",
       "      <th>accuracy</th>\n",
       "    </tr>\n",
       "  </thead>\n",
       "  <tbody>\n",
       "    <tr>\n",
       "      <th>6</th>\n",
       "      <td>0.016190</td>\n",
       "      <td>0.015238</td>\n",
       "      <td>0.968571</td>\n",
       "    </tr>\n",
       "    <tr>\n",
       "      <th>5</th>\n",
       "      <td>0.015238</td>\n",
       "      <td>0.018095</td>\n",
       "      <td>0.966667</td>\n",
       "    </tr>\n",
       "    <tr>\n",
       "      <th>10</th>\n",
       "      <td>0.013333</td>\n",
       "      <td>0.025714</td>\n",
       "      <td>0.960952</td>\n",
       "    </tr>\n",
       "    <tr>\n",
       "      <th>13</th>\n",
       "      <td>0.029524</td>\n",
       "      <td>0.013333</td>\n",
       "      <td>0.957143</td>\n",
       "    </tr>\n",
       "    <tr>\n",
       "      <th>2</th>\n",
       "      <td>0.033333</td>\n",
       "      <td>0.011429</td>\n",
       "      <td>0.955238</td>\n",
       "    </tr>\n",
       "    <tr>\n",
       "      <th>11</th>\n",
       "      <td>0.027619</td>\n",
       "      <td>0.019048</td>\n",
       "      <td>0.953333</td>\n",
       "    </tr>\n",
       "    <tr>\n",
       "      <th>9</th>\n",
       "      <td>0.028571</td>\n",
       "      <td>0.023810</td>\n",
       "      <td>0.947619</td>\n",
       "    </tr>\n",
       "    <tr>\n",
       "      <th>15</th>\n",
       "      <td>0.033333</td>\n",
       "      <td>0.025714</td>\n",
       "      <td>0.940952</td>\n",
       "    </tr>\n",
       "    <tr>\n",
       "      <th>1</th>\n",
       "      <td>0.034286</td>\n",
       "      <td>0.026667</td>\n",
       "      <td>0.939048</td>\n",
       "    </tr>\n",
       "    <tr>\n",
       "      <th>3</th>\n",
       "      <td>0.028571</td>\n",
       "      <td>0.034286</td>\n",
       "      <td>0.937143</td>\n",
       "    </tr>\n",
       "    <tr>\n",
       "      <th>8</th>\n",
       "      <td>0.045714</td>\n",
       "      <td>0.026667</td>\n",
       "      <td>0.927619</td>\n",
       "    </tr>\n",
       "    <tr>\n",
       "      <th>4</th>\n",
       "      <td>0.044762</td>\n",
       "      <td>0.031429</td>\n",
       "      <td>0.923810</td>\n",
       "    </tr>\n",
       "    <tr>\n",
       "      <th>16</th>\n",
       "      <td>0.032381</td>\n",
       "      <td>0.043810</td>\n",
       "      <td>0.923810</td>\n",
       "    </tr>\n",
       "    <tr>\n",
       "      <th>14</th>\n",
       "      <td>0.040952</td>\n",
       "      <td>0.044762</td>\n",
       "      <td>0.914286</td>\n",
       "    </tr>\n",
       "    <tr>\n",
       "      <th>7</th>\n",
       "      <td>0.064762</td>\n",
       "      <td>0.050476</td>\n",
       "      <td>0.884762</td>\n",
       "    </tr>\n",
       "    <tr>\n",
       "      <th>12</th>\n",
       "      <td>0.060952</td>\n",
       "      <td>0.074286</td>\n",
       "      <td>0.864762</td>\n",
       "    </tr>\n",
       "    <tr>\n",
       "      <th>17</th>\n",
       "      <td>0.106667</td>\n",
       "      <td>0.070476</td>\n",
       "      <td>0.822857</td>\n",
       "    </tr>\n",
       "  </tbody>\n",
       "</table>\n",
       "</div>"
      ],
      "text/plain": [
       "         far       frr  accuracy\n",
       "6   0.016190  0.015238  0.968571\n",
       "5   0.015238  0.018095  0.966667\n",
       "10  0.013333  0.025714  0.960952\n",
       "13  0.029524  0.013333  0.957143\n",
       "2   0.033333  0.011429  0.955238\n",
       "11  0.027619  0.019048  0.953333\n",
       "9   0.028571  0.023810  0.947619\n",
       "15  0.033333  0.025714  0.940952\n",
       "1   0.034286  0.026667  0.939048\n",
       "3   0.028571  0.034286  0.937143\n",
       "8   0.045714  0.026667  0.927619\n",
       "4   0.044762  0.031429  0.923810\n",
       "16  0.032381  0.043810  0.923810\n",
       "14  0.040952  0.044762  0.914286\n",
       "7   0.064762  0.050476  0.884762\n",
       "12  0.060952  0.074286  0.864762\n",
       "17  0.106667  0.070476  0.822857"
      ]
     },
     "execution_count": 115,
     "metadata": {},
     "output_type": "execute_result"
    }
   ],
   "source": [
    "pd.DataFrame(aggregates_test).T.sort_values(by = \"accuracy\", ascending=False)\n"
   ]
  },
  {
   "cell_type": "code",
   "execution_count": 116,
   "id": "b9e5ca0c-17d6-4d5e-b45b-571f72c092fc",
   "metadata": {},
   "outputs": [
    {
     "name": "stderr",
     "output_type": "stream",
     "text": [
      "100%|██████████████████████████████████████████████████████████████████████████████████| 20/20 [00:04<00:00,  4.99it/s]\n"
     ]
    }
   ],
   "source": [
    "num_exp = 20\n",
    "aggregates_test = {g:0 for g in gestures}\n",
    "for g in gestures:\n",
    "    aggregates_test[g] = {}\n",
    "    aggregates_test[g]['far'] = 0\n",
    "    aggregates_test[g]['frr'] = 0\n",
    "    aggregates_test[g]['accuracy'] = 0\n",
    "for exp in tqdm(range(num_exp)):\n",
    "    auth_set = set(np.random.choice(range(39, 44), size = 3, replace=False))\n",
    "    for g in gestures:\n",
    "        # aggregates_5_auth[g] = {}\n",
    "        auths = []\n",
    "        i = np.where(g_test==g)\n",
    "        embeds = test_embeddings[i]\n",
    "        labels = y_test[i]\n",
    "        # print(len(labels), g)\n",
    "        for e in range(len(embeds)):\n",
    "            embedding = np.array(embeds[e,:])\n",
    "            auth_code = auth(embedding, auth_set, test_centroids, g, test_parts)\n",
    "            auths.append(auth_code)\n",
    "        actual_auth = [1 if x in auth_set else 0 for x in labels]\n",
    "\n",
    "        aggregates_test[g]['far'] += far(actual_auth, auths)\n",
    "        aggregates_test[g]['frr'] += frr(actual_auth, auths)\n",
    "        aggregates_test[g]['accuracy'] += accuracy_score(actual_auth, auths)\n",
    "\n",
    "for k in aggregates_test:\n",
    "    aggregates_test[k]['far'] /= num_exp\n",
    "    aggregates_test[k]['frr'] /= num_exp\n",
    "    aggregates_test[k]['accuracy'] /= num_exp"
   ]
  },
  {
   "cell_type": "code",
   "execution_count": 117,
   "id": "b8632a25-1898-43a9-a141-edb3c3f71ade",
   "metadata": {},
   "outputs": [
    {
     "data": {
      "text/html": [
       "<div>\n",
       "<style scoped>\n",
       "    .dataframe tbody tr th:only-of-type {\n",
       "        vertical-align: middle;\n",
       "    }\n",
       "\n",
       "    .dataframe tbody tr th {\n",
       "        vertical-align: top;\n",
       "    }\n",
       "\n",
       "    .dataframe thead th {\n",
       "        text-align: right;\n",
       "    }\n",
       "</style>\n",
       "<table border=\"1\" class=\"dataframe\">\n",
       "  <thead>\n",
       "    <tr style=\"text-align: right;\">\n",
       "      <th></th>\n",
       "      <th>far</th>\n",
       "      <th>frr</th>\n",
       "      <th>accuracy</th>\n",
       "    </tr>\n",
       "  </thead>\n",
       "  <tbody>\n",
       "    <tr>\n",
       "      <th>6</th>\n",
       "      <td>0.023810</td>\n",
       "      <td>0.021429</td>\n",
       "      <td>0.954762</td>\n",
       "    </tr>\n",
       "    <tr>\n",
       "      <th>10</th>\n",
       "      <td>0.029524</td>\n",
       "      <td>0.030476</td>\n",
       "      <td>0.940000</td>\n",
       "    </tr>\n",
       "    <tr>\n",
       "      <th>11</th>\n",
       "      <td>0.031905</td>\n",
       "      <td>0.028571</td>\n",
       "      <td>0.939524</td>\n",
       "    </tr>\n",
       "    <tr>\n",
       "      <th>2</th>\n",
       "      <td>0.033333</td>\n",
       "      <td>0.028571</td>\n",
       "      <td>0.938095</td>\n",
       "    </tr>\n",
       "    <tr>\n",
       "      <th>13</th>\n",
       "      <td>0.033810</td>\n",
       "      <td>0.035714</td>\n",
       "      <td>0.930476</td>\n",
       "    </tr>\n",
       "    <tr>\n",
       "      <th>3</th>\n",
       "      <td>0.036667</td>\n",
       "      <td>0.037619</td>\n",
       "      <td>0.925714</td>\n",
       "    </tr>\n",
       "    <tr>\n",
       "      <th>5</th>\n",
       "      <td>0.038095</td>\n",
       "      <td>0.036190</td>\n",
       "      <td>0.925714</td>\n",
       "    </tr>\n",
       "    <tr>\n",
       "      <th>15</th>\n",
       "      <td>0.041429</td>\n",
       "      <td>0.040000</td>\n",
       "      <td>0.918571</td>\n",
       "    </tr>\n",
       "    <tr>\n",
       "      <th>9</th>\n",
       "      <td>0.044286</td>\n",
       "      <td>0.040476</td>\n",
       "      <td>0.915238</td>\n",
       "    </tr>\n",
       "    <tr>\n",
       "      <th>4</th>\n",
       "      <td>0.046667</td>\n",
       "      <td>0.045714</td>\n",
       "      <td>0.907619</td>\n",
       "    </tr>\n",
       "    <tr>\n",
       "      <th>8</th>\n",
       "      <td>0.050476</td>\n",
       "      <td>0.046190</td>\n",
       "      <td>0.903333</td>\n",
       "    </tr>\n",
       "    <tr>\n",
       "      <th>1</th>\n",
       "      <td>0.053810</td>\n",
       "      <td>0.050952</td>\n",
       "      <td>0.895238</td>\n",
       "    </tr>\n",
       "    <tr>\n",
       "      <th>16</th>\n",
       "      <td>0.052857</td>\n",
       "      <td>0.052857</td>\n",
       "      <td>0.894286</td>\n",
       "    </tr>\n",
       "    <tr>\n",
       "      <th>14</th>\n",
       "      <td>0.059524</td>\n",
       "      <td>0.055714</td>\n",
       "      <td>0.884762</td>\n",
       "    </tr>\n",
       "    <tr>\n",
       "      <th>7</th>\n",
       "      <td>0.076190</td>\n",
       "      <td>0.073333</td>\n",
       "      <td>0.850476</td>\n",
       "    </tr>\n",
       "    <tr>\n",
       "      <th>12</th>\n",
       "      <td>0.090476</td>\n",
       "      <td>0.090000</td>\n",
       "      <td>0.819524</td>\n",
       "    </tr>\n",
       "    <tr>\n",
       "      <th>17</th>\n",
       "      <td>0.138571</td>\n",
       "      <td>0.123333</td>\n",
       "      <td>0.738095</td>\n",
       "    </tr>\n",
       "  </tbody>\n",
       "</table>\n",
       "</div>"
      ],
      "text/plain": [
       "         far       frr  accuracy\n",
       "6   0.023810  0.021429  0.954762\n",
       "10  0.029524  0.030476  0.940000\n",
       "11  0.031905  0.028571  0.939524\n",
       "2   0.033333  0.028571  0.938095\n",
       "13  0.033810  0.035714  0.930476\n",
       "3   0.036667  0.037619  0.925714\n",
       "5   0.038095  0.036190  0.925714\n",
       "15  0.041429  0.040000  0.918571\n",
       "9   0.044286  0.040476  0.915238\n",
       "4   0.046667  0.045714  0.907619\n",
       "8   0.050476  0.046190  0.903333\n",
       "1   0.053810  0.050952  0.895238\n",
       "16  0.052857  0.052857  0.894286\n",
       "14  0.059524  0.055714  0.884762\n",
       "7   0.076190  0.073333  0.850476\n",
       "12  0.090476  0.090000  0.819524\n",
       "17  0.138571  0.123333  0.738095"
      ]
     },
     "execution_count": 117,
     "metadata": {},
     "output_type": "execute_result"
    }
   ],
   "source": [
    "pd.DataFrame(aggregates_test).T.sort_values(by = \"accuracy\", ascending=False)\n"
   ]
  },
  {
   "cell_type": "code",
   "execution_count": null,
   "id": "6a931511-d3ec-48d2-ac7d-4b2c9bf7cc4f",
   "metadata": {},
   "outputs": [],
   "source": []
  }
 ],
 "metadata": {
  "kernelspec": {
   "display_name": "Python 3 (ipykernel)",
   "language": "python",
   "name": "python3"
  },
  "language_info": {
   "codemirror_mode": {
    "name": "ipython",
    "version": 3
   },
   "file_extension": ".py",
   "mimetype": "text/x-python",
   "name": "python",
   "nbconvert_exporter": "python",
   "pygments_lexer": "ipython3",
   "version": "3.10.13"
  },
  "widgets": {
   "application/vnd.jupyter.widget-state+json": {
    "state": {},
    "version_major": 2,
    "version_minor": 0
   }
  }
 },
 "nbformat": 4,
 "nbformat_minor": 5
}
