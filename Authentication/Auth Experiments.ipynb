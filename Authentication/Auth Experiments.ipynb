{
 "cells": [
  {
   "cell_type": "code",
   "execution_count": 1,
   "id": "4c163d4a-ac69-4b4e-8b38-c20e9bf7ed5e",
   "metadata": {},
   "outputs": [],
   "source": [
    "import pandas as pd\n",
    "import numpy as np\n",
    "import os\n",
    "import sys\n",
    "import json"
   ]
  },
  {
   "cell_type": "code",
   "execution_count": 2,
   "id": "d1b772a3-8309-4f8d-8c94-bb85340f67c7",
   "metadata": {},
   "outputs": [],
   "source": [
    "from sklearn.preprocessing import StandardScaler"
   ]
  },
  {
   "cell_type": "code",
   "execution_count": 21,
   "id": "9359e9d5-a84d-4de5-8648-73e386c426b3",
   "metadata": {},
   "outputs": [],
   "source": [
    "import torch\n",
    "from scipy.ndimage import median_filter\n",
    "from sklearn.metrics import classification_report, f1_score, precision_score, recall_score, accuracy_score\n",
    "from torch.utils.data import TensorDataset, DataLoader\n",
    "import torch.nn as nn\n",
    "from torch import optim\n",
    "from sklearn.model_selection import train_test_split\n",
    "from sklearn.preprocessing import StandardScaler\n",
    "import shap\n",
    "from sklearn.cluster import DBSCAN, AgglomerativeClustering\n",
    "from sklearn.manifold import TSNE\n",
    "from sklearn.decomposition import PCA"
   ]
  },
  {
   "cell_type": "code",
   "execution_count": 4,
   "id": "9d748035-50a3-49d6-a605-069afaca53fe",
   "metadata": {},
   "outputs": [],
   "source": [
    "from pickle import load\n",
    "from tqdm import tqdm\n",
    "import seaborn as sns\n",
    "from scipy import stats\n",
    "import matplotlib.pyplot as plt\n"
   ]
  },
  {
   "cell_type": "code",
   "execution_count": 5,
   "id": "e83ea058-3c41-47d7-92ac-8ce6ef7663dd",
   "metadata": {},
   "outputs": [],
   "source": [
    "from sklearn.metrics import silhouette_score"
   ]
  },
  {
   "cell_type": "code",
   "execution_count": 6,
   "id": "63b4142f-c653-4cde-b7ac-95bc01de3295",
   "metadata": {},
   "outputs": [],
   "source": [
    "data = pd.read_csv('../data/gesture-recognition-and-biometrics-electromyogram-grabmyo-1.0.2/features_v2.csv')\n",
    "feature_cols = [c for c in data.columns if \"_\" in c]\n",
    "for col in feature_cols:\n",
    "    data[col] = data[col].clip(data[col].mean() - (3*data[col].std()), data[col].mean() + (3*data[col].std()))"
   ]
  },
  {
   "cell_type": "code",
   "execution_count": 7,
   "id": "cdcf520b-d347-4b32-9634-4f58342d9283",
   "metadata": {},
   "outputs": [],
   "source": [
    "class Encoder(nn.Module):\n",
    "    def __init__(self, input_dim, embed_dim):\n",
    "        super().__init__()\n",
    "        self.l1 = nn.Linear(input_dim, 128)\n",
    "        \n",
    "        self.l2 = nn.Linear(128, 128)\n",
    "        self.l3 = nn.Linear(128, 128)\n",
    "        self.l4 = nn.Linear(128, embed_dim)\n",
    "        self.dropout = nn.Dropout(p=0.3)\n",
    "        self.relu = nn.ReLU()\n",
    "    def forward(self, x):\n",
    "        x = self.relu(self.l1(x))\n",
    "        x = self.dropout(x)\n",
    "        x = self.relu(self.l2(x))\n",
    "        x = self.dropout(x)\n",
    "        x = self.relu(self.l3(x))\n",
    "        x = self.dropout(x)\n",
    "        x = self.l4(x)\n",
    "        return x\n",
    "\n",
    "\n",
    "class ClassificationHead(nn.Module):\n",
    "    def __init__(self,embed_dim, output_dim):\n",
    "        super().__init__()\n",
    "        self.l1 = nn.Linear(embed_dim, 64)\n",
    "        self.l2 = nn.Linear(64, output_dim)\n",
    "        self.relu = nn.ReLU()\n",
    "    def forward(self, x):\n",
    "        x = self.relu(self.l1(x))\n",
    "        x = self.l2(x)\n",
    "        return x\n",
    "\n",
    "class UserClassifier(nn.Module):\n",
    "    def __init__(self, input_dim, embed_dim, output_dim):\n",
    "        super().__init__()\n",
    "        self.encoder = Encoder(input_dim, embed_dim)\n",
    "        self.decoder = ClassificationHead(embed_dim, output_dim)\n",
    "        \n",
    "    def forward(self, x):\n",
    "        x = self.encoder(x)\n",
    "        x = self.decoder(x)\n",
    "        return x"
   ]
  },
  {
   "cell_type": "code",
   "execution_count": 8,
   "id": "2c565129-d978-4760-afb8-ca6d0b328251",
   "metadata": {},
   "outputs": [],
   "source": [
    "train_parts = list(range(1,39))\n",
    "test_parts = list(range(39,44))"
   ]
  },
  {
   "cell_type": "code",
   "execution_count": 9,
   "id": "b233e476-4d75-4b7d-9624-6eb44ab537d1",
   "metadata": {},
   "outputs": [],
   "source": [
    "train_df = data[data[\"participant\"].isin(train_parts)].reset_index()\n",
    "test_df = data[data[\"participant\"].isin(test_parts)].reset_index()"
   ]
  },
  {
   "cell_type": "code",
   "execution_count": 10,
   "id": "c10b1f48-3cea-4296-8c12-d04268533fbc",
   "metadata": {},
   "outputs": [],
   "source": [
    "scaler  = load(open('sub_scaler.pkl', 'rb'))"
   ]
  },
  {
   "cell_type": "code",
   "execution_count": 11,
   "id": "b68998e4-f395-4d21-9346-71b5c300250b",
   "metadata": {},
   "outputs": [],
   "source": [
    "x_train = train_df.loc[:, feature_cols].values\n",
    "y_train = (train_df.loc[:, 'participant']).values\n",
    "g_train = (train_df.loc[:, 'gesture']).values\n",
    "s_train = (train_df.loc[:, 'session']).values\n",
    "\n",
    "x_test = test_df.loc[:, feature_cols].values\n",
    "y_test = (test_df.loc[:, 'participant']).values\n",
    "g_test = (test_df.loc[:, 'gesture']).values\n",
    "s_test = (test_df.loc[:, 'session']).values"
   ]
  },
  {
   "cell_type": "code",
   "execution_count": 12,
   "id": "8dafd006-acc5-404d-9055-75eaf12f380e",
   "metadata": {},
   "outputs": [],
   "source": [
    "x_train = scaler.transform(x_train)\n",
    "x_test = scaler.transform(x_test)"
   ]
  },
  {
   "cell_type": "code",
   "execution_count": 13,
   "id": "2f3cffee-2f9b-4144-b1e7-ed83e096b1a3",
   "metadata": {},
   "outputs": [],
   "source": [
    "encoder = Encoder(x_train.shape[1], 16)"
   ]
  },
  {
   "cell_type": "code",
   "execution_count": 14,
   "id": "4ae96f4b-92f7-4dbc-9078-8826e9d102d6",
   "metadata": {},
   "outputs": [
    {
     "data": {
      "text/plain": [
       "<All keys matched successfully>"
      ]
     },
     "execution_count": 14,
     "metadata": {},
     "output_type": "execute_result"
    }
   ],
   "source": [
    "encoder.load_state_dict(torch.load('sub_encoder.pth'), strict=False)"
   ]
  },
  {
   "cell_type": "code",
   "execution_count": 15,
   "id": "a435a49c-a84a-439a-b464-9007a452ae65",
   "metadata": {},
   "outputs": [],
   "source": [
    "def embed(model, test_loader):\n",
    "    model.eval()  # Set the model to evaluation mode\n",
    "    y_pred = []\n",
    "\n",
    "    with torch.no_grad():\n",
    "        for batch_idx, (inputs, labels) in enumerate(test_loader):\n",
    "            outputs = model(inputs)\n",
    "            # _, predicted = torch.max(outputs, 1)\n",
    "            y_pred.extend(outputs)\n",
    "\n",
    "    return torch.stack(y_pred)"
   ]
  },
  {
   "cell_type": "code",
   "execution_count": 17,
   "id": "9674850d-2d1c-4bba-90de-7f9b4d366fdb",
   "metadata": {},
   "outputs": [],
   "source": [
    "## Reading centroids\n",
    "with open(\"centroids_v1.json\", \"r\") as file:\n",
    "    centroids = json.load(file)"
   ]
  },
  {
   "cell_type": "code",
   "execution_count": 24,
   "id": "832b5288-587d-4047-9cd3-620df26e88b8",
   "metadata": {},
   "outputs": [],
   "source": [
    "train_dataset = TensorDataset(torch.tensor(x_train).type(torch.float32), torch.tensor(y_train).type(torch.LongTensor))\n",
    "test_dataset = TensorDataset(torch.tensor(x_test).type(torch.float32), torch.tensor(y_test).type(torch.LongTensor))"
   ]
  },
  {
   "cell_type": "code",
   "execution_count": 25,
   "id": "5c70d654-0b9e-43b8-8201-edcc48da6c72",
   "metadata": {},
   "outputs": [],
   "source": [
    "batch_size = 256\n",
    "train_loader = DataLoader(train_dataset, batch_size=batch_size, shuffle=False)\n",
    "test_loader = DataLoader(test_dataset, batch_size=batch_size, shuffle=False)"
   ]
  },
  {
   "cell_type": "code",
   "execution_count": 26,
   "id": "5c524fe6-1ab4-4854-a559-23828eeb5b59",
   "metadata": {},
   "outputs": [],
   "source": [
    "train_embeddings = embed(model=encoder, test_loader=train_loader)\n",
    "test_embeddings = embed(model=encoder, test_loader=test_loader)"
   ]
  },
  {
   "cell_type": "code",
   "execution_count": null,
   "id": "100ce963-745c-40ee-a1cb-d1ad5227fb63",
   "metadata": {},
   "outputs": [],
   "source": [
    "centroids\n"
   ]
  },
  {
   "cell_type": "code",
   "execution_count": 19,
   "id": "96e2e5b7-2a12-4720-9101-5139157ae7d5",
   "metadata": {},
   "outputs": [
    {
     "data": {
      "text/plain": [
       "dict_keys(['1', '2', '3', '4', '5', '6', '7', '8', '9', '10', '11', '12', '13', '14', '15', '16', '17'])"
      ]
     },
     "execution_count": 19,
     "metadata": {},
     "output_type": "execute_result"
    }
   ],
   "source": [
    "centroids.keys()"
   ]
  },
  {
   "cell_type": "code",
   "execution_count": 18,
   "id": "bc822556-b819-43fa-94da-fa280883c78e",
   "metadata": {},
   "outputs": [],
   "source": [
    "gestures = range(1,18)"
   ]
  },
  {
   "cell_type": "code",
   "execution_count": 47,
   "id": "91299a96-d447-481a-bbbc-28f7b69de00e",
   "metadata": {},
   "outputs": [],
   "source": [
    "def predict_cluster(centroids, embedding, gesture):\n",
    "    cents = centroids[str(gesture)]\n",
    "    min_dist = 1e10\n",
    "    min_part = None\n",
    "    for i in range(1,39):\n",
    "        c = cents[str(i)]['centroid']\n",
    "        dist = np.linalg.norm(embedding - c)\n",
    "        if dist< min_dist:\n",
    "            min_dist = dist\n",
    "            min_part = i\n",
    "    return min_part\n",
    "    \n",
    "    "
   ]
  },
  {
   "cell_type": "code",
   "execution_count": 52,
   "id": "f73ce3a2-4f3c-4c87-898f-5c2302ae0700",
   "metadata": {},
   "outputs": [],
   "source": [
    "i = np.where(g_train==10)\n",
    "embeds = train_embeddings[i]\n",
    "labels = y_train[i]"
   ]
  },
  {
   "cell_type": "code",
   "execution_count": 49,
   "id": "3dd11962-642f-4bab-9bd5-67c29444b966",
   "metadata": {},
   "outputs": [
    {
     "data": {
      "text/plain": [
       "torch.Size([16])"
      ]
     },
     "execution_count": 49,
     "metadata": {},
     "output_type": "execute_result"
    }
   ],
   "source": [
    "(embeds[10,:]).shape"
   ]
  },
  {
   "cell_type": "code",
   "execution_count": 50,
   "id": "a76c3826-9210-4ec5-be5d-943490f9ce0c",
   "metadata": {},
   "outputs": [
    {
     "name": "stderr",
     "output_type": "stream",
     "text": [
      "100%|██████████████████████████████████████████████████████████████████████████████| 798/798 [00:00<00:00, 1877.79it/s]\n"
     ]
    }
   ],
   "source": [
    "preds = []\n",
    "for e in tqdm(range(len(embeds))):\n",
    "    embedding = np.array(embeds[e,:])\n",
    "    # print(embedding.shape)\n",
    "    pred = predict_cluster(centroids, np.array(embedding), 10)\n",
    "    preds.append(pred)"
   ]
  },
  {
   "cell_type": "code",
   "execution_count": 53,
   "id": "9d24dc7f-7b05-4e71-82a9-b22f1d5e9a45",
   "metadata": {},
   "outputs": [
    {
     "data": {
      "text/plain": [
       "0.9223057644110275"
      ]
     },
     "execution_count": 53,
     "metadata": {},
     "output_type": "execute_result"
    }
   ],
   "source": [
    "accuracy_score(preds, labels)"
   ]
  },
  {
   "cell_type": "code",
   "execution_count": 55,
   "id": "fcef3939-b163-41d8-aa8b-add5c5707b07",
   "metadata": {},
   "outputs": [
    {
     "name": "stderr",
     "output_type": "stream",
     "text": [
      "  0%|                                                                                           | 0/17 [00:00<?, ?it/s]\n",
      "  0%|                                                                                          | 0/798 [00:00<?, ?it/s]\u001b[A\n",
      " 20%|███████████████▉                                                              | 163/798 [00:00<00:00, 1613.91it/s]\u001b[A\n",
      " 41%|███████████████████████████████▊                                              | 325/798 [00:00<00:00, 1519.57it/s]\u001b[A\n",
      " 68%|████████████████████████████████████████████████████▉                         | 542/798 [00:00<00:00, 1805.84it/s]\u001b[A\n",
      "100%|██████████████████████████████████████████████████████████████████████████████| 798/798 [00:00<00:00, 1765.50it/s]\u001b[A\n",
      "  6%|████▉                                                                              | 1/17 [00:00<00:07,  2.18it/s]\n",
      "  0%|                                                                                          | 0/798 [00:00<?, ?it/s]\u001b[A\n",
      " 18%|██████████████                                                                | 144/798 [00:00<00:00, 1439.99it/s]\u001b[A\n",
      " 36%|████████████████████████████▏                                                 | 288/798 [00:00<00:00, 1316.11it/s]\u001b[A\n",
      " 54%|██████████████████████████████████████████▏                                   | 432/798 [00:00<00:00, 1364.00it/s]\u001b[A\n",
      " 76%|███████████████████████████████████████████████████████████▌                  | 610/798 [00:00<00:00, 1517.10it/s]\u001b[A\n",
      "100%|██████████████████████████████████████████████████████████████████████████████| 798/798 [00:00<00:00, 1514.23it/s]\u001b[A\n",
      " 12%|█████████▊                                                                         | 2/17 [00:00<00:07,  1.99it/s]\n",
      "  0%|                                                                                          | 0/798 [00:00<?, ?it/s]\u001b[A\n",
      " 19%|███████████████                                                               | 154/798 [00:00<00:00, 1524.79it/s]\u001b[A\n",
      " 41%|███████████████████████████████▉                                              | 327/798 [00:00<00:00, 1635.43it/s]\u001b[A\n",
      " 64%|██████████████████████████████████████████████████▏                           | 513/798 [00:00<00:00, 1737.42it/s]\u001b[A\n",
      "100%|██████████████████████████████████████████████████████████████████████████████| 798/798 [00:00<00:00, 1860.13it/s]\u001b[A\n",
      " 18%|██████████████▋                                                                    | 3/17 [00:01<00:06,  2.11it/s]\n",
      "  0%|                                                                                          | 0/798 [00:00<?, ?it/s]\u001b[A\n",
      " 17%|█████████████                                                                 | 133/798 [00:00<00:00, 1316.89it/s]\u001b[A\n",
      " 38%|█████████████████████████████▊                                                | 305/798 [00:00<00:00, 1553.04it/s]\u001b[A\n",
      " 61%|███████████████████████████████████████████████▍                              | 485/798 [00:00<00:00, 1665.55it/s]\u001b[A\n",
      "100%|██████████████████████████████████████████████████████████████████████████████| 798/798 [00:00<00:00, 1750.01it/s]\u001b[A\n",
      " 24%|███████████████████▌                                                               | 4/17 [00:01<00:06,  2.13it/s]\n",
      "  0%|                                                                                          | 0/798 [00:00<?, ?it/s]\u001b[A\n",
      " 18%|█████████████▉                                                                | 143/798 [00:00<00:00, 1430.00it/s]\u001b[A\n",
      " 40%|███████████████████████████████▍                                              | 321/798 [00:00<00:00, 1626.33it/s]\u001b[A\n",
      " 67%|███████████████████████████████████████████████████▉                          | 531/798 [00:00<00:00, 1833.57it/s]\u001b[A\n",
      "100%|██████████████████████████████████████████████████████████████████████████████| 798/798 [00:00<00:00, 1821.90it/s]\u001b[A\n",
      " 29%|████████████████████████▍                                                          | 5/17 [00:02<00:05,  2.17it/s]\n",
      "  0%|                                                                                          | 0/798 [00:00<?, ?it/s]\u001b[A\n",
      " 20%|███████████████▎                                                              | 157/798 [00:00<00:00, 1554.47it/s]\u001b[A\n",
      " 39%|██████████████████████████████▌                                               | 313/798 [00:00<00:00, 1479.68it/s]\u001b[A\n",
      " 66%|███████████████████████████████████████████████████▌                          | 527/798 [00:00<00:00, 1764.35it/s]\u001b[A\n",
      "100%|██████████████████████████████████████████████████████████████████████████████| 798/798 [00:00<00:00, 1708.79it/s]\u001b[A\n",
      " 35%|█████████████████████████████▎                                                     | 6/17 [00:02<00:05,  2.15it/s]\n",
      "  0%|                                                                                          | 0/798 [00:00<?, ?it/s]\u001b[A\n",
      " 21%|████████████████▏                                                             | 165/798 [00:00<00:00, 1649.88it/s]\u001b[A\n",
      " 41%|████████████████████████████████▎                                             | 330/798 [00:00<00:00, 1612.11it/s]\u001b[A\n",
      " 70%|██████████████████████████████████████████████████████▉                       | 562/798 [00:00<00:00, 1922.61it/s]\u001b[A\n",
      "100%|██████████████████████████████████████████████████████████████████████████████| 798/798 [00:00<00:00, 1805.42it/s]\u001b[A\n",
      " 41%|██████████████████████████████████▏                                                | 7/17 [00:03<00:04,  2.17it/s]\n",
      "  0%|                                                                                          | 0/798 [00:00<?, ?it/s]\u001b[A\n",
      " 20%|███████████████▋                                                              | 161/798 [00:00<00:00, 1594.10it/s]\u001b[A\n",
      " 40%|███████████████████████████████▍                                              | 321/798 [00:00<00:00, 1517.50it/s]\u001b[A\n",
      " 62%|████████████████████████████████████████████████▍                             | 495/798 [00:00<00:00, 1608.97it/s]\u001b[A\n",
      "100%|██████████████████████████████████████████████████████████████████████████████| 798/798 [00:00<00:00, 1719.83it/s]\u001b[A\n",
      " 47%|███████████████████████████████████████                                            | 8/17 [00:03<00:04,  2.16it/s]\n",
      "  0%|                                                                                          | 0/798 [00:00<?, ?it/s]\u001b[A\n",
      " 22%|█████████████████▎                                                            | 177/798 [00:00<00:00, 1752.49it/s]\u001b[A\n",
      " 44%|██████████████████████████████████▌                                           | 353/798 [00:00<00:00, 1716.66it/s]\u001b[A\n",
      " 67%|████████████████████████████████████████████████████▍                         | 536/798 [00:00<00:00, 1759.75it/s]\u001b[A\n",
      "100%|██████████████████████████████████████████████████████████████████████████████| 798/798 [00:00<00:00, 1895.49it/s]\u001b[A\n",
      " 53%|███████████████████████████████████████████▉                                       | 9/17 [00:04<00:03,  2.21it/s]\n",
      "  0%|                                                                                          | 0/798 [00:00<?, ?it/s]\u001b[A\n",
      " 18%|█████████████▉                                                                | 143/798 [00:00<00:00, 1429.98it/s]\u001b[A\n",
      " 36%|███████████████████████████▉                                                  | 286/798 [00:00<00:00, 1421.64it/s]\u001b[A\n",
      " 65%|██████████████████████████████████████████████████▌                           | 517/798 [00:00<00:00, 1817.73it/s]\u001b[A\n",
      "100%|██████████████████████████████████████████████████████████████████████████████| 798/798 [00:00<00:00, 1648.76it/s]\u001b[A\n",
      " 59%|████████████████████████████████████████████████▏                                 | 10/17 [00:04<00:03,  2.15it/s]\n",
      "  0%|                                                                                          | 0/798 [00:00<?, ?it/s]\u001b[A\n",
      " 19%|██████████████▊                                                               | 152/798 [00:00<00:00, 1504.89it/s]\u001b[A\n",
      " 38%|██████████████████████████████                                                | 307/798 [00:00<00:00, 1522.45it/s]\u001b[A\n",
      " 70%|██████████████████████████████████████████████████████▉                       | 562/798 [00:00<00:00, 1988.85it/s]\u001b[A\n",
      "100%|██████████████████████████████████████████████████████████████████████████████| 798/798 [00:00<00:00, 1805.31it/s]\u001b[A\n",
      " 65%|█████████████████████████████████████████████████████                             | 11/17 [00:05<00:02,  2.17it/s]\n",
      "  0%|                                                                                          | 0/798 [00:00<?, ?it/s]\u001b[A\n",
      " 22%|████████████████▊                                                             | 172/798 [00:00<00:00, 1703.03it/s]\u001b[A\n",
      " 43%|█████████████████████████████████▌                                            | 343/798 [00:00<00:00, 1612.61it/s]\u001b[A\n",
      " 71%|███████████████████████████████████████████████████████▏                      | 565/798 [00:00<00:00, 1872.53it/s]\u001b[A\n",
      "100%|██████████████████████████████████████████████████████████████████████████████| 798/798 [00:00<00:00, 1826.09it/s]\u001b[A\n",
      " 71%|█████████████████████████████████████████████████████████▉                        | 12/17 [00:05<00:02,  2.20it/s]\n",
      "  0%|                                                                                          | 0/798 [00:00<?, ?it/s]\u001b[A\n",
      " 22%|█████████████████▍                                                            | 178/798 [00:00<00:00, 1762.39it/s]\u001b[A\n",
      " 44%|██████████████████████████████████▋                                           | 355/798 [00:00<00:00, 1606.85it/s]\u001b[A\n",
      "100%|██████████████████████████████████████████████████████████████████████████████| 798/798 [00:00<00:00, 1851.52it/s]\u001b[A\n",
      " 76%|██████████████████████████████████████████████████████████████▋                   | 13/17 [00:05<00:01,  2.22it/s]\n",
      "  0%|                                                                                          | 0/798 [00:00<?, ?it/s]\u001b[A\n",
      " 19%|███████████████                                                               | 154/798 [00:00<00:00, 1524.78it/s]\u001b[A\n",
      " 39%|██████████████████████████████▋                                               | 314/798 [00:00<00:00, 1568.81it/s]\u001b[A\n",
      " 63%|████████████████████████████████████████████████▉                             | 501/798 [00:00<00:00, 1698.33it/s]\u001b[A\n",
      "100%|██████████████████████████████████████████████████████████████████████████████| 798/798 [00:00<00:00, 1773.34it/s]\u001b[A\n",
      " 82%|███████████████████████████████████████████████████████████████████▌              | 14/17 [00:06<00:01,  2.21it/s]\n",
      "  0%|                                                                                          | 0/798 [00:00<?, ?it/s]\u001b[A\n",
      " 22%|████████████████▊                                                             | 172/798 [00:00<00:00, 1703.00it/s]\u001b[A\n",
      " 43%|█████████████████████████████████▌                                            | 343/798 [00:00<00:00, 1697.17it/s]\u001b[A\n",
      " 68%|████████████████████████████████████████████████████▋                         | 539/798 [00:00<00:00, 1816.51it/s]\u001b[A\n",
      "100%|██████████████████████████████████████████████████████████████████████████████| 798/798 [00:00<00:00, 1573.96it/s]\u001b[A\n",
      " 88%|████████████████████████████████████████████████████████████████████████▎         | 15/17 [00:06<00:00,  2.12it/s]\n",
      "  0%|                                                                                          | 0/798 [00:00<?, ?it/s]\u001b[A\n",
      " 18%|█████████████▉                                                                | 142/798 [00:00<00:00, 1419.98it/s]\u001b[A\n",
      " 36%|███████████████████████████▊                                                  | 284/798 [00:00<00:00, 1363.86it/s]\u001b[A\n",
      " 62%|████████████████████████████████████████████████▋                             | 498/798 [00:00<00:00, 1702.91it/s]\u001b[A\n",
      "100%|██████████████████████████████████████████████████████████████████████████████| 798/798 [00:00<00:00, 1687.11it/s]\u001b[A\n",
      " 94%|█████████████████████████████████████████████████████████████████████████████▏    | 16/17 [00:07<00:00,  2.09it/s]\n",
      "  0%|                                                                                          | 0/798 [00:00<?, ?it/s]\u001b[A\n",
      " 20%|███████████████▊                                                              | 162/798 [00:00<00:00, 1604.01it/s]\u001b[A\n",
      " 40%|███████████████████████████████▌                                              | 323/798 [00:00<00:00, 1431.37it/s]\u001b[A\n",
      " 67%|████████████████████████████████████████████████████                          | 533/798 [00:00<00:00, 1709.60it/s]\u001b[A\n",
      "100%|██████████████████████████████████████████████████████████████████████████████| 798/798 [00:00<00:00, 1712.43it/s]\u001b[A\n",
      "100%|██████████████████████████████████████████████████████████████████████████████████| 17/17 [00:07<00:00,  2.14it/s]\n"
     ]
    }
   ],
   "source": [
    "g_accs = {}\n",
    "for g in tqdm(gestures):\n",
    "    i = np.where(g_train==g)\n",
    "    embeds = train_embeddings[i]\n",
    "    labels = y_train[i]\n",
    "    preds = []\n",
    "    for e in tqdm(range(len(embeds))):\n",
    "        embedding = np.array(embeds[e,:])\n",
    "        # print(embedding.shape)\n",
    "        pred = predict_cluster(centroids, np.array(embedding), g)\n",
    "        preds.append(pred)\n",
    "    g_accs[g] = accuracy_score(preds, labels)"
   ]
  },
  {
   "cell_type": "code",
   "execution_count": 56,
   "id": "9f2abceb-1a13-47c6-99c9-8b47e2caab7a",
   "metadata": {},
   "outputs": [
    {
     "data": {
      "text/plain": [
       "{1: 0.899749373433584,\n",
       " 2: 0.9761904761904762,\n",
       " 3: 0.9611528822055138,\n",
       " 4: 0.9598997493734336,\n",
       " 5: 0.9598997493734336,\n",
       " 6: 0.9598997493734336,\n",
       " 7: 0.9649122807017544,\n",
       " 8: 0.9398496240601504,\n",
       " 9: 0.9573934837092731,\n",
       " 10: 0.9223057644110275,\n",
       " 11: 0.9385964912280702,\n",
       " 12: 0.9335839598997494,\n",
       " 13: 0.9486215538847118,\n",
       " 14: 0.9611528822055138,\n",
       " 15: 0.9548872180451128,\n",
       " 16: 0.9423558897243107,\n",
       " 17: 0.7268170426065163}"
      ]
     },
     "execution_count": 56,
     "metadata": {},
     "output_type": "execute_result"
    }
   ],
   "source": [
    "g_accs"
   ]
  },
  {
   "cell_type": "code",
   "execution_count": null,
   "id": "ba3e54cf-6ccc-492a-9c36-dfe6cb63e0bd",
   "metadata": {},
   "outputs": [],
   "source": []
  },
  {
   "cell_type": "code",
   "execution_count": null,
   "id": "91eb67b4-9dcd-4f60-8fd0-6593714e6819",
   "metadata": {},
   "outputs": [],
   "source": []
  },
  {
   "cell_type": "code",
   "execution_count": null,
   "id": "7d433226-8f0d-40e6-b514-26c4697fb595",
   "metadata": {},
   "outputs": [],
   "source": []
  },
  {
   "cell_type": "code",
   "execution_count": null,
   "id": "52c29448-d9e1-4caf-bc14-c887efb3a121",
   "metadata": {},
   "outputs": [],
   "source": []
  }
 ],
 "metadata": {
  "kernelspec": {
   "display_name": "Python 3 (ipykernel)",
   "language": "python",
   "name": "python3"
  },
  "language_info": {
   "codemirror_mode": {
    "name": "ipython",
    "version": 3
   },
   "file_extension": ".py",
   "mimetype": "text/x-python",
   "name": "python",
   "nbconvert_exporter": "python",
   "pygments_lexer": "ipython3",
   "version": "3.10.13"
  },
  "widgets": {
   "application/vnd.jupyter.widget-state+json": {
    "state": {},
    "version_major": 2,
    "version_minor": 0
   }
  }
 },
 "nbformat": 4,
 "nbformat_minor": 5
}
