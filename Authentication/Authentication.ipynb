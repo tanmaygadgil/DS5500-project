{
 "cells": [
  {
   "cell_type": "code",
   "execution_count": 1,
   "id": "913505e2-99df-4b7e-b791-ea5aa79066b0",
   "metadata": {},
   "outputs": [],
   "source": [
    "import pandas as pd\n",
    "import numpy as np\n",
    "import os\n",
    "import sys\n",
    "import json"
   ]
  },
  {
   "cell_type": "code",
   "execution_count": 2,
   "id": "2f4c56ab-d53b-4354-88f8-13eaa93983cf",
   "metadata": {},
   "outputs": [],
   "source": [
    "from sklearn.preprocessing import StandardScaler"
   ]
  },
  {
   "cell_type": "code",
   "execution_count": 3,
   "id": "bbec0514-e6ef-4ed3-a31d-18db53a18d15",
   "metadata": {},
   "outputs": [],
   "source": [
    "import torch"
   ]
  },
  {
   "cell_type": "code",
   "execution_count": 815,
   "id": "5a94417c-ae1d-40a0-bf8f-94f87b2caaf6",
   "metadata": {},
   "outputs": [],
   "source": [
    "from scipy.ndimage import median_filter"
   ]
  },
  {
   "cell_type": "code",
   "execution_count": 4,
   "id": "6f1816b2-3350-42b1-b577-8a2c738e3c2b",
   "metadata": {},
   "outputs": [],
   "source": [
    "from sklearn.metrics import classification_report, f1_score, precision_score, recall_score\n",
    "from torch.utils.data import TensorDataset, DataLoader\n",
    "import torch.nn as nn\n",
    "from torch import optim\n",
    "from sklearn.model_selection import train_test_split\n",
    "from sklearn.preprocessing import StandardScaler\n",
    "import shap"
   ]
  },
  {
   "cell_type": "code",
   "execution_count": 5,
   "id": "c85b3186-2c82-40b7-9356-adf162995f8b",
   "metadata": {},
   "outputs": [],
   "source": [
    "from sklearn.cluster import DBSCAN, AgglomerativeClustering\n",
    "from sklearn.manifold import TSNE\n",
    "from sklearn.decomposition import PCA"
   ]
  },
  {
   "cell_type": "code",
   "execution_count": 16,
   "id": "359c1b03-1163-48a0-aa8b-a66e03c98d86",
   "metadata": {},
   "outputs": [],
   "source": [
    "from pickle import load"
   ]
  },
  {
   "cell_type": "code",
   "execution_count": 497,
   "id": "821c8e91-763c-4bc9-9c00-5f5d7c9899bb",
   "metadata": {},
   "outputs": [],
   "source": [
    "from tqdm import tqdm"
   ]
  },
  {
   "cell_type": "code",
   "execution_count": 6,
   "id": "9eb57711-d4a1-424f-a3f1-da3997f3043c",
   "metadata": {},
   "outputs": [],
   "source": [
    "import seaborn as sns\n",
    "from scipy import stats\n",
    "import matplotlib.pyplot as plt\n"
   ]
  },
  {
   "cell_type": "code",
   "execution_count": 439,
   "id": "dadd2c8d-26ac-4846-9e3a-8d698746570d",
   "metadata": {},
   "outputs": [],
   "source": [
    "from sklearn.metrics import silhouette_score"
   ]
  },
  {
   "cell_type": "code",
   "execution_count": 726,
   "id": "10702f96-7c21-4954-8df4-cebb92dd1e0d",
   "metadata": {},
   "outputs": [],
   "source": [
    "data = pd.read_csv('../data/gesture-recognition-and-biometrics-electromyogram-grabmyo-1.0.2/features_v2.csv')\n",
    "feature_cols = [c for c in data.columns if \"_\" in c]\n",
    "for col in feature_cols:\n",
    "    data[col] = data[col].clip(data[col].mean() - (3*data[col].std()), data[col].mean() + (3*data[col].std()))"
   ]
  },
  {
   "cell_type": "code",
   "execution_count": 741,
   "id": "ae24a7fe-aefd-496c-bf11-f7dd546366a5",
   "metadata": {},
   "outputs": [],
   "source": [
    "class Encoder(nn.Module):\n",
    "    def __init__(self, input_dim, embed_dim):\n",
    "        super().__init__()\n",
    "        self.l1 = nn.Linear(input_dim, 128)\n",
    "        \n",
    "        self.l2 = nn.Linear(128, 128)\n",
    "        self.l3 = nn.Linear(128, 128)\n",
    "        self.l4 = nn.Linear(128, embed_dim)\n",
    "        self.dropout = nn.Dropout(p=0.3)\n",
    "        self.relu = nn.ReLU()\n",
    "    def forward(self, x):\n",
    "        x = self.relu(self.l1(x))\n",
    "        x = self.dropout(x)\n",
    "        x = self.relu(self.l2(x))\n",
    "        x = self.dropout(x)\n",
    "        x = self.relu(self.l3(x))\n",
    "        x = self.dropout(x)\n",
    "        x = self.l4(x)\n",
    "        return x\n",
    "\n",
    "\n",
    "class ClassificationHead(nn.Module):\n",
    "    def __init__(self,embed_dim, output_dim):\n",
    "        super().__init__()\n",
    "        self.l1 = nn.Linear(embed_dim, 64)\n",
    "        self.l2 = nn.Linear(64, output_dim)\n",
    "        self.relu = nn.ReLU()\n",
    "    def forward(self, x):\n",
    "        x = self.relu(self.l1(x))\n",
    "        x = self.l2(x)\n",
    "        return x\n",
    "\n",
    "class UserClassifier(nn.Module):\n",
    "    def __init__(self, input_dim, embed_dim, output_dim):\n",
    "        super().__init__()\n",
    "        self.encoder = Encoder(input_dim, embed_dim)\n",
    "        self.decoder = ClassificationHead(embed_dim, output_dim)\n",
    "        \n",
    "    def forward(self, x):\n",
    "        x = self.encoder(x)\n",
    "        x = self.decoder(x)\n",
    "        return x"
   ]
  },
  {
   "cell_type": "code",
   "execution_count": 728,
   "id": "6e5168a7-d00f-45df-bbc3-9b7e2c07cc6a",
   "metadata": {},
   "outputs": [],
   "source": [
    "train_parts = list(range(1,39))\n",
    "test_parts = list(range(39,44))"
   ]
  },
  {
   "cell_type": "code",
   "execution_count": 766,
   "id": "eb12e96d-6225-40a4-aec2-186936d062d4",
   "metadata": {},
   "outputs": [],
   "source": [
    "train_df = data[data[\"participant\"].isin(train_parts)].reset_index()\n",
    "test_df = data[data[\"participant\"].isin(test_parts)].reset_index()"
   ]
  },
  {
   "cell_type": "code",
   "execution_count": 767,
   "id": "a8adac19-b9f7-4356-9485-c1379779c796",
   "metadata": {},
   "outputs": [
    {
     "data": {
      "text/html": [
       "<div>\n",
       "<style scoped>\n",
       "    .dataframe tbody tr th:only-of-type {\n",
       "        vertical-align: middle;\n",
       "    }\n",
       "\n",
       "    .dataframe tbody tr th {\n",
       "        vertical-align: top;\n",
       "    }\n",
       "\n",
       "    .dataframe thead th {\n",
       "        text-align: right;\n",
       "    }\n",
       "</style>\n",
       "<table border=\"1\" class=\"dataframe\">\n",
       "  <thead>\n",
       "    <tr style=\"text-align: right;\">\n",
       "      <th></th>\n",
       "      <th>index</th>\n",
       "      <th>session</th>\n",
       "      <th>trial</th>\n",
       "      <th>filename</th>\n",
       "      <th>crest_factor_F1</th>\n",
       "      <th>dasd_F1</th>\n",
       "      <th>diffvar_F1</th>\n",
       "      <th>form_factor_F1</th>\n",
       "      <th>iemg_F1</th>\n",
       "      <th>kurtosis_F1</th>\n",
       "      <th>...</th>\n",
       "      <th>rms_W9</th>\n",
       "      <th>skew_W9</th>\n",
       "      <th>skew_f_W9</th>\n",
       "      <th>ssi_W9</th>\n",
       "      <th>sum_f_W9</th>\n",
       "      <th>var_f_W9</th>\n",
       "      <th>wflen_W9</th>\n",
       "      <th>willison_W9</th>\n",
       "      <th>gesture</th>\n",
       "      <th>participant</th>\n",
       "    </tr>\n",
       "  </thead>\n",
       "  <tbody>\n",
       "    <tr>\n",
       "      <th>3689</th>\n",
       "      <td>3689</td>\n",
       "      <td>1</td>\n",
       "      <td>1</td>\n",
       "      <td>E:\\DS5500-project\\data\\gesture-recognition-and...</td>\n",
       "      <td>6.097550</td>\n",
       "      <td>0.010836</td>\n",
       "      <td>0.000144</td>\n",
       "      <td>12371.193565</td>\n",
       "      <td>216.439454</td>\n",
       "      <td>1.565554</td>\n",
       "      <td>...</td>\n",
       "      <td>0.023124</td>\n",
       "      <td>-0.604704</td>\n",
       "      <td>3.521945</td>\n",
       "      <td>5.475507</td>\n",
       "      <td>0.032126</td>\n",
       "      <td>1.526150e-11</td>\n",
       "      <td>71.764268</td>\n",
       "      <td>10.0</td>\n",
       "      <td>10</td>\n",
       "      <td>38</td>\n",
       "    </tr>\n",
       "    <tr>\n",
       "      <th>3690</th>\n",
       "      <td>3690</td>\n",
       "      <td>1</td>\n",
       "      <td>2</td>\n",
       "      <td>E:\\DS5500-project\\data\\gesture-recognition-and...</td>\n",
       "      <td>3.760940</td>\n",
       "      <td>0.007956</td>\n",
       "      <td>0.000080</td>\n",
       "      <td>-3420.068344</td>\n",
       "      <td>143.835930</td>\n",
       "      <td>0.365443</td>\n",
       "      <td>...</td>\n",
       "      <td>0.016505</td>\n",
       "      <td>-0.670116</td>\n",
       "      <td>2.811054</td>\n",
       "      <td>2.789468</td>\n",
       "      <td>0.014691</td>\n",
       "      <td>2.806150e-12</td>\n",
       "      <td>52.913961</td>\n",
       "      <td>16.0</td>\n",
       "      <td>10</td>\n",
       "      <td>38</td>\n",
       "    </tr>\n",
       "    <tr>\n",
       "      <th>3691</th>\n",
       "      <td>3691</td>\n",
       "      <td>1</td>\n",
       "      <td>3</td>\n",
       "      <td>E:\\DS5500-project\\data\\gesture-recognition-and...</td>\n",
       "      <td>7.576713</td>\n",
       "      <td>0.012106</td>\n",
       "      <td>0.000180</td>\n",
       "      <td>4377.657015</td>\n",
       "      <td>213.549406</td>\n",
       "      <td>5.228293</td>\n",
       "      <td>...</td>\n",
       "      <td>0.018901</td>\n",
       "      <td>-0.811233</td>\n",
       "      <td>4.339130</td>\n",
       "      <td>3.658076</td>\n",
       "      <td>0.023372</td>\n",
       "      <td>9.917207e-12</td>\n",
       "      <td>53.501625</td>\n",
       "      <td>18.0</td>\n",
       "      <td>10</td>\n",
       "      <td>38</td>\n",
       "    </tr>\n",
       "    <tr>\n",
       "      <th>3692</th>\n",
       "      <td>3692</td>\n",
       "      <td>1</td>\n",
       "      <td>4</td>\n",
       "      <td>E:\\DS5500-project\\data\\gesture-recognition-and...</td>\n",
       "      <td>7.020065</td>\n",
       "      <td>0.013158</td>\n",
       "      <td>0.000217</td>\n",
       "      <td>11454.240984</td>\n",
       "      <td>234.040882</td>\n",
       "      <td>2.492734</td>\n",
       "      <td>...</td>\n",
       "      <td>0.022456</td>\n",
       "      <td>-0.457721</td>\n",
       "      <td>2.896976</td>\n",
       "      <td>5.163879</td>\n",
       "      <td>0.034600</td>\n",
       "      <td>1.487831e-11</td>\n",
       "      <td>66.079424</td>\n",
       "      <td>8.0</td>\n",
       "      <td>10</td>\n",
       "      <td>38</td>\n",
       "    </tr>\n",
       "    <tr>\n",
       "      <th>3693</th>\n",
       "      <td>3693</td>\n",
       "      <td>1</td>\n",
       "      <td>5</td>\n",
       "      <td>E:\\DS5500-project\\data\\gesture-recognition-and...</td>\n",
       "      <td>6.176605</td>\n",
       "      <td>0.009042</td>\n",
       "      <td>0.000101</td>\n",
       "      <td>-1311.915635</td>\n",
       "      <td>176.321696</td>\n",
       "      <td>1.490861</td>\n",
       "      <td>...</td>\n",
       "      <td>0.021580</td>\n",
       "      <td>-0.616602</td>\n",
       "      <td>4.893843</td>\n",
       "      <td>4.768511</td>\n",
       "      <td>0.023374</td>\n",
       "      <td>1.171588e-11</td>\n",
       "      <td>59.497298</td>\n",
       "      <td>2.0</td>\n",
       "      <td>10</td>\n",
       "      <td>38</td>\n",
       "    </tr>\n",
       "    <tr>\n",
       "      <th>...</th>\n",
       "      <td>...</td>\n",
       "      <td>...</td>\n",
       "      <td>...</td>\n",
       "      <td>...</td>\n",
       "      <td>...</td>\n",
       "      <td>...</td>\n",
       "      <td>...</td>\n",
       "      <td>...</td>\n",
       "      <td>...</td>\n",
       "      <td>...</td>\n",
       "      <td>...</td>\n",
       "      <td>...</td>\n",
       "      <td>...</td>\n",
       "      <td>...</td>\n",
       "      <td>...</td>\n",
       "      <td>...</td>\n",
       "      <td>...</td>\n",
       "      <td>...</td>\n",
       "      <td>...</td>\n",
       "      <td>...</td>\n",
       "      <td>...</td>\n",
       "    </tr>\n",
       "    <tr>\n",
       "      <th>12847</th>\n",
       "      <td>14037</td>\n",
       "      <td>3</td>\n",
       "      <td>3</td>\n",
       "      <td>E:\\DS5500-project\\data\\gesture-recognition-and...</td>\n",
       "      <td>5.425676</td>\n",
       "      <td>0.007644</td>\n",
       "      <td>0.000072</td>\n",
       "      <td>-2236.055273</td>\n",
       "      <td>151.828566</td>\n",
       "      <td>0.444445</td>\n",
       "      <td>...</td>\n",
       "      <td>0.033618</td>\n",
       "      <td>-0.339034</td>\n",
       "      <td>3.016555</td>\n",
       "      <td>11.572723</td>\n",
       "      <td>0.023638</td>\n",
       "      <td>7.482219e-12</td>\n",
       "      <td>77.835172</td>\n",
       "      <td>3.0</td>\n",
       "      <td>9</td>\n",
       "      <td>38</td>\n",
       "    </tr>\n",
       "    <tr>\n",
       "      <th>12848</th>\n",
       "      <td>14038</td>\n",
       "      <td>3</td>\n",
       "      <td>4</td>\n",
       "      <td>E:\\DS5500-project\\data\\gesture-recognition-and...</td>\n",
       "      <td>6.849459</td>\n",
       "      <td>0.008394</td>\n",
       "      <td>0.000086</td>\n",
       "      <td>-2701.659876</td>\n",
       "      <td>160.975263</td>\n",
       "      <td>3.587046</td>\n",
       "      <td>...</td>\n",
       "      <td>0.031737</td>\n",
       "      <td>-0.093512</td>\n",
       "      <td>4.597554</td>\n",
       "      <td>10.313970</td>\n",
       "      <td>0.024326</td>\n",
       "      <td>1.076574e-11</td>\n",
       "      <td>74.406662</td>\n",
       "      <td>1.0</td>\n",
       "      <td>9</td>\n",
       "      <td>38</td>\n",
       "    </tr>\n",
       "    <tr>\n",
       "      <th>12849</th>\n",
       "      <td>14039</td>\n",
       "      <td>3</td>\n",
       "      <td>5</td>\n",
       "      <td>E:\\DS5500-project\\data\\gesture-recognition-and...</td>\n",
       "      <td>5.474257</td>\n",
       "      <td>0.006846</td>\n",
       "      <td>0.000058</td>\n",
       "      <td>-1021.633119</td>\n",
       "      <td>132.847093</td>\n",
       "      <td>0.846615</td>\n",
       "      <td>...</td>\n",
       "      <td>0.036801</td>\n",
       "      <td>-0.220081</td>\n",
       "      <td>3.042451</td>\n",
       "      <td>13.868536</td>\n",
       "      <td>0.025805</td>\n",
       "      <td>9.606238e-12</td>\n",
       "      <td>87.383690</td>\n",
       "      <td>0.0</td>\n",
       "      <td>9</td>\n",
       "      <td>38</td>\n",
       "    </tr>\n",
       "    <tr>\n",
       "      <th>12850</th>\n",
       "      <td>14040</td>\n",
       "      <td>3</td>\n",
       "      <td>6</td>\n",
       "      <td>E:\\DS5500-project\\data\\gesture-recognition-and...</td>\n",
       "      <td>4.102621</td>\n",
       "      <td>0.006895</td>\n",
       "      <td>0.000058</td>\n",
       "      <td>1741.911556</td>\n",
       "      <td>142.625808</td>\n",
       "      <td>0.445779</td>\n",
       "      <td>...</td>\n",
       "      <td>0.038768</td>\n",
       "      <td>-0.152836</td>\n",
       "      <td>3.123313</td>\n",
       "      <td>15.390149</td>\n",
       "      <td>0.027547</td>\n",
       "      <td>1.040902e-11</td>\n",
       "      <td>86.633790</td>\n",
       "      <td>1.0</td>\n",
       "      <td>9</td>\n",
       "      <td>38</td>\n",
       "    </tr>\n",
       "    <tr>\n",
       "      <th>12851</th>\n",
       "      <td>14041</td>\n",
       "      <td>3</td>\n",
       "      <td>7</td>\n",
       "      <td>E:\\DS5500-project\\data\\gesture-recognition-and...</td>\n",
       "      <td>4.921501</td>\n",
       "      <td>0.009915</td>\n",
       "      <td>0.000121</td>\n",
       "      <td>-1196.454070</td>\n",
       "      <td>195.576801</td>\n",
       "      <td>0.380418</td>\n",
       "      <td>...</td>\n",
       "      <td>0.044064</td>\n",
       "      <td>-0.181036</td>\n",
       "      <td>2.937543</td>\n",
       "      <td>19.882771</td>\n",
       "      <td>0.050452</td>\n",
       "      <td>3.136666e-11</td>\n",
       "      <td>108.248077</td>\n",
       "      <td>0.0</td>\n",
       "      <td>9</td>\n",
       "      <td>38</td>\n",
       "    </tr>\n",
       "  </tbody>\n",
       "</table>\n",
       "<p>357 rows × 762 columns</p>\n",
       "</div>"
      ],
      "text/plain": [
       "       index  session  trial  \\\n",
       "3689    3689        1      1   \n",
       "3690    3690        1      2   \n",
       "3691    3691        1      3   \n",
       "3692    3692        1      4   \n",
       "3693    3693        1      5   \n",
       "...      ...      ...    ...   \n",
       "12847  14037        3      3   \n",
       "12848  14038        3      4   \n",
       "12849  14039        3      5   \n",
       "12850  14040        3      6   \n",
       "12851  14041        3      7   \n",
       "\n",
       "                                                filename  crest_factor_F1  \\\n",
       "3689   E:\\DS5500-project\\data\\gesture-recognition-and...         6.097550   \n",
       "3690   E:\\DS5500-project\\data\\gesture-recognition-and...         3.760940   \n",
       "3691   E:\\DS5500-project\\data\\gesture-recognition-and...         7.576713   \n",
       "3692   E:\\DS5500-project\\data\\gesture-recognition-and...         7.020065   \n",
       "3693   E:\\DS5500-project\\data\\gesture-recognition-and...         6.176605   \n",
       "...                                                  ...              ...   \n",
       "12847  E:\\DS5500-project\\data\\gesture-recognition-and...         5.425676   \n",
       "12848  E:\\DS5500-project\\data\\gesture-recognition-and...         6.849459   \n",
       "12849  E:\\DS5500-project\\data\\gesture-recognition-and...         5.474257   \n",
       "12850  E:\\DS5500-project\\data\\gesture-recognition-and...         4.102621   \n",
       "12851  E:\\DS5500-project\\data\\gesture-recognition-and...         4.921501   \n",
       "\n",
       "        dasd_F1  diffvar_F1  form_factor_F1     iemg_F1  kurtosis_F1  ...  \\\n",
       "3689   0.010836    0.000144    12371.193565  216.439454     1.565554  ...   \n",
       "3690   0.007956    0.000080    -3420.068344  143.835930     0.365443  ...   \n",
       "3691   0.012106    0.000180     4377.657015  213.549406     5.228293  ...   \n",
       "3692   0.013158    0.000217    11454.240984  234.040882     2.492734  ...   \n",
       "3693   0.009042    0.000101    -1311.915635  176.321696     1.490861  ...   \n",
       "...         ...         ...             ...         ...          ...  ...   \n",
       "12847  0.007644    0.000072    -2236.055273  151.828566     0.444445  ...   \n",
       "12848  0.008394    0.000086    -2701.659876  160.975263     3.587046  ...   \n",
       "12849  0.006846    0.000058    -1021.633119  132.847093     0.846615  ...   \n",
       "12850  0.006895    0.000058     1741.911556  142.625808     0.445779  ...   \n",
       "12851  0.009915    0.000121    -1196.454070  195.576801     0.380418  ...   \n",
       "\n",
       "         rms_W9   skew_W9  skew_f_W9     ssi_W9  sum_f_W9      var_f_W9  \\\n",
       "3689   0.023124 -0.604704   3.521945   5.475507  0.032126  1.526150e-11   \n",
       "3690   0.016505 -0.670116   2.811054   2.789468  0.014691  2.806150e-12   \n",
       "3691   0.018901 -0.811233   4.339130   3.658076  0.023372  9.917207e-12   \n",
       "3692   0.022456 -0.457721   2.896976   5.163879  0.034600  1.487831e-11   \n",
       "3693   0.021580 -0.616602   4.893843   4.768511  0.023374  1.171588e-11   \n",
       "...         ...       ...        ...        ...       ...           ...   \n",
       "12847  0.033618 -0.339034   3.016555  11.572723  0.023638  7.482219e-12   \n",
       "12848  0.031737 -0.093512   4.597554  10.313970  0.024326  1.076574e-11   \n",
       "12849  0.036801 -0.220081   3.042451  13.868536  0.025805  9.606238e-12   \n",
       "12850  0.038768 -0.152836   3.123313  15.390149  0.027547  1.040902e-11   \n",
       "12851  0.044064 -0.181036   2.937543  19.882771  0.050452  3.136666e-11   \n",
       "\n",
       "         wflen_W9  willison_W9  gesture  participant  \n",
       "3689    71.764268         10.0       10           38  \n",
       "3690    52.913961         16.0       10           38  \n",
       "3691    53.501625         18.0       10           38  \n",
       "3692    66.079424          8.0       10           38  \n",
       "3693    59.497298          2.0       10           38  \n",
       "...           ...          ...      ...          ...  \n",
       "12847   77.835172          3.0        9           38  \n",
       "12848   74.406662          1.0        9           38  \n",
       "12849   87.383690          0.0        9           38  \n",
       "12850   86.633790          1.0        9           38  \n",
       "12851  108.248077          0.0        9           38  \n",
       "\n",
       "[357 rows x 762 columns]"
      ]
     },
     "execution_count": 767,
     "metadata": {},
     "output_type": "execute_result"
    }
   ],
   "source": [
    "train_df[train_df['participant']==38]"
   ]
  },
  {
   "cell_type": "code",
   "execution_count": 768,
   "id": "279c7043-d702-41de-a5fd-f4c0bb0865c2",
   "metadata": {},
   "outputs": [],
   "source": [
    "scaler  = load(open('sub_scaler.pkl', 'rb'))"
   ]
  },
  {
   "cell_type": "code",
   "execution_count": 769,
   "id": "8906aea1-8826-4c1f-ad48-1f52c83941cf",
   "metadata": {},
   "outputs": [],
   "source": [
    "x_train = train_df.loc[:, feature_cols].values\n",
    "y_train = (train_df.loc[:, 'participant']).values\n",
    "g_train = (train_df.loc[:, 'gesture']).values\n",
    "s_train = (train_df.loc[:, 'session']).values"
   ]
  },
  {
   "cell_type": "code",
   "execution_count": 770,
   "id": "55598c31-a0a2-49fa-8d1e-d530ce89364f",
   "metadata": {},
   "outputs": [],
   "source": [
    "x_test = test_df.loc[:, feature_cols].values\n",
    "y_test = (test_df.loc[:, 'participant']).values\n",
    "g_test = (test_df.loc[:, 'gesture']).values\n",
    "s_test = (test_df.loc[:, 'session']).values"
   ]
  },
  {
   "cell_type": "code",
   "execution_count": 771,
   "id": "fdc40c2c-b9f9-4ddd-9019-d08c5dce786a",
   "metadata": {},
   "outputs": [],
   "source": [
    "x_train = scaler.transform(x_train)\n",
    "x_test = scaler.transform(x_test)"
   ]
  },
  {
   "cell_type": "code",
   "execution_count": 772,
   "id": "51b2fdf5-23a2-4234-850a-58d84e2b0870",
   "metadata": {},
   "outputs": [],
   "source": [
    "# s_test.shape"
   ]
  },
  {
   "cell_type": "code",
   "execution_count": 773,
   "id": "00995c97-28ed-4202-8b15-9e66b231f984",
   "metadata": {},
   "outputs": [],
   "source": [
    "# x_test"
   ]
  },
  {
   "cell_type": "code",
   "execution_count": 774,
   "id": "806fbc47-6334-4848-b353-60c05697dbe6",
   "metadata": {},
   "outputs": [],
   "source": [
    "encoder = Encoder(x_train.shape[1], 16)"
   ]
  },
  {
   "cell_type": "code",
   "execution_count": 775,
   "id": "2acab480-fe17-493e-aebd-7e637527f759",
   "metadata": {},
   "outputs": [
    {
     "data": {
      "text/plain": [
       "<All keys matched successfully>"
      ]
     },
     "execution_count": 775,
     "metadata": {},
     "output_type": "execute_result"
    }
   ],
   "source": [
    "encoder.load_state_dict(torch.load('sub_encoder.pth'), strict=False)"
   ]
  },
  {
   "cell_type": "code",
   "execution_count": 776,
   "id": "9d5c38ab-aae4-4c91-8753-19744e5ac603",
   "metadata": {},
   "outputs": [],
   "source": [
    "def embed(model, test_loader):\n",
    "    model.eval()  # Set the model to evaluation mode\n",
    "    y_pred = []\n",
    "\n",
    "    with torch.no_grad():\n",
    "        for batch_idx, (inputs, labels) in enumerate(test_loader):\n",
    "            outputs = model(inputs)\n",
    "            # _, predicted = torch.max(outputs, 1)\n",
    "            y_pred.extend(outputs)\n",
    "\n",
    "    return torch.stack(y_pred)"
   ]
  },
  {
   "cell_type": "code",
   "execution_count": 777,
   "id": "4bc25e70-0f4a-4ff0-9847-85e045f42dd5",
   "metadata": {},
   "outputs": [],
   "source": [
    "train_dataset = TensorDataset(torch.tensor(x_train).type(torch.float32), torch.tensor(y_train).type(torch.LongTensor))\n",
    "test_dataset = TensorDataset(torch.tensor(x_test).type(torch.float32), torch.tensor(y_test).type(torch.LongTensor))"
   ]
  },
  {
   "cell_type": "code",
   "execution_count": 778,
   "id": "95b9e27a-9467-41ce-b1a9-760c301c07fc",
   "metadata": {},
   "outputs": [],
   "source": [
    "batch_size = 256\n",
    "train_loader = DataLoader(train_dataset, batch_size=batch_size, shuffle=False)\n",
    "test_loader = DataLoader(test_dataset, batch_size=batch_size, shuffle=False)"
   ]
  },
  {
   "cell_type": "code",
   "execution_count": 779,
   "id": "0b8ad66b-4209-4e65-adad-83eac8b430e7",
   "metadata": {},
   "outputs": [],
   "source": [
    "train_embeddings = embed(model=encoder, test_loader=train_loader)\n",
    "test_embeddings = embed(model=encoder, test_loader=test_loader)"
   ]
  },
  {
   "cell_type": "code",
   "execution_count": 780,
   "id": "7382144c-8e88-4423-9deb-b257dabe3f8c",
   "metadata": {},
   "outputs": [
    {
     "data": {
      "text/plain": [
       "array([ 1,  2,  3,  4,  5,  6,  7,  8,  9, 10, 11, 12, 13, 14, 15, 16, 17,\n",
       "       18, 19, 20, 21, 22, 23, 24, 25, 26, 27, 28, 29, 30, 31, 32, 33, 34,\n",
       "       35, 36, 37, 38], dtype=int64)"
      ]
     },
     "execution_count": 780,
     "metadata": {},
     "output_type": "execute_result"
    }
   ],
   "source": [
    "np.unique(y_train)"
   ]
  },
  {
   "cell_type": "markdown",
   "id": "7bb8853d-8794-448a-8abe-eb8bfc8bde90",
   "metadata": {},
   "source": [
    "### Filter by gesture"
   ]
  },
  {
   "cell_type": "code",
   "execution_count": 781,
   "id": "80292607-3338-4c00-b3db-111aafd63314",
   "metadata": {},
   "outputs": [],
   "source": [
    "test_gesture = 4"
   ]
  },
  {
   "cell_type": "code",
   "execution_count": 782,
   "id": "0800bc5a-b5da-4cdc-9ad1-fc33d346b3a5",
   "metadata": {},
   "outputs": [
    {
     "data": {
      "text/plain": [
       "array([[ 0.77424686,  0.22894734, -0.03866896, ..., -0.19950481,\n",
       "        -0.31648044,  0.22265155],\n",
       "       [ 3.69577121,  0.39224843,  0.05191967, ..., -0.20265817,\n",
       "        -0.59221924,  0.63944318],\n",
       "       [ 1.4581732 , -0.22591701, -0.34523522, ..., -0.23473801,\n",
       "        -0.53345128,  0.11845365],\n",
       "       ...,\n",
       "       [-0.0605876 , -0.03818827, -0.25518059, ..., -0.24191147,\n",
       "        -0.49717514, -0.55883275],\n",
       "       [ 0.32770657, -0.26345926, -0.38308866, ..., -0.25367637,\n",
       "        -0.92542558, -0.55883275],\n",
       "       [ 0.23102655, -0.21357721, -0.3526431 , ..., -0.24997502,\n",
       "        -0.84327682, -0.35043694]])"
      ]
     },
     "execution_count": 782,
     "metadata": {},
     "output_type": "execute_result"
    }
   ],
   "source": [
    "x_train"
   ]
  },
  {
   "cell_type": "code",
   "execution_count": 783,
   "id": "78fb80e1-6ceb-4f2f-aa60-31677232af91",
   "metadata": {},
   "outputs": [],
   "source": [
    "i = np.where(g_train == test_gesture)\n",
    "train_feats = np.squeeze(train_embeddings[i,:])\n",
    "train_labels = y_train[i]\n",
    "train_sessions = s_train[i]"
   ]
  },
  {
   "cell_type": "code",
   "execution_count": 784,
   "id": "fe572698-6687-40b2-bc0f-9f7a536beb70",
   "metadata": {},
   "outputs": [],
   "source": [
    "i = np.where(g_test == test_gesture)\n",
    "test_feats = np.squeeze(test_embeddings[i,:])\n",
    "test_labels = y_test[i]\n",
    "test_sessions = s_test[i]"
   ]
  },
  {
   "cell_type": "markdown",
   "id": "bb858d8e-b6d3-4cfb-872f-8f5d62fd577b",
   "metadata": {},
   "source": [
    "### Visualize"
   ]
  },
  {
   "cell_type": "markdown",
   "id": "1f7fabcb-c652-49a9-b1ca-f5ef2a683b0e",
   "metadata": {},
   "source": [
    "#### Train"
   ]
  },
  {
   "cell_type": "code",
   "execution_count": 929,
   "id": "56dced33-678a-462b-aca5-a14c331f7239",
   "metadata": {},
   "outputs": [],
   "source": [
    "sub_parts = [15,16,20,23,35,4,8,33,12,27]"
   ]
  },
  {
   "cell_type": "code",
   "execution_count": 930,
   "id": "b6464427-d3d5-4173-bf5f-168ce4668e6a",
   "metadata": {},
   "outputs": [],
   "source": [
    "train_tsne = TSNE()\n",
    "train_t_feats = train_tsne.fit_transform(train_feats)"
   ]
  },
  {
   "cell_type": "code",
   "execution_count": 931,
   "id": "72de34ff-a4b0-4c23-b0ea-c0fb3c02042d",
   "metadata": {},
   "outputs": [],
   "source": [
    "plot_df = pd.DataFrame({\"x\": train_t_feats[:,0], \"y\": train_t_feats[:,1], \n",
    "                        \"participants\": train_labels, \"sessions\":train_sessions})"
   ]
  },
  {
   "cell_type": "code",
   "execution_count": 932,
   "id": "33091107-f009-497c-ba05-6d96a444930e",
   "metadata": {},
   "outputs": [
    {
     "name": "stderr",
     "output_type": "stream",
     "text": [
      "\n",
      "A value is trying to be set on a copy of a slice from a DataFrame.\n",
      "Try using .loc[row_indexer,col_indexer] = value instead\n",
      "\n",
      "See the caveats in the documentation: https://pandas.pydata.org/pandas-docs/stable/user_guide/indexing.html#returning-a-view-versus-a-copy\n"
     ]
    }
   ],
   "source": [
    "sub_plot = plot_df[plot_df['participants'].isin(sub_parts)]\n",
    "sub_plot[\"participants\"] = \"p_\" + sub_plot[\"participants\"].astype(str)"
   ]
  },
  {
   "cell_type": "code",
   "execution_count": 933,
   "id": "7b0e33fe-bc18-4ad9-a3d1-c24379302788",
   "metadata": {},
   "outputs": [
    {
     "data": {
      "text/plain": [
       "Text(0.5, 1.0, 'T-SNE Visualization of feature space of training data in 2D - gesture 11')"
      ]
     },
     "execution_count": 933,
     "metadata": {},
     "output_type": "execute_result"
    },
    {
     "data": {
      "image/png": "[encoded data removed]",
      "text/plain": [
       "<Figure size 1000x1000 with 1 Axes>"
      ]
     },
     "metadata": {},
     "output_type": "display_data"
    }
   ],
   "source": [
    "fig, ax = plt.subplots(figsize=(10, 10))\n",
    "sns.scatterplot(data = sub_plot, x = \"x\", y = \"y\", \n",
    "                hue = \"participants\", \n",
    "                hue_order=sub_plot['participants'].unique(), ax = ax)\n",
    "ax.set_title(\"T-SNE Visualization of feature space of training data in 2D - gesture 11\")"
   ]
  },
  {
   "cell_type": "markdown",
   "id": "49f7f997-2e75-4557-8519-39183edb1af3",
   "metadata": {},
   "source": [
    "#### Test"
   ]
  },
  {
   "cell_type": "code",
   "execution_count": null,
   "id": "88cbc826-9589-4432-923b-f9eb20444f4d",
   "metadata": {},
   "outputs": [],
   "source": []
  },
  {
   "cell_type": "code",
   "execution_count": 758,
   "id": "af536d06-1a82-4f65-a941-865f04b83247",
   "metadata": {},
   "outputs": [],
   "source": [
    "sub_parts = [39,40,41,42,43]"
   ]
  },
  {
   "cell_type": "code",
   "execution_count": 759,
   "id": "90b89446-6b44-4c07-af93-135c873589b6",
   "metadata": {},
   "outputs": [],
   "source": [
    "test_tsne = TSNE()\n",
    "test_t_feats = test_tsne.fit_transform(test_feats)"
   ]
  },
  {
   "cell_type": "code",
   "execution_count": 760,
   "id": "060e077a-57df-4422-8df6-35b697e7e977",
   "metadata": {},
   "outputs": [],
   "source": [
    "# test_t_feats = train_tsne.fit_transform(test_feats)"
   ]
  },
  {
   "cell_type": "code",
   "execution_count": 761,
   "id": "ccd15bb1-a97d-48d0-857e-8db2f150340d",
   "metadata": {},
   "outputs": [
    {
     "data": {
      "text/plain": [
       "torch.Size([105, 16])"
      ]
     },
     "execution_count": 761,
     "metadata": {},
     "output_type": "execute_result"
    }
   ],
   "source": [
    "test_feats.shape"
   ]
  },
  {
   "cell_type": "code",
   "execution_count": 762,
   "id": "9f997b59-0698-47f1-a388-35ef9918986f",
   "metadata": {},
   "outputs": [
    {
     "data": {
      "text/plain": [
       "torch.Size([105, 16])"
      ]
     },
     "execution_count": 762,
     "metadata": {},
     "output_type": "execute_result"
    }
   ],
   "source": [
    "test_feats.shape"
   ]
  },
  {
   "cell_type": "code",
   "execution_count": 763,
   "id": "ddfa20cc-887a-468b-bccd-b221fdf563cd",
   "metadata": {},
   "outputs": [],
   "source": [
    "plot_df = pd.DataFrame({\"x\": test_t_feats[:,0], \"y\": test_t_feats[:,1], \n",
    "                        \"participants\": test_labels, \"sessions\":test_sessions})"
   ]
  },
  {
   "cell_type": "code",
   "execution_count": 764,
   "id": "7afa9ab6-93ba-43ff-ae97-ee4d145517b6",
   "metadata": {},
   "outputs": [],
   "source": [
    "sub_plot = plot_df[plot_df['participants'].isin(sub_parts)]\n",
    "sub_plot[\"participants\"] = \"p_\" + sub_plot[\"participants\"].astype(str)"
   ]
  },
  {
   "cell_type": "code",
   "execution_count": 765,
   "id": "428b4860-9f07-43ff-a663-8654f6538d7f",
   "metadata": {},
   "outputs": [
    {
     "data": {
      "text/plain": [
       "Text(0.5, 1.0, 'T-SNE Visualization of feature space of test data in 2D - gesture 11')"
      ]
     },
     "execution_count": 765,
     "metadata": {},
     "output_type": "execute_result"
    },
    {
     "data": {
      "image/png": "[encoded data removed]",
      "text/plain": [
       "<Figure size 1000x1000 with 1 Axes>"
      ]
     },
     "metadata": {},
     "output_type": "display_data"
    }
   ],
   "source": [
    "fig, ax = plt.subplots(figsize=(10, 10))\n",
    "sns.scatterplot(data = sub_plot, x = \"x\", y = \"y\", \n",
    "                hue = \"participants\", \n",
    "                hue_order=sub_plot['participants'].unique(), ax = ax)\n",
    "ax.set_title(\"T-SNE Visualization of feature space of test data in 2D - gesture 11\")"
   ]
  },
  {
   "cell_type": "markdown",
   "id": "887164f8-0d21-4b87-b940-7ddc910b3b3d",
   "metadata": {},
   "source": [
    "### Check clustering on training set"
   ]
  },
  {
   "cell_type": "code",
   "execution_count": 717,
   "id": "cc979fa0-cedc-4264-a627-cc197647436b",
   "metadata": {},
   "outputs": [],
   "source": [
    "train_tsne = TSNE()\n",
    "train_t_feats = train_tsne.fit_transform(train_feats)"
   ]
  },
  {
   "cell_type": "code",
   "execution_count": 718,
   "id": "526a4594-a6ba-4750-8926-7218daf0016d",
   "metadata": {},
   "outputs": [],
   "source": [
    "dbs = DBSCAN(eps=2)"
   ]
  },
  {
   "cell_type": "code",
   "execution_count": 719,
   "id": "38697e58-2bd4-4881-82b0-ddd5b93d8fa1",
   "metadata": {},
   "outputs": [],
   "source": [
    "clusters = dbs.fit_predict(train_t_feats, )"
   ]
  },
  {
   "cell_type": "code",
   "execution_count": 720,
   "id": "f124c9a2-262e-46ba-9ead-9afa72bced0a",
   "metadata": {},
   "outputs": [
    {
     "data": {
      "text/plain": [
       "array([ 0,  0,  0,  0,  0,  0,  0,  1,  2,  2,  2,  2,  2,  2,  3,  3,  3,\n",
       "        3,  3,  3,  3,  4,  4,  4,  4,  4,  4,  4,  5,  5,  5,  5,  5,  5,\n",
       "        5,  6,  6,  6,  6,  6,  6,  6,  7,  7, -1,  7,  7,  7,  7,  8,  8,\n",
       "        8,  8,  8,  8,  8,  9,  9,  9,  9,  9,  9,  9, 10, 10, 10, 10, 10,\n",
       "       10, 10, 11, 11, 11, 11, 11, 11, 11, 12, 12, 12, 12, 12, 12, 12, 13,\n",
       "       13, 13, 13, 13, 13, 13, 14, 14, 14, 14, 14, 14, 14, 15, 15, 15, 15,\n",
       "       15, 15, 15, 16, 16, 16, 16, 16, 16, 16, 17, 17, 17, 17, 17, 17, 17,\n",
       "       18, 18, 18, 18, 18, 18, 18, 19, 19, 19, 19, 19, 19, 19, 20, 20, 20,\n",
       "       20, 20, 20, 20, 21, 21, 21, 21, 21, 21, 21, 22, 22, 22, 22, 22, 22,\n",
       "       22, 23, 23, 23, 23, 23, 23, 23, 24, 24, 24, 24, 24, 24, 24, 25, 25,\n",
       "       25, 25, 25, 25, 25, 26, 26, 26, 26, 26, 26, 26, 27, 27, 27, 27, 27,\n",
       "       27, 27, 28, 28, 28, 28, 28, 28, 28, 29, 29, 29, 29, 29, 29, 29, 30,\n",
       "       30, 30, 30, 30, 30, 30, 31, 31, 31, 31, 31, 31, 31, 26, 26, 26, 26,\n",
       "       26, 26, 26, 32, 32, 32, 32, 32, 32, 32, 10, 10, 10, 10, 10, 10, 10,\n",
       "       33, 33, 33, 33, 33, 33, 33, 11, 11, 11, 11, 11, 11, 11, 11,  3,  3,\n",
       "        3,  3,  3,  3, 34, 34, 34, 34, 34, 34, 34, -1,  0,  0,  0,  0,  0,\n",
       "        0,  2,  2,  2,  2,  2,  2,  2,  3,  3,  3,  3,  3,  3,  3,  4,  4,\n",
       "        4,  4,  4,  4,  4,  5,  5,  5,  5,  5,  5,  5,  6,  6,  6,  6,  6,\n",
       "        6,  6,  7,  7,  7,  7,  7,  7,  7,  8,  8,  8,  8,  8,  8,  8,  9,\n",
       "       15,  9,  9,  9,  9,  9, 10, 10, 10, 10, 10, 10, 10, 11, 11, 11, 11,\n",
       "       11, 11, 11, 12, 12, 12, 12, 12, 12, 12, 13, 13, 13, 13, 13, 13, 13,\n",
       "       14, 14, 14, 14, 14, 14, 14, 15, 15, 15, 15, 15, 15, 15, 16, 16, 16,\n",
       "       16, 16, 16, 16, 17, 17, 17, 17, 17, 17, 17, 18, 18, 18, 18, 18, 18,\n",
       "       18, 19, 19, 19, 19, 19, 19, 19, 20, 20, 20, 20, 20, 20, 20, 21, 21,\n",
       "       21, 21, 21, 21, 21, 22, 22, 22, 22, 22, 22, 22, 23, 23, 23, 23, 23,\n",
       "       23, 23, 24, 24, 24, 24, 24, 24, 24, 25, 25, 25, 25, 25, 25, 25, 26,\n",
       "       26, 26, 26, 26, 26, 26, 27, 27, 27, 27, 27, 27, 27, 28, 28, 28, 28,\n",
       "       28, 28, 28, 29, 29, 29, 29, 29, 29, 29, 30, 30, 30, 30, 30, 30, 30,\n",
       "       31,  1,  1,  1,  1,  1,  1, 26, 26, 26, 26, 26, 26, 26, 32, 32, 32,\n",
       "       32, 32, 32, 32, 10, 10, 10, 10, 10, 10, 10, 33, 33, 33, 33, 33, 33,\n",
       "       33, 11, 11, 11, 11, 11, 11, 11,  3,  3,  3,  3,  3,  3,  3, 34, 34,\n",
       "       34, 34, 34, 34, 34,  0,  0,  0,  0,  0,  0,  0,  2,  2,  2,  2,  2,\n",
       "        2,  2,  3,  3,  3,  3,  3,  3,  3,  4,  4,  4,  4,  4,  4,  4,  5,\n",
       "        5,  5,  5,  5,  5,  5,  6,  6,  6,  6,  6,  6,  6,  7,  7,  7,  7,\n",
       "        7,  7,  7,  8, 19,  8,  8,  8,  8,  8,  9,  9,  9,  9,  9,  9,  9,\n",
       "       10, 10, 10, 10, 10, 10, 10, 11, 11, 11, 11, 11, 11, 11, 12, 12, 12,\n",
       "       12, 12, 12, 12, 13, 13, 13, 13, 13, 13, 13, 14, 14, 14, 14, 14, 14,\n",
       "       14, 15, 15, 15, 15, 15, 15, 15, 16, 16, 16, 16, 16, 16, 16, 17, 17,\n",
       "       17, 17, 17, 17, 17, 18, 18, 18, 18, 18, 18, 18, 19, 19, 19, 19, 19,\n",
       "       19, 19, 20, 20, 20, 20, 20, 20, 20, 21, 21, 21, 21, 21, 21, 21, 22,\n",
       "       22, 22, 22, 22, 22, 22, 23, 23, 23, 23, 23, 23, 23, 19, 24, 24, 24,\n",
       "       24, 24, 24, 25, 25, 25, 25, 25, 25, 25, 26, 26, 26, 26, 26, 26, 26,\n",
       "       27, 27, 27, 27, 27, 27, 27, 28, 28, 28, 28, 28, 28, 28, 29, 29, 29,\n",
       "       29, 29, 29, 29, 30, 30, 30, 30, 30, 30, 30,  1,  1,  1,  1,  1,  1,\n",
       "        1, 26, 26, 26, 26, 26, 26, 26, 32, 32, 32, 32, 32, 32, 32, 10, 10,\n",
       "       10, 10, 10, 10, 10, 33, 33, 32, 33, 33, 33, 33, 11, 11, 11, 11, 11,\n",
       "       11, 11,  3,  3,  3,  3,  3,  3,  3, 34, 34, 34, 34, 34, 34, 34],\n",
       "      dtype=int64)"
      ]
     },
     "execution_count": 720,
     "metadata": {},
     "output_type": "execute_result"
    }
   ],
   "source": [
    "clusters"
   ]
  },
  {
   "cell_type": "code",
   "execution_count": 721,
   "id": "c1c043c2-e018-42a5-a7c4-572843d5a93e",
   "metadata": {},
   "outputs": [],
   "source": [
    "sub_parts = [15,16,20,23,35,4,8]"
   ]
  },
  {
   "cell_type": "code",
   "execution_count": 722,
   "id": "d89e5c49-0c9a-4830-a65e-31a024b2a46b",
   "metadata": {},
   "outputs": [],
   "source": [
    "plot_df = pd.DataFrame({\"x\": train_t_feats[:,0], \"y\": train_t_feats[:,1], \n",
    "                        \"participants\": train_labels, \"sessions\":train_sessions, \"clusters\":clusters})"
   ]
  },
  {
   "cell_type": "code",
   "execution_count": 723,
   "id": "a6362a06-33a8-4e7f-ac5f-3d61f1d341a3",
   "metadata": {},
   "outputs": [
    {
     "name": "stderr",
     "output_type": "stream",
     "text": [
      "\n",
      "A value is trying to be set on a copy of a slice from a DataFrame.\n",
      "Try using .loc[row_indexer,col_indexer] = value instead\n",
      "\n",
      "See the caveats in the documentation: https://pandas.pydata.org/pandas-docs/stable/user_guide/indexing.html#returning-a-view-versus-a-copy\n",
      "\n",
      "A value is trying to be set on a copy of a slice from a DataFrame.\n",
      "Try using .loc[row_indexer,col_indexer] = value instead\n",
      "\n",
      "See the caveats in the documentation: https://pandas.pydata.org/pandas-docs/stable/user_guide/indexing.html#returning-a-view-versus-a-copy\n"
     ]
    }
   ],
   "source": [
    "sub_plot = plot_df[plot_df['participants'].isin(sub_parts)]\n",
    "sub_plot[\"participants\"] = \"p_\" + sub_plot[\"participants\"].astype(str)\n",
    "sub_plot[\"clusters\"] = \"c_\" + sub_plot[\"clusters\"].astype(str)"
   ]
  },
  {
   "cell_type": "code",
   "execution_count": 724,
   "id": "40fc50a3-fd5b-4f20-a81e-80b34c54fef5",
   "metadata": {},
   "outputs": [
    {
     "data": {
      "text/plain": [
       "Text(0.5, 1.0, 'T-SNE Visualization of feature space of training data in 2D - gesture 11')"
      ]
     },
     "execution_count": 724,
     "metadata": {},
     "output_type": "execute_result"
    },
    {
     "data": {
      "image/png": "[encoded data removed]",
      "text/plain": [
       "<Figure size 1000x1000 with 1 Axes>"
      ]
     },
     "metadata": {},
     "output_type": "display_data"
    }
   ],
   "source": [
    "fig, ax = plt.subplots(figsize=(10, 10))\n",
    "sns.scatterplot(data = sub_plot, x = \"x\", y = \"y\", \n",
    "                hue = \"clusters\", \n",
    "                hue_order=sub_plot['clusters'].unique(), ax = ax)\n",
    "ax.set_title(\"T-SNE Visualization of feature space of training data in 2D - gesture 11\")"
   ]
  },
  {
   "cell_type": "code",
   "execution_count": 725,
   "id": "05ae7dfb-3b3a-40c8-9416-cc8398046b10",
   "metadata": {},
   "outputs": [
    {
     "data": {
      "text/plain": [
       "Text(0.5, 1.0, 'T-SNE Visualization of feature space of training data in 2D - gesture 11')"
      ]
     },
     "execution_count": 725,
     "metadata": {},
     "output_type": "execute_result"
    },
    {
     "data": {
      "image/png": "[encoded data removed]",
      "text/plain": [
       "<Figure size 1000x1000 with 1 Axes>"
      ]
     },
     "metadata": {},
     "output_type": "display_data"
    }
   ],
   "source": [
    "fig, ax = plt.subplots(figsize=(10, 10))\n",
    "sns.scatterplot(data = sub_plot, x = \"x\", y = \"y\", \n",
    "                hue = \"participants\", \n",
    "                hue_order=sub_plot['participants'].unique(), ax = ax)\n",
    "ax.set_title(\"T-SNE Visualization of feature space of training data in 2D - gesture 11\")"
   ]
  },
  {
   "cell_type": "markdown",
   "id": "4db4e691-3f07-4780-9127-b1d6459a5df9",
   "metadata": {},
   "source": [
    "### Get cluster distances for a gesture"
   ]
  },
  {
   "cell_type": "code",
   "execution_count": 884,
   "id": "ce2aec43-aa35-4e6e-96bd-a1cf9b3adaeb",
   "metadata": {},
   "outputs": [],
   "source": [
    "parts = range(1,39)\n",
    "gestures = range(1, 18)"
   ]
  },
  {
   "cell_type": "code",
   "execution_count": 885,
   "id": "35d6ec7b-7268-46bc-834f-5bc6b7598a76",
   "metadata": {},
   "outputs": [],
   "source": [
    "def calculate_centroid(vectors):\n",
    "    # if not vectors:\n",
    "    #     return None  # Handle empty list\n",
    "\n",
    "    # Convert the list of vectors to a NumPy array\n",
    "    vectors_array = np.array(vectors)\n",
    "\n",
    "    # Calculate the centroid by taking the mean along each dimension\n",
    "    centroid = np.mean(vectors_array, axis=0)\n",
    "\n",
    "    return centroid"
   ]
  },
  {
   "cell_type": "code",
   "execution_count": 886,
   "id": "bba91677-91a3-4e21-b4fc-9fb06b7b9c05",
   "metadata": {},
   "outputs": [],
   "source": [
    "def get_distances(vectors, centroid):\n",
    "    distances = np.linalg.norm(vectors - centroid, axis=1)\n",
    "    return distances"
   ]
  },
  {
   "cell_type": "code",
   "execution_count": 911,
   "id": "17ded6b2-b318-47f5-8c17-2d683530413a",
   "metadata": {},
   "outputs": [],
   "source": [
    "def filter_outlier(vectors, threshold=2.8):\n",
    "    vectors = np.array(vectors)\n",
    "    z_scores = np.abs((vectors - vectors.mean(axis=0)) / vectors.std(axis=0))\n",
    "\n",
    "    # Apply median filter to each dimension independently\n",
    "    # filtered_vectors = np.apply_along_axis(median_filter, axis=0, arr=vectors, size=size)\n",
    "    # print(z_scores.shape)\n",
    "    overall_z_scores = np.max(z_scores, axis = 1)\n",
    "    # Filter out vectors with Z-scores beyond the threshold\n",
    "    filtered_vectors = vectors[overall_z_scores <= threshold]\n",
    "    return filtered_vectors"
   ]
  },
  {
   "cell_type": "code",
   "execution_count": 912,
   "id": "cbb768d3-b7ab-4427-8791-e2cd997ea20d",
   "metadata": {},
   "outputs": [],
   "source": [
    "def reject_outliers(data, m = 2.):\n",
    "    d = np.abs(data - np.median(data))\n",
    "    mdev = np.median(d)\n",
    "    s = d/mdev if mdev else np.zeros(len(d))\n",
    "    return data[s<m]"
   ]
  },
  {
   "cell_type": "code",
   "execution_count": null,
   "id": "bf51215a-eaf0-45f3-ad97-c0adc9e9ff9d",
   "metadata": {},
   "outputs": [],
   "source": []
  },
  {
   "cell_type": "code",
   "execution_count": 913,
   "id": "9c74bb33-845f-4f69-81a5-f3822f5efad2",
   "metadata": {},
   "outputs": [],
   "source": [
    "z = abs((embs - embs.mean(axis=0))) / embs.std(axis=0)"
   ]
  },
  {
   "cell_type": "code",
   "execution_count": 934,
   "id": "ed0b49a1-9750-476a-89d4-4036ec95435f",
   "metadata": {},
   "outputs": [],
   "source": [
    "i = np.where((y_train == 27)&(g_train==4))"
   ]
  },
  {
   "cell_type": "code",
   "execution_count": 935,
   "id": "04a0d20b-71f1-4754-9cd2-933a5d43c99e",
   "metadata": {},
   "outputs": [],
   "source": [
    "embs = train_embeddings[i]"
   ]
  },
  {
   "cell_type": "code",
   "execution_count": 936,
   "id": "c1ba88bc-7f52-4698-b429-8630efbff987",
   "metadata": {},
   "outputs": [
    {
     "data": {
      "text/plain": [
       "(20, 16)"
      ]
     },
     "execution_count": 936,
     "metadata": {},
     "output_type": "execute_result"
    }
   ],
   "source": [
    "filter_outlier(embs).shape"
   ]
  },
  {
   "cell_type": "code",
   "execution_count": 970,
   "id": "c3f26726-1983-488c-a517-bd8a2edd9c3d",
   "metadata": {},
   "outputs": [
    {
     "name": "stderr",
     "output_type": "stream",
     "text": [
      "100%|██████████████████████████████████████████████████████████████████████████████████| 17/17 [00:00<00:00, 65.89it/s]\n"
     ]
    }
   ],
   "source": [
    "centroids = {}\n",
    "for g in tqdm(gestures):\n",
    "    centroids[g] = {}\n",
    "    for p in parts:\n",
    "        centroids[g][p] = {}\n",
    "        i = np.where((y_train == p)&(g_train==g))\n",
    "        embs = train_embeddings[i]\n",
    "        embs = filter_outlier(embs)\n",
    "        c = calculate_centroid(embs)\n",
    "        c = [float(i) for i in c]\n",
    "        centroids[g][p]['centroid'] = list(c)\n",
    "        \n",
    "        d = get_distances(embs, c)\n",
    "        centroids[g][p]['d_mean'] = float(d.mean())\n",
    "        centroids[g][p]['d_std'] = float(d.std())"
   ]
  },
  {
   "cell_type": "code",
   "execution_count": 940,
   "id": "8c640be7-15e4-4430-a2ba-6cb215bbeafd",
   "metadata": {},
   "outputs": [],
   "source": [
    "##Tightest clusters\n",
    "gesture_means = {g:0 for g in range(1,18)}\n",
    "for g in centroids:\n",
    "    for p in centroids[g]:\n",
    "        gesture_means[g]+=centroids[g][p][\"d_mean\"]\n",
    "gesture_std = {g:0 for g in range(1,18)}\n",
    "for g in centroids:\n",
    "    for p in centroids[g]:\n",
    "        gesture_std[g]+=centroids[g][p][\"d_std\"]"
   ]
  },
  {
   "cell_type": "code",
   "execution_count": 941,
   "id": "26ceb7c7-d430-4f14-ac6a-55860b062579",
   "metadata": {},
   "outputs": [],
   "source": [
    "gesture_means = {g: gesture_means[g]/17 for g in gesture_means.keys()}\n",
    "gesture_std = {g: gesture_std[g]/17 for g in gesture_std.keys()}"
   ]
  },
  {
   "cell_type": "code",
   "execution_count": 942,
   "id": "a9147699-e531-41d6-ba89-44e3bd011f14",
   "metadata": {},
   "outputs": [
    {
     "data": {
      "text/plain": [
       "{17: 7.257551319458905,\n",
       " 13: 10.049773707109338,\n",
       " 14: 11.321919581469368,\n",
       " 7: 11.638691214954152,\n",
       " 4: 11.695144414901733,\n",
       " 2: 11.89763233240913,\n",
       " 3: 12.392235910191255,\n",
       " 9: 12.637893718831679,\n",
       " 16: 12.952464356141931,\n",
       " 1: 13.025334049673642,\n",
       " 10: 13.416890677283792,\n",
       " 12: 13.527624158298268,\n",
       " 6: 13.58771300315857,\n",
       " 8: 13.66482187719906,\n",
       " 15: 14.239655017852783,\n",
       " 5: 14.438321884940652,\n",
       " 11: 15.418548569959754}"
      ]
     },
     "execution_count": 942,
     "metadata": {},
     "output_type": "execute_result"
    }
   ],
   "source": [
    "{k: v for k, v in sorted(gesture_means.items(), key=lambda item: item[1])}"
   ]
  },
  {
   "cell_type": "code",
   "execution_count": 943,
   "id": "8ea49f67-e918-4583-80a2-42591a0f9239",
   "metadata": {},
   "outputs": [
    {
     "data": {
      "text/plain": [
       "{17: 2.745041044319377,\n",
       " 13: 4.2923617573345405,\n",
       " 14: 4.762342488064485,\n",
       " 7: 4.92064375035903,\n",
       " 4: 5.010454297065735,\n",
       " 3: 5.4352640895282525,\n",
       " 9: 5.477421620312859,\n",
       " 2: 5.509822049561669,\n",
       " 6: 5.664395318311803,\n",
       " 16: 5.790385428596945,\n",
       " 12: 5.912513431380777,\n",
       " 1: 5.994144380092621,\n",
       " 8: 6.085611630888546,\n",
       " 5: 6.254701530232149,\n",
       " 10: 6.325140455189874,\n",
       " 15: 6.340703690753264,\n",
       " 11: 6.933804270099191}"
      ]
     },
     "execution_count": 943,
     "metadata": {},
     "output_type": "execute_result"
    }
   ],
   "source": [
    "{k: v for k, v in sorted(gesture_std.items(), key=lambda item: item[1])}"
   ]
  },
  {
   "cell_type": "code",
   "execution_count": 969,
   "id": "ac4a0de5-5667-4179-aa18-0786fb1998e5",
   "metadata": {},
   "outputs": [
    {
     "data": {
      "text/plain": [
       "numpy.float32"
      ]
     },
     "execution_count": 969,
     "metadata": {},
     "output_type": "execute_result"
    }
   ],
   "source": [
    "type(centroids[1][1]['centroid'][0])"
   ]
  },
  {
   "cell_type": "code",
   "execution_count": 971,
   "id": "0c670268-5a87-493f-a699-fa0b27985b57",
   "metadata": {},
   "outputs": [],
   "source": [
    "with open(\"centroids_v1.json\", \"w\") as file:\n",
    "    json.dump(centroids, file)"
   ]
  },
  {
   "cell_type": "code",
   "execution_count": 960,
   "id": "23ce3a46-deb0-47ee-b0ed-c9fba591e42b",
   "metadata": {},
   "outputs": [
    {
     "data": {
      "text/plain": [
       "numpy.float32"
      ]
     },
     "execution_count": 960,
     "metadata": {},
     "output_type": "execute_result"
    }
   ],
   "source": [
    "type(centroids[1][2]['centroid'][0])"
   ]
  },
  {
   "cell_type": "code",
   "execution_count": 641,
   "id": "c4111611-f6e1-412a-9413-ea952ec21498",
   "metadata": {},
   "outputs": [],
   "source": []
  },
  {
   "cell_type": "code",
   "execution_count": 579,
   "id": "c9fbbd94-715b-40f9-aa66-f491944da649",
   "metadata": {},
   "outputs": [
    {
     "data": {
      "text/plain": [
       "'Thumb and Index Finger Opposition'"
      ]
     },
     "execution_count": 579,
     "metadata": {},
     "output_type": "execute_result"
    }
   ],
   "source": [
    "MotionName[4-1]"
   ]
  },
  {
   "cell_type": "code",
   "execution_count": 580,
   "id": "9bd554ec-6471-4f10-9176-cc9b97c7d0f9",
   "metadata": {},
   "outputs": [
    {
     "data": {
      "text/plain": [
       "'Forearm Supination'"
      ]
     },
     "execution_count": 580,
     "metadata": {},
     "output_type": "execute_result"
    }
   ],
   "source": [
    "MotionName[13-1]"
   ]
  },
  {
   "cell_type": "markdown",
   "id": "d323b7ec-7afe-462d-8148-f6794a71026c",
   "metadata": {},
   "source": []
  }
 ],
 "metadata": {
  "kernelspec": {
   "display_name": "Python 3 (ipykernel)",
   "language": "python",
   "name": "python3"
  },
  "language_info": {
   "codemirror_mode": {
    "name": "ipython",
    "version": 3
   },
   "file_extension": ".py",
   "mimetype": "text/x-python",
   "name": "python",
   "nbconvert_exporter": "python",
   "pygments_lexer": "ipython3",
   "version": "3.10.13"
  },
  "widgets": {
   "application/vnd.jupyter.widget-state+json": {
    "state": {},
    "version_major": 2,
    "version_minor": 0
   }
  }
 },
 "nbformat": 4,
 "nbformat_minor": 5
}
