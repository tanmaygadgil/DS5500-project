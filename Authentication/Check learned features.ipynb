{
 "cells": [
  {
   "cell_type": "code",
   "execution_count": 1,
   "id": "debd36fb-1024-4e59-9482-ffc73671e2ca",
   "metadata": {},
   "outputs": [],
   "source": [
    "import pandas as pd\n",
    "import numpy as np\n",
    "import os\n",
    "import sys\n",
    "import json"
   ]
  },
  {
   "cell_type": "code",
   "execution_count": 2,
   "id": "5da5a6ea-0f45-4650-8c60-9ab8eb516068",
   "metadata": {},
   "outputs": [],
   "source": [
    "from sklearn.preprocessing import StandardScaler"
   ]
  },
  {
   "cell_type": "code",
   "execution_count": 31,
   "id": "fbbf1615-832d-4f3e-84a6-36e4bc963346",
   "metadata": {},
   "outputs": [],
   "source": [
    "import torch"
   ]
  },
  {
   "cell_type": "code",
   "execution_count": 16,
   "id": "ba256a18-0766-4380-9b65-4bb0bbaf719c",
   "metadata": {},
   "outputs": [],
   "source": [
    "from sklearn.metrics import classification_report, f1_score, precision_score, recall_score\n",
    "from torch.utils.data import TensorDataset, DataLoader\n",
    "import torch.nn as nn\n",
    "from torch import optim\n",
    "from sklearn.model_selection import train_test_split\n",
    "from sklearn.preprocessing import StandardScaler\n",
    "import shap"
   ]
  },
  {
   "cell_type": "code",
   "execution_count": 3,
   "id": "4bda1a90-ffbc-4650-9d09-22c85e1513b5",
   "metadata": {},
   "outputs": [],
   "source": [
    "from sklearn.cluster import DBSCAN, AgglomerativeClustering\n",
    "from sklearn.manifold import TSNE\n",
    "from sklearn.decomposition import PCA"
   ]
  },
  {
   "cell_type": "code",
   "execution_count": 6,
   "id": "f2e0df01-ecd0-4b8c-b373-d1e7df231c72",
   "metadata": {},
   "outputs": [
    {
     "name": "stdout",
     "output_type": "stream",
     "text": [
      "Collecting seaborn\n",
      "  Obtaining dependency information for seaborn from https://files.pythonhosted.org/packages/7b/e5/83fcd7e9db036c179e0352bfcd20f81d728197a16f883e7b90307a88e65e/seaborn-0.13.0-py3-none-any.whl.metadata\n",
      "  Downloading seaborn-0.13.0-py3-none-any.whl.metadata (5.3 kB)\n",
      "Requirement already satisfied: numpy!=1.24.0,>=1.20 in c:\\users\\tanma\\anaconda3\\envs\\cs7150\\lib\\site-packages (from seaborn) (1.25.2)\n",
      "Requirement already satisfied: pandas>=1.2 in c:\\users\\tanma\\anaconda3\\envs\\cs7150\\lib\\site-packages (from seaborn) (2.0.3)\n",
      "Requirement already satisfied: matplotlib!=3.6.1,>=3.3 in c:\\users\\tanma\\anaconda3\\envs\\cs7150\\lib\\site-packages (from seaborn) (3.7.3)\n",
      "Requirement already satisfied: contourpy>=1.0.1 in c:\\users\\tanma\\anaconda3\\envs\\cs7150\\lib\\site-packages (from matplotlib!=3.6.1,>=3.3->seaborn) (1.1.0)\n",
      "Requirement already satisfied: cycler>=0.10 in c:\\users\\tanma\\anaconda3\\envs\\cs7150\\lib\\site-packages (from matplotlib!=3.6.1,>=3.3->seaborn) (0.11.0)\n",
      "Requirement already satisfied: fonttools>=4.22.0 in c:\\users\\tanma\\anaconda3\\envs\\cs7150\\lib\\site-packages (from matplotlib!=3.6.1,>=3.3->seaborn) (4.42.1)\n",
      "Requirement already satisfied: kiwisolver>=1.0.1 in c:\\users\\tanma\\anaconda3\\envs\\cs7150\\lib\\site-packages (from matplotlib!=3.6.1,>=3.3->seaborn) (1.4.5)\n",
      "Requirement already satisfied: packaging>=20.0 in c:\\users\\tanma\\anaconda3\\envs\\cs7150\\lib\\site-packages (from matplotlib!=3.6.1,>=3.3->seaborn) (23.1)\n",
      "Requirement already satisfied: pillow>=6.2.0 in c:\\users\\tanma\\anaconda3\\envs\\cs7150\\lib\\site-packages (from matplotlib!=3.6.1,>=3.3->seaborn) (9.5.0)\n",
      "Requirement already satisfied: pyparsing>=2.3.1 in c:\\users\\tanma\\anaconda3\\envs\\cs7150\\lib\\site-packages (from matplotlib!=3.6.1,>=3.3->seaborn) (3.1.1)\n",
      "Requirement already satisfied: python-dateutil>=2.7 in c:\\users\\tanma\\anaconda3\\envs\\cs7150\\lib\\site-packages (from matplotlib!=3.6.1,>=3.3->seaborn) (2.8.2)\n",
      "Requirement already satisfied: pytz>=2020.1 in c:\\users\\tanma\\anaconda3\\envs\\cs7150\\lib\\site-packages (from pandas>=1.2->seaborn) (2022.7)\n",
      "Requirement already satisfied: tzdata>=2022.1 in c:\\users\\tanma\\anaconda3\\envs\\cs7150\\lib\\site-packages (from pandas>=1.2->seaborn) (2023.3)\n",
      "Requirement already satisfied: six>=1.5 in c:\\users\\tanma\\anaconda3\\envs\\cs7150\\lib\\site-packages (from python-dateutil>=2.7->matplotlib!=3.6.1,>=3.3->seaborn) (1.16.0)\n",
      "Downloading seaborn-0.13.0-py3-none-any.whl (294 kB)\n",
      "   ---------------------------------------- 0.0/294.6 kB ? eta -:--:--\n",
      "   ---------------------------------------- 0.0/294.6 kB ? eta -:--:--\n",
      "   - -------------------------------------- 10.2/294.6 kB ? eta -:--:--\n",
      "   ----- --------------------------------- 41.0/294.6 kB 393.8 kB/s eta 0:00:01\n",
      "   --------------- ---------------------- 122.9/294.6 kB 901.1 kB/s eta 0:00:01\n",
      "   ---------------------------------------- 294.6/294.6 kB 1.8 MB/s eta 0:00:00\n",
      "Installing collected packages: seaborn\n",
      "Successfully installed seaborn-0.13.0\n"
     ]
    }
   ],
   "source": [
    "!pip install seaborn"
   ]
  },
  {
   "cell_type": "code",
   "execution_count": 7,
   "id": "18763d41-237b-45e6-bd40-ab48c5d80213",
   "metadata": {},
   "outputs": [],
   "source": [
    "import seaborn as sns"
   ]
  },
  {
   "cell_type": "code",
   "execution_count": 12,
   "id": "bce56b72-0483-43e1-b8e3-b6691f7b6191",
   "metadata": {},
   "outputs": [],
   "source": [
    "from scipy import stats"
   ]
  },
  {
   "cell_type": "code",
   "execution_count": 8,
   "id": "a0316ed8-aade-46e8-8d35-31d9d5c85463",
   "metadata": {},
   "outputs": [],
   "source": [
    "import matplotlib.pyplot as plt"
   ]
  },
  {
   "cell_type": "code",
   "execution_count": 9,
   "id": "2ffcdba0-56ff-4731-935b-19ccfdcf0b38",
   "metadata": {},
   "outputs": [],
   "source": [
    "data = pd.read_csv('../data/gesture-recognition-and-biometrics-electromyogram-grabmyo-1.0.2/features_v2.csv')"
   ]
  },
  {
   "cell_type": "code",
   "execution_count": 10,
   "id": "2b2188c3-7086-43fd-9fff-908521493500",
   "metadata": {},
   "outputs": [],
   "source": [
    "feature_cols = [c for c in data.columns if \"_\" in c]"
   ]
  },
  {
   "cell_type": "code",
   "execution_count": 13,
   "id": "c88d4d10-5f86-44eb-b1d9-3056dcc40f9c",
   "metadata": {},
   "outputs": [],
   "source": [
    "new_data = data[(np.abs(stats.zscore(data.loc[:, feature_cols])) < 4).all(axis = 1)].reset_index()"
   ]
  },
  {
   "cell_type": "code",
   "execution_count": 14,
   "id": "85938209-439b-4d2a-8599-114fed7ec690",
   "metadata": {},
   "outputs": [],
   "source": [
    "feature_cols = [c for c in new_data.columns if \"_\" in c]"
   ]
  },
  {
   "cell_type": "code",
   "execution_count": 44,
   "id": "4db882e3-c7c2-469c-ab7c-a74557fa165b",
   "metadata": {},
   "outputs": [],
   "source": [
    "class Encoder(nn.Module):\n",
    "    def __init__(self, input_dim, embed_dim):\n",
    "        super().__init__()\n",
    "        self.l1 = nn.Linear(input_dim, 128)\n",
    "        self.l2 = nn.Linear(128, embed_dim)\n",
    "        self.relu = nn.ReLU()\n",
    "    def forward(self, x):\n",
    "        x = self.relu(self.l1(x))\n",
    "        x = self.l2(x)\n",
    "        return x\n",
    "\n",
    "class ClassificationHead(nn.Module):\n",
    "    def __init__(self,embed_dim, output_dim):\n",
    "        super().__init__()\n",
    "        self.l1 = nn.Linear(embed_dim, 64)\n",
    "        self.l2 = nn.Linear(64, output_dim)\n",
    "        self.relu = nn.ReLU()\n",
    "    def forward(self, x):\n",
    "        x = self.relu(self.l1(x))\n",
    "        x = self.l2(x)\n",
    "        return x\n",
    "\n",
    "class UserClassifier(nn.Module):\n",
    "    def __init__(self, input_dim, embed_dim, output_dim):\n",
    "        super().__init__()\n",
    "        self.encoder = Encoder(input_dim, embed_dim)\n",
    "        self.decoder = ClassificationHead(embed_dim, output_dim)\n",
    "        \n",
    "    def forward(self, x):\n",
    "        x = self.encoder(x)\n",
    "        x = self.decoder(x)\n",
    "        return x"
   ]
  },
  {
   "cell_type": "code",
   "execution_count": 70,
   "id": "03eef99c-5347-487e-a184-7b785a24b98e",
   "metadata": {},
   "outputs": [],
   "source": [
    "X = new_data.loc[:, feature_cols].values\n",
    "Y = (new_data.loc[:, 'participant']-1).values\n",
    "g = (new_data.loc[:, 'gesture']-1).values"
   ]
  },
  {
   "cell_type": "code",
   "execution_count": 71,
   "id": "a8d551b5-14a2-4ff1-99b6-d8ccab5260b9",
   "metadata": {},
   "outputs": [
    {
     "data": {
      "text/plain": [
       "array([9, 9, 9, ..., 8, 8, 8], dtype=int64)"
      ]
     },
     "execution_count": 71,
     "metadata": {},
     "output_type": "execute_result"
    }
   ],
   "source": [
    "g"
   ]
  },
  {
   "cell_type": "code",
   "execution_count": 25,
   "id": "b5de8e06-60df-43f9-b683-4ec09c33afe2",
   "metadata": {},
   "outputs": [],
   "source": [
    "from pickle import load"
   ]
  },
  {
   "cell_type": "code",
   "execution_count": 27,
   "id": "67626600-0001-48c7-9f70-1a8186722595",
   "metadata": {},
   "outputs": [],
   "source": [
    "scaler  = load(open('scaler.pkl', 'rb'))\n",
    "# scaler"
   ]
  },
  {
   "cell_type": "code",
   "execution_count": 28,
   "id": "9417e1fb-7728-45f9-9406-6c4fdef50152",
   "metadata": {},
   "outputs": [],
   "source": [
    "X = scaler.transform(X)"
   ]
  },
  {
   "cell_type": "code",
   "execution_count": 29,
   "id": "bd608cc3-06ee-4bbd-9a8f-58089bde3f9c",
   "metadata": {},
   "outputs": [
    {
     "data": {
      "text/plain": [
       "array([[ 1.11765882,  0.60631332,  0.31658555, ...,  0.05897757,\n",
       "        -0.18440799,  0.44383681],\n",
       "       [ 1.93515067, -0.01995706, -0.20100956, ..., -0.167033  ,\n",
       "        -0.45467839,  0.30966458],\n",
       "       [ 2.28680368,  1.13416332,  0.79485252, ...,  0.30521437,\n",
       "         0.11636799, -0.56245494],\n",
       "       ...,\n",
       "       [ 0.11978767,  0.23851329, -0.04896466, ..., -0.21304864,\n",
       "        -0.4094909 , -0.56245494],\n",
       "       [ 0.58391268, -0.07164632, -0.26491991, ..., -0.288517  ,\n",
       "        -0.94294237, -0.56245494],\n",
       "       [ 0.4683518 , -0.00296727, -0.21351676, ..., -0.26477394,\n",
       "        -0.84061351, -0.29411047]])"
      ]
     },
     "execution_count": 29,
     "metadata": {},
     "output_type": "execute_result"
    }
   ],
   "source": [
    "X"
   ]
  },
  {
   "cell_type": "code",
   "execution_count": 20,
   "id": "83063325-33fe-4767-b0b5-2f78b99bc1e1",
   "metadata": {},
   "outputs": [],
   "source": [
    "# x_train, x_test, y_train, y_test = train_test_split(X, Y, test_size=0.2, random_state=2023)"
   ]
  },
  {
   "cell_type": "code",
   "execution_count": 21,
   "id": "8b78974b-99d1-44ca-ab63-73fe2f6bedaa",
   "metadata": {},
   "outputs": [],
   "source": [
    "# x_train = scaler.fit_transform(x_train)\n",
    "# x_test = scaler.transform(x_test) "
   ]
  },
  {
   "cell_type": "code",
   "execution_count": 45,
   "id": "119ab820-e6ff-4994-bc80-292b8435e3c4",
   "metadata": {},
   "outputs": [],
   "source": [
    "encoder = Encoder(x_train.shape[1], 128)"
   ]
  },
  {
   "cell_type": "code",
   "execution_count": 46,
   "id": "eb3645e7-3117-4197-b018-74e245da6476",
   "metadata": {},
   "outputs": [
    {
     "data": {
      "text/plain": [
       "array([[ 1.11765882,  0.60631332,  0.31658555, ...,  0.05897757,\n",
       "        -0.18440799,  0.44383681],\n",
       "       [ 1.93515067, -0.01995706, -0.20100956, ..., -0.167033  ,\n",
       "        -0.45467839,  0.30966458],\n",
       "       [ 2.28680368,  1.13416332,  0.79485252, ...,  0.30521437,\n",
       "         0.11636799, -0.56245494],\n",
       "       ...,\n",
       "       [ 0.11978767,  0.23851329, -0.04896466, ..., -0.21304864,\n",
       "        -0.4094909 , -0.56245494],\n",
       "       [ 0.58391268, -0.07164632, -0.26491991, ..., -0.288517  ,\n",
       "        -0.94294237, -0.56245494],\n",
       "       [ 0.4683518 , -0.00296727, -0.21351676, ..., -0.26477394,\n",
       "        -0.84061351, -0.29411047]])"
      ]
     },
     "execution_count": 46,
     "metadata": {},
     "output_type": "execute_result"
    }
   ],
   "source": [
    "X"
   ]
  },
  {
   "cell_type": "code",
   "execution_count": 47,
   "id": "6732473e-4498-44a1-b64f-c9b9ea5c929d",
   "metadata": {},
   "outputs": [],
   "source": [
    "dataset = TensorDataset(torch.tensor(X).type(torch.float32), torch.tensor(Y).type(torch.LongTensor))"
   ]
  },
  {
   "cell_type": "code",
   "execution_count": 54,
   "id": "643a6519-d2fb-4e5c-8e19-fcb84b9bd49c",
   "metadata": {},
   "outputs": [],
   "source": [
    "# Define batch size and whether to shuffle the data\n",
    "batch_size = 256\n",
    "\n",
    "# Create data loaders for training and testing\n",
    "loader = DataLoader(dataset, batch_size=batch_size, shuffle=False)"
   ]
  },
  {
   "cell_type": "code",
   "execution_count": 50,
   "id": "2b01181f-fcef-41b4-9f90-e354c7b8557d",
   "metadata": {},
   "outputs": [
    {
     "data": {
      "text/plain": [
       "Encoder(\n",
       "  (l1): Linear(in_features=756, out_features=128, bias=True)\n",
       "  (l2): Linear(in_features=128, out_features=128, bias=True)\n",
       "  (relu): ReLU()\n",
       ")"
      ]
     },
     "execution_count": 50,
     "metadata": {},
     "output_type": "execute_result"
    }
   ],
   "source": [
    "encoder"
   ]
  },
  {
   "cell_type": "code",
   "execution_count": 51,
   "id": "74c1add8-45b5-43bb-b92b-2ab3565202cd",
   "metadata": {},
   "outputs": [
    {
     "data": {
      "text/plain": [
       "_IncompatibleKeys(missing_keys=[], unexpected_keys=['relu.x', 'relu.y'])"
      ]
     },
     "execution_count": 51,
     "metadata": {},
     "output_type": "execute_result"
    }
   ],
   "source": [
    "encoder.load_state_dict(torch.load('encoder.pth'), strict=False)"
   ]
  },
  {
   "cell_type": "code",
   "execution_count": 58,
   "id": "c10dbf0f-a400-4463-a4c5-b3a0714689dc",
   "metadata": {},
   "outputs": [],
   "source": [
    "def embed(model, test_loader):\n",
    "    model.eval()  # Set the model to evaluation mode\n",
    "    y_pred = []\n",
    "\n",
    "    with torch.no_grad():\n",
    "        for batch_idx, (inputs, labels) in enumerate(test_loader):\n",
    "            outputs = model(inputs)\n",
    "            # _, predicted = torch.max(outputs, 1)\n",
    "            y_pred.extend(outputs)\n",
    "\n",
    "    return torch.stack(y_pred)"
   ]
  },
  {
   "cell_type": "code",
   "execution_count": 61,
   "id": "812e828f-a99e-4e3d-a405-aae093a7c400",
   "metadata": {},
   "outputs": [],
   "source": [
    "embeddings = embed(model=encoder, test_loader=loader)"
   ]
  },
  {
   "cell_type": "code",
   "execution_count": 63,
   "id": "c97c0f7a-3a6c-4702-af22-01ee4ec3f049",
   "metadata": {},
   "outputs": [
    {
     "data": {
      "text/plain": [
       "torch.Size([11004, 128])"
      ]
     },
     "execution_count": 63,
     "metadata": {},
     "output_type": "execute_result"
    }
   ],
   "source": [
    "embeddings.shape"
   ]
  },
  {
   "cell_type": "code",
   "execution_count": 65,
   "id": "66ee5532-59b7-48e1-b2b0-7a8d2a0f57a8",
   "metadata": {},
   "outputs": [
    {
     "data": {
      "text/plain": [
       "(11004,)"
      ]
     },
     "execution_count": 65,
     "metadata": {},
     "output_type": "execute_result"
    }
   ],
   "source": [
    "Y.shape"
   ]
  },
  {
   "cell_type": "code",
   "execution_count": 66,
   "id": "dabb3aff-5c5f-466c-9ca3-4d16e4b2094a",
   "metadata": {},
   "outputs": [],
   "source": [
    "tsne = TSNE()\n",
    "tsne_features = tsne.fit_transform(embeddings)"
   ]
  },
  {
   "cell_type": "code",
   "execution_count": 67,
   "id": "6ffa96cf-9d88-47d7-b75f-bd8ef24f08df",
   "metadata": {},
   "outputs": [],
   "source": [
    "participants = Y"
   ]
  },
  {
   "cell_type": "code",
   "execution_count": 68,
   "id": "ff0fece2-fe55-4bd9-835d-debba4ddaaef",
   "metadata": {},
   "outputs": [],
   "source": []
  },
  {
   "cell_type": "markdown",
   "id": "0e2518a2-b97b-48ff-808a-12db184e8565",
   "metadata": {},
   "source": [
    "## Gesture 2"
   ]
  },
  {
   "cell_type": "code",
   "execution_count": 78,
   "id": "9b287b34-ac43-4f09-818e-c56f6bd92774",
   "metadata": {},
   "outputs": [],
   "source": [
    "sub_parts = np.random.choice(participants, size = 15, replace=False)"
   ]
  },
  {
   "cell_type": "code",
   "execution_count": 86,
   "id": "0832d73f-b77c-470c-bdb9-fc16ab9a8da9",
   "metadata": {},
   "outputs": [],
   "source": [
    "i = np.where(g == 2)\n",
    "feats = np.squeeze(tsne_features[i,:])\n",
    "labels = participants[i]"
   ]
  },
  {
   "cell_type": "code",
   "execution_count": 87,
   "id": "bb22573d-e111-47c5-8e02-691a3870b49d",
   "metadata": {},
   "outputs": [
    {
     "data": {
      "text/plain": [
       "(755, 2)"
      ]
     },
     "execution_count": 87,
     "metadata": {},
     "output_type": "execute_result"
    }
   ],
   "source": [
    "feats.shape"
   ]
  },
  {
   "cell_type": "code",
   "execution_count": 91,
   "id": "f1dde958-0e62-4e1a-b45c-129a41ef9e94",
   "metadata": {},
   "outputs": [
    {
     "data": {
      "text/plain": [
       "array([ 0,  0,  0,  0,  0,  0,  9,  9,  9,  9,  9,  9, 10, 10, 10, 10, 10,\n",
       "       10, 11, 11, 11, 11, 11, 11, 11, 12, 12, 12, 12, 12, 12, 12, 13, 13,\n",
       "       13, 13, 13, 13, 14, 14, 15, 15, 15, 15, 15, 15, 15, 16, 16, 17, 17,\n",
       "       18, 18, 18, 18, 18, 18, 18,  1,  1,  1,  1,  1,  1, 19, 19, 19, 19,\n",
       "       20, 20, 20, 20, 20, 20, 20, 21, 21, 21, 21, 22, 22, 22, 22, 22, 22,\n",
       "       22, 23, 23, 23, 23, 23, 24, 24, 24, 24, 24, 24, 24, 25, 25, 25, 25,\n",
       "       25, 25, 25, 26, 26, 26, 26, 26, 26, 26, 27, 27, 27, 27, 27, 27, 27,\n",
       "       28, 28, 28, 28, 28, 28, 28,  2,  2,  2,  2,  2,  2, 29, 29, 29, 29,\n",
       "       29, 29, 29, 30, 30, 30, 30, 30, 30, 30, 31, 31, 31, 31, 31, 31, 31,\n",
       "       32, 32, 32, 32, 32, 32, 33, 33, 33, 33, 33, 33, 33, 34, 34, 34, 34,\n",
       "       34, 34, 34, 35, 35, 35, 35, 35, 36, 36, 36, 36, 36, 36, 37, 37, 37,\n",
       "       37, 37, 37, 38, 38, 38, 38, 38, 38,  3,  3,  3,  3,  3,  3,  3, 39,\n",
       "       39, 39, 39, 39, 39, 40, 40, 40, 40, 40, 40, 40, 41, 41, 41, 41, 42,\n",
       "       42, 42,  4,  4,  4,  4,  4,  4,  5,  5,  5,  5,  5,  5,  6,  6,  7,\n",
       "        7,  7,  7,  7,  7,  8,  8,  8,  8,  8,  8,  0,  0,  0,  0,  0,  0,\n",
       "        9,  9,  9,  9,  9,  9,  9, 10, 10, 10, 10, 10, 10, 11, 11, 11, 11,\n",
       "       12, 12, 12, 12, 12, 12, 12, 13, 13, 13, 14, 14, 14, 14, 14, 15, 15,\n",
       "       15, 15, 15, 15, 15, 16, 16, 16, 16, 16, 16, 16, 18, 18, 18, 18, 18,\n",
       "       18, 18,  1,  1,  1,  1,  1,  1, 19, 19, 19, 19, 19, 19, 20, 20, 20,\n",
       "       20, 20, 20, 20, 21, 21, 21, 21, 21, 21, 21, 22, 22, 22, 22, 22, 22,\n",
       "       23, 23, 23, 23, 23, 23, 24, 24, 24, 24, 24, 24, 25, 25, 25, 25, 25,\n",
       "       25, 25, 26, 26, 26, 26, 26, 26, 26, 27, 27, 27, 28, 28, 28, 28, 28,\n",
       "       28, 28,  2,  2,  2,  2,  2,  2,  2, 29, 29, 29, 29, 29, 29, 29, 30,\n",
       "       30, 30, 30, 30, 30, 30, 31, 31, 31, 31, 31, 31, 31, 32, 32, 32, 32,\n",
       "       32, 32, 33, 33, 33, 33, 33, 33, 33, 34, 34, 34, 34, 34, 34, 34, 35,\n",
       "       35, 35, 35, 35, 35, 36, 36, 36, 36, 36, 36, 37, 37, 37, 37, 37, 37,\n",
       "       38, 38, 38, 38, 38, 38,  3,  3,  3,  3,  3,  3,  3, 39, 39, 39, 39,\n",
       "       39, 39, 39, 40, 40, 40, 40, 41, 41, 41, 41, 41, 41, 41, 42, 42,  4,\n",
       "        4,  4,  4,  4,  4,  5,  5,  5,  5,  5,  5,  6,  6,  6,  6,  6,  7,\n",
       "        7,  7,  7,  7,  7,  7,  8,  8,  8,  8,  8,  0,  0,  0,  0,  0,  0,\n",
       "        9,  9,  9,  9,  9,  9,  9, 10, 10, 10, 10, 10, 10, 10, 11, 12, 12,\n",
       "       12, 12, 12, 12, 13, 13, 13, 13, 13, 13, 14, 14, 14, 14, 14, 14, 15,\n",
       "       15, 15, 15, 15, 15, 16, 16, 16, 16, 16, 16, 16, 17, 17, 17, 18, 18,\n",
       "       18, 18, 18,  1,  1,  1,  1,  1,  1, 19, 19, 19, 19, 19, 19, 19, 20,\n",
       "       20, 20, 20, 20, 20, 21, 21, 21, 21, 21, 21, 21, 22, 22, 22, 22, 22,\n",
       "       22, 23, 23, 23, 23, 23, 23, 24, 24, 24, 24, 24, 24, 24, 25, 25, 25,\n",
       "       25, 25, 25, 25, 26, 26, 26, 26, 26, 26, 26, 27, 28, 28, 28, 28, 28,\n",
       "        2,  2,  2,  2,  2,  2, 29, 29, 29, 29, 29, 29, 29, 30, 30, 30, 30,\n",
       "       30, 30, 30, 31, 31, 31, 31, 31, 31, 32, 32, 32, 32, 32, 32, 32, 33,\n",
       "       33, 33, 33, 33, 33, 33, 34, 34, 34, 34, 34, 34, 34, 35, 35, 35, 35,\n",
       "       35, 36, 36, 36, 36, 36, 36, 36, 37, 37, 37, 37, 37, 38, 38, 38, 38,\n",
       "        3,  3,  3,  3,  3,  3,  3, 39, 39, 39, 39, 39, 39, 39, 40, 40, 40,\n",
       "       40, 40, 41, 41, 41, 41, 41, 41, 41, 42, 42,  4,  4,  4,  4,  4,  4,\n",
       "        5,  5,  5,  5,  5,  5,  6,  6,  6,  6,  7,  7,  7,  7,  7,  7,  7,\n",
       "        8,  8,  8,  8,  8,  8,  8], dtype=int64)"
      ]
     },
     "execution_count": 91,
     "metadata": {},
     "output_type": "execute_result"
    }
   ],
   "source": [
    "labels"
   ]
  },
  {
   "cell_type": "code",
   "execution_count": 90,
   "id": "b379659c-3795-48ba-9082-6ef6edce3ebe",
   "metadata": {},
   "outputs": [
    {
     "data": {
      "image/png": "[encoded data removed]",
      "text/plain": [
       "<Figure size 1000x1000 with 1 Axes>"
      ]
     },
     "metadata": {},
     "output_type": "display_data"
    }
   ],
   "source": [
    "fig, ax = plt.subplots(figsize= (10,10))\n",
    "\n",
    "# ax.scatter(x = tsne_features[:,0], y = tsne_features[:,1], label = participants)\n",
    "for p in np.unique(sub_parts):\n",
    "    i = np.where(labels == p)\n",
    "    ax.scatter(feats[i,0], feats[i,1], label=p)\n",
    "#     ax.annotate(p, (tsne_features[i,0], tsne_features[i,1]))\n",
    "# ax.legend()\n",
    "for idx, label in enumerate(labels):\n",
    "    if label in sub_parts:\n",
    "        ax.annotate(label, (feats[idx,0], feats[idx,1]))\n",
    "    \n",
    "ax.set_title(\"T-SNE Visualization in 2-D space for all Features - Gesture 2\", fontsize= 20)\n",
    "plt.show()"
   ]
  },
  {
   "cell_type": "code",
   "execution_count": null,
   "id": "f8062fcb-4d22-4f92-8a47-270d5dc55c2f",
   "metadata": {},
   "outputs": [],
   "source": []
  }
 ],
 "metadata": {
  "kernelspec": {
   "display_name": "Python 3 (ipykernel)",
   "language": "python",
   "name": "python3"
  },
  "language_info": {
   "codemirror_mode": {
    "name": "ipython",
    "version": 3
   },
   "file_extension": ".py",
   "mimetype": "text/x-python",
   "name": "python",
   "nbconvert_exporter": "python",
   "pygments_lexer": "ipython3",
   "version": "3.10.13"
  },
  "widgets": {
   "application/vnd.jupyter.widget-state+json": {
    "state": {},
    "version_major": 2,
    "version_minor": 0
   }
  }
 },
 "nbformat": 4,
 "nbformat_minor": 5
}
