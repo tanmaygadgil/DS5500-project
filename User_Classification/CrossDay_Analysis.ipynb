{
  "nbformat": 4,
  "nbformat_minor": 0,
  "metadata": {
    "colab": {
      "provenance": [],
      "collapsed_sections": [
        "1AV-QOFd7o52"
      ],
      "machine_shape": "hm"
    },
    "kernelspec": {
      "name": "python3",
      "display_name": "Python 3"
    },
    "language_info": {
      "name": "python"
    }
  },
  "cells": [
    {
      "cell_type": "code",
      "source": [
        "from google.colab import drive\n",
        "drive.mount(\"/content/gdrive\")"
      ],
      "metadata": {
        "id": "0debPogLilzp"
      },
      "execution_count": null,
      "outputs": []
    },
    {
      "cell_type": "code",
      "source": [
        "import pandas as pd\n",
        "import numpy as np\n",
        "import pickle\n",
        "from sklearn.preprocessing import StandardScaler\n",
        "from sklearn.model_selection import train_test_split\n",
        "import numpy as np\n",
        "from sklearn.model_selection import train_test_split\n",
        "from keras.models import Sequential\n",
        "from keras.layers import LSTM, Dense, Dropout\n",
        "from keras.optimizers import Adam\n",
        "from keras.metrics import TopKCategoricalAccuracy\n",
        "from sklearn.metrics import accuracy_score, confusion_matrix, classification_report, top_k_accuracy_score\n",
        "# from keras import optimizers\n",
        "from keras.callbacks import EarlyStopping, ModelCheckpoint"
      ],
      "metadata": {
        "id": "QmF2klaNpDJ0"
      },
      "execution_count": null,
      "outputs": []
    },
    {
      "cell_type": "code",
      "source": [
        "import matplotlib.pyplot as plt\n",
        "import seaborn as sns\n",
        "import numpy as np\n",
        "\n",
        "\n",
        "def plot_loss_and_accuracy(history, session_name):\n",
        "    plt.figure(figsize=(12, 4))\n",
        "\n",
        "    plt.subplot(1, 2, 1)\n",
        "    plt.plot(history['loss'])\n",
        "    plt.plot(history['val_loss'])\n",
        "    plt.title(f'{session_name} Loss')\n",
        "    plt.xlabel('Epoch')\n",
        "    plt.ylabel('Loss')\n",
        "    plt.legend(['Train', 'Validation'], loc='upper right')\n",
        "\n",
        "    plt.subplot(1, 2, 2)\n",
        "    plt.plot(history['accuracy'])\n",
        "    plt.plot(history['val_accuracy'])\n",
        "    plt.title(f'{session_name} Accuracy')\n",
        "    plt.xlabel('Epoch')\n",
        "    plt.ylabel('Accuracy')\n",
        "    plt.legend(['Train', 'Validation'], loc='lower right')\n",
        "\n",
        "    plt.show()\n",
        "\n",
        "\n",
        "def plot_confusion_matrix(model, X_test, y_test, session_name):\n",
        "    y_pred = model.predict(X_test)\n",
        "    y_pred_labels = np.argmax(y_pred, axis=1)\n",
        "    true_classes = np.argmax(y_test, axis=1)\n",
        "\n",
        "    cm = confusion_matrix(true_classes, y_pred_labels)\n",
        "    plt.figure(figsize=(10, 8))\n",
        "    sns.heatmap(cm, annot=True, fmt='d', cmap='Blues', xticklabels=range(43), yticklabels=range(43))\n",
        "    plt.title(f'{session_name} Confusion Matrix')\n",
        "    plt.xlabel('Predicted Label')\n",
        "    plt.ylabel('True Label')\n",
        "    plt.show()\n",
        "\n"
      ],
      "metadata": {
        "id": "gRykkQ6yAE-3"
      },
      "execution_count": null,
      "outputs": []
    },
    {
      "cell_type": "code",
      "source": [
        "data_s1 = pd.read_csv('/content/gdrive/MyDrive/EMG/Sessions/Session1.csv')\n",
        "data_s2 = pd.read_csv('/content/gdrive/MyDrive/EMG/Sessions/Session2.csv')\n",
        "data_s3 = pd.read_csv('/content/gdrive/MyDrive/EMG/Sessions/Session3.csv')"
      ],
      "metadata": {
        "id": "sA0g9gIaNqpL"
      },
      "execution_count": null,
      "outputs": []
    },
    {
      "cell_type": "code",
      "source": [
        "sessions = {1: data_s1, 2: data_s2, 3: data_s3}"
      ],
      "metadata": {
        "id": "W6DGWMb4R8X8"
      },
      "execution_count": null,
      "outputs": []
    },
    {
      "cell_type": "code",
      "source": [
        "sessions_num = [1, 2, 3]"
      ],
      "metadata": {
        "id": "fCQeTG4_SFqj"
      },
      "execution_count": null,
      "outputs": []
    },
    {
      "cell_type": "markdown",
      "source": [
        "## Single Cross-day Analysis"
      ],
      "metadata": {
        "id": "InTkKTTL3iv0"
      }
    },
    {
      "cell_type": "code",
      "source": [
        "import os\n",
        "import functools\n",
        "import keras"
      ],
      "metadata": {
        "id": "7akSOmKzO0MQ"
      },
      "execution_count": null,
      "outputs": []
    },
    {
      "cell_type": "code",
      "source": [
        "def create_model():\n",
        "    top3_acc = functools.partial(keras.metrics.top_k_categorical_accuracy, k=3)\n",
        "    top3_acc.__name__ = 'top3_acc'\n",
        "    model = Sequential()\n",
        "    model.add(LSTM(128, input_shape=(33, 168),return_sequences=True))\n",
        "    model.add(Dropout(0.2))\n",
        "    model.add(LSTM(64))\n",
        "    model.add(Dropout(0.2))\n",
        "    model.add(Dense(43, activation='softmax'))\n",
        "    adam = Adam(learning_rate=0.0001)\n",
        "    model.compile(optimizer=adam, loss='categorical_crossentropy', metrics=['accuracy', 'top_k_categorical_accuracy', top3_acc])\n",
        "    return model"
      ],
      "metadata": {
        "id": "45vZVEqfNR9n"
      },
      "execution_count": null,
      "outputs": []
    },
    {
      "cell_type": "code",
      "source": [
        "checkpoint_path_sca = \"/content/gdrive/MyDrive/EMG/Sessions/Checkpoints_LSTM_SCA_CV/cp.ckpt\"\n",
        "checkpoint_dir = os.path.dirname(checkpoint_path_sca)\n",
        "\n",
        "\n",
        "keras_callbacks = [\n",
        "        EarlyStopping(monitor='val_loss', verbose=1, patience=5),\n",
        "        ModelCheckpoint(checkpoint_path_sca, monitor='val_loss', save_weights_only=True)\n",
        "]"
      ],
      "metadata": {
        "id": "TUiWTJiVOv6o"
      },
      "execution_count": null,
      "outputs": []
    },
    {
      "cell_type": "code",
      "source": [
        "def rank_k_accuracy(y_true, y_pred, k=3):\n",
        "    top_k_preds = np.argsort(y_pred, axis=1)[:, -k:]\n",
        "    success = 0\n",
        "    for i in range(y_true.shape[0]):\n",
        "        if y_true[i] in top_k_preds[i, :]:\n",
        "            success += 1\n",
        "    return success / y_true.shape[0]"
      ],
      "metadata": {
        "id": "gzZXC2oCQQvp"
      },
      "execution_count": null,
      "outputs": []
    },
    {
      "cell_type": "code",
      "source": [
        "rank_3_accuracies = {}\n",
        "rank_5_accuracies = {}\n",
        "\n",
        "all_rank_3 = []\n",
        "all_rank_5 = []\n",
        "\n",
        "for repetition in range(1, 4):  # Repeating the analysis\n",
        "    for fold in range(1, 8):  # Sevenfold cross-validation\n",
        "        train_session = repetition\n",
        "        test_trial = fold\n",
        "\n",
        "        train_data = sessions[train_session]\n",
        "        train_data = train_data.loc[train_data['Trial'] != test_trial]\n",
        "\n",
        "        X_train = train_data.iloc[0:,3:]\n",
        "        y_train = train_data.iloc[0:,0]\n",
        "\n",
        "        test_data = pd.DataFrame()\n",
        "\n",
        "        for session in sessions_num:\n",
        "          if session != train_session:\n",
        "            test_trial_data = sessions[session]\n",
        "            test_data = test_data.append(test_trial_data.loc[test_trial_data['Trial'] == test_trial], ignore_index=True)\n",
        "\n",
        "        X_test = test_data.iloc[0:,3:]\n",
        "        y_test = test_data.iloc[0:,0]\n",
        "\n",
        "        scaler = StandardScaler()\n",
        "        X_train = scaler.fit_transform(X_train)\n",
        "        X_test = scaler.fit_transform(X_test)\n",
        "\n",
        "        X_train = pd.DataFrame(X_train)\n",
        "        X_test = pd.DataFrame(X_test)\n",
        "\n",
        "        sequence_length = 33\n",
        "        batch_size = 33\n",
        "        X_batches_train_SCA = []\n",
        "        y_batches_train_SCA = []\n",
        "        X_batches_test_SCA = []\n",
        "        y_batches_test_SCA = []\n",
        "\n",
        "        for i in range(0, len(X_train) - sequence_length + 1, batch_size):\n",
        "            X_batch = X_train.iloc[i:i+sequence_length]\n",
        "            y_batch = y_train.iloc[i]\n",
        "\n",
        "            X_batches_train_SCA.append(X_batch)\n",
        "            y_batches_train_SCA.append(y_batch)\n",
        "\n",
        "        from keras.utils import to_categorical\n",
        "        y_batches_train_SCA = np.array(y_batches_train_SCA) - 1\n",
        "        y_batches_train_SCA = to_categorical(y_batches_train_SCA)\n",
        "        X_batches_train_SCA = np.array(X_batches_train_SCA)\n",
        "\n",
        "        for i in range(0, len(X_test) - sequence_length + 1, batch_size):\n",
        "            X_batch = X_test.iloc[i:i+sequence_length]\n",
        "            y_batch = y_test.iloc[i]\n",
        "\n",
        "            X_batches_test_SCA.append(X_batch)\n",
        "            y_batches_test_SCA.append(y_batch)\n",
        "\n",
        "        from keras.utils import to_categorical\n",
        "        y_batches_test_SCA = np.array(y_batches_test_SCA) - 1\n",
        "        y_batches_test_SCA = to_categorical(y_batches_test_SCA)\n",
        "        X_batches_test_SCA = np.array(X_batches_test_SCA)\n",
        "\n",
        "        # Create and compile the LSTM model\n",
        "        model = create_model()\n",
        "\n",
        "        # Train the model\n",
        "        model.fit(X_batches_train_SCA, y_batches_train_SCA, epochs=35, batch_size=32, validation_data=(X_batches_test_SCA, y_batches_test_SCA), callbacks=keras_callbacks)\n",
        "\n",
        "        # Evaluate the model\n",
        "        metrics = model.evaluate(X_batches_test_SCA, y_batches_test_SCA)\n",
        "        # Store and later average these metrics\n",
        "\n",
        "        y_pred = model.predict(X_batches_test_SCA)\n",
        "\n",
        "        # Calculate rank-k accuracy\n",
        "        # accuracy_3 = rank_k_accuracy(np.argmax(y_batches_test_SCA, axis=1), y_pred, k=3)\n",
        "        # rank_3_accuracies.append(accuracy_3)\n",
        "\n",
        "        # accuracy_5 = rank_k_accuracy(np.argmax(y_batches_test_SCA, axis=1), y_pred, k=5)\n",
        "        # rank_5_accuracies.append(accuracy_5)\n",
        "\n",
        "        for class_label in range(y_pred.shape[1]):\n",
        "            class_top3_correct = np.array([y_true == class_label and class_label in top3 for y_true, top3 in zip(np.argmax(y_batches_test_SCA, axis=-1),  np.argsort(y_pred, axis=-1)[:, ::-1][:, :3])])\n",
        "            rank_3_accuracies[class_label+1] = (np.sum(class_top3_correct)/34)\n",
        "\n",
        "        all_rank_3.append(rank_3_accuracies)\n",
        "        rank_3_accuracies = {}\n",
        "\n",
        "        for class_label in range(y_pred.shape[1]):\n",
        "            class_top3_correct = np.array([y_true == class_label and class_label in top3 for y_true, top3 in zip(np.argmax(y_batches_test_SCA, axis=-1),  np.argsort(y_pred, axis=-1)[:, ::-1][:, :5])])\n",
        "            rank_5_accuracies[class_label+1] = (np.sum(class_top3_correct)/34)\n",
        "\n",
        "        all_rank_5.append(rank_5_accuracies)\n",
        "        rank_5_accuracies = {}"
      ],
      "metadata": {
        "id": "O9VoQeGZNkPs"
      },
      "execution_count": null,
      "outputs": []
    },
    {
      "cell_type": "code",
      "source": [
        "def calculate_means(dict_list):\n",
        "    # Initialize a dictionary to hold the sum of values for each key\n",
        "    sums = {key: 0 for key in dict_list[0].keys()}\n",
        "\n",
        "    # Iterate over each dictionary and sum up the values for each key\n",
        "    for d in dict_list:\n",
        "        for key, value in d.items():\n",
        "            sums[key] += (value*100)\n",
        "\n",
        "    # Calculate the mean for each key\n",
        "    means = {key: value / len(dict_list) for key, value in sums.items()}\n",
        "\n",
        "    return means"
      ],
      "metadata": {
        "id": "ZExHcncvRkXf"
      },
      "execution_count": null,
      "outputs": []
    },
    {
      "cell_type": "code",
      "source": [
        "means_SCD = calculate_means(all_rank_5)"
      ],
      "metadata": {
        "id": "hoDAFQP99Squ"
      },
      "execution_count": null,
      "outputs": []
    },
    {
      "cell_type": "code",
      "source": [
        "acc_5 = list(means_SCD.values())"
      ],
      "metadata": {
        "id": "kXoVDGIU9pCa"
      },
      "execution_count": null,
      "outputs": []
    },
    {
      "cell_type": "code",
      "source": [
        "plt.bar(range(1,44), acc_5)\n",
        "\n",
        "plt.xlim(0,44)\n",
        "plt.ylim(0,101)\n",
        "plt.title('Individuals Rank-5 Identification')\n",
        "plt.ylabel('SCD accuracy (%)')\n",
        "plt.xlabel('Participant')\n",
        "plt.show()"
      ],
      "metadata": {
        "colab": {
          "base_uri": "https://localhost:8080/",
          "height": 472
        },
        "id": "IQy9ZIik9iJj",
        "outputId": "71c76210-2be1-450e-dd98-5184e2dabef9"
      },
      "execution_count": null,
      "outputs": [
        {
          "output_type": "display_data",
          "data": {
            "text/plain": [
              "<Figure size 640x480 with 1 Axes>"
            ],
            "image/png": "[encoded data removed]"
          },
          "metadata": {}
        }
      ]
    },
    {
      "cell_type": "markdown",
      "source": [
        "### Trial"
      ],
      "metadata": {
        "id": "1AV-QOFd7o52"
      }
    },
    {
      "cell_type": "code",
      "source": [
        "train_session = 1\n",
        "test_trial = 7"
      ],
      "metadata": {
        "id": "qsvq8yMHRg65"
      },
      "execution_count": null,
      "outputs": []
    },
    {
      "cell_type": "code",
      "source": [
        "train_data = sessions[train_session]\n",
        "train_data = train_data.loc[train_data['Trial'] != test_trial]\n",
        "\n",
        "X_train = train_data.iloc[0:,3:]\n",
        "y_train = train_data.iloc[0:,0]"
      ],
      "metadata": {
        "id": "N5MQQ81BnImI"
      },
      "execution_count": null,
      "outputs": []
    },
    {
      "cell_type": "code",
      "source": [
        "test_data = pd.DataFrame()\n",
        "\n",
        "for session in sessions_num:\n",
        "  if session != train_session:\n",
        "    test_trial_data = sessions[session]\n",
        "    test_data = test_data.append(test_trial_data.loc[test_trial_data['Trial'] == test_trial], ignore_index=True)\n",
        "\n",
        "X_test = test_data.iloc[0:,3:]\n",
        "y_test = test_data.iloc[0:,0]"
      ],
      "metadata": {
        "id": "qxx8UfTNoBLm",
        "colab": {
          "base_uri": "https://localhost:8080/"
        },
        "outputId": "5c457b8f-df60-41d7-e955-309364601262"
      },
      "execution_count": null,
      "outputs": [
        {
          "output_type": "stream",
          "name": "stderr",
          "text": [
            "<ipython-input-63-a232c9e086f1>:6: FutureWarning: The frame.append method is deprecated and will be removed from pandas in a future version. Use pandas.concat instead.\n",
            "  test_data = test_data.append(test_trial_data.loc[test_trial_data['Trial'] == test_trial], ignore_index=True)\n"
          ]
        }
      ]
    },
    {
      "cell_type": "code",
      "source": [
        "scaler = StandardScaler()\n",
        "X_train = scaler.fit_transform(X_train)\n",
        "X_test = scaler.fit_transform(X_test)\n",
        "\n",
        "X_train = pd.DataFrame(X_train)\n",
        "X_test = pd.DataFrame(X_test)"
      ],
      "metadata": {
        "id": "air1JbKY1f-3"
      },
      "execution_count": null,
      "outputs": []
    },
    {
      "cell_type": "code",
      "source": [
        "sequence_length = 33\n",
        "batch_size = 33\n",
        "X_batches_train_SCA = []\n",
        "y_batches_train_SCA = []\n",
        "X_batches_test_SCA = []\n",
        "y_batches_test_SCA = []"
      ],
      "metadata": {
        "id": "JA3-aT94LvCE"
      },
      "execution_count": null,
      "outputs": []
    },
    {
      "cell_type": "code",
      "source": [
        "for i in range(0, len(X_train) - sequence_length + 1, batch_size):\n",
        "  X_batch = X_train.iloc[i:i+sequence_length]\n",
        "  y_batch = y_train.iloc[i]\n",
        "\n",
        "  X_batches_train_SCA.append(X_batch)\n",
        "  y_batches_train_SCA.append(y_batch)\n",
        "\n",
        "from keras.utils import to_categorical\n",
        "y_batches_train_SCA = np.array(y_batches_train_SCA) - 1\n",
        "y_batches_train_SCA = to_categorical(y_batches_train_SCA)\n",
        "X_batches_train_SCA = np.array(X_batches_train_SCA)"
      ],
      "metadata": {
        "id": "a0EsKmpZLwVI"
      },
      "execution_count": null,
      "outputs": []
    },
    {
      "cell_type": "code",
      "source": [
        "for i in range(0, len(X_test) - sequence_length + 1, batch_size):\n",
        "  X_batch = X_test.iloc[i:i+sequence_length]\n",
        "  y_batch = y_test.iloc[i]\n",
        "\n",
        "  X_batches_test_SCA.append(X_batch)\n",
        "  y_batches_test_SCA.append(y_batch)\n",
        "\n",
        "from keras.utils import to_categorical\n",
        "y_batches_test_SCA = np.array(y_batches_test_SCA) - 1\n",
        "y_batches_test_SCA = to_categorical(y_batches_test_SCA)\n",
        "X_batches_test_SCA = np.array(X_batches_test_SCA)"
      ],
      "metadata": {
        "id": "LhGgSiYfIN6_"
      },
      "execution_count": null,
      "outputs": []
    },
    {
      "cell_type": "code",
      "source": [
        "import os\n",
        "import functools\n",
        "import keras"
      ],
      "metadata": {
        "id": "YCVkGV8dpMHF"
      },
      "execution_count": null,
      "outputs": []
    },
    {
      "cell_type": "code",
      "source": [
        "checkpoint_path_sca = \"/content/gdrive/MyDrive/EMG/Sessions/Checkpoints_LSTM_SCA/cp.ckpt\"\n",
        "checkpoint_dir = os.path.dirname(checkpoint_path_sca)"
      ],
      "metadata": {
        "id": "-WDcbLX9o4Vl"
      },
      "execution_count": null,
      "outputs": []
    },
    {
      "cell_type": "code",
      "source": [
        "top3_acc = functools.partial(keras.metrics.top_k_categorical_accuracy, k=3)\n",
        "\n",
        "top3_acc.__name__ = 'top3_acc'"
      ],
      "metadata": {
        "id": "m8XXyd8HroGz"
      },
      "execution_count": null,
      "outputs": []
    },
    {
      "cell_type": "code",
      "source": [
        "model = Sequential()\n",
        "model.add(LSTM(128, input_shape=(33, 168),return_sequences=True))\n",
        "model.add(Dropout(0.2))\n",
        "model.add(LSTM(64))\n",
        "model.add(Dropout(0.2))\n",
        "model.add(Dense(43, activation='softmax'))\n",
        "\n",
        "adam = Adam(learning_rate=0.0001)\n",
        "keras_callbacks = [\n",
        "    EarlyStopping(monitor='val_loss', verbose=1, patience=10),\n",
        "    ModelCheckpoint(checkpoint_path_sca, monitor='val_loss', save_weights_only=True)\n",
        "]\n",
        "model.compile(optimizer=adam, loss='categorical_crossentropy', metrics=['accuracy', 'top_k_categorical_accuracy', top3_acc])\n",
        "model.summary()"
      ],
      "metadata": {
        "id": "xSK9Uupc12QB"
      },
      "execution_count": null,
      "outputs": []
    },
    {
      "cell_type": "code",
      "source": [
        "history_sca_lstm = model.fit(X_batches_train, y_batches_train, epochs=100, batch_size=32, validation_data=(X_batches_test, y_batches_test), callbacks=keras_callbacks)"
      ],
      "metadata": {
        "id": "N_yuW0sFHrhX"
      },
      "execution_count": null,
      "outputs": []
    },
    {
      "cell_type": "code",
      "source": [
        "true_classes_SCA = np.argmax(y_batches_test_SCA, axis=-1)\n",
        "\n",
        "predicted_classes = np.argmax(model.predict(X_batches_test_SCA), axis=-1)\n",
        "accuracy = accuracy_score(true_classes, predicted_classes)\n",
        "# accuracy_3 = top_k_accuracy_score(true_classes, predicted_classes, k=3)\n",
        "# accuracy_5 = top_k_accuracy_score(true_classes, predicted_classes, k=5)\n",
        "print(f'Accuracy: {accuracy*100:.2f}%')\n",
        "# print(f'Accuracy: {accuracy_3*100:.2f}%')\n",
        "# print(f'Accuracy: {accuracy_5*100:.2f}%')\n",
        "report = classification_report(true_classes_SCA, predicted_classes)\n",
        "print(report)"
      ],
      "metadata": {
        "id": "IeadJIpotrI5"
      },
      "execution_count": null,
      "outputs": []
    },
    {
      "cell_type": "code",
      "source": [
        "with open('/content/gdrive/MyDrive/EMG/Sessions/single_cross_lstm1_es.pkl', 'wb') as file:\n",
        "    pickle.dump(history_sca_lstm.history, file)"
      ],
      "metadata": {
        "id": "JuxBbzW-JA4-"
      },
      "execution_count": null,
      "outputs": []
    },
    {
      "cell_type": "code",
      "source": [
        "with open('/content/gdrive/MyDrive/EMG/Sessions/single_cross_lstm1_es.pkl', 'rb') as f:\n",
        "    history = pickle.load(f)"
      ],
      "metadata": {
        "id": "t35my_o86FY3"
      },
      "execution_count": null,
      "outputs": []
    },
    {
      "cell_type": "code",
      "source": [
        "plot_loss_and_accuracy(history, 'Single Cross Day')"
      ],
      "metadata": {
        "id": "nxKVXWZ_2DaD"
      },
      "execution_count": null,
      "outputs": []
    },
    {
      "cell_type": "code",
      "source": [
        "plot_confusion_matrix(model, X_batches_test_SCA, y_batches_test_SCA, 'Single Cross Day')"
      ],
      "metadata": {
        "id": "bv8VLIoG2DaE"
      },
      "execution_count": null,
      "outputs": []
    },
    {
      "cell_type": "code",
      "source": [
        "y_pred_SCA = model.predict(X_batches_test_SCA)\n",
        "y_pred_labels_SCA = np.argmax(y_pred_SCA, axis=1)\n",
        "true_classes = np.argmax(y_batches_test_SCA, axis=1)\n",
        "\n",
        "cm_SCA = confusion_matrix(true_classes, y_pred_labels_SCA)"
      ],
      "metadata": {
        "id": "qHzws-U-4Dpn"
      },
      "execution_count": null,
      "outputs": []
    },
    {
      "cell_type": "code",
      "source": [
        "FP_SCA = cm_SCA.sum(axis=0) - np.diag(cm_SCA)\n",
        "TP_SCA = np.diag(cm_SCA)"
      ],
      "metadata": {
        "id": "UUeMmuxH3-qz"
      },
      "execution_count": null,
      "outputs": []
    },
    {
      "cell_type": "code",
      "source": [
        "TP_SCA"
      ],
      "metadata": {
        "id": "foS0LGz85_6b"
      },
      "execution_count": null,
      "outputs": []
    },
    {
      "cell_type": "code",
      "source": [
        "df = pd.DataFrame({'True Positive':TP_SCA,\n",
        "                  'False Positive':FP_SCA})\n",
        "\n",
        "df = df.astype(int)\n",
        "df.plot.bar(stacked=True)"
      ],
      "metadata": {
        "id": "DkYXyjhp8Gij"
      },
      "execution_count": null,
      "outputs": []
    },
    {
      "cell_type": "code",
      "source": [
        "model.summary()"
      ],
      "metadata": {
        "id": "aGkNqZf7ME9z"
      },
      "execution_count": null,
      "outputs": []
    },
    {
      "cell_type": "code",
      "source": [
        "for y_true, sorted_pred in zip(y_batches_test_SCA, sorted_predictions):\n",
        "  print(sorted_pred)"
      ],
      "metadata": {
        "id": "ij2zhhiEMbfM"
      },
      "execution_count": null,
      "outputs": []
    },
    {
      "cell_type": "code",
      "source": [
        "predictions = model.predict(X_batches_test_SCA)\n",
        "predicted_classes = np.argmax(model.predict(X_batches_test_SCA), axis=-1)\n",
        "accuracy = accuracy_score(true_classes, predicted_classes)\n",
        "# accuracy_3 = top_k_accuracy_score(true_classes, predicted_classes, k=3)\n",
        "# accuracy_5 = top_k_accuracy_score(true_classes, predicted_classes, k=5)\n",
        "print(f'Accuracy: {accuracy*100:.2f}%')\n",
        "# print(f'Accuracy: {accuracy_3*100:.2f}%')\n",
        "# print(f'Accuracy: {accuracy_5*100:.2f}%')\n",
        "report = classification_report(true_classes, predicted_classes)\n",
        "print(report)"
      ],
      "metadata": {
        "id": "XaT8UBvqQjTa"
      },
      "execution_count": null,
      "outputs": []
    },
    {
      "cell_type": "code",
      "source": [
        "predictions = model.predict(X_batches_test_SCA)\n",
        "\n",
        "top5_indices = np.argsort(predictions, axis=-1)[:, ::-1][:, :5]\n",
        "\n",
        "# Check if the true class is among the top 5 predicted classes\n",
        "top5_correct = np.array([y_true in top5 for y_true, top5 in zip(true_classes_SCA, top5_indices)])\n",
        "\n",
        "# Calculate top-5 accuracy\n",
        "top5_accuracy = np.mean(top5_correct)\n",
        "\n",
        "print(top5_accuracy*100)"
      ],
      "metadata": {
        "id": "vDifboUQLkjJ"
      },
      "execution_count": null,
      "outputs": []
    },
    {
      "cell_type": "code",
      "source": [
        "class_rank5_accuracy = {}\n",
        "\n",
        "for class_label in range(predictions.shape[1]):\n",
        "    class_top5_correct = np.array([y_true == class_label and class_label in top5 for y_true, top5 in zip(true_classes_SCA, top5_indices)])\n",
        "    # print(len(class_top5_correct))\n",
        "    class_rank5_accuracy[class_label+1] = (np.sum(class_top5_correct)/34)*100\n",
        "\n",
        "for class_label, accuracy in class_rank5_accuracy.items():\n",
        "    print(f\"Class {class_label} Rank-5 Accuracy: {accuracy}\")"
      ],
      "metadata": {
        "id": "e4ksngSsRXwf"
      },
      "execution_count": null,
      "outputs": []
    },
    {
      "cell_type": "code",
      "source": [
        "acc_5 = list(class_rank5_accuracy.values())"
      ],
      "metadata": {
        "id": "U_xInUNYY5RT"
      },
      "execution_count": null,
      "outputs": []
    },
    {
      "cell_type": "code",
      "source": [
        "plt.bar(range(1,44), acc_5)\n",
        "\n",
        "plt.xlim(0,44)\n",
        "plt.ylim(0,101)\n",
        "plt.title('Individuals Rank-5 Identification')\n",
        "plt.ylabel('SCD accuracy (%)')\n",
        "plt.xlabel('Participant')\n",
        "plt.show()"
      ],
      "metadata": {
        "id": "1Ud6RiM1ZGG7"
      },
      "execution_count": null,
      "outputs": []
    },
    {
      "cell_type": "code",
      "source": [
        "predictions = model.predict(X_batches_test_SCA)\n",
        "\n",
        "top3_indices = np.argsort(predictions, axis=-1)[:, ::-1][:, :3]\n",
        "\n",
        "# Check if the true class is among the top 5 predicted classes\n",
        "top3_correct = np.array([y_true in top3 for y_true, top3 in zip(true_classes_SCA, top3_indices)])\n",
        "\n",
        "# Calculate top-5 accuracy\n",
        "top3_accuracy = np.mean(top3_correct)\n",
        "\n",
        "print(top3_accuracy*100)"
      ],
      "metadata": {
        "id": "lXDita40w0c_"
      },
      "execution_count": null,
      "outputs": []
    },
    {
      "cell_type": "code",
      "source": [
        "class_rank3_accuracy = {}\n",
        "\n",
        "for class_label in range(predictions.shape[1]):\n",
        "    class_top3_correct = np.array([y_true == class_label and class_label in top3 for y_true, top3 in zip(true_classes_SCA, top3_indices)])\n",
        "\n",
        "    class_rank3_accuracy[class_label+1] = (np.sum(class_top3_correct)/34)*100\n",
        "\n",
        "for class_label, accuracy in class_rank3_accuracy.items():\n",
        "    print(f\"Class {class_label} Rank-3 Accuracy: {accuracy}\")"
      ],
      "metadata": {
        "id": "8Vh8xhFywx5m"
      },
      "execution_count": null,
      "outputs": []
    },
    {
      "cell_type": "code",
      "source": [
        "acc_3 = list(class_rank3_accuracy.values())"
      ],
      "metadata": {
        "id": "moRwmefexVhV"
      },
      "execution_count": null,
      "outputs": []
    },
    {
      "cell_type": "code",
      "source": [
        "plt.bar(range(1,44), acc_3)"
      ],
      "metadata": {
        "id": "ecbS6fv0xVhb"
      },
      "execution_count": null,
      "outputs": []
    },
    {
      "cell_type": "markdown",
      "source": [
        "## Cumulative Cross-Day"
      ],
      "metadata": {
        "id": "cSHZv0Aa3qTs"
      }
    },
    {
      "cell_type": "code",
      "source": [
        "checkpoint_path_sca = \"/content/gdrive/MyDrive/EMG/Sessions/Checkpoints_LSTM_CCA_CV/cp.ckpt\"\n",
        "checkpoint_dir = os.path.dirname(checkpoint_path_sca)\n",
        "\n",
        "\n",
        "keras_callbacks = [\n",
        "        EarlyStopping(monitor='val_loss', verbose=1, patience=5),\n",
        "        ModelCheckpoint(checkpoint_path_sca, monitor='val_loss', save_weights_only=True)\n",
        "]"
      ],
      "metadata": {
        "id": "EP2WqzUS9__y"
      },
      "execution_count": null,
      "outputs": []
    },
    {
      "cell_type": "code",
      "source": [
        "rank_3_accuracies = {}\n",
        "rank_5_accuracies = {}\n",
        "\n",
        "all_rank_3 = []\n",
        "all_rank_5 = []\n",
        "\n",
        "for repetition in range(1, 4):  # Repeating the analysis\n",
        "    for fold in range(1, 8):  # Sevenfold cross-validation\n",
        "        test_session = repetition\n",
        "        test_trial = fold\n",
        "\n",
        "        train_data = pd.DataFrame()\n",
        "\n",
        "        for session in sessions_num:\n",
        "          if session != test_session:\n",
        "            test_trial_data = sessions[session]\n",
        "            train_data = train_data.append(test_trial_data.loc[test_trial_data['Trial'] != test_trial], ignore_index=True)\n",
        "\n",
        "        X_train = train_data.iloc[0:,3:]\n",
        "        y_train = train_data.iloc[0:,0]\n",
        "\n",
        "        test_data = sessions[test_session]\n",
        "        test_data = test_data.loc[test_data['Trial'] == test_trial]\n",
        "\n",
        "        X_test = test_data.iloc[0:,3:]\n",
        "        y_test = test_data.iloc[0:,0]\n",
        "\n",
        "        scaler = StandardScaler()\n",
        "        X_train = scaler.fit_transform(X_train)\n",
        "        X_test = scaler.fit_transform(X_test)\n",
        "\n",
        "        X_train = pd.DataFrame(X_train)\n",
        "        X_test = pd.DataFrame(X_test)\n",
        "\n",
        "        sequence_length = 33\n",
        "        batch_size = 33\n",
        "        X_batches_train_CCA = []\n",
        "        y_batches_train_CCA = []\n",
        "        X_batches_test_CCA = []\n",
        "        y_batches_test_CCA = []\n",
        "\n",
        "        for i in range(0, len(X_train) - sequence_length + 1, batch_size):\n",
        "          X_batch = X_train.iloc[i:i+sequence_length]\n",
        "          y_batch = y_train.iloc[i]\n",
        "\n",
        "          X_batches_train_CCA.append(X_batch)\n",
        "          y_batches_train_CCA.append(y_batch)\n",
        "\n",
        "        from keras.utils import to_categorical\n",
        "        y_batches_train_CCA = np.array(y_batches_train_CCA) - 1\n",
        "        y_batches_train_CCA = to_categorical(y_batches_train_CCA)\n",
        "        X_batches_train_CCA = np.array(X_batches_train_CCA)\n",
        "\n",
        "        for i in range(0, len(X_test) - sequence_length + 1, batch_size):\n",
        "          X_batch = X_test.iloc[i:i+sequence_length]\n",
        "          y_batch = y_test.iloc[i]\n",
        "\n",
        "          X_batches_test_CCA.append(X_batch)\n",
        "          y_batches_test_CCA.append(y_batch)\n",
        "\n",
        "        from keras.utils import to_categorical\n",
        "        y_batches_test_CCA = np.array(y_batches_test_CCA) - 1\n",
        "        y_batches_test_CCA = to_categorical(y_batches_test_CCA)\n",
        "        X_batches_test_CCA = np.array(X_batches_test_CCA)\n",
        "\n",
        "        # Create and compile the LSTM model\n",
        "        model = create_model()\n",
        "\n",
        "        # Train the model\n",
        "        model.fit(X_batches_train_CCA, y_batches_train_CCA, epochs=35, batch_size=32, validation_data=(X_batches_test_CCA, y_batches_test_CCA), callbacks=keras_callbacks)\n",
        "\n",
        "        # Evaluate the model\n",
        "        metrics = model.evaluate(X_batches_test_CCA, y_batches_test_CCA)\n",
        "        # Store and later average these metrics\n",
        "\n",
        "        y_pred = model.predict(X_batches_test_CCA)\n",
        "\n",
        "        for class_label in range(y_pred.shape[1]):\n",
        "            class_top3_correct = np.array([y_true == class_label and class_label in top3 for y_true, top3 in zip(np.argmax(y_batches_test_SCA, axis=-1),  np.argsort(y_pred, axis=-1)[:, ::-1][:, :3])])\n",
        "            rank_3_accuracies[class_label+1] = (np.sum(class_top3_correct)/17)\n",
        "\n",
        "        all_rank_3.append(rank_3_accuracies)\n",
        "        rank_3_accuracies = {}\n",
        "\n",
        "        for class_label in range(y_pred.shape[1]):\n",
        "            class_top3_correct = np.array([y_true == class_label and class_label in top3 for y_true, top3 in zip(np.argmax(y_batches_test_SCA, axis=-1),  np.argsort(y_pred, axis=-1)[:, ::-1][:, :5])])\n",
        "            rank_5_accuracies[class_label+1] = (np.sum(class_top3_correct)/17)\n",
        "\n",
        "        all_rank_5.append(rank_5_accuracies)\n",
        "        rank_5_accuracies = {}"
      ],
      "metadata": {
        "id": "rHOaxrFc9__z"
      },
      "execution_count": null,
      "outputs": []
    },
    {
      "cell_type": "code",
      "source": [
        "means_SCD = calculate_means(all_rank_5)"
      ],
      "metadata": {
        "id": "psuxCT1cCcsM"
      },
      "execution_count": null,
      "outputs": []
    },
    {
      "cell_type": "code",
      "source": [
        "acc_5 = list(means_SCD.values())"
      ],
      "metadata": {
        "id": "tfWjRxUqCcsx"
      },
      "execution_count": null,
      "outputs": []
    },
    {
      "cell_type": "code",
      "source": [
        "plt.bar(range(1,44), acc_5)\n",
        "\n",
        "plt.xlim(0,44)\n",
        "plt.ylim(0,101)\n",
        "plt.title('Individuals Rank-5 Identification')\n",
        "plt.ylabel('CCD accuracy (%)')\n",
        "plt.xlabel('Participant')\n",
        "plt.show()"
      ],
      "metadata": {
        "colab": {
          "base_uri": "https://localhost:8080/",
          "height": 472
        },
        "outputId": "2c25c66a-434c-4c6c-9297-8678f0831167",
        "id": "TeJgiEWSCcsx"
      },
      "execution_count": null,
      "outputs": [
        {
          "output_type": "display_data",
          "data": {
            "text/plain": [
              "<Figure size 640x480 with 1 Axes>"
            ],
            "image/png": "[encoded data removed]"
          },
          "metadata": {}
        }
      ]
    },
    {
      "cell_type": "markdown",
      "source": [
        "### Trial"
      ],
      "metadata": {
        "id": "xr0FgbIZ8HUx"
      }
    },
    {
      "cell_type": "code",
      "source": [
        "test_session = 3\n",
        "test_trial = 7"
      ],
      "metadata": {
        "id": "wtGJqcq53raS"
      },
      "execution_count": null,
      "outputs": []
    },
    {
      "cell_type": "code",
      "source": [
        "train_data = pd.DataFrame()\n",
        "\n",
        "for session in sessions_num:\n",
        "  if session != test_session:\n",
        "    test_trial_data = sessions[session]\n",
        "    train_data = train_data.append(test_trial_data.loc[test_trial_data['Trial'] != test_trial], ignore_index=True)\n",
        "\n",
        "X_train = train_data.iloc[0:,3:]\n",
        "y_train = train_data.iloc[0:,0]"
      ],
      "metadata": {
        "id": "5YHJTSlk35BA"
      },
      "execution_count": null,
      "outputs": []
    },
    {
      "cell_type": "code",
      "source": [
        "test_data = sessions[test_session]\n",
        "test_data = test_data.loc[test_data['Trial'] == test_trial]\n",
        "\n",
        "X_test = test_data.iloc[0:,3:]\n",
        "y_test = test_data.iloc[0:,0]"
      ],
      "metadata": {
        "id": "rN4tk4Rp3raY"
      },
      "execution_count": null,
      "outputs": []
    },
    {
      "cell_type": "code",
      "source": [
        "test_data"
      ],
      "metadata": {
        "id": "nhZZ73ABzy8a"
      },
      "execution_count": null,
      "outputs": []
    },
    {
      "cell_type": "code",
      "source": [
        "scaler = StandardScaler()\n",
        "X_train = scaler.fit_transform(X_train)\n",
        "X_test = scaler.fit_transform(X_test)\n",
        "\n",
        "X_train = pd.DataFrame(X_train)\n",
        "X_test = pd.DataFrame(X_test)"
      ],
      "metadata": {
        "id": "4bxLOKbQ3raY"
      },
      "execution_count": null,
      "outputs": []
    },
    {
      "cell_type": "code",
      "source": [
        "sequence_length = 33\n",
        "batch_size = 33\n",
        "X_batches_train = []\n",
        "y_batches_train = []\n",
        "X_batches_test = []\n",
        "y_batches_test = []"
      ],
      "metadata": {
        "id": "Ev6vw8O_3raY"
      },
      "execution_count": null,
      "outputs": []
    },
    {
      "cell_type": "code",
      "source": [
        "for i in range(0, len(X_train) - sequence_length + 1, batch_size):\n",
        "  X_batch = X_train.iloc[i:i+sequence_length]\n",
        "  y_batch = y_train.iloc[i]\n",
        "\n",
        "  X_batches_train.append(X_batch)\n",
        "  y_batches_train.append(y_batch)\n",
        "\n",
        "from keras.utils import to_categorical\n",
        "y_batches_train = np.array(y_batches_train) - 1\n",
        "y_batches_train = to_categorical(y_batches_train)\n",
        "X_batches_train = np.array(X_batches_train)"
      ],
      "metadata": {
        "id": "F8-xqRq93raY"
      },
      "execution_count": null,
      "outputs": []
    },
    {
      "cell_type": "code",
      "source": [
        "for i in range(0, len(X_test) - sequence_length + 1, batch_size):\n",
        "  X_batch = X_test.iloc[i:i+sequence_length]\n",
        "  y_batch = y_test.iloc[i]\n",
        "\n",
        "  X_batches_test.append(X_batch)\n",
        "  y_batches_test.append(y_batch)\n",
        "\n",
        "from keras.utils import to_categorical\n",
        "y_batches_test = np.array(y_batches_test) - 1\n",
        "y_batches_test = to_categorical(y_batches_test)\n",
        "X_batches_test = np.array(X_batches_test)"
      ],
      "metadata": {
        "id": "4xhfnKhcILVL"
      },
      "execution_count": null,
      "outputs": []
    },
    {
      "cell_type": "code",
      "source": [
        "y_batches_test.shape"
      ],
      "metadata": {
        "id": "F-BSf3BUzr7G"
      },
      "execution_count": null,
      "outputs": []
    },
    {
      "cell_type": "code",
      "source": [
        "checkpoint_path_cca = \"/content/gdrive/MyDrive/EMG/Sessions/Checkpoints_LSTM_CCA/cp.ckpt\"\n",
        "checkpoint_dir = os.path.dirname(checkpoint_path_cca)"
      ],
      "metadata": {
        "id": "Uicu2w3PzOXc"
      },
      "execution_count": null,
      "outputs": []
    },
    {
      "cell_type": "code",
      "source": [
        "model_CCA = Sequential()\n",
        "model_CCA.add(LSTM(128, input_shape=(33, 168),return_sequences=True))\n",
        "model_CCA.add(Dropout(0.2))\n",
        "model_CCA.add(LSTM(64))\n",
        "model_CCA.add(Dropout(0.2))\n",
        "model_CCA.add(Dense(43, activation='softmax'))\n",
        "\n",
        "adam = Adam(learning_rate=0.0001)\n",
        "keras_callbacks = [\n",
        "    EarlyStopping(monitor='val_loss', verbose=1, patience=10),\n",
        "    ModelCheckpoint(checkpoint_path_cca, monitor='val_loss', save_weights_only=True)\n",
        "]\n",
        "model_CCA.compile(optimizer=adam, loss='categorical_crossentropy', metrics=['accuracy', 'top_k_categorical_accuracy', top3_acc])\n",
        "model_CCA.summary()"
      ],
      "metadata": {
        "id": "l5YYb0w26gHk"
      },
      "execution_count": null,
      "outputs": []
    },
    {
      "cell_type": "code",
      "source": [
        "history_cca_lstm = model_CCA.fit(X_batches_train, y_batches_train, epochs=100, batch_size=32, validation_data=(X_batches_test, y_batches_test), callbacks=keras_callbacks)"
      ],
      "metadata": {
        "id": "0JbSxQMv3raZ"
      },
      "execution_count": null,
      "outputs": []
    },
    {
      "cell_type": "code",
      "source": [
        "true_classes = np.argmax(y_batches_test, axis=-1)\n",
        "\n",
        "predicted_classes = np.argmax(model_CCA.predict(X_batches_test), axis=-1)\n",
        "accuracy = accuracy_score(true_classes, predicted_classes)\n",
        "print(f'Accuracy: {accuracy*100:.2f}%')\n",
        "report = classification_report(true_classes, predicted_classes)\n",
        "print(report)"
      ],
      "metadata": {
        "id": "7XaTUhWYyH-c"
      },
      "execution_count": null,
      "outputs": []
    },
    {
      "cell_type": "code",
      "source": [
        "with open('/content/gdrive/MyDrive/EMG/Sessions/cumulative_cross_lstm1_es.pkl', 'wb') as file:\n",
        "    pickle.dump(history_cca_lstm.history, file)"
      ],
      "metadata": {
        "id": "pj0Y66cD4uFF"
      },
      "execution_count": null,
      "outputs": []
    },
    {
      "cell_type": "code",
      "source": [
        "with open('/content/gdrive/MyDrive/EMG/Sessions/cumulative_cross_lstm1_es.pkl', 'rb') as f:\n",
        "    history = pickle.load(f)"
      ],
      "metadata": {
        "id": "S3Zhw5OR6TiY"
      },
      "execution_count": null,
      "outputs": []
    },
    {
      "cell_type": "code",
      "source": [
        "plot_loss_and_accuracy(history, 'Cumulative Cross Day')"
      ],
      "metadata": {
        "id": "4nAIWdWN6Tip"
      },
      "execution_count": null,
      "outputs": []
    },
    {
      "cell_type": "code",
      "source": [
        "plot_confusion_matrix(model_CCA, X_batches_test, y_batches_test, 'Cumulative Cross Day')"
      ],
      "metadata": {
        "id": "Hlu9_xHb6Tiq"
      },
      "execution_count": null,
      "outputs": []
    },
    {
      "cell_type": "code",
      "source": [
        "y_pred = model_CCA.predict(X_batches_test)\n",
        "y_pred_labels = np.argmax(y_pred, axis=1)\n",
        "true_classes = np.argmax(y_batches_test, axis=1)\n",
        "\n",
        "cm = confusion_matrix(true_classes, y_pred_labels)"
      ],
      "metadata": {
        "id": "z45gTuMC6JC_"
      },
      "execution_count": null,
      "outputs": []
    },
    {
      "cell_type": "code",
      "source": [
        "FP = cm.sum(axis=0) - np.diag(cm)\n",
        "TP = np.diag(cm)\n",
        "FN = cm.sum(axis=1) - np.diag(cm)"
      ],
      "metadata": {
        "id": "Rds6XMnt6JDA"
      },
      "execution_count": null,
      "outputs": []
    },
    {
      "cell_type": "code",
      "source": [
        "df = pd.DataFrame({'True Positive':TP,\n",
        "                  'False Positive':FP})\n",
        "\n",
        "df = df.astype(int)\n",
        "df.plot.bar(stacked=True)"
      ],
      "metadata": {
        "id": "ZA1wVj6G6rH3"
      },
      "execution_count": null,
      "outputs": []
    },
    {
      "cell_type": "code",
      "source": [
        "predictions_CCA = model_CCA.predict(X_batches_test)\n",
        "\n",
        "top5_indices_CCA = np.argsort(predictions_CCA, axis=-1)[:, ::-1][:, :5]\n",
        "\n",
        "# Check if the true class is among the top 5 predicted classes\n",
        "top5_correct_CCA = np.array([y_true in top5 for y_true, top5 in zip(true_classes, top5_indices_CCA)])\n",
        "\n",
        "# Calculate top-5 accuracy\n",
        "top5_accuracy_CCA = np.mean(top5_correct_CCA)\n",
        "\n",
        "print(top5_accuracy_CCA*100)"
      ],
      "metadata": {
        "id": "ULktBTUuxjzM"
      },
      "execution_count": null,
      "outputs": []
    },
    {
      "cell_type": "code",
      "source": [
        "class_rank5_accuracy_CCA = {}\n",
        "\n",
        "for class_label in range(predictions_CCA.shape[1]):\n",
        "    class_top5_correct_CCA = np.array([y_true == class_label and class_label in top5 for y_true, top5 in zip(true_classes, top5_indices_CCA)])\n",
        "    # print(len(class_top5_correct_CCA))\n",
        "    class_rank5_accuracy_CCA[class_label+1] = (np.sum(class_top5_correct_CCA)/17)*100\n",
        "\n",
        "for class_label, accuracy in class_rank5_accuracy_CCA.items():\n",
        "    print(f\"Class {class_label} Rank-5 Accuracy: {accuracy}\")"
      ],
      "metadata": {
        "id": "TBkXdt7-xjzM"
      },
      "execution_count": null,
      "outputs": []
    },
    {
      "cell_type": "code",
      "source": [
        "acc_5_CCA = list(class_rank5_accuracy_CCA.values())"
      ],
      "metadata": {
        "id": "0hQlKf4ixjzM"
      },
      "execution_count": null,
      "outputs": []
    },
    {
      "cell_type": "code",
      "source": [
        "plt.bar(range(1,44), acc_5_CCA)\n",
        "\n",
        "plt.xlim(0,44)\n",
        "plt.ylim(0,101)\n",
        "plt.title('Individuals Rank-5 Identification')\n",
        "plt.ylabel('CCD accuracy (%)')\n",
        "plt.xlabel('Participant')\n",
        "plt.show()"
      ],
      "metadata": {
        "id": "1vKhb1RsxjzN"
      },
      "execution_count": null,
      "outputs": []
    },
    {
      "cell_type": "code",
      "source": [
        "predictions_CCA = model_CCA.predict(X_batches_test)\n",
        "\n",
        "top3_indices_CCA = np.argsort(predictions_CCA, axis=-1)[:, ::-1][:, :3]\n",
        "\n",
        "# Check if the true class is among the top 5 predicted classes\n",
        "top3_correct_CCA = np.array([y_true in top3 for y_true, top3 in zip(true_classes, top3_indices_CCA)])\n",
        "\n",
        "# Calculate top-5 accuracy\n",
        "top3_accuracy_CCA = np.mean(top3_correct_CCA)\n",
        "\n",
        "print(top3_accuracy_CCA*100)"
      ],
      "metadata": {
        "id": "UpDIjnm8xjzN"
      },
      "execution_count": null,
      "outputs": []
    },
    {
      "cell_type": "code",
      "source": [
        "class_rank3_accuracy_CCA = {}\n",
        "\n",
        "for class_label in range(predictions_CCA.shape[1]):\n",
        "    class_top3_correct_CCA = np.array([y_true == class_label and class_label in top3 for y_true, top3 in zip(true_classes, top3_indices_CCA)])\n",
        "\n",
        "    class_rank3_accuracy_CCA[class_label+1] = (np.sum(class_top3_correct_CCA)/17)*100\n",
        "\n",
        "for class_label, accuracy in class_rank3_accuracy_CCA.items():\n",
        "    print(f\"Class {class_label} Rank-3 Accuracy: {accuracy}\")"
      ],
      "metadata": {
        "id": "8maMtma4xjzN"
      },
      "execution_count": null,
      "outputs": []
    },
    {
      "cell_type": "code",
      "source": [
        "acc_3_CCA = list(class_rank3_accuracy_CCA.values())"
      ],
      "metadata": {
        "id": "-tGoL6TtxjzN"
      },
      "execution_count": null,
      "outputs": []
    },
    {
      "cell_type": "code",
      "source": [
        "plt.bar(range(1,44), acc_3_CCA)"
      ],
      "metadata": {
        "id": "1zrs7PxHxjzN"
      },
      "execution_count": null,
      "outputs": []
    }
  ]
}